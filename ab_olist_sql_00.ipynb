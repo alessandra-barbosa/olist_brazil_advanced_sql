{
 "cells": [
  {
   "cell_type": "markdown",
   "id": "bc9449ea",
   "metadata": {
    "tags": []
   },
   "source": [
    "## Inserir dados da tabela do BD"
   ]
  },
  {
   "cell_type": "markdown",
   "id": "42a41198",
   "metadata": {
    "ExecuteTime": {
     "end_time": "2021-08-06T20:17:47.735704Z",
     "start_time": "2021-08-06T20:17:47.732258Z"
    },
    "tags": []
   },
   "source": [
    "### Connect to database"
   ]
  },
  {
   "cell_type": "code",
   "execution_count": 5,
   "id": "62f66755-c284-4a81-aeff-1f31f23b7477",
   "metadata": {},
   "outputs": [],
   "source": [
    "# !pip3 install --user pysqlite3\n",
    "# !pip install sqlalchemy\n",
    "# !pip install pandas"
   ]
  },
  {
   "cell_type": "code",
   "execution_count": 6,
   "id": "6f1f8b01",
   "metadata": {
    "ExecuteTime": {
     "end_time": "2021-10-22T22:50:29.288662Z",
     "start_time": "2021-10-22T22:50:29.277636Z"
    }
   },
   "outputs": [],
   "source": [
    "import sqlite3 \n",
    "from sqlalchemy import create_engine\n",
    "import pandas as pd"
   ]
  },
  {
   "cell_type": "code",
   "execution_count": 12,
   "id": "73997a26",
   "metadata": {
    "ExecuteTime": {
     "end_time": "2021-10-22T22:50:30.514193Z",
     "start_time": "2021-10-22T22:50:30.511921Z"
    }
   },
   "outputs": [],
   "source": [
    "## 1 - Criar a conexao do bd\n",
    "#db=create_engine('sqlite:///datasets///db_olist.sqlite',echo=False) # linux\n",
    "db=create_engine('sqlite:///C:\\\\Users\\\\Utente77\\\\repos\\\\olist_brazil_avanced_sql\\\\dataset///db_olist.sqlite',echo=False)\n",
    "conn=db.connect()"
   ]
  },
  {
   "cell_type": "markdown",
   "id": "c0c768c1",
   "metadata": {},
   "source": [
    "## Loading Datasets"
   ]
  },
  {
   "cell_type": "code",
   "execution_count": 8,
   "id": "baaf7a3d",
   "metadata": {
    "ExecuteTime": {
     "end_time": "2021-10-22T22:59:24.654433Z",
     "start_time": "2021-10-22T22:59:24.651470Z"
    }
   },
   "outputs": [
    {
     "name": "stderr",
     "output_type": "stream",
     "text": [
      "\"ls\" non è riconosciuto come comando interno o esterno,\n",
      " un programma eseguibile o un file batch.\n"
     ]
    }
   ],
   "source": [
    "## 2- listar todos os bd importados \n",
    "!ls -l dataset"
   ]
  },
  {
   "cell_type": "code",
   "execution_count": 43,
   "id": "f1a615ed",
   "metadata": {
    "ExecuteTime": {
     "end_time": "2021-10-22T22:59:25.456032Z",
     "start_time": "2021-10-22T22:59:25.441140Z"
    }
   },
   "outputs": [
    {
     "data": {
      "text/plain": [
       "99441"
      ]
     },
     "execution_count": 43,
     "metadata": {},
     "output_type": "execute_result"
    }
   ],
   "source": [
    "## 3- ler a bd com pandas\n",
    "df_costumer = pd.read_csv('C:\\\\Users\\\\Utente77\\\\repos\\\\olist_brazil_avanced_sql\\\\dataset\\\\olist_customers_dataset.csv')\n",
    "\n",
    "## 4- criar um esquema com o nome das colunas e o tipo de dados (TEXT, INTERGER, REAL)\n",
    "schema_customer = \"\"\"\n",
    "\n",
    "CREATE TABLE customer(\n",
    "    customer_id                 TEXT,\n",
    "    customer_unique_id          TEST,\n",
    "    customer_zip_code_prefix    INTERGER,\n",
    "    customer_city               TEXT,\n",
    "    customer_state              TEXT\n",
    "    )\n",
    "    \"\"\"\n",
    "\n",
    "## 5- executar o schema\n",
    "conn.execute(schema_customer)\n",
    "\n",
    "\n",
    "## 6- insert data into table (append lista apos ou replace lista substituindo)\n",
    "df_costumer.to_sql('customer', con=conn, if_exists='append', index=False)\n"
   ]
  },
  {
   "cell_type": "code",
   "execution_count": 45,
   "id": "15236fdc",
   "metadata": {},
   "outputs": [
    {
     "data": {
      "text/plain": [
       "99441"
      ]
     },
     "execution_count": 45,
     "metadata": {},
     "output_type": "execute_result"
    }
   ],
   "source": [
    "# dataset\n",
    "df_customer = pd.read_csv( 'C:\\\\Users\\\\Utente77\\\\repos\\\\olist_brazil_avanced_sql\\\\dataset\\\\olist_customers_dataset.csv' )\n",
    "schema_customer = \"\"\"\n",
    "CREATE TABLE customer(\n",
    "    customer_id\n",
    "    TEXT,\n",
    "    customer_unique_id\n",
    "    TEXT,\n",
    "    customer_zip_code_prefix\n",
    "    INTEGER,\n",
    "    customer_city\n",
    "    TEXT,\n",
    "    customer_state\n",
    "    TEXT\n",
    "    )\n",
    "    \"\"\"\n",
    "# crate schema\n",
    "#conn.execute( schema_customer )\n",
    "# insert data into table\n",
    "df_customer.to_sql( 'customer', con=conn, if_exists='append', index=False )"
   ]
  },
  {
   "cell_type": "code",
   "execution_count": 46,
   "id": "0b6ad87b",
   "metadata": {
    "ExecuteTime": {
     "end_time": "2021-10-22T22:44:19.283630Z",
     "start_time": "2021-10-22T22:44:19.270440Z"
    }
   },
   "outputs": [
    {
     "data": {
      "text/plain": [
       "1000163"
      ]
     },
     "execution_count": 46,
     "metadata": {},
     "output_type": "execute_result"
    }
   ],
   "source": [
    "df_geolocation = pd.read_csv('C:\\\\Users\\\\Utente77\\\\repos\\\\olist_brazil_avanced_sql\\\\dataset\\\\olist_geolocation_dataset.csv')\n",
    "\n",
    "\n",
    "schema_geolocation = \"\"\"\n",
    "\n",
    "CREATE TABLE geolocation(\n",
    "\n",
    "    geolocation_zip_code_prefix    INTERGER,\n",
    "    geolocation_lat                REAL,\n",
    "    geolocation_lng                REAL,\n",
    "    geolocation_city               TEXT,\n",
    "    geolocation_state              TEXT\n",
    "\n",
    "\n",
    ")\n",
    "\"\"\"\n",
    "\n",
    "## create schema\n",
    "#conn.execute(schema_geolocation)\n",
    "\n",
    "\n",
    "## insert data into table \n",
    "df_geolocation.to_sql('geolocation', con=conn, if_exists='append', index=False)\n"
   ]
  },
  {
   "cell_type": "code",
   "execution_count": 47,
   "id": "8fe15626",
   "metadata": {
    "ExecuteTime": {
     "end_time": "2021-08-12T16:32:46.680439Z",
     "start_time": "2021-08-12T16:32:45.482483Z"
    }
   },
   "outputs": [
    {
     "data": {
      "text/plain": [
       "112650"
      ]
     },
     "execution_count": 47,
     "metadata": {},
     "output_type": "execute_result"
    }
   ],
   "source": [
    "df_order_items = pd.read_csv('C:\\\\Users\\\\Utente77\\\\repos\\\\olist_brazil_avanced_sql\\\\dataset\\\\olist_order_items_dataset.csv')\n",
    "\n",
    "\n",
    "schema_order_items = \"\"\"\n",
    "\n",
    "CREATE TABLE order_items(\n",
    "\n",
    "    order_id                TEXT,\n",
    "    order_item_id           INTERGER,\n",
    "    product_id              TEXT,\n",
    "    seller_id               TEXT,\n",
    "    shipping_limit_date     TEXT,\n",
    "    price                   REAL,\n",
    "    freight_value           REAL\n",
    "\n",
    ")\n",
    "\n",
    "\"\"\"\n",
    "\n",
    "## create schema\n",
    "#conn.execute(schema_order_items)\n",
    "\n",
    "\n",
    "## insert data into table \n",
    "df_order_items.to_sql('order_items', con=conn, if_exists='append', index=False)\n"
   ]
  },
  {
   "cell_type": "code",
   "execution_count": 48,
   "id": "c50e849b",
   "metadata": {
    "ExecuteTime": {
     "end_time": "2021-08-12T16:32:47.567061Z",
     "start_time": "2021-08-12T16:32:46.684731Z"
    }
   },
   "outputs": [
    {
     "data": {
      "text/plain": [
       "103886"
      ]
     },
     "execution_count": 48,
     "metadata": {},
     "output_type": "execute_result"
    }
   ],
   "source": [
    "df_order_payments = pd.read_csv('C:\\\\Users\\\\Utente77\\\\repos\\\\olist_brazil_avanced_sql\\\\dataset\\\\olist_order_payments_dataset.csv')\n",
    "\n",
    "\n",
    "schema_order_payments = \"\"\"\n",
    "\n",
    "CREATE TABLE order_payments(\n",
    "\n",
    "    order_id                  TEXT,\n",
    "    payment_sequential        INTERGER,\n",
    "    payment_type              TEXT,\n",
    "    payment_installments      INTERGER,\n",
    "    payment_value             REAL\n",
    "\n",
    ")\n",
    "\n",
    "\"\"\"\n",
    "\n",
    "## create schema\n",
    "#conn.execute(schema_order_payments)\n",
    "\n",
    "\n",
    "## insert data into table \n",
    "df_order_payments.to_sql('order_payments', con=conn, if_exists='append', index=False)\n"
   ]
  },
  {
   "cell_type": "code",
   "execution_count": 49,
   "id": "b86e6a07",
   "metadata": {
    "ExecuteTime": {
     "end_time": "2021-08-12T16:32:48.879945Z",
     "start_time": "2021-08-12T16:32:47.572567Z"
    }
   },
   "outputs": [
    {
     "data": {
      "text/plain": [
       "99224"
      ]
     },
     "execution_count": 49,
     "metadata": {},
     "output_type": "execute_result"
    }
   ],
   "source": [
    "df_order_reviews = pd.read_csv('C:\\\\Users\\\\Utente77\\\\repos\\\\olist_brazil_avanced_sql\\\\dataset\\\\olist_order_reviews_dataset.csv')\n",
    "\n",
    "\n",
    "schema_order_reviews = \"\"\"\n",
    "\n",
    "CREATE TABLE order_reviews(\n",
    "\n",
    "    review_id                  TEXT,\n",
    "    order_id                   TEXT,\n",
    "    review_score               INTERGER,\n",
    "    review_comment_title       TEXT,\n",
    "    review_comment_message     TEXT,\n",
    "    review_creation_date       TEXT,\n",
    "    review_answer_timestamp    TEXT\n",
    "\n",
    ")\n",
    "\n",
    "\"\"\"\n",
    "\n",
    "## create schema\n",
    "#conn.execute(schema_order_reviews)\n",
    "\n",
    "\n",
    "## insert data into table \n",
    "df_order_reviews.to_sql('order_reviews', con=conn, if_exists='replace', index=False)\n"
   ]
  },
  {
   "cell_type": "code",
   "execution_count": 50,
   "id": "53e095ae",
   "metadata": {
    "ExecuteTime": {
     "end_time": "2021-08-12T16:32:50.319582Z",
     "start_time": "2021-08-12T16:32:48.884337Z"
    }
   },
   "outputs": [
    {
     "data": {
      "text/plain": [
       "99441"
      ]
     },
     "execution_count": 50,
     "metadata": {},
     "output_type": "execute_result"
    }
   ],
   "source": [
    "df_orders = pd.read_csv('C:\\\\Users\\\\Utente77\\\\repos\\\\olist_brazil_avanced_sql\\\\dataset\\\\olist_orders_dataset.csv')\n",
    "\n",
    "\n",
    "schema_orders= \"\"\"\n",
    "\n",
    "CREATE TABLE orders(\n",
    "\n",
    "    order_id                         TEXT,\n",
    "    customer_id                      TEXT,\n",
    "    order_status                     TEXT,\n",
    "    order_purchase_timestamp         TEXT,\n",
    "    order_approved_at                TEXT,\n",
    "    order_delivered_carrier_date     TEXT,\n",
    "    order_delivered_customer_date    TEXT,\n",
    "    order_estimated_delivery_date    TEXT\n",
    "\n",
    ")\n",
    "\n",
    "\"\"\"\n",
    "\n",
    "## create schema\n",
    "#conn.execute(schema_orders)\n",
    "\n",
    "\n",
    "## insert data into table \n",
    "df_orders.to_sql('orders', con=conn, if_exists='replace', index=False)\n"
   ]
  },
  {
   "cell_type": "code",
   "execution_count": 51,
   "id": "8406e850",
   "metadata": {
    "ExecuteTime": {
     "end_time": "2021-08-12T16:32:50.704891Z",
     "start_time": "2021-08-12T16:32:50.324181Z"
    }
   },
   "outputs": [
    {
     "data": {
      "text/plain": [
       "32951"
      ]
     },
     "execution_count": 51,
     "metadata": {},
     "output_type": "execute_result"
    }
   ],
   "source": [
    "df_products = pd.read_csv('C:\\\\Users\\\\Utente77\\\\repos\\\\olist_brazil_avanced_sql\\\\dataset\\\\olist_products_dataset.csv')\n",
    "\n",
    "\n",
    "schema_products= \"\"\"\n",
    "\n",
    "CREATE TABLE products(\n",
    "\n",
    "    product_id                     TEXT,\n",
    "    product_category_name          TEXT,\n",
    "    product_name_lenght           REAL,\n",
    "    product_description_lenght    REAL,\n",
    "    product_photos_qty            REAL,\n",
    "    product_weight_g              REAL,\n",
    "    product_length_cm             REAL,\n",
    "    product_height_cm             REAL,\n",
    "    product_width_cm              REAL\n",
    ")\n",
    "\n",
    "\"\"\"\n",
    "\n",
    "## create schema\n",
    "#conn.execute(schema_products)\n",
    "\n",
    "\n",
    "## insert data into table \n",
    "df_products.to_sql('products', con=conn, if_exists='replace', index=False)\n"
   ]
  },
  {
   "cell_type": "code",
   "execution_count": 52,
   "id": "f519446f",
   "metadata": {
    "ExecuteTime": {
     "end_time": "2021-08-12T16:32:50.766181Z",
     "start_time": "2021-08-12T16:32:50.706121Z"
    }
   },
   "outputs": [
    {
     "data": {
      "text/plain": [
       "3095"
      ]
     },
     "execution_count": 52,
     "metadata": {},
     "output_type": "execute_result"
    }
   ],
   "source": [
    "df_sellers = pd.read_csv('C:\\\\Users\\\\Utente77\\\\repos\\\\olist_brazil_avanced_sql\\\\dataset\\\\olist_sellers_dataset.csv')\n",
    "\n",
    "\n",
    "schema_sellers= \"\"\"\n",
    "\n",
    "CREATE TABLE sellers(\n",
    "\n",
    "    seller_id                 TEXT,\n",
    "    seller_zip_code_prefix    INTERGER,\n",
    "    seller_city               TEXT,\n",
    "    seller_state              TEXT\n",
    ")\n",
    "\n",
    "\"\"\"\n",
    "\n",
    "## create schema\n",
    "#conn.execute(schema_sellers)\n",
    "\n",
    "\n",
    "## insert data into table \n",
    "df_sellers.to_sql('sellers', con=conn, if_exists='replace', index=False)\n"
   ]
  },
  {
   "cell_type": "code",
   "execution_count": 53,
   "id": "20a1fc26",
   "metadata": {
    "ExecuteTime": {
     "end_time": "2021-08-12T16:32:50.802845Z",
     "start_time": "2021-08-12T16:32:50.767861Z"
    }
   },
   "outputs": [
    {
     "data": {
      "text/plain": [
       "71"
      ]
     },
     "execution_count": 53,
     "metadata": {},
     "output_type": "execute_result"
    }
   ],
   "source": [
    "df_category_name_translation = pd.read_csv('C:\\\\Users\\\\Utente77\\\\repos\\\\olist_brazil_avanced_sql\\\\dataset\\\\product_category_name_translation.csv')\n",
    "\n",
    "\n",
    "schema_category_name_translation= \"\"\"\n",
    "\n",
    "CREATE TABLE category_name_translation(\n",
    "\n",
    "    product_category_name            TEXT,\n",
    "    product_category_name_english    TEXT\n",
    ")\n",
    "\n",
    "\"\"\"\n",
    "\n",
    "## create schema\n",
    "#conn.execute(schema_category_name_translation)\n",
    "\n",
    "\n",
    "## insert data into table \n",
    "df_category_name_translation.to_sql('category_name_translation', con=conn, if_exists='replace', index=False)\n"
   ]
  },
  {
   "cell_type": "code",
   "execution_count": 54,
   "id": "76a600e5",
   "metadata": {
    "ExecuteTime": {
     "end_time": "2021-08-12T16:32:50.815885Z",
     "start_time": "2021-08-12T16:32:50.804331Z"
    },
    "scrolled": true
   },
   "outputs": [
    {
     "data": {
      "text/plain": [
       "product_category_name            object\n",
       "product_category_name_english    object\n",
       "dtype: object"
      ]
     },
     "execution_count": 54,
     "metadata": {},
     "output_type": "execute_result"
    }
   ],
   "source": [
    "##8 -Ver o tipo de dados pra copiar no esquema\n",
    "df_category_name_translation.dtypes"
   ]
  },
  {
   "cell_type": "markdown",
   "id": "304046b6",
   "metadata": {},
   "source": [
    "## Check Database"
   ]
  },
  {
   "cell_type": "code",
   "execution_count": 55,
   "id": "185bcd20",
   "metadata": {
    "ExecuteTime": {
     "end_time": "2021-08-12T16:34:33.770377Z",
     "start_time": "2021-08-12T16:34:33.763430Z"
    }
   },
   "outputs": [
    {
     "data": {
      "text/html": [
       "<div>\n",
       "<style scoped>\n",
       "    .dataframe tbody tr th:only-of-type {\n",
       "        vertical-align: middle;\n",
       "    }\n",
       "\n",
       "    .dataframe tbody tr th {\n",
       "        vertical-align: top;\n",
       "    }\n",
       "\n",
       "    .dataframe thead th {\n",
       "        text-align: right;\n",
       "    }\n",
       "</style>\n",
       "<table border=\"1\" class=\"dataframe\">\n",
       "  <thead>\n",
       "    <tr style=\"text-align: right;\">\n",
       "      <th></th>\n",
       "      <th>name</th>\n",
       "    </tr>\n",
       "  </thead>\n",
       "  <tbody>\n",
       "    <tr>\n",
       "      <th>0</th>\n",
       "      <td>customer</td>\n",
       "    </tr>\n",
       "    <tr>\n",
       "      <th>1</th>\n",
       "      <td>geolocation</td>\n",
       "    </tr>\n",
       "    <tr>\n",
       "      <th>2</th>\n",
       "      <td>order_items</td>\n",
       "    </tr>\n",
       "    <tr>\n",
       "      <th>3</th>\n",
       "      <td>order_payments</td>\n",
       "    </tr>\n",
       "    <tr>\n",
       "      <th>4</th>\n",
       "      <td>order_reviews</td>\n",
       "    </tr>\n",
       "    <tr>\n",
       "      <th>5</th>\n",
       "      <td>orders</td>\n",
       "    </tr>\n",
       "    <tr>\n",
       "      <th>6</th>\n",
       "      <td>products</td>\n",
       "    </tr>\n",
       "    <tr>\n",
       "      <th>7</th>\n",
       "      <td>sellers</td>\n",
       "    </tr>\n",
       "    <tr>\n",
       "      <th>8</th>\n",
       "      <td>category_name_translation</td>\n",
       "    </tr>\n",
       "  </tbody>\n",
       "</table>\n",
       "</div>"
      ],
      "text/plain": [
       "                        name\n",
       "0                   customer\n",
       "1                geolocation\n",
       "2                order_items\n",
       "3             order_payments\n",
       "4              order_reviews\n",
       "5                     orders\n",
       "6                   products\n",
       "7                    sellers\n",
       "8  category_name_translation"
      ]
     },
     "execution_count": 55,
     "metadata": {},
     "output_type": "execute_result"
    }
   ],
   "source": [
    "## ver se a tabela foi criada \n",
    "\n",
    "query=\"\"\"\n",
    "SELECT name\n",
    "FROM sqlite_master\n",
    "WHERE type ='table'\n",
    "\"\"\"\n",
    "\n",
    "# query=\"\"\"\n",
    "# SELECT *\n",
    "# FROM geolocation\n",
    "# \"\"\"\n",
    "\n",
    "table=pd.read_sql_query(query,conn)\n",
    "table"
   ]
  },
  {
   "cell_type": "markdown",
   "id": "45560a87",
   "metadata": {
    "ExecuteTime": {
     "end_time": "2021-08-12T10:37:03.857133Z",
     "start_time": "2021-08-12T10:37:03.458548Z"
    }
   },
   "source": [
    "# SQL Alchemy"
   ]
  },
  {
   "cell_type": "code",
   "execution_count": 56,
   "id": "00252e1e",
   "metadata": {
    "ExecuteTime": {
     "end_time": "2021-08-17T12:42:27.007808Z",
     "start_time": "2021-08-17T12:42:26.879469Z"
    }
   },
   "outputs": [],
   "source": [
    "import sqlalchemy as sa"
   ]
  },
  {
   "cell_type": "code",
   "execution_count": 57,
   "id": "d66ac1a6",
   "metadata": {
    "ExecuteTime": {
     "end_time": "2021-08-17T12:44:55.130014Z",
     "start_time": "2021-08-17T12:44:55.095659Z"
    }
   },
   "outputs": [],
   "source": [
    "db=create_engine('sqlite:///Datasets///db_olist.sqlite',echo=False)\n",
    "conn=db.connect()"
   ]
  },
  {
   "cell_type": "code",
   "execution_count": null,
   "id": "383827af",
   "metadata": {},
   "outputs": [],
   "source": []
  },
  {
   "cell_type": "code",
   "execution_count": null,
   "id": "f4b3030b-0e11-45ac-a56f-22fdc4242c51",
   "metadata": {},
   "outputs": [],
   "source": []
  }
 ],
 "metadata": {
  "kernelspec": {
   "display_name": "Python 3 (ipykernel)",
   "language": "python",
   "name": "python3"
  },
  "language_info": {
   "codemirror_mode": {
    "name": "ipython",
    "version": 3
   },
   "file_extension": ".py",
   "mimetype": "text/x-python",
   "name": "python",
   "nbconvert_exporter": "python",
   "pygments_lexer": "ipython3",
   "version": "3.8.13"
  },
  "latex_envs": {
   "LaTeX_envs_menu_present": true,
   "autoclose": false,
   "autocomplete": true,
   "bibliofile": "biblio.bib",
   "cite_by": "apalike",
   "current_citInitial": 1,
   "eqLabelWithNumbers": true,
   "eqNumInitial": 1,
   "hotkeys": {
    "equation": "Ctrl-E",
    "itemize": "Ctrl-I"
   },
   "labels_anchors": false,
   "latex_user_defs": false,
   "report_style_numbering": false,
   "user_envs_cfg": false
  },
  "nbTranslate": {
   "displayLangs": [
    "*"
   ],
   "hotkey": "alt-t",
   "langInMainMenu": true,
   "sourceLang": "en",
   "targetLang": "fr",
   "useGoogleTranslate": true
  },
  "toc": {
   "base_numbering": 1,
   "nav_menu": {},
   "number_sections": true,
   "sideBar": true,
   "skip_h1_title": false,
   "title_cell": "Table of Contents",
   "title_sidebar": "Contents",
   "toc_cell": false,
   "toc_position": {},
   "toc_section_display": true,
   "toc_window_display": true
  }
 },
 "nbformat": 4,
 "nbformat_minor": 5
}
