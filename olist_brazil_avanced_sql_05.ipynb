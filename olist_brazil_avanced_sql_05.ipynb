{
 "cells": [
  {
   "cell_type": "markdown",
   "id": "e5371364",
   "metadata": {},
   "source": [
    "# PA Bond"
   ]
  },
  {
   "cell_type": "markdown",
   "id": "bc9449ea",
   "metadata": {
    "heading_collapsed": true
   },
   "source": [
    "## Inserir dados da tabela do BD"
   ]
  },
  {
   "cell_type": "markdown",
   "id": "42a41198",
   "metadata": {
    "ExecuteTime": {
     "end_time": "2021-08-06T20:17:47.735704Z",
     "start_time": "2021-08-06T20:17:47.732258Z"
    }
   },
   "source": [
    "## Connect to database"
   ]
  },
  {
   "cell_type": "code",
   "execution_count": 1,
   "id": "6f1f8b01",
   "metadata": {
    "ExecuteTime": {
     "end_time": "2022-07-29T13:54:21.527207Z",
     "start_time": "2022-07-29T13:54:19.360596Z"
    }
   },
   "outputs": [],
   "source": [
    "import sqlite3 \n",
    "import sqlalchemy as sa\n",
    "from sqlalchemy import create_engine\n",
    "import pandas as pd"
   ]
  },
  {
   "cell_type": "code",
   "execution_count": 2,
   "id": "73997a26",
   "metadata": {
    "ExecuteTime": {
     "end_time": "2022-07-29T13:54:21.555197Z",
     "start_time": "2022-07-29T13:54:21.527207Z"
    }
   },
   "outputs": [],
   "source": [
    "## 1 - Criar a conexao do bd\n",
    "db=create_engine('sqlite:///dataset///db_olist.sqlite',echo=False)\n",
    "conn=db.connect()"
   ]
  },
  {
   "cell_type": "markdown",
   "id": "c0c768c1",
   "metadata": {},
   "source": [
    "## Loading Datasets"
   ]
  },
  {
   "cell_type": "code",
   "execution_count": 3,
   "id": "baaf7a3d",
   "metadata": {
    "ExecuteTime": {
     "end_time": "2022-07-29T13:54:21.571246Z",
     "start_time": "2022-07-29T13:54:21.555197Z"
    }
   },
   "outputs": [],
   "source": [
    "## 2- listar todos os bd importados \n",
    "#!ls"
   ]
  },
  {
   "cell_type": "code",
   "execution_count": 9,
   "id": "f6145e8a",
   "metadata": {
    "ExecuteTime": {
     "end_time": "2022-07-29T09:30:27.563116Z",
     "start_time": "2022-07-29T09:30:27.405959Z"
    }
   },
   "outputs": [],
   "source": [
    "## 3- ler a bd com pandas\n",
    "df_costumer = pd.read_csv('dataset/olist_customers_dataset.csv')"
   ]
  },
  {
   "cell_type": "code",
   "execution_count": 10,
   "id": "81983a9a",
   "metadata": {
    "ExecuteTime": {
     "end_time": "2022-07-29T09:30:28.293284Z",
     "start_time": "2022-07-29T09:30:28.096558Z"
    }
   },
   "outputs": [],
   "source": [
    "## 3- ler a bd com pandas\n",
    "df_order_id = pd.read_csv('dataset/olist_order_items_dataset.csv')"
   ]
  },
  {
   "cell_type": "code",
   "execution_count": 11,
   "id": "a7b57e77",
   "metadata": {
    "ExecuteTime": {
     "end_time": "2022-07-29T09:30:29.468167Z",
     "start_time": "2022-07-29T09:30:29.443050Z"
    }
   },
   "outputs": [
    {
     "data": {
      "text/html": [
       "<div>\n",
       "<style scoped>\n",
       "    .dataframe tbody tr th:only-of-type {\n",
       "        vertical-align: middle;\n",
       "    }\n",
       "\n",
       "    .dataframe tbody tr th {\n",
       "        vertical-align: top;\n",
       "    }\n",
       "\n",
       "    .dataframe thead th {\n",
       "        text-align: right;\n",
       "    }\n",
       "</style>\n",
       "<table border=\"1\" class=\"dataframe\">\n",
       "  <thead>\n",
       "    <tr style=\"text-align: right;\">\n",
       "      <th></th>\n",
       "      <th>order_id</th>\n",
       "      <th>order_item_id</th>\n",
       "      <th>product_id</th>\n",
       "      <th>seller_id</th>\n",
       "      <th>shipping_limit_date</th>\n",
       "      <th>price</th>\n",
       "      <th>freight_value</th>\n",
       "    </tr>\n",
       "  </thead>\n",
       "  <tbody>\n",
       "    <tr>\n",
       "      <th>0</th>\n",
       "      <td>00010242fe8c5a6d1ba2dd792cb16214</td>\n",
       "      <td>1</td>\n",
       "      <td>4244733e06e7ecb4970a6e2683c13e61</td>\n",
       "      <td>48436dade18ac8b2bce089ec2a041202</td>\n",
       "      <td>2017-09-19 09:45:35</td>\n",
       "      <td>58.90</td>\n",
       "      <td>13.29</td>\n",
       "    </tr>\n",
       "    <tr>\n",
       "      <th>1</th>\n",
       "      <td>00018f77f2f0320c557190d7a144bdd3</td>\n",
       "      <td>1</td>\n",
       "      <td>e5f2d52b802189ee658865ca93d83a8f</td>\n",
       "      <td>dd7ddc04e1b6c2c614352b383efe2d36</td>\n",
       "      <td>2017-05-03 11:05:13</td>\n",
       "      <td>239.90</td>\n",
       "      <td>19.93</td>\n",
       "    </tr>\n",
       "    <tr>\n",
       "      <th>2</th>\n",
       "      <td>000229ec398224ef6ca0657da4fc703e</td>\n",
       "      <td>1</td>\n",
       "      <td>c777355d18b72b67abbeef9df44fd0fd</td>\n",
       "      <td>5b51032eddd242adc84c38acab88f23d</td>\n",
       "      <td>2018-01-18 14:48:30</td>\n",
       "      <td>199.00</td>\n",
       "      <td>17.87</td>\n",
       "    </tr>\n",
       "    <tr>\n",
       "      <th>3</th>\n",
       "      <td>00024acbcdf0a6daa1e931b038114c75</td>\n",
       "      <td>1</td>\n",
       "      <td>7634da152a4610f1595efa32f14722fc</td>\n",
       "      <td>9d7a1d34a5052409006425275ba1c2b4</td>\n",
       "      <td>2018-08-15 10:10:18</td>\n",
       "      <td>12.99</td>\n",
       "      <td>12.79</td>\n",
       "    </tr>\n",
       "    <tr>\n",
       "      <th>4</th>\n",
       "      <td>00042b26cf59d7ce69dfabb4e55b4fd9</td>\n",
       "      <td>1</td>\n",
       "      <td>ac6c3623068f30de03045865e4e10089</td>\n",
       "      <td>df560393f3a51e74553ab94004ba5c87</td>\n",
       "      <td>2017-02-13 13:57:51</td>\n",
       "      <td>199.90</td>\n",
       "      <td>18.14</td>\n",
       "    </tr>\n",
       "  </tbody>\n",
       "</table>\n",
       "</div>"
      ],
      "text/plain": [
       "                           order_id  order_item_id  \\\n",
       "0  00010242fe8c5a6d1ba2dd792cb16214              1   \n",
       "1  00018f77f2f0320c557190d7a144bdd3              1   \n",
       "2  000229ec398224ef6ca0657da4fc703e              1   \n",
       "3  00024acbcdf0a6daa1e931b038114c75              1   \n",
       "4  00042b26cf59d7ce69dfabb4e55b4fd9              1   \n",
       "\n",
       "                         product_id                         seller_id  \\\n",
       "0  4244733e06e7ecb4970a6e2683c13e61  48436dade18ac8b2bce089ec2a041202   \n",
       "1  e5f2d52b802189ee658865ca93d83a8f  dd7ddc04e1b6c2c614352b383efe2d36   \n",
       "2  c777355d18b72b67abbeef9df44fd0fd  5b51032eddd242adc84c38acab88f23d   \n",
       "3  7634da152a4610f1595efa32f14722fc  9d7a1d34a5052409006425275ba1c2b4   \n",
       "4  ac6c3623068f30de03045865e4e10089  df560393f3a51e74553ab94004ba5c87   \n",
       "\n",
       "   shipping_limit_date   price  freight_value  \n",
       "0  2017-09-19 09:45:35   58.90          13.29  \n",
       "1  2017-05-03 11:05:13  239.90          19.93  \n",
       "2  2018-01-18 14:48:30  199.00          17.87  \n",
       "3  2018-08-15 10:10:18   12.99          12.79  \n",
       "4  2017-02-13 13:57:51  199.90          18.14  "
      ]
     },
     "execution_count": 11,
     "metadata": {},
     "output_type": "execute_result"
    }
   ],
   "source": [
    "df_order_id.head()"
   ]
  },
  {
   "cell_type": "markdown",
   "id": "dcb791d3",
   "metadata": {},
   "source": [
    "### customer"
   ]
  },
  {
   "cell_type": "code",
   "execution_count": 7,
   "id": "f1a615ed",
   "metadata": {
    "ExecuteTime": {
     "end_time": "2022-07-28T10:26:50.038634Z",
     "start_time": "2022-07-28T10:26:49.251188Z"
    },
    "scrolled": true
   },
   "outputs": [
    {
     "ename": "OperationalError",
     "evalue": "(sqlite3.OperationalError) table customer already exists\n[SQL: \n\nCREATE TABLE customer(\n    customer_id                 TEXT,\n    customer_unique_id          TEST,\n    customer_zip_code_prefix    INTERGER,\n    customer_city               TEXT,\n    customer_state              TEXT\n    )\n    ]\n(Background on this error at: https://sqlalche.me/e/14/e3q8)",
     "output_type": "error",
     "traceback": [
      "\u001b[1;31m---------------------------------------------------------------------------\u001b[0m",
      "\u001b[1;31mOperationalError\u001b[0m                          Traceback (most recent call last)",
      "File \u001b[1;32m~\\Anaconda3\\envs\\sql\\lib\\site-packages\\sqlalchemy\\engine\\base.py:1819\u001b[0m, in \u001b[0;36mConnection._execute_context\u001b[1;34m(self, dialect, constructor, statement, parameters, execution_options, *args, **kw)\u001b[0m\n\u001b[0;32m   1818\u001b[0m     \u001b[38;5;28;01mif\u001b[39;00m \u001b[38;5;129;01mnot\u001b[39;00m evt_handled:\n\u001b[1;32m-> 1819\u001b[0m         \u001b[38;5;28;43mself\u001b[39;49m\u001b[38;5;241;43m.\u001b[39;49m\u001b[43mdialect\u001b[49m\u001b[38;5;241;43m.\u001b[39;49m\u001b[43mdo_execute\u001b[49m\u001b[43m(\u001b[49m\n\u001b[0;32m   1820\u001b[0m \u001b[43m            \u001b[49m\u001b[43mcursor\u001b[49m\u001b[43m,\u001b[49m\u001b[43m \u001b[49m\u001b[43mstatement\u001b[49m\u001b[43m,\u001b[49m\u001b[43m \u001b[49m\u001b[43mparameters\u001b[49m\u001b[43m,\u001b[49m\u001b[43m \u001b[49m\u001b[43mcontext\u001b[49m\n\u001b[0;32m   1821\u001b[0m \u001b[43m        \u001b[49m\u001b[43m)\u001b[49m\n\u001b[0;32m   1823\u001b[0m \u001b[38;5;28;01mif\u001b[39;00m \u001b[38;5;28mself\u001b[39m\u001b[38;5;241m.\u001b[39m_has_events \u001b[38;5;129;01mor\u001b[39;00m \u001b[38;5;28mself\u001b[39m\u001b[38;5;241m.\u001b[39mengine\u001b[38;5;241m.\u001b[39m_has_events:\n",
      "File \u001b[1;32m~\\Anaconda3\\envs\\sql\\lib\\site-packages\\sqlalchemy\\engine\\default.py:732\u001b[0m, in \u001b[0;36mDefaultDialect.do_execute\u001b[1;34m(self, cursor, statement, parameters, context)\u001b[0m\n\u001b[0;32m    731\u001b[0m \u001b[38;5;28;01mdef\u001b[39;00m \u001b[38;5;21mdo_execute\u001b[39m(\u001b[38;5;28mself\u001b[39m, cursor, statement, parameters, context\u001b[38;5;241m=\u001b[39m\u001b[38;5;28;01mNone\u001b[39;00m):\n\u001b[1;32m--> 732\u001b[0m     \u001b[43mcursor\u001b[49m\u001b[38;5;241;43m.\u001b[39;49m\u001b[43mexecute\u001b[49m\u001b[43m(\u001b[49m\u001b[43mstatement\u001b[49m\u001b[43m,\u001b[49m\u001b[43m \u001b[49m\u001b[43mparameters\u001b[49m\u001b[43m)\u001b[49m\n",
      "\u001b[1;31mOperationalError\u001b[0m: table customer already exists",
      "\nThe above exception was the direct cause of the following exception:\n",
      "\u001b[1;31mOperationalError\u001b[0m                          Traceback (most recent call last)",
      "Input \u001b[1;32mIn [7]\u001b[0m, in \u001b[0;36m<cell line: 14>\u001b[1;34m()\u001b[0m\n\u001b[0;32m      2\u001b[0m schema_customer \u001b[38;5;241m=\u001b[39m \u001b[38;5;124m\"\"\"\u001b[39m\n\u001b[0;32m      3\u001b[0m \n\u001b[0;32m      4\u001b[0m \u001b[38;5;124mCREATE TABLE customer(\u001b[39m\n\u001b[1;32m   (...)\u001b[0m\n\u001b[0;32m     10\u001b[0m \u001b[38;5;124m    )\u001b[39m\n\u001b[0;32m     11\u001b[0m \u001b[38;5;124m    \u001b[39m\u001b[38;5;124m\"\"\"\u001b[39m\n\u001b[0;32m     13\u001b[0m \u001b[38;5;66;03m## 5- executar o schema\u001b[39;00m\n\u001b[1;32m---> 14\u001b[0m \u001b[43mconn\u001b[49m\u001b[38;5;241;43m.\u001b[39;49m\u001b[43mexecute\u001b[49m\u001b[43m(\u001b[49m\u001b[43mschema_customer\u001b[49m\u001b[43m)\u001b[49m\n\u001b[0;32m     17\u001b[0m \u001b[38;5;66;03m## 6- insert data into table (append lista apos ou replace lista substituindo)\u001b[39;00m\n\u001b[0;32m     18\u001b[0m df_costumer\u001b[38;5;241m.\u001b[39mto_sql(\u001b[38;5;124m'\u001b[39m\u001b[38;5;124mcustomer\u001b[39m\u001b[38;5;124m'\u001b[39m, con\u001b[38;5;241m=\u001b[39mconn, if_exists\u001b[38;5;241m=\u001b[39m\u001b[38;5;124m'\u001b[39m\u001b[38;5;124mappend\u001b[39m\u001b[38;5;124m'\u001b[39m, index\u001b[38;5;241m=\u001b[39m\u001b[38;5;28;01mFalse\u001b[39;00m)\n",
      "File \u001b[1;32m~\\Anaconda3\\envs\\sql\\lib\\site-packages\\sqlalchemy\\engine\\base.py:1291\u001b[0m, in \u001b[0;36mConnection.execute\u001b[1;34m(self, statement, *multiparams, **params)\u001b[0m\n\u001b[0;32m   1282\u001b[0m \u001b[38;5;28;01mif\u001b[39;00m \u001b[38;5;28misinstance\u001b[39m(statement, util\u001b[38;5;241m.\u001b[39mstring_types):\n\u001b[0;32m   1283\u001b[0m     util\u001b[38;5;241m.\u001b[39mwarn_deprecated_20(\n\u001b[0;32m   1284\u001b[0m         \u001b[38;5;124m\"\u001b[39m\u001b[38;5;124mPassing a string to Connection.execute() is \u001b[39m\u001b[38;5;124m\"\u001b[39m\n\u001b[0;32m   1285\u001b[0m         \u001b[38;5;124m\"\u001b[39m\u001b[38;5;124mdeprecated and will be removed in version 2.0.  Use the \u001b[39m\u001b[38;5;124m\"\u001b[39m\n\u001b[1;32m   (...)\u001b[0m\n\u001b[0;32m   1288\u001b[0m         \u001b[38;5;124m\"\u001b[39m\u001b[38;5;124mdriver-level SQL string.\u001b[39m\u001b[38;5;124m\"\u001b[39m\n\u001b[0;32m   1289\u001b[0m     )\n\u001b[1;32m-> 1291\u001b[0m     \u001b[38;5;28;01mreturn\u001b[39;00m \u001b[38;5;28;43mself\u001b[39;49m\u001b[38;5;241;43m.\u001b[39;49m\u001b[43m_exec_driver_sql\u001b[49m\u001b[43m(\u001b[49m\n\u001b[0;32m   1292\u001b[0m \u001b[43m        \u001b[49m\u001b[43mstatement\u001b[49m\u001b[43m,\u001b[49m\n\u001b[0;32m   1293\u001b[0m \u001b[43m        \u001b[49m\u001b[43mmultiparams\u001b[49m\u001b[43m,\u001b[49m\n\u001b[0;32m   1294\u001b[0m \u001b[43m        \u001b[49m\u001b[43mparams\u001b[49m\u001b[43m,\u001b[49m\n\u001b[0;32m   1295\u001b[0m \u001b[43m        \u001b[49m\u001b[43m_EMPTY_EXECUTION_OPTS\u001b[49m\u001b[43m,\u001b[49m\n\u001b[0;32m   1296\u001b[0m \u001b[43m        \u001b[49m\u001b[43mfuture\u001b[49m\u001b[38;5;241;43m=\u001b[39;49m\u001b[38;5;28;43;01mFalse\u001b[39;49;00m\u001b[43m,\u001b[49m\n\u001b[0;32m   1297\u001b[0m \u001b[43m    \u001b[49m\u001b[43m)\u001b[49m\n\u001b[0;32m   1299\u001b[0m \u001b[38;5;28;01mtry\u001b[39;00m:\n\u001b[0;32m   1300\u001b[0m     meth \u001b[38;5;241m=\u001b[39m statement\u001b[38;5;241m.\u001b[39m_execute_on_connection\n",
      "File \u001b[1;32m~\\Anaconda3\\envs\\sql\\lib\\site-packages\\sqlalchemy\\engine\\base.py:1595\u001b[0m, in \u001b[0;36mConnection._exec_driver_sql\u001b[1;34m(self, statement, multiparams, params, execution_options, future)\u001b[0m\n\u001b[0;32m   1585\u001b[0m         (\n\u001b[0;32m   1586\u001b[0m             statement,\n\u001b[0;32m   1587\u001b[0m             distilled_params,\n\u001b[1;32m   (...)\u001b[0m\n\u001b[0;32m   1591\u001b[0m             statement, distilled_parameters, execution_options\n\u001b[0;32m   1592\u001b[0m         )\n\u001b[0;32m   1594\u001b[0m dialect \u001b[38;5;241m=\u001b[39m \u001b[38;5;28mself\u001b[39m\u001b[38;5;241m.\u001b[39mdialect\n\u001b[1;32m-> 1595\u001b[0m ret \u001b[38;5;241m=\u001b[39m \u001b[38;5;28;43mself\u001b[39;49m\u001b[38;5;241;43m.\u001b[39;49m\u001b[43m_execute_context\u001b[49m\u001b[43m(\u001b[49m\n\u001b[0;32m   1596\u001b[0m \u001b[43m    \u001b[49m\u001b[43mdialect\u001b[49m\u001b[43m,\u001b[49m\n\u001b[0;32m   1597\u001b[0m \u001b[43m    \u001b[49m\u001b[43mdialect\u001b[49m\u001b[38;5;241;43m.\u001b[39;49m\u001b[43mexecution_ctx_cls\u001b[49m\u001b[38;5;241;43m.\u001b[39;49m\u001b[43m_init_statement\u001b[49m\u001b[43m,\u001b[49m\n\u001b[0;32m   1598\u001b[0m \u001b[43m    \u001b[49m\u001b[43mstatement\u001b[49m\u001b[43m,\u001b[49m\n\u001b[0;32m   1599\u001b[0m \u001b[43m    \u001b[49m\u001b[43mdistilled_parameters\u001b[49m\u001b[43m,\u001b[49m\n\u001b[0;32m   1600\u001b[0m \u001b[43m    \u001b[49m\u001b[43mexecution_options\u001b[49m\u001b[43m,\u001b[49m\n\u001b[0;32m   1601\u001b[0m \u001b[43m    \u001b[49m\u001b[43mstatement\u001b[49m\u001b[43m,\u001b[49m\n\u001b[0;32m   1602\u001b[0m \u001b[43m    \u001b[49m\u001b[43mdistilled_parameters\u001b[49m\u001b[43m,\u001b[49m\n\u001b[0;32m   1603\u001b[0m \u001b[43m\u001b[49m\u001b[43m)\u001b[49m\n\u001b[0;32m   1605\u001b[0m \u001b[38;5;28;01mif\u001b[39;00m \u001b[38;5;129;01mnot\u001b[39;00m future:\n\u001b[0;32m   1606\u001b[0m     \u001b[38;5;28;01mif\u001b[39;00m \u001b[38;5;28mself\u001b[39m\u001b[38;5;241m.\u001b[39m_has_events \u001b[38;5;129;01mor\u001b[39;00m \u001b[38;5;28mself\u001b[39m\u001b[38;5;241m.\u001b[39mengine\u001b[38;5;241m.\u001b[39m_has_events:\n",
      "File \u001b[1;32m~\\Anaconda3\\envs\\sql\\lib\\site-packages\\sqlalchemy\\engine\\base.py:1862\u001b[0m, in \u001b[0;36mConnection._execute_context\u001b[1;34m(self, dialect, constructor, statement, parameters, execution_options, *args, **kw)\u001b[0m\n\u001b[0;32m   1859\u001b[0m             branched\u001b[38;5;241m.\u001b[39mclose()\n\u001b[0;32m   1861\u001b[0m \u001b[38;5;28;01mexcept\u001b[39;00m \u001b[38;5;167;01mBaseException\u001b[39;00m \u001b[38;5;28;01mas\u001b[39;00m e:\n\u001b[1;32m-> 1862\u001b[0m     \u001b[38;5;28;43mself\u001b[39;49m\u001b[38;5;241;43m.\u001b[39;49m\u001b[43m_handle_dbapi_exception\u001b[49m\u001b[43m(\u001b[49m\n\u001b[0;32m   1863\u001b[0m \u001b[43m        \u001b[49m\u001b[43me\u001b[49m\u001b[43m,\u001b[49m\u001b[43m \u001b[49m\u001b[43mstatement\u001b[49m\u001b[43m,\u001b[49m\u001b[43m \u001b[49m\u001b[43mparameters\u001b[49m\u001b[43m,\u001b[49m\u001b[43m \u001b[49m\u001b[43mcursor\u001b[49m\u001b[43m,\u001b[49m\u001b[43m \u001b[49m\u001b[43mcontext\u001b[49m\n\u001b[0;32m   1864\u001b[0m \u001b[43m    \u001b[49m\u001b[43m)\u001b[49m\n\u001b[0;32m   1866\u001b[0m \u001b[38;5;28;01mreturn\u001b[39;00m result\n",
      "File \u001b[1;32m~\\Anaconda3\\envs\\sql\\lib\\site-packages\\sqlalchemy\\engine\\base.py:2043\u001b[0m, in \u001b[0;36mConnection._handle_dbapi_exception\u001b[1;34m(self, e, statement, parameters, cursor, context)\u001b[0m\n\u001b[0;32m   2041\u001b[0m     util\u001b[38;5;241m.\u001b[39mraise_(newraise, with_traceback\u001b[38;5;241m=\u001b[39mexc_info[\u001b[38;5;241m2\u001b[39m], from_\u001b[38;5;241m=\u001b[39me)\n\u001b[0;32m   2042\u001b[0m \u001b[38;5;28;01melif\u001b[39;00m should_wrap:\n\u001b[1;32m-> 2043\u001b[0m     \u001b[43mutil\u001b[49m\u001b[38;5;241;43m.\u001b[39;49m\u001b[43mraise_\u001b[49m\u001b[43m(\u001b[49m\n\u001b[0;32m   2044\u001b[0m \u001b[43m        \u001b[49m\u001b[43msqlalchemy_exception\u001b[49m\u001b[43m,\u001b[49m\u001b[43m \u001b[49m\u001b[43mwith_traceback\u001b[49m\u001b[38;5;241;43m=\u001b[39;49m\u001b[43mexc_info\u001b[49m\u001b[43m[\u001b[49m\u001b[38;5;241;43m2\u001b[39;49m\u001b[43m]\u001b[49m\u001b[43m,\u001b[49m\u001b[43m \u001b[49m\u001b[43mfrom_\u001b[49m\u001b[38;5;241;43m=\u001b[39;49m\u001b[43me\u001b[49m\n\u001b[0;32m   2045\u001b[0m \u001b[43m    \u001b[49m\u001b[43m)\u001b[49m\n\u001b[0;32m   2046\u001b[0m \u001b[38;5;28;01melse\u001b[39;00m:\n\u001b[0;32m   2047\u001b[0m     util\u001b[38;5;241m.\u001b[39mraise_(exc_info[\u001b[38;5;241m1\u001b[39m], with_traceback\u001b[38;5;241m=\u001b[39mexc_info[\u001b[38;5;241m2\u001b[39m])\n",
      "File \u001b[1;32m~\\Anaconda3\\envs\\sql\\lib\\site-packages\\sqlalchemy\\util\\compat.py:208\u001b[0m, in \u001b[0;36mraise_\u001b[1;34m(***failed resolving arguments***)\u001b[0m\n\u001b[0;32m    205\u001b[0m     exception\u001b[38;5;241m.\u001b[39m__cause__ \u001b[38;5;241m=\u001b[39m replace_context\n\u001b[0;32m    207\u001b[0m \u001b[38;5;28;01mtry\u001b[39;00m:\n\u001b[1;32m--> 208\u001b[0m     \u001b[38;5;28;01mraise\u001b[39;00m exception\n\u001b[0;32m    209\u001b[0m \u001b[38;5;28;01mfinally\u001b[39;00m:\n\u001b[0;32m    210\u001b[0m     \u001b[38;5;66;03m# credit to\u001b[39;00m\n\u001b[0;32m    211\u001b[0m     \u001b[38;5;66;03m# https://cosmicpercolator.com/2016/01/13/exception-leaks-in-python-2-and-3/\u001b[39;00m\n\u001b[0;32m    212\u001b[0m     \u001b[38;5;66;03m# as the __traceback__ object creates a cycle\u001b[39;00m\n\u001b[0;32m    213\u001b[0m     \u001b[38;5;28;01mdel\u001b[39;00m exception, replace_context, from_, with_traceback\n",
      "File \u001b[1;32m~\\Anaconda3\\envs\\sql\\lib\\site-packages\\sqlalchemy\\engine\\base.py:1819\u001b[0m, in \u001b[0;36mConnection._execute_context\u001b[1;34m(self, dialect, constructor, statement, parameters, execution_options, *args, **kw)\u001b[0m\n\u001b[0;32m   1817\u001b[0m                 \u001b[38;5;28;01mbreak\u001b[39;00m\n\u001b[0;32m   1818\u001b[0m     \u001b[38;5;28;01mif\u001b[39;00m \u001b[38;5;129;01mnot\u001b[39;00m evt_handled:\n\u001b[1;32m-> 1819\u001b[0m         \u001b[38;5;28;43mself\u001b[39;49m\u001b[38;5;241;43m.\u001b[39;49m\u001b[43mdialect\u001b[49m\u001b[38;5;241;43m.\u001b[39;49m\u001b[43mdo_execute\u001b[49m\u001b[43m(\u001b[49m\n\u001b[0;32m   1820\u001b[0m \u001b[43m            \u001b[49m\u001b[43mcursor\u001b[49m\u001b[43m,\u001b[49m\u001b[43m \u001b[49m\u001b[43mstatement\u001b[49m\u001b[43m,\u001b[49m\u001b[43m \u001b[49m\u001b[43mparameters\u001b[49m\u001b[43m,\u001b[49m\u001b[43m \u001b[49m\u001b[43mcontext\u001b[49m\n\u001b[0;32m   1821\u001b[0m \u001b[43m        \u001b[49m\u001b[43m)\u001b[49m\n\u001b[0;32m   1823\u001b[0m \u001b[38;5;28;01mif\u001b[39;00m \u001b[38;5;28mself\u001b[39m\u001b[38;5;241m.\u001b[39m_has_events \u001b[38;5;129;01mor\u001b[39;00m \u001b[38;5;28mself\u001b[39m\u001b[38;5;241m.\u001b[39mengine\u001b[38;5;241m.\u001b[39m_has_events:\n\u001b[0;32m   1824\u001b[0m     \u001b[38;5;28mself\u001b[39m\u001b[38;5;241m.\u001b[39mdispatch\u001b[38;5;241m.\u001b[39mafter_cursor_execute(\n\u001b[0;32m   1825\u001b[0m         \u001b[38;5;28mself\u001b[39m,\n\u001b[0;32m   1826\u001b[0m         cursor,\n\u001b[1;32m   (...)\u001b[0m\n\u001b[0;32m   1830\u001b[0m         context\u001b[38;5;241m.\u001b[39mexecutemany,\n\u001b[0;32m   1831\u001b[0m     )\n",
      "File \u001b[1;32m~\\Anaconda3\\envs\\sql\\lib\\site-packages\\sqlalchemy\\engine\\default.py:732\u001b[0m, in \u001b[0;36mDefaultDialect.do_execute\u001b[1;34m(self, cursor, statement, parameters, context)\u001b[0m\n\u001b[0;32m    731\u001b[0m \u001b[38;5;28;01mdef\u001b[39;00m \u001b[38;5;21mdo_execute\u001b[39m(\u001b[38;5;28mself\u001b[39m, cursor, statement, parameters, context\u001b[38;5;241m=\u001b[39m\u001b[38;5;28;01mNone\u001b[39;00m):\n\u001b[1;32m--> 732\u001b[0m     \u001b[43mcursor\u001b[49m\u001b[38;5;241;43m.\u001b[39;49m\u001b[43mexecute\u001b[49m\u001b[43m(\u001b[49m\u001b[43mstatement\u001b[49m\u001b[43m,\u001b[49m\u001b[43m \u001b[49m\u001b[43mparameters\u001b[49m\u001b[43m)\u001b[49m\n",
      "\u001b[1;31mOperationalError\u001b[0m: (sqlite3.OperationalError) table customer already exists\n[SQL: \n\nCREATE TABLE customer(\n    customer_id                 TEXT,\n    customer_unique_id          TEST,\n    customer_zip_code_prefix    INTERGER,\n    customer_city               TEXT,\n    customer_state              TEXT\n    )\n    ]\n(Background on this error at: https://sqlalche.me/e/14/e3q8)"
     ]
    }
   ],
   "source": [
    "\n",
    "## 4- criar um esquema com o nome das colunas e o tipo de dados (TEXT, INTERGER, REAL)\n",
    "schema_customer = \"\"\"\n",
    "\n",
    "CREATE TABLE customer(\n",
    "    customer_id                 TEXT,\n",
    "    customer_unique_id          TEST,\n",
    "    customer_zip_code_prefix    INTERGER,\n",
    "    customer_city               TEXT,\n",
    "    customer_state              TEXT\n",
    "    )\n",
    "    \"\"\"\n",
    "\n",
    "## 5- executar o schema\n",
    "conn.execute(schema_customer)\n",
    "\n",
    "\n",
    "## 6- insert data into table (append lista apos ou replace lista substituindo)\n",
    "df_costumer.to_sql('customer', con=conn, if_exists='append', index=False)\n"
   ]
  },
  {
   "cell_type": "markdown",
   "id": "19a978fd",
   "metadata": {},
   "source": [
    "### geolocation"
   ]
  },
  {
   "cell_type": "code",
   "execution_count": 28,
   "id": "0b6ad87b",
   "metadata": {
    "ExecuteTime": {
     "end_time": "2022-07-27T09:45:52.208696Z",
     "start_time": "2022-07-27T09:45:45.635367Z"
    }
   },
   "outputs": [
    {
     "data": {
      "text/plain": [
       "1000163"
      ]
     },
     "execution_count": 28,
     "metadata": {},
     "output_type": "execute_result"
    }
   ],
   "source": [
    "df_geolocation = pd.read_csv('dataset/olist_geolocation_dataset.csv')\n",
    "\n",
    "\n",
    "schema_geolocation = \"\"\"\n",
    "\n",
    "CREATE TABLE geolocation(\n",
    "\n",
    "    geolocation_zip_code_prefix    INTERGER,\n",
    "    geolocation_lat                REAL,\n",
    "    geolocation_lng                REAL,\n",
    "    geolocation_city               TEXT,\n",
    "    geolocation_state              TEXT\n",
    "\n",
    "\n",
    ")\n",
    "\"\"\"\n",
    "\n",
    "## create schema\n",
    "#conn.execute(schema_geolocation)\n",
    "\n",
    "\n",
    "## insert data into table \n",
    "df_geolocation.to_sql('geolocation', con=conn, if_exists='append', index=False)\n"
   ]
  },
  {
   "cell_type": "markdown",
   "id": "ebfda9ef",
   "metadata": {},
   "source": [
    "### order_items"
   ]
  },
  {
   "cell_type": "code",
   "execution_count": 29,
   "id": "8fe15626",
   "metadata": {
    "ExecuteTime": {
     "end_time": "2022-07-27T09:45:59.483917Z",
     "start_time": "2022-07-27T09:45:58.451466Z"
    }
   },
   "outputs": [
    {
     "data": {
      "text/plain": [
       "112650"
      ]
     },
     "execution_count": 29,
     "metadata": {},
     "output_type": "execute_result"
    }
   ],
   "source": [
    "df_order_items = pd.read_csv('dataset/olist_order_items_dataset.csv')\n",
    "\n",
    "\n",
    "schema_order_items = \"\"\"\n",
    "\n",
    "CREATE TABLE order_items(\n",
    "\n",
    "    order_id                TEXT,\n",
    "    order_item_id           INTERGER,\n",
    "    product_id              TEXT,\n",
    "    seller_id               TEXT,\n",
    "    shipping_limit_date     TEXT,\n",
    "    price                   REAL,\n",
    "    freight_value           REAL\n",
    "\n",
    ")\n",
    "\n",
    "\"\"\"\n",
    "\n",
    "## create schema\n",
    "#conn.execute(schema_order_items)\n",
    "\n",
    "\n",
    "## insert data into table \n",
    "df_order_items.to_sql('order_items', con=conn, if_exists='append', index=False)\n"
   ]
  },
  {
   "cell_type": "markdown",
   "id": "77b9417f",
   "metadata": {},
   "source": [
    "### order_payments"
   ]
  },
  {
   "cell_type": "code",
   "execution_count": 30,
   "id": "c50e849b",
   "metadata": {
    "ExecuteTime": {
     "end_time": "2022-07-27T09:46:04.849348Z",
     "start_time": "2022-07-27T09:46:04.082850Z"
    }
   },
   "outputs": [
    {
     "data": {
      "text/plain": [
       "103886"
      ]
     },
     "execution_count": 30,
     "metadata": {},
     "output_type": "execute_result"
    }
   ],
   "source": [
    "df_order_payments = pd.read_csv('dataset/olist_order_payments_dataset.csv')\n",
    "\n",
    "\n",
    "schema_order_payments = \"\"\"\n",
    "\n",
    "CREATE TABLE order_payments(\n",
    "\n",
    "    order_id                  TEXT,\n",
    "    payment_sequential        INTERGER,\n",
    "    payment_type              TEXT,\n",
    "    payment_installments      INTERGER,\n",
    "    payment_value             REAL\n",
    "\n",
    ")\n",
    "\n",
    "\"\"\"\n",
    "\n",
    "## create schema\n",
    "#conn.execute(schema_order_payments)\n",
    "\n",
    "\n",
    "## insert data into table \n",
    "df_order_payments.to_sql('order_payments', con=conn, if_exists='append', index=False)\n"
   ]
  },
  {
   "cell_type": "markdown",
   "id": "79f9254c",
   "metadata": {},
   "source": [
    "### order_reviews"
   ]
  },
  {
   "cell_type": "code",
   "execution_count": 31,
   "id": "b86e6a07",
   "metadata": {
    "ExecuteTime": {
     "end_time": "2022-07-27T09:46:09.665855Z",
     "start_time": "2022-07-27T09:46:08.466863Z"
    }
   },
   "outputs": [
    {
     "data": {
      "text/plain": [
       "99224"
      ]
     },
     "execution_count": 31,
     "metadata": {},
     "output_type": "execute_result"
    }
   ],
   "source": [
    "df_order_reviews = pd.read_csv('dataset/olist_order_reviews_dataset.csv')\n",
    "\n",
    "\n",
    "schema_order_reviews = \"\"\"\n",
    "\n",
    "CREATE TABLE order_reviews(\n",
    "\n",
    "    review_id                  TEXT,\n",
    "    order_id                   TEXT,\n",
    "    review_score               INTERGER,\n",
    "    review_comment_title       TEXT,\n",
    "    review_comment_message     TEXT,\n",
    "    review_creation_date       TEXT,\n",
    "    review_answer_timestamp    TEXT\n",
    "\n",
    ")\n",
    "\n",
    "\"\"\"\n",
    "\n",
    "## create schema\n",
    "#conn.execute(schema_order_reviews)\n",
    "\n",
    "\n",
    "## insert data into table \n",
    "df_order_reviews.to_sql('order_reviews', con=conn, if_exists='replace', index=False)\n"
   ]
  },
  {
   "cell_type": "markdown",
   "id": "5f242f13",
   "metadata": {},
   "source": [
    "### orders"
   ]
  },
  {
   "cell_type": "code",
   "execution_count": 32,
   "id": "53e095ae",
   "metadata": {
    "ExecuteTime": {
     "end_time": "2022-07-27T09:46:14.285866Z",
     "start_time": "2022-07-27T09:46:12.914746Z"
    }
   },
   "outputs": [
    {
     "data": {
      "text/plain": [
       "99441"
      ]
     },
     "execution_count": 32,
     "metadata": {},
     "output_type": "execute_result"
    }
   ],
   "source": [
    "df_orders = pd.read_csv('dataset/olist_orders_dataset.csv')\n",
    "\n",
    "\n",
    "schema_orders= \"\"\"\n",
    "\n",
    "CREATE TABLE orders(\n",
    "\n",
    "    order_id                         TEXT,\n",
    "    customer_id                      TEXT,\n",
    "    order_status                     TEXT,\n",
    "    order_purchase_timestamp         TEXT,\n",
    "    order_approved_at                TEXT,\n",
    "    order_delivered_carrier_date     TEXT,\n",
    "    order_delivered_customer_date    TEXT,\n",
    "    order_estimated_delivery_date    TEXT\n",
    "\n",
    ")\n",
    "\n",
    "\"\"\"\n",
    "\n",
    "## create schema\n",
    "#conn.execute(schema_orders)\n",
    "\n",
    "\n",
    "## insert data into table \n",
    "df_orders.to_sql('orders', con=conn, if_exists='replace', index=False)\n"
   ]
  },
  {
   "cell_type": "markdown",
   "id": "00789a83",
   "metadata": {},
   "source": [
    "### products"
   ]
  },
  {
   "cell_type": "code",
   "execution_count": 33,
   "id": "8406e850",
   "metadata": {
    "ExecuteTime": {
     "end_time": "2022-07-27T09:46:17.566350Z",
     "start_time": "2022-07-27T09:46:16.996120Z"
    }
   },
   "outputs": [
    {
     "data": {
      "text/plain": [
       "32951"
      ]
     },
     "execution_count": 33,
     "metadata": {},
     "output_type": "execute_result"
    }
   ],
   "source": [
    "df_products = pd.read_csv('dataset/olist_products_dataset.csv')\n",
    "\n",
    "\n",
    "schema_products= \"\"\"\n",
    "\n",
    "CREATE TABLE products(\n",
    "\n",
    "    product_id                     TEXT,\n",
    "    product_category_name          TEXT,\n",
    "    product_name_lenght           REAL,\n",
    "    product_description_lenght    REAL,\n",
    "    product_photos_qty            REAL,\n",
    "    product_weight_g              REAL,\n",
    "    product_length_cm             REAL,\n",
    "    product_height_cm             REAL,\n",
    "    product_width_cm              REAL\n",
    ")\n",
    "\n",
    "\"\"\"\n",
    "\n",
    "## create schema\n",
    "#conn.execute(schema_products)\n",
    "\n",
    "\n",
    "## insert data into table \n",
    "df_products.to_sql('products', con=conn, if_exists='replace', index=False)\n"
   ]
  },
  {
   "cell_type": "markdown",
   "id": "61e4beff",
   "metadata": {},
   "source": [
    "### sellers"
   ]
  },
  {
   "cell_type": "code",
   "execution_count": 13,
   "id": "f519446f",
   "metadata": {
    "ExecuteTime": {
     "end_time": "2021-08-12T16:32:50.766181Z",
     "start_time": "2021-08-12T16:32:50.706121Z"
    }
   },
   "outputs": [],
   "source": [
    "df_sellers = pd.read_csv('Datasets/olist_sellers_dataset.csv')\n",
    "\n",
    "\n",
    "schema_sellers= \"\"\"\n",
    "\n",
    "CREATE TABLE sellers(\n",
    "\n",
    "    seller_id                 TEXT,\n",
    "    seller_zip_code_prefix    INTERGER,\n",
    "    seller_city               TEXT,\n",
    "    seller_state              TEXT\n",
    ")\n",
    "\n",
    "\"\"\"\n",
    "\n",
    "## create schema\n",
    "#conn.execute(schema_sellers)\n",
    "\n",
    "\n",
    "## insert data into table \n",
    "df_sellers.to_sql('sellers', con=conn, if_exists='replace', index=False)\n"
   ]
  },
  {
   "cell_type": "markdown",
   "id": "7fe43a1b",
   "metadata": {},
   "source": [
    "### category_name_translation"
   ]
  },
  {
   "cell_type": "code",
   "execution_count": 34,
   "id": "20a1fc26",
   "metadata": {
    "ExecuteTime": {
     "end_time": "2022-07-27T09:46:20.967460Z",
     "start_time": "2022-07-27T09:46:20.915141Z"
    },
    "scrolled": false
   },
   "outputs": [
    {
     "data": {
      "text/plain": [
       "71"
      ]
     },
     "execution_count": 34,
     "metadata": {},
     "output_type": "execute_result"
    }
   ],
   "source": [
    "df_category_name_translation = pd.read_csv('dataset/product_category_name_translation.csv')\n",
    "\n",
    "\n",
    "schema_category_name_translation= \"\"\"\n",
    "\n",
    "CREATE TABLE category_name_translation(\n",
    "\n",
    "    product_category_name            TEXT,\n",
    "    product_category_name_english    TEXT\n",
    ")\n",
    "\n",
    "\"\"\"\n",
    "\n",
    "## create schema\n",
    "#conn.execute(schema_category_name_translation)\n",
    "\n",
    "\n",
    "## insert data into table \n",
    "df_category_name_translation.to_sql('category_name_translation', con=conn, if_exists='replace', index=False)\n"
   ]
  },
  {
   "cell_type": "markdown",
   "id": "0140d6d8",
   "metadata": {},
   "source": [
    "## Check table"
   ]
  },
  {
   "cell_type": "code",
   "execution_count": 55,
   "id": "76a600e5",
   "metadata": {
    "ExecuteTime": {
     "end_time": "2022-07-28T09:18:27.064134Z",
     "start_time": "2022-07-28T09:18:27.039679Z"
    },
    "scrolled": true
   },
   "outputs": [
    {
     "ename": "NameError",
     "evalue": "name 'df_category_name_translation' is not defined",
     "output_type": "error",
     "traceback": [
      "\u001b[1;31m---------------------------------------------------------------------------\u001b[0m",
      "\u001b[1;31mNameError\u001b[0m                                 Traceback (most recent call last)",
      "Input \u001b[1;32mIn [55]\u001b[0m, in \u001b[0;36m<cell line: 2>\u001b[1;34m()\u001b[0m\n\u001b[0;32m      1\u001b[0m \u001b[38;5;66;03m#8 - Ver o tipo de dados pra copiar no esquema\u001b[39;00m\n\u001b[1;32m----> 2\u001b[0m \u001b[43mdf_category_name_translation\u001b[49m\u001b[38;5;241m.\u001b[39mdtypes\n",
      "\u001b[1;31mNameError\u001b[0m: name 'df_category_name_translation' is not defined"
     ]
    }
   ],
   "source": [
    "#8 - Ver o tipo de dados pra copiar no esquema\n",
    "df_category_name_translation.dtypes\n"
   ]
  },
  {
   "cell_type": "code",
   "execution_count": 15,
   "id": "185bcd20",
   "metadata": {
    "ExecuteTime": {
     "end_time": "2022-07-27T14:08:23.779279Z",
     "start_time": "2022-07-27T14:08:23.767284Z"
    },
    "code_folding": []
   },
   "outputs": [
    {
     "data": {
      "text/html": [
       "<div>\n",
       "<style scoped>\n",
       "    .dataframe tbody tr th:only-of-type {\n",
       "        vertical-align: middle;\n",
       "    }\n",
       "\n",
       "    .dataframe tbody tr th {\n",
       "        vertical-align: top;\n",
       "    }\n",
       "\n",
       "    .dataframe thead th {\n",
       "        text-align: right;\n",
       "    }\n",
       "</style>\n",
       "<table border=\"1\" class=\"dataframe\">\n",
       "  <thead>\n",
       "    <tr style=\"text-align: right;\">\n",
       "      <th></th>\n",
       "      <th>name</th>\n",
       "    </tr>\n",
       "  </thead>\n",
       "  <tbody>\n",
       "    <tr>\n",
       "      <th>0</th>\n",
       "      <td>customer</td>\n",
       "    </tr>\n",
       "    <tr>\n",
       "      <th>1</th>\n",
       "      <td>geolocation</td>\n",
       "    </tr>\n",
       "    <tr>\n",
       "      <th>2</th>\n",
       "      <td>order_items</td>\n",
       "    </tr>\n",
       "    <tr>\n",
       "      <th>3</th>\n",
       "      <td>order_payments</td>\n",
       "    </tr>\n",
       "    <tr>\n",
       "      <th>4</th>\n",
       "      <td>product_category_name</td>\n",
       "    </tr>\n",
       "    <tr>\n",
       "      <th>5</th>\n",
       "      <td>sellers</td>\n",
       "    </tr>\n",
       "    <tr>\n",
       "      <th>6</th>\n",
       "      <td>order_reviews</td>\n",
       "    </tr>\n",
       "    <tr>\n",
       "      <th>7</th>\n",
       "      <td>orders</td>\n",
       "    </tr>\n",
       "    <tr>\n",
       "      <th>8</th>\n",
       "      <td>products</td>\n",
       "    </tr>\n",
       "    <tr>\n",
       "      <th>9</th>\n",
       "      <td>category_name_translation</td>\n",
       "    </tr>\n",
       "  </tbody>\n",
       "</table>\n",
       "</div>"
      ],
      "text/plain": [
       "                        name\n",
       "0                   customer\n",
       "1                geolocation\n",
       "2                order_items\n",
       "3             order_payments\n",
       "4      product_category_name\n",
       "5                    sellers\n",
       "6              order_reviews\n",
       "7                     orders\n",
       "8                   products\n",
       "9  category_name_translation"
      ]
     },
     "execution_count": 15,
     "metadata": {},
     "output_type": "execute_result"
    }
   ],
   "source": [
    "## ver se a tabela foi criada \n",
    "\n",
    "query=\"\"\"\n",
    "SELECT name\n",
    "FROM sqlite_master\n",
    "WHERE type ='table'\n",
    "\"\"\"\n",
    "\n",
    "table=pd.read_sql_query(query,conn)\n",
    "table"
   ]
  },
  {
   "cell_type": "markdown",
   "id": "45560a87",
   "metadata": {
    "ExecuteTime": {
     "end_time": "2021-08-12T10:37:03.857133Z",
     "start_time": "2021-08-12T10:37:03.458548Z"
    },
    "heading_collapsed": true
   },
   "source": [
    "# Exercicios PA Bond - aula 2"
   ]
  },
  {
   "cell_type": "markdown",
   "id": "6dafda4d",
   "metadata": {
    "hidden": true
   },
   "source": [
    "## 1 Gere uma tabela com o id do cliente, a cidade e o estado onde ele vive."
   ]
  },
  {
   "cell_type": "code",
   "execution_count": 7,
   "id": "8deeccce",
   "metadata": {
    "ExecuteTime": {
     "end_time": "2022-07-27T14:07:06.362439Z",
     "start_time": "2022-07-27T14:07:06.326568Z"
    },
    "hidden": true,
    "run_control": {
     "marked": true
    }
   },
   "outputs": [
    {
     "data": {
      "text/html": [
       "<div>\n",
       "<style scoped>\n",
       "    .dataframe tbody tr th:only-of-type {\n",
       "        vertical-align: middle;\n",
       "    }\n",
       "\n",
       "    .dataframe tbody tr th {\n",
       "        vertical-align: top;\n",
       "    }\n",
       "\n",
       "    .dataframe thead th {\n",
       "        text-align: right;\n",
       "    }\n",
       "</style>\n",
       "<table border=\"1\" class=\"dataframe\">\n",
       "  <thead>\n",
       "    <tr style=\"text-align: right;\">\n",
       "      <th></th>\n",
       "      <th>customer_id</th>\n",
       "      <th>customer_city</th>\n",
       "      <th>customer_state</th>\n",
       "    </tr>\n",
       "  </thead>\n",
       "  <tbody>\n",
       "    <tr>\n",
       "      <th>0</th>\n",
       "      <td>06b8999e2fba1a1fbc88172c00ba8bc7</td>\n",
       "      <td>franca</td>\n",
       "      <td>SP</td>\n",
       "    </tr>\n",
       "    <tr>\n",
       "      <th>1</th>\n",
       "      <td>18955e83d337fd6b2def6b18a428ac77</td>\n",
       "      <td>sao bernardo do campo</td>\n",
       "      <td>SP</td>\n",
       "    </tr>\n",
       "    <tr>\n",
       "      <th>2</th>\n",
       "      <td>4e7b3e00288586ebd08712fdd0374a03</td>\n",
       "      <td>sao paulo</td>\n",
       "      <td>SP</td>\n",
       "    </tr>\n",
       "    <tr>\n",
       "      <th>3</th>\n",
       "      <td>b2b6027bc5c5109e529d4dc6358b12c3</td>\n",
       "      <td>mogi das cruzes</td>\n",
       "      <td>SP</td>\n",
       "    </tr>\n",
       "    <tr>\n",
       "      <th>4</th>\n",
       "      <td>4f2d8ab171c80ec8364f7c12e35b23ad</td>\n",
       "      <td>campinas</td>\n",
       "      <td>SP</td>\n",
       "    </tr>\n",
       "    <tr>\n",
       "      <th>...</th>\n",
       "      <td>...</td>\n",
       "      <td>...</td>\n",
       "      <td>...</td>\n",
       "    </tr>\n",
       "    <tr>\n",
       "      <th>95</th>\n",
       "      <td>f89c1a6b9c966869e441e55bc14acddc</td>\n",
       "      <td>sao carlos</td>\n",
       "      <td>SP</td>\n",
       "    </tr>\n",
       "    <tr>\n",
       "      <th>96</th>\n",
       "      <td>23e96758fd640560e9b1fbcda90abfc4</td>\n",
       "      <td>sao paulo</td>\n",
       "      <td>SP</td>\n",
       "    </tr>\n",
       "    <tr>\n",
       "      <th>97</th>\n",
       "      <td>369708cabd9831ea6fde670a3b602a92</td>\n",
       "      <td>sao paulo</td>\n",
       "      <td>SP</td>\n",
       "    </tr>\n",
       "    <tr>\n",
       "      <th>98</th>\n",
       "      <td>5f8b4882b5a4ec7bf6d2107e6cd0cf29</td>\n",
       "      <td>niteroi</td>\n",
       "      <td>RJ</td>\n",
       "    </tr>\n",
       "    <tr>\n",
       "      <th>99</th>\n",
       "      <td>ad6891a1937cb8723a2c08ba1ae59873</td>\n",
       "      <td>sao luis</td>\n",
       "      <td>MA</td>\n",
       "    </tr>\n",
       "  </tbody>\n",
       "</table>\n",
       "<p>100 rows × 3 columns</p>\n",
       "</div>"
      ],
      "text/plain": [
       "                         customer_id          customer_city customer_state\n",
       "0   06b8999e2fba1a1fbc88172c00ba8bc7                 franca             SP\n",
       "1   18955e83d337fd6b2def6b18a428ac77  sao bernardo do campo             SP\n",
       "2   4e7b3e00288586ebd08712fdd0374a03              sao paulo             SP\n",
       "3   b2b6027bc5c5109e529d4dc6358b12c3        mogi das cruzes             SP\n",
       "4   4f2d8ab171c80ec8364f7c12e35b23ad               campinas             SP\n",
       "..                               ...                    ...            ...\n",
       "95  f89c1a6b9c966869e441e55bc14acddc             sao carlos             SP\n",
       "96  23e96758fd640560e9b1fbcda90abfc4              sao paulo             SP\n",
       "97  369708cabd9831ea6fde670a3b602a92              sao paulo             SP\n",
       "98  5f8b4882b5a4ec7bf6d2107e6cd0cf29                niteroi             RJ\n",
       "99  ad6891a1937cb8723a2c08ba1ae59873               sao luis             MA\n",
       "\n",
       "[100 rows x 3 columns]"
      ]
     },
     "execution_count": 7,
     "metadata": {},
     "output_type": "execute_result"
    }
   ],
   "source": [
    "## ver se a tabela foi criada \n",
    "\n",
    "query=\"\"\"\n",
    "SELECT\n",
    "c.customer_id ,\n",
    "c.customer_city ,\n",
    "c.customer_state\n",
    "FROM customer c\n",
    "LIMIT 100;\n",
    "\n",
    "\"\"\"\n",
    "table=pd.read_sql_query(query,conn)\n",
    "table"
   ]
  },
  {
   "cell_type": "markdown",
   "id": "a042cd4e",
   "metadata": {
    "hidden": true
   },
   "source": [
    "## 2. Gere uma tabela com o id do cliente e a cidade, somente dos clientes que vivem em Santa Catarina."
   ]
  },
  {
   "cell_type": "code",
   "execution_count": 8,
   "id": "9c58266c",
   "metadata": {
    "ExecuteTime": {
     "end_time": "2022-07-27T14:07:09.508264Z",
     "start_time": "2022-07-27T14:07:09.492254Z"
    },
    "hidden": true
   },
   "outputs": [
    {
     "data": {
      "text/html": [
       "<div>\n",
       "<style scoped>\n",
       "    .dataframe tbody tr th:only-of-type {\n",
       "        vertical-align: middle;\n",
       "    }\n",
       "\n",
       "    .dataframe tbody tr th {\n",
       "        vertical-align: top;\n",
       "    }\n",
       "\n",
       "    .dataframe thead th {\n",
       "        text-align: right;\n",
       "    }\n",
       "</style>\n",
       "<table border=\"1\" class=\"dataframe\">\n",
       "  <thead>\n",
       "    <tr style=\"text-align: right;\">\n",
       "      <th></th>\n",
       "      <th>customer_id</th>\n",
       "      <th>customer_city</th>\n",
       "      <th>customer_state</th>\n",
       "    </tr>\n",
       "  </thead>\n",
       "  <tbody>\n",
       "    <tr>\n",
       "      <th>0</th>\n",
       "      <td>879864dab9bc3047522c92c82e1212b8</td>\n",
       "      <td>jaragua do sul</td>\n",
       "      <td>SC</td>\n",
       "    </tr>\n",
       "    <tr>\n",
       "      <th>1</th>\n",
       "      <td>154c4ded6991bdfa3cd249d11abf4130</td>\n",
       "      <td>florianopolis</td>\n",
       "      <td>SC</td>\n",
       "    </tr>\n",
       "    <tr>\n",
       "      <th>2</th>\n",
       "      <td>b6368ca0f56d4632f44d58ca431487b2</td>\n",
       "      <td>sao jose</td>\n",
       "      <td>SC</td>\n",
       "    </tr>\n",
       "    <tr>\n",
       "      <th>3</th>\n",
       "      <td>4d27341acd30a36bca39008ee9bb9050</td>\n",
       "      <td>jaragua do sul</td>\n",
       "      <td>SC</td>\n",
       "    </tr>\n",
       "    <tr>\n",
       "      <th>4</th>\n",
       "      <td>443b534d0d27a8aa9a184d4869bcbe7a</td>\n",
       "      <td>jaragua do sul</td>\n",
       "      <td>SC</td>\n",
       "    </tr>\n",
       "    <tr>\n",
       "      <th>...</th>\n",
       "      <td>...</td>\n",
       "      <td>...</td>\n",
       "      <td>...</td>\n",
       "    </tr>\n",
       "    <tr>\n",
       "      <th>95</th>\n",
       "      <td>32e23352f904da0c1128c0e9cf4ee89e</td>\n",
       "      <td>guaruja do sul</td>\n",
       "      <td>SC</td>\n",
       "    </tr>\n",
       "    <tr>\n",
       "      <th>96</th>\n",
       "      <td>03a2a04722a38803d8c29c7339998d54</td>\n",
       "      <td>sao jose</td>\n",
       "      <td>SC</td>\n",
       "    </tr>\n",
       "    <tr>\n",
       "      <th>97</th>\n",
       "      <td>44e28727116b6aaf62a51b276aba9247</td>\n",
       "      <td>blumenau</td>\n",
       "      <td>SC</td>\n",
       "    </tr>\n",
       "    <tr>\n",
       "      <th>98</th>\n",
       "      <td>da513f66aecb0c97a487d422bf105af0</td>\n",
       "      <td>tubarao</td>\n",
       "      <td>SC</td>\n",
       "    </tr>\n",
       "    <tr>\n",
       "      <th>99</th>\n",
       "      <td>80cd284463cd296129eab19cac5f012f</td>\n",
       "      <td>videira</td>\n",
       "      <td>SC</td>\n",
       "    </tr>\n",
       "  </tbody>\n",
       "</table>\n",
       "<p>100 rows × 3 columns</p>\n",
       "</div>"
      ],
      "text/plain": [
       "                         customer_id   customer_city customer_state\n",
       "0   879864dab9bc3047522c92c82e1212b8  jaragua do sul             SC\n",
       "1   154c4ded6991bdfa3cd249d11abf4130   florianopolis             SC\n",
       "2   b6368ca0f56d4632f44d58ca431487b2        sao jose             SC\n",
       "3   4d27341acd30a36bca39008ee9bb9050  jaragua do sul             SC\n",
       "4   443b534d0d27a8aa9a184d4869bcbe7a  jaragua do sul             SC\n",
       "..                               ...             ...            ...\n",
       "95  32e23352f904da0c1128c0e9cf4ee89e  guaruja do sul             SC\n",
       "96  03a2a04722a38803d8c29c7339998d54        sao jose             SC\n",
       "97  44e28727116b6aaf62a51b276aba9247        blumenau             SC\n",
       "98  da513f66aecb0c97a487d422bf105af0         tubarao             SC\n",
       "99  80cd284463cd296129eab19cac5f012f         videira             SC\n",
       "\n",
       "[100 rows x 3 columns]"
      ]
     },
     "execution_count": 8,
     "metadata": {},
     "output_type": "execute_result"
    }
   ],
   "source": [
    "query=\"\"\"\n",
    "SELECT\n",
    "c.customer_id ,\n",
    "c.customer_city ,\n",
    "c.customer_state\n",
    "FROM customer c\n",
    "WHERE c.customer_state = 'SC'\n",
    "LIMIT 100;\n",
    "\n",
    "\"\"\"\n",
    "table=pd.read_sql_query(query,conn)\n",
    "table"
   ]
  },
  {
   "cell_type": "markdown",
   "id": "b6bfe8e0",
   "metadata": {
    "hidden": true
   },
   "source": [
    "## 3. Gere uma tabela com o id do cliente e o estado, somente dos clientes que vivem em Florianópolis."
   ]
  },
  {
   "cell_type": "code",
   "execution_count": 9,
   "id": "0877a2eb",
   "metadata": {
    "ExecuteTime": {
     "end_time": "2022-07-27T14:07:10.257925Z",
     "start_time": "2022-07-27T14:07:10.243962Z"
    },
    "hidden": true
   },
   "outputs": [
    {
     "data": {
      "text/html": [
       "<div>\n",
       "<style scoped>\n",
       "    .dataframe tbody tr th:only-of-type {\n",
       "        vertical-align: middle;\n",
       "    }\n",
       "\n",
       "    .dataframe tbody tr th {\n",
       "        vertical-align: top;\n",
       "    }\n",
       "\n",
       "    .dataframe thead th {\n",
       "        text-align: right;\n",
       "    }\n",
       "</style>\n",
       "<table border=\"1\" class=\"dataframe\">\n",
       "  <thead>\n",
       "    <tr style=\"text-align: right;\">\n",
       "      <th></th>\n",
       "      <th>customer_id</th>\n",
       "      <th>customer_city</th>\n",
       "      <th>customer_state</th>\n",
       "    </tr>\n",
       "  </thead>\n",
       "  <tbody>\n",
       "    <tr>\n",
       "      <th>0</th>\n",
       "      <td>154c4ded6991bdfa3cd249d11abf4130</td>\n",
       "      <td>florianopolis</td>\n",
       "      <td>SC</td>\n",
       "    </tr>\n",
       "    <tr>\n",
       "      <th>1</th>\n",
       "      <td>2173c184771a8a19f6fc87d8b3dea9e0</td>\n",
       "      <td>florianopolis</td>\n",
       "      <td>SC</td>\n",
       "    </tr>\n",
       "    <tr>\n",
       "      <th>2</th>\n",
       "      <td>02f615f19af07c54a0d4653308f6674b</td>\n",
       "      <td>florianopolis</td>\n",
       "      <td>SC</td>\n",
       "    </tr>\n",
       "    <tr>\n",
       "      <th>3</th>\n",
       "      <td>151260cb5d9b3c220d0af50c81c329a9</td>\n",
       "      <td>florianopolis</td>\n",
       "      <td>SC</td>\n",
       "    </tr>\n",
       "    <tr>\n",
       "      <th>4</th>\n",
       "      <td>d494b02fb3835e2d398d44ea7f275bce</td>\n",
       "      <td>florianopolis</td>\n",
       "      <td>SC</td>\n",
       "    </tr>\n",
       "    <tr>\n",
       "      <th>...</th>\n",
       "      <td>...</td>\n",
       "      <td>...</td>\n",
       "      <td>...</td>\n",
       "    </tr>\n",
       "    <tr>\n",
       "      <th>95</th>\n",
       "      <td>8395381b2c2766ebceb43c768072fbce</td>\n",
       "      <td>florianopolis</td>\n",
       "      <td>SC</td>\n",
       "    </tr>\n",
       "    <tr>\n",
       "      <th>96</th>\n",
       "      <td>280b6e60c0323ca7dea55d10501f5291</td>\n",
       "      <td>florianopolis</td>\n",
       "      <td>SC</td>\n",
       "    </tr>\n",
       "    <tr>\n",
       "      <th>97</th>\n",
       "      <td>5c1547bae5d0f335ad4b7728b54be141</td>\n",
       "      <td>florianopolis</td>\n",
       "      <td>SC</td>\n",
       "    </tr>\n",
       "    <tr>\n",
       "      <th>98</th>\n",
       "      <td>12a371f2183b5d71d81830f3dd3b32c8</td>\n",
       "      <td>florianopolis</td>\n",
       "      <td>SC</td>\n",
       "    </tr>\n",
       "    <tr>\n",
       "      <th>99</th>\n",
       "      <td>0fb80a7fe135dc3abd1469007f5b9ac7</td>\n",
       "      <td>florianopolis</td>\n",
       "      <td>SC</td>\n",
       "    </tr>\n",
       "  </tbody>\n",
       "</table>\n",
       "<p>100 rows × 3 columns</p>\n",
       "</div>"
      ],
      "text/plain": [
       "                         customer_id  customer_city customer_state\n",
       "0   154c4ded6991bdfa3cd249d11abf4130  florianopolis             SC\n",
       "1   2173c184771a8a19f6fc87d8b3dea9e0  florianopolis             SC\n",
       "2   02f615f19af07c54a0d4653308f6674b  florianopolis             SC\n",
       "3   151260cb5d9b3c220d0af50c81c329a9  florianopolis             SC\n",
       "4   d494b02fb3835e2d398d44ea7f275bce  florianopolis             SC\n",
       "..                               ...            ...            ...\n",
       "95  8395381b2c2766ebceb43c768072fbce  florianopolis             SC\n",
       "96  280b6e60c0323ca7dea55d10501f5291  florianopolis             SC\n",
       "97  5c1547bae5d0f335ad4b7728b54be141  florianopolis             SC\n",
       "98  12a371f2183b5d71d81830f3dd3b32c8  florianopolis             SC\n",
       "99  0fb80a7fe135dc3abd1469007f5b9ac7  florianopolis             SC\n",
       "\n",
       "[100 rows x 3 columns]"
      ]
     },
     "execution_count": 9,
     "metadata": {},
     "output_type": "execute_result"
    }
   ],
   "source": [
    "query=\"\"\"\n",
    "SELECT\n",
    "c.customer_id ,\n",
    "c.customer_city ,\n",
    "c.customer_state\n",
    "FROM customer c\n",
    "WHERE c.customer_city = 'florianopolis'\n",
    "LIMIT 100;\n",
    "\n",
    "\"\"\"\n",
    "table=pd.read_sql_query(query,conn)\n",
    "table"
   ]
  },
  {
   "cell_type": "markdown",
   "id": "c5c5955b",
   "metadata": {
    "ExecuteTime": {
     "end_time": "2022-07-27T13:34:17.169578Z",
     "start_time": "2022-07-27T13:34:17.156642Z"
    },
    "hidden": true
   },
   "source": [
    "## 4. Gere uma tabela com o estado, latitude e longitude do estado de São Paulo"
   ]
  },
  {
   "cell_type": "code",
   "execution_count": 10,
   "id": "18293833",
   "metadata": {
    "ExecuteTime": {
     "end_time": "2022-07-27T14:07:10.869672Z",
     "start_time": "2022-07-27T14:07:10.853748Z"
    },
    "hidden": true
   },
   "outputs": [
    {
     "data": {
      "text/html": [
       "<div>\n",
       "<style scoped>\n",
       "    .dataframe tbody tr th:only-of-type {\n",
       "        vertical-align: middle;\n",
       "    }\n",
       "\n",
       "    .dataframe tbody tr th {\n",
       "        vertical-align: top;\n",
       "    }\n",
       "\n",
       "    .dataframe thead th {\n",
       "        text-align: right;\n",
       "    }\n",
       "</style>\n",
       "<table border=\"1\" class=\"dataframe\">\n",
       "  <thead>\n",
       "    <tr style=\"text-align: right;\">\n",
       "      <th></th>\n",
       "      <th>geolocation_lat</th>\n",
       "      <th>geolocation_lng</th>\n",
       "      <th>geolocation_state</th>\n",
       "    </tr>\n",
       "  </thead>\n",
       "  <tbody>\n",
       "    <tr>\n",
       "      <th>0</th>\n",
       "      <td>-23.545621</td>\n",
       "      <td>-46.639292</td>\n",
       "      <td>SP</td>\n",
       "    </tr>\n",
       "    <tr>\n",
       "      <th>1</th>\n",
       "      <td>-23.546081</td>\n",
       "      <td>-46.644820</td>\n",
       "      <td>SP</td>\n",
       "    </tr>\n",
       "    <tr>\n",
       "      <th>2</th>\n",
       "      <td>-23.546129</td>\n",
       "      <td>-46.642951</td>\n",
       "      <td>SP</td>\n",
       "    </tr>\n",
       "    <tr>\n",
       "      <th>3</th>\n",
       "      <td>-23.544392</td>\n",
       "      <td>-46.639499</td>\n",
       "      <td>SP</td>\n",
       "    </tr>\n",
       "    <tr>\n",
       "      <th>4</th>\n",
       "      <td>-23.541578</td>\n",
       "      <td>-46.641607</td>\n",
       "      <td>SP</td>\n",
       "    </tr>\n",
       "    <tr>\n",
       "      <th>...</th>\n",
       "      <td>...</td>\n",
       "      <td>...</td>\n",
       "      <td>...</td>\n",
       "    </tr>\n",
       "    <tr>\n",
       "      <th>95</th>\n",
       "      <td>-23.546129</td>\n",
       "      <td>-46.642951</td>\n",
       "      <td>SP</td>\n",
       "    </tr>\n",
       "    <tr>\n",
       "      <th>96</th>\n",
       "      <td>-23.544667</td>\n",
       "      <td>-46.640669</td>\n",
       "      <td>SP</td>\n",
       "    </tr>\n",
       "    <tr>\n",
       "      <th>97</th>\n",
       "      <td>-23.546341</td>\n",
       "      <td>-46.636239</td>\n",
       "      <td>SP</td>\n",
       "    </tr>\n",
       "    <tr>\n",
       "      <th>98</th>\n",
       "      <td>-23.549107</td>\n",
       "      <td>-46.644105</td>\n",
       "      <td>SP</td>\n",
       "    </tr>\n",
       "    <tr>\n",
       "      <th>99</th>\n",
       "      <td>-23.549292</td>\n",
       "      <td>-46.633559</td>\n",
       "      <td>SP</td>\n",
       "    </tr>\n",
       "  </tbody>\n",
       "</table>\n",
       "<p>100 rows × 3 columns</p>\n",
       "</div>"
      ],
      "text/plain": [
       "    geolocation_lat  geolocation_lng geolocation_state\n",
       "0        -23.545621       -46.639292                SP\n",
       "1        -23.546081       -46.644820                SP\n",
       "2        -23.546129       -46.642951                SP\n",
       "3        -23.544392       -46.639499                SP\n",
       "4        -23.541578       -46.641607                SP\n",
       "..              ...              ...               ...\n",
       "95       -23.546129       -46.642951                SP\n",
       "96       -23.544667       -46.640669                SP\n",
       "97       -23.546341       -46.636239                SP\n",
       "98       -23.549107       -46.644105                SP\n",
       "99       -23.549292       -46.633559                SP\n",
       "\n",
       "[100 rows x 3 columns]"
      ]
     },
     "execution_count": 10,
     "metadata": {},
     "output_type": "execute_result"
    }
   ],
   "source": [
    "query=\"\"\"\n",
    "SELECT\n",
    "g.geolocation_lat,               \n",
    "g.geolocation_lng,\n",
    "geolocation_state\n",
    "FROM geolocation g\n",
    "WHERE geolocation_state = 'SP'\n",
    "LIMIT 100;\n",
    "\n",
    "\"\"\"\n",
    "table=pd.read_sql_query(query,conn)\n",
    "table"
   ]
  },
  {
   "cell_type": "markdown",
   "id": "efb675cd",
   "metadata": {
    "hidden": true
   },
   "source": [
    "## 5. Gere uma tabela com o id do produto, a data de envio e o preço, somente para produtos acima de 6300"
   ]
  },
  {
   "cell_type": "code",
   "execution_count": 11,
   "id": "fe9f27fa",
   "metadata": {
    "ExecuteTime": {
     "end_time": "2022-07-27T14:07:12.384709Z",
     "start_time": "2022-07-27T14:07:12.294930Z"
    },
    "hidden": true,
    "scrolled": true
   },
   "outputs": [
    {
     "data": {
      "text/html": [
       "<div>\n",
       "<style scoped>\n",
       "    .dataframe tbody tr th:only-of-type {\n",
       "        vertical-align: middle;\n",
       "    }\n",
       "\n",
       "    .dataframe tbody tr th {\n",
       "        vertical-align: top;\n",
       "    }\n",
       "\n",
       "    .dataframe thead th {\n",
       "        text-align: right;\n",
       "    }\n",
       "</style>\n",
       "<table border=\"1\" class=\"dataframe\">\n",
       "  <thead>\n",
       "    <tr style=\"text-align: right;\">\n",
       "      <th></th>\n",
       "      <th>product_id</th>\n",
       "      <th>price</th>\n",
       "      <th>shipping_limit_date</th>\n",
       "    </tr>\n",
       "  </thead>\n",
       "  <tbody>\n",
       "    <tr>\n",
       "      <th>0</th>\n",
       "      <td>489ae2aa008f021502940f251d4cce7f</td>\n",
       "      <td>6735.0</td>\n",
       "      <td>2017-02-16 20:37:36</td>\n",
       "    </tr>\n",
       "    <tr>\n",
       "      <th>1</th>\n",
       "      <td>1bdf5e6731585cf01aa8169c7028d6ad</td>\n",
       "      <td>6499.0</td>\n",
       "      <td>2017-06-15 02:45:17</td>\n",
       "    </tr>\n",
       "    <tr>\n",
       "      <th>2</th>\n",
       "      <td>69c590f7ffc7bf8db97190b6cb6ed62e</td>\n",
       "      <td>6729.0</td>\n",
       "      <td>2018-08-02 04:05:13</td>\n",
       "    </tr>\n",
       "    <tr>\n",
       "      <th>3</th>\n",
       "      <td>489ae2aa008f021502940f251d4cce7f</td>\n",
       "      <td>6735.0</td>\n",
       "      <td>2017-02-16 20:37:36</td>\n",
       "    </tr>\n",
       "    <tr>\n",
       "      <th>4</th>\n",
       "      <td>1bdf5e6731585cf01aa8169c7028d6ad</td>\n",
       "      <td>6499.0</td>\n",
       "      <td>2017-06-15 02:45:17</td>\n",
       "    </tr>\n",
       "    <tr>\n",
       "      <th>5</th>\n",
       "      <td>69c590f7ffc7bf8db97190b6cb6ed62e</td>\n",
       "      <td>6729.0</td>\n",
       "      <td>2018-08-02 04:05:13</td>\n",
       "    </tr>\n",
       "    <tr>\n",
       "      <th>6</th>\n",
       "      <td>489ae2aa008f021502940f251d4cce7f</td>\n",
       "      <td>6735.0</td>\n",
       "      <td>2017-02-16 20:37:36</td>\n",
       "    </tr>\n",
       "    <tr>\n",
       "      <th>7</th>\n",
       "      <td>1bdf5e6731585cf01aa8169c7028d6ad</td>\n",
       "      <td>6499.0</td>\n",
       "      <td>2017-06-15 02:45:17</td>\n",
       "    </tr>\n",
       "    <tr>\n",
       "      <th>8</th>\n",
       "      <td>69c590f7ffc7bf8db97190b6cb6ed62e</td>\n",
       "      <td>6729.0</td>\n",
       "      <td>2018-08-02 04:05:13</td>\n",
       "    </tr>\n",
       "  </tbody>\n",
       "</table>\n",
       "</div>"
      ],
      "text/plain": [
       "                         product_id   price  shipping_limit_date\n",
       "0  489ae2aa008f021502940f251d4cce7f  6735.0  2017-02-16 20:37:36\n",
       "1  1bdf5e6731585cf01aa8169c7028d6ad  6499.0  2017-06-15 02:45:17\n",
       "2  69c590f7ffc7bf8db97190b6cb6ed62e  6729.0  2018-08-02 04:05:13\n",
       "3  489ae2aa008f021502940f251d4cce7f  6735.0  2017-02-16 20:37:36\n",
       "4  1bdf5e6731585cf01aa8169c7028d6ad  6499.0  2017-06-15 02:45:17\n",
       "5  69c590f7ffc7bf8db97190b6cb6ed62e  6729.0  2018-08-02 04:05:13\n",
       "6  489ae2aa008f021502940f251d4cce7f  6735.0  2017-02-16 20:37:36\n",
       "7  1bdf5e6731585cf01aa8169c7028d6ad  6499.0  2017-06-15 02:45:17\n",
       "8  69c590f7ffc7bf8db97190b6cb6ed62e  6729.0  2018-08-02 04:05:13"
      ]
     },
     "execution_count": 11,
     "metadata": {},
     "output_type": "execute_result"
    }
   ],
   "source": [
    "query=\"\"\"\n",
    "SELECT\n",
    "oi.product_id,\n",
    "oi.price,\n",
    "oi.shipping_limit_date\n",
    "FROM order_items oi\n",
    "WHERE oi.price>6300\n",
    "LIMIT 100;\n",
    "\n",
    "\"\"\"\n",
    "table=pd.read_sql_query(query,conn)\n",
    "table"
   ]
  },
  {
   "cell_type": "markdown",
   "id": "2ae1659d",
   "metadata": {
    "ExecuteTime": {
     "end_time": "2022-07-27T13:49:44.713513Z",
     "start_time": "2022-07-27T13:49:44.701549Z"
    },
    "hidden": true
   },
   "source": [
    "## 6. Gere uma tabela com o id do pedido, o tipo de pagamento e o número de parcelas, somente para produtos com parcelas menores que 1.\n"
   ]
  },
  {
   "cell_type": "code",
   "execution_count": 19,
   "id": "63e1e8eb",
   "metadata": {
    "ExecuteTime": {
     "end_time": "2022-07-27T14:09:37.745165Z",
     "start_time": "2022-07-27T14:09:37.671161Z"
    },
    "hidden": true,
    "scrolled": true
   },
   "outputs": [
    {
     "data": {
      "text/html": [
       "<div>\n",
       "<style scoped>\n",
       "    .dataframe tbody tr th:only-of-type {\n",
       "        vertical-align: middle;\n",
       "    }\n",
       "\n",
       "    .dataframe tbody tr th {\n",
       "        vertical-align: top;\n",
       "    }\n",
       "\n",
       "    .dataframe thead th {\n",
       "        text-align: right;\n",
       "    }\n",
       "</style>\n",
       "<table border=\"1\" class=\"dataframe\">\n",
       "  <thead>\n",
       "    <tr style=\"text-align: right;\">\n",
       "      <th></th>\n",
       "      <th>order_id</th>\n",
       "      <th>payment_type</th>\n",
       "      <th>payment_installments</th>\n",
       "    </tr>\n",
       "  </thead>\n",
       "  <tbody>\n",
       "    <tr>\n",
       "      <th>0</th>\n",
       "      <td>744bade1fcf9ff3f31d860ace076d422</td>\n",
       "      <td>credit_card</td>\n",
       "      <td>0</td>\n",
       "    </tr>\n",
       "    <tr>\n",
       "      <th>1</th>\n",
       "      <td>1a57108394169c0b47d8f876acc9ba2d</td>\n",
       "      <td>credit_card</td>\n",
       "      <td>0</td>\n",
       "    </tr>\n",
       "    <tr>\n",
       "      <th>2</th>\n",
       "      <td>744bade1fcf9ff3f31d860ace076d422</td>\n",
       "      <td>credit_card</td>\n",
       "      <td>0</td>\n",
       "    </tr>\n",
       "    <tr>\n",
       "      <th>3</th>\n",
       "      <td>1a57108394169c0b47d8f876acc9ba2d</td>\n",
       "      <td>credit_card</td>\n",
       "      <td>0</td>\n",
       "    </tr>\n",
       "    <tr>\n",
       "      <th>4</th>\n",
       "      <td>744bade1fcf9ff3f31d860ace076d422</td>\n",
       "      <td>credit_card</td>\n",
       "      <td>0</td>\n",
       "    </tr>\n",
       "    <tr>\n",
       "      <th>5</th>\n",
       "      <td>1a57108394169c0b47d8f876acc9ba2d</td>\n",
       "      <td>credit_card</td>\n",
       "      <td>0</td>\n",
       "    </tr>\n",
       "    <tr>\n",
       "      <th>6</th>\n",
       "      <td>744bade1fcf9ff3f31d860ace076d422</td>\n",
       "      <td>credit_card</td>\n",
       "      <td>0</td>\n",
       "    </tr>\n",
       "    <tr>\n",
       "      <th>7</th>\n",
       "      <td>1a57108394169c0b47d8f876acc9ba2d</td>\n",
       "      <td>credit_card</td>\n",
       "      <td>0</td>\n",
       "    </tr>\n",
       "  </tbody>\n",
       "</table>\n",
       "</div>"
      ],
      "text/plain": [
       "                           order_id payment_type  payment_installments\n",
       "0  744bade1fcf9ff3f31d860ace076d422  credit_card                     0\n",
       "1  1a57108394169c0b47d8f876acc9ba2d  credit_card                     0\n",
       "2  744bade1fcf9ff3f31d860ace076d422  credit_card                     0\n",
       "3  1a57108394169c0b47d8f876acc9ba2d  credit_card                     0\n",
       "4  744bade1fcf9ff3f31d860ace076d422  credit_card                     0\n",
       "5  1a57108394169c0b47d8f876acc9ba2d  credit_card                     0\n",
       "6  744bade1fcf9ff3f31d860ace076d422  credit_card                     0\n",
       "7  1a57108394169c0b47d8f876acc9ba2d  credit_card                     0"
      ]
     },
     "execution_count": 19,
     "metadata": {},
     "output_type": "execute_result"
    }
   ],
   "source": [
    "query=\"\"\"\n",
    "SELECT\n",
    "op.order_id ,\n",
    "op.payment_type ,\n",
    "op.payment_installments\n",
    "FROM order_payments op\n",
    "WHERE op.payment_installments < 1\n",
    "\n",
    "\"\"\"\n",
    "table=pd.read_sql_query(query,conn)\n",
    "table"
   ]
  },
  {
   "cell_type": "markdown",
   "id": "9e975bb3",
   "metadata": {
    "hidden": true
   },
   "source": [
    "## 7. Gere uma tabela com o id do pedido, id do cliente, o status do pedido e a data de aprovação , somente para compras aprovadas até dia 05 de Maio de 2016"
   ]
  },
  {
   "cell_type": "code",
   "execution_count": 23,
   "id": "ee6dc7d9",
   "metadata": {
    "ExecuteTime": {
     "end_time": "2022-07-27T14:13:12.857000Z",
     "start_time": "2022-07-27T14:13:12.809607Z"
    },
    "hidden": true
   },
   "outputs": [
    {
     "data": {
      "text/html": [
       "<div>\n",
       "<style scoped>\n",
       "    .dataframe tbody tr th:only-of-type {\n",
       "        vertical-align: middle;\n",
       "    }\n",
       "\n",
       "    .dataframe tbody tr th {\n",
       "        vertical-align: top;\n",
       "    }\n",
       "\n",
       "    .dataframe thead th {\n",
       "        text-align: right;\n",
       "    }\n",
       "</style>\n",
       "<table border=\"1\" class=\"dataframe\">\n",
       "  <thead>\n",
       "    <tr style=\"text-align: right;\">\n",
       "      <th></th>\n",
       "      <th>order_id</th>\n",
       "      <th>customer_id</th>\n",
       "      <th>order_status</th>\n",
       "      <th>order_approved_at</th>\n",
       "    </tr>\n",
       "  </thead>\n",
       "  <tbody>\n",
       "    <tr>\n",
       "      <th>0</th>\n",
       "      <td>7033745709b7cf1bac7d2533663592de</td>\n",
       "      <td>7f0ca17bb33b230b47459437cf0682c7</td>\n",
       "      <td>delivered</td>\n",
       "      <td>2016-10-04 14:46:48</td>\n",
       "    </tr>\n",
       "    <tr>\n",
       "      <th>1</th>\n",
       "      <td>cd3b8574c82b42fc8129f6d502690c3e</td>\n",
       "      <td>7812fcebfc5e8065d31e1bb5f0017dae</td>\n",
       "      <td>delivered</td>\n",
       "      <td>2016-10-04 10:19:23</td>\n",
       "    </tr>\n",
       "    <tr>\n",
       "      <th>2</th>\n",
       "      <td>c4b41c36dd589e901f6879f25a74ec1d</td>\n",
       "      <td>4bb880cac21c7a9e1371ab1ebd601706</td>\n",
       "      <td>delivered</td>\n",
       "      <td>2016-10-04 13:26:11</td>\n",
       "    </tr>\n",
       "    <tr>\n",
       "      <th>3</th>\n",
       "      <td>711b9be9c346d9ecdb9d38a5e1e7e39b</td>\n",
       "      <td>81e4aed5ab4253757305267b80712689</td>\n",
       "      <td>invoiced</td>\n",
       "      <td>2016-10-04 14:08:38</td>\n",
       "    </tr>\n",
       "    <tr>\n",
       "      <th>4</th>\n",
       "      <td>3f72d2b757e725cd48a4726f831c7789</td>\n",
       "      <td>e0de521fbb397bd7e83d079fe66357b5</td>\n",
       "      <td>delivered</td>\n",
       "      <td>2016-10-04 13:47:04</td>\n",
       "    </tr>\n",
       "    <tr>\n",
       "      <th>5</th>\n",
       "      <td>bfbd0f9bdef84302105ad712db648a6c</td>\n",
       "      <td>86dc2ffce2dfff336de2f386a786e574</td>\n",
       "      <td>delivered</td>\n",
       "      <td>2016-09-15 12:16:38</td>\n",
       "    </tr>\n",
       "    <tr>\n",
       "      <th>6</th>\n",
       "      <td>79ffdd52a918bbe867895a4b183d6457</td>\n",
       "      <td>f9808148a262b51d20e2d777eee6676c</td>\n",
       "      <td>delivered</td>\n",
       "      <td>2016-10-04 12:25:20</td>\n",
       "    </tr>\n",
       "    <tr>\n",
       "      <th>7</th>\n",
       "      <td>ef1b29b591d31d57c0d7337460dd83c9</td>\n",
       "      <td>dc607dc98d6a11d5d04d9f2a70aa6c34</td>\n",
       "      <td>delivered</td>\n",
       "      <td>2016-10-04 10:28:19</td>\n",
       "    </tr>\n",
       "    <tr>\n",
       "      <th>8</th>\n",
       "      <td>c3d9e402b6a0fbe2a5f7fc5b41117c38</td>\n",
       "      <td>5720a15d022c09d2634c71c80c8d4102</td>\n",
       "      <td>delivered</td>\n",
       "      <td>2016-10-04 10:45:33</td>\n",
       "    </tr>\n",
       "    <tr>\n",
       "      <th>9</th>\n",
       "      <td>36989eb07a0de2d3d3129eea35553875</td>\n",
       "      <td>aadd27185177fc7ac9b364898ac09343</td>\n",
       "      <td>delivered</td>\n",
       "      <td>2016-10-04 13:46:31</td>\n",
       "    </tr>\n",
       "    <tr>\n",
       "      <th>10</th>\n",
       "      <td>ae8a60e4b03c5a4ba9ca0672c164b181</td>\n",
       "      <td>e6f959bf384d1d53b6d68826699bba12</td>\n",
       "      <td>delivered</td>\n",
       "      <td>2016-10-04 10:28:25</td>\n",
       "    </tr>\n",
       "    <tr>\n",
       "      <th>11</th>\n",
       "      <td>1ff217aa612f6cd7c4255c9bfe931c8b</td>\n",
       "      <td>b3a9bf200375f53cc5c6991919c356fd</td>\n",
       "      <td>delivered</td>\n",
       "      <td>2016-10-04 09:43:32</td>\n",
       "    </tr>\n",
       "    <tr>\n",
       "      <th>12</th>\n",
       "      <td>22613579f7d11cc59c4347526fc3c79e</td>\n",
       "      <td>53cc5d344077104b59d4f6836a90eb0b</td>\n",
       "      <td>delivered</td>\n",
       "      <td>2016-10-04 14:27:49</td>\n",
       "    </tr>\n",
       "    <tr>\n",
       "      <th>13</th>\n",
       "      <td>ed8c7b1b3eb256c70ce0c74231e1da88</td>\n",
       "      <td>da0ba2a9935bca5b4610b0e3bca9d3b4</td>\n",
       "      <td>delivered</td>\n",
       "      <td>2016-10-04 10:25:46</td>\n",
       "    </tr>\n",
       "    <tr>\n",
       "      <th>14</th>\n",
       "      <td>46046adea0e222a29259bad3d922fee8</td>\n",
       "      <td>e9722ab28655e07763e0ca2751c61c90</td>\n",
       "      <td>delivered</td>\n",
       "      <td>2016-10-04 11:06:07</td>\n",
       "    </tr>\n",
       "    <tr>\n",
       "      <th>15</th>\n",
       "      <td>1aecadf4362edaca7fa033e882076c8d</td>\n",
       "      <td>e81a9f176936e3124dfd90c483bf3289</td>\n",
       "      <td>canceled</td>\n",
       "      <td>2016-10-04 10:26:40</td>\n",
       "    </tr>\n",
       "    <tr>\n",
       "      <th>16</th>\n",
       "      <td>4d66b3a9d12facad48a3b23cc9fe7898</td>\n",
       "      <td>bd6048a0960b15881f1ae5dca277fb52</td>\n",
       "      <td>delivered</td>\n",
       "      <td>2016-10-04 14:09:08</td>\n",
       "    </tr>\n",
       "    <tr>\n",
       "      <th>17</th>\n",
       "      <td>f3f12fc90564a9b036680a887cd64668</td>\n",
       "      <td>3c521eac04e2dca4702dcc69789618c2</td>\n",
       "      <td>delivered</td>\n",
       "      <td>2016-10-04 13:47:06</td>\n",
       "    </tr>\n",
       "    <tr>\n",
       "      <th>18</th>\n",
       "      <td>d207cc272675637bfed0062edffd0818</td>\n",
       "      <td>b8cf418e97ae795672d326288dfab7a7</td>\n",
       "      <td>delivered</td>\n",
       "      <td>2016-10-04 10:28:07</td>\n",
       "    </tr>\n",
       "    <tr>\n",
       "      <th>19</th>\n",
       "      <td>65d1e226dfaeb8cdc42f665422522d14</td>\n",
       "      <td>70fc57eeae292675927697fe03ad3ff5</td>\n",
       "      <td>canceled</td>\n",
       "      <td>2016-10-04 10:18:57</td>\n",
       "    </tr>\n",
       "    <tr>\n",
       "      <th>20</th>\n",
       "      <td>63638a6806d67773f3adba8534553fff</td>\n",
       "      <td>16e14c1e6e050fe6730c961ff638ca23</td>\n",
       "      <td>delivered</td>\n",
       "      <td>2016-10-04 13:47:45</td>\n",
       "    </tr>\n",
       "  </tbody>\n",
       "</table>\n",
       "</div>"
      ],
      "text/plain": [
       "                            order_id                       customer_id  \\\n",
       "0   7033745709b7cf1bac7d2533663592de  7f0ca17bb33b230b47459437cf0682c7   \n",
       "1   cd3b8574c82b42fc8129f6d502690c3e  7812fcebfc5e8065d31e1bb5f0017dae   \n",
       "2   c4b41c36dd589e901f6879f25a74ec1d  4bb880cac21c7a9e1371ab1ebd601706   \n",
       "3   711b9be9c346d9ecdb9d38a5e1e7e39b  81e4aed5ab4253757305267b80712689   \n",
       "4   3f72d2b757e725cd48a4726f831c7789  e0de521fbb397bd7e83d079fe66357b5   \n",
       "5   bfbd0f9bdef84302105ad712db648a6c  86dc2ffce2dfff336de2f386a786e574   \n",
       "6   79ffdd52a918bbe867895a4b183d6457  f9808148a262b51d20e2d777eee6676c   \n",
       "7   ef1b29b591d31d57c0d7337460dd83c9  dc607dc98d6a11d5d04d9f2a70aa6c34   \n",
       "8   c3d9e402b6a0fbe2a5f7fc5b41117c38  5720a15d022c09d2634c71c80c8d4102   \n",
       "9   36989eb07a0de2d3d3129eea35553875  aadd27185177fc7ac9b364898ac09343   \n",
       "10  ae8a60e4b03c5a4ba9ca0672c164b181  e6f959bf384d1d53b6d68826699bba12   \n",
       "11  1ff217aa612f6cd7c4255c9bfe931c8b  b3a9bf200375f53cc5c6991919c356fd   \n",
       "12  22613579f7d11cc59c4347526fc3c79e  53cc5d344077104b59d4f6836a90eb0b   \n",
       "13  ed8c7b1b3eb256c70ce0c74231e1da88  da0ba2a9935bca5b4610b0e3bca9d3b4   \n",
       "14  46046adea0e222a29259bad3d922fee8  e9722ab28655e07763e0ca2751c61c90   \n",
       "15  1aecadf4362edaca7fa033e882076c8d  e81a9f176936e3124dfd90c483bf3289   \n",
       "16  4d66b3a9d12facad48a3b23cc9fe7898  bd6048a0960b15881f1ae5dca277fb52   \n",
       "17  f3f12fc90564a9b036680a887cd64668  3c521eac04e2dca4702dcc69789618c2   \n",
       "18  d207cc272675637bfed0062edffd0818  b8cf418e97ae795672d326288dfab7a7   \n",
       "19  65d1e226dfaeb8cdc42f665422522d14  70fc57eeae292675927697fe03ad3ff5   \n",
       "20  63638a6806d67773f3adba8534553fff  16e14c1e6e050fe6730c961ff638ca23   \n",
       "\n",
       "   order_status    order_approved_at  \n",
       "0     delivered  2016-10-04 14:46:48  \n",
       "1     delivered  2016-10-04 10:19:23  \n",
       "2     delivered  2016-10-04 13:26:11  \n",
       "3      invoiced  2016-10-04 14:08:38  \n",
       "4     delivered  2016-10-04 13:47:04  \n",
       "5     delivered  2016-09-15 12:16:38  \n",
       "6     delivered  2016-10-04 12:25:20  \n",
       "7     delivered  2016-10-04 10:28:19  \n",
       "8     delivered  2016-10-04 10:45:33  \n",
       "9     delivered  2016-10-04 13:46:31  \n",
       "10    delivered  2016-10-04 10:28:25  \n",
       "11    delivered  2016-10-04 09:43:32  \n",
       "12    delivered  2016-10-04 14:27:49  \n",
       "13    delivered  2016-10-04 10:25:46  \n",
       "14    delivered  2016-10-04 11:06:07  \n",
       "15     canceled  2016-10-04 10:26:40  \n",
       "16    delivered  2016-10-04 14:09:08  \n",
       "17    delivered  2016-10-04 13:47:06  \n",
       "18    delivered  2016-10-04 10:28:07  \n",
       "19     canceled  2016-10-04 10:18:57  \n",
       "20    delivered  2016-10-04 13:47:45  "
      ]
     },
     "execution_count": 23,
     "metadata": {},
     "output_type": "execute_result"
    }
   ],
   "source": [
    "query=\"\"\"\n",
    "SELECT\n",
    "o.order_id ,\n",
    "o.customer_id ,\n",
    "o.order_status ,\n",
    "o.order_approved_at\n",
    "FROM orders o\n",
    "WHERE o.order_approved_at < '2016-10-05'\n",
    "\n",
    "\"\"\"\n",
    "table=pd.read_sql_query(query,conn)\n",
    "table"
   ]
  },
  {
   "cell_type": "markdown",
   "id": "dced599e",
   "metadata": {},
   "source": [
    "# Exercicios PA Bond - aula 3"
   ]
  },
  {
   "cell_type": "markdown",
   "id": "6c56e955",
   "metadata": {},
   "source": [
    "## 1. Qual o número de clientes únicos do estado de Minas Gerais?"
   ]
  },
  {
   "cell_type": "code",
   "execution_count": 27,
   "id": "4016d1d4",
   "metadata": {
    "ExecuteTime": {
     "end_time": "2022-07-27T14:22:10.275704Z",
     "start_time": "2022-07-27T14:22:10.140074Z"
    }
   },
   "outputs": [
    {
     "data": {
      "text/html": [
       "<div>\n",
       "<style scoped>\n",
       "    .dataframe tbody tr th:only-of-type {\n",
       "        vertical-align: middle;\n",
       "    }\n",
       "\n",
       "    .dataframe tbody tr th {\n",
       "        vertical-align: top;\n",
       "    }\n",
       "\n",
       "    .dataframe thead th {\n",
       "        text-align: right;\n",
       "    }\n",
       "</style>\n",
       "<table border=\"1\" class=\"dataframe\">\n",
       "  <thead>\n",
       "    <tr style=\"text-align: right;\">\n",
       "      <th></th>\n",
       "      <th>COUNT( DISTINCT customer_id )</th>\n",
       "    </tr>\n",
       "  </thead>\n",
       "  <tbody>\n",
       "    <tr>\n",
       "      <th>0</th>\n",
       "      <td>11635</td>\n",
       "    </tr>\n",
       "  </tbody>\n",
       "</table>\n",
       "</div>"
      ],
      "text/plain": [
       "   COUNT( DISTINCT customer_id )\n",
       "0                          11635"
      ]
     },
     "execution_count": 27,
     "metadata": {},
     "output_type": "execute_result"
    }
   ],
   "source": [
    "query=\"\"\"\n",
    "SELECT\n",
    "COUNT( DISTINCT customer_id )\n",
    "FROM customer c\n",
    "WHERE customer_state = 'MG'\n",
    "\n",
    "\"\"\"\n",
    "table=pd.read_sql_query(query,conn)\n",
    "table\n",
    "    \n",
    "    "
   ]
  },
  {
   "cell_type": "code",
   "execution_count": 28,
   "id": "7852d3cc",
   "metadata": {
    "ExecuteTime": {
     "end_time": "2022-07-27T14:22:11.089047Z",
     "start_time": "2022-07-27T14:22:11.002839Z"
    }
   },
   "outputs": [
    {
     "data": {
      "text/html": [
       "<div>\n",
       "<style scoped>\n",
       "    .dataframe tbody tr th:only-of-type {\n",
       "        vertical-align: middle;\n",
       "    }\n",
       "\n",
       "    .dataframe tbody tr th {\n",
       "        vertical-align: top;\n",
       "    }\n",
       "\n",
       "    .dataframe thead th {\n",
       "        text-align: right;\n",
       "    }\n",
       "</style>\n",
       "<table border=\"1\" class=\"dataframe\">\n",
       "  <thead>\n",
       "    <tr style=\"text-align: right;\">\n",
       "      <th></th>\n",
       "      <th>COUNT( customer_id )</th>\n",
       "    </tr>\n",
       "  </thead>\n",
       "  <tbody>\n",
       "    <tr>\n",
       "      <th>0</th>\n",
       "      <td>46540</td>\n",
       "    </tr>\n",
       "  </tbody>\n",
       "</table>\n",
       "</div>"
      ],
      "text/plain": [
       "   COUNT( customer_id )\n",
       "0                 46540"
      ]
     },
     "execution_count": 28,
     "metadata": {},
     "output_type": "execute_result"
    }
   ],
   "source": [
    "query=\"\"\"\n",
    "SELECT\n",
    "COUNT( customer_id )\n",
    "FROM customer c\n",
    "WHERE customer_state = 'MG'\n",
    "\n",
    "\"\"\"\n",
    "table=pd.read_sql_query(query,conn)\n",
    "table\n",
    "    \n",
    "    "
   ]
  },
  {
   "cell_type": "markdown",
   "id": "a17ab19e",
   "metadata": {
    "ExecuteTime": {
     "end_time": "2022-07-27T14:19:43.221754Z",
     "start_time": "2022-07-27T14:19:43.209812Z"
    },
    "heading_collapsed": true
   },
   "source": [
    "## 2. Qual a quantidade de cidades únicas dos vendedores do estado de Santa Catarina?"
   ]
  },
  {
   "cell_type": "code",
   "execution_count": 31,
   "id": "c95c4bde",
   "metadata": {
    "ExecuteTime": {
     "end_time": "2022-07-27T14:25:27.339838Z",
     "start_time": "2022-07-27T14:25:27.307923Z"
    },
    "hidden": true
   },
   "outputs": [
    {
     "data": {
      "text/html": [
       "<div>\n",
       "<style scoped>\n",
       "    .dataframe tbody tr th:only-of-type {\n",
       "        vertical-align: middle;\n",
       "    }\n",
       "\n",
       "    .dataframe tbody tr th {\n",
       "        vertical-align: top;\n",
       "    }\n",
       "\n",
       "    .dataframe thead th {\n",
       "        text-align: right;\n",
       "    }\n",
       "</style>\n",
       "<table border=\"1\" class=\"dataframe\">\n",
       "  <thead>\n",
       "    <tr style=\"text-align: right;\">\n",
       "      <th></th>\n",
       "      <th>COUNT( DISTINCT seller_city )</th>\n",
       "    </tr>\n",
       "  </thead>\n",
       "  <tbody>\n",
       "    <tr>\n",
       "      <th>0</th>\n",
       "      <td>65</td>\n",
       "    </tr>\n",
       "  </tbody>\n",
       "</table>\n",
       "</div>"
      ],
      "text/plain": [
       "   COUNT( DISTINCT seller_city )\n",
       "0                             65"
      ]
     },
     "execution_count": 31,
     "metadata": {},
     "output_type": "execute_result"
    }
   ],
   "source": [
    "query=\"\"\"\n",
    "SELECT\n",
    "COUNT( DISTINCT seller_city )\n",
    "FROM sellers s\n",
    "WHERE s.seller_state = 'SC'\n",
    "\n",
    "\"\"\"\n",
    "table=pd.read_sql_query(query,conn)\n",
    "table"
   ]
  },
  {
   "cell_type": "markdown",
   "id": "65e146a7",
   "metadata": {
    "ExecuteTime": {
     "end_time": "2022-07-27T14:26:06.277019Z",
     "start_time": "2022-07-27T14:26:06.267012Z"
    },
    "heading_collapsed": true
   },
   "source": [
    "## 3.Qual a quantidade de cidades únicas de todos os vendedores da base?"
   ]
  },
  {
   "cell_type": "code",
   "execution_count": 33,
   "id": "d265398f",
   "metadata": {
    "ExecuteTime": {
     "end_time": "2022-07-27T14:26:27.242759Z",
     "start_time": "2022-07-27T14:26:27.228796Z"
    },
    "hidden": true
   },
   "outputs": [
    {
     "data": {
      "text/html": [
       "<div>\n",
       "<style scoped>\n",
       "    .dataframe tbody tr th:only-of-type {\n",
       "        vertical-align: middle;\n",
       "    }\n",
       "\n",
       "    .dataframe tbody tr th {\n",
       "        vertical-align: top;\n",
       "    }\n",
       "\n",
       "    .dataframe thead th {\n",
       "        text-align: right;\n",
       "    }\n",
       "</style>\n",
       "<table border=\"1\" class=\"dataframe\">\n",
       "  <thead>\n",
       "    <tr style=\"text-align: right;\">\n",
       "      <th></th>\n",
       "      <th>COUNT( DISTINCT seller_city )</th>\n",
       "    </tr>\n",
       "  </thead>\n",
       "  <tbody>\n",
       "    <tr>\n",
       "      <th>0</th>\n",
       "      <td>611</td>\n",
       "    </tr>\n",
       "  </tbody>\n",
       "</table>\n",
       "</div>"
      ],
      "text/plain": [
       "   COUNT( DISTINCT seller_city )\n",
       "0                            611"
      ]
     },
     "execution_count": 33,
     "metadata": {},
     "output_type": "execute_result"
    }
   ],
   "source": [
    "query=\"\"\"\n",
    "SELECT\n",
    "COUNT( DISTINCT seller_city )\n",
    "FROM sellers s\n",
    "\n",
    "\"\"\"\n",
    "table=pd.read_sql_query(query,conn)\n",
    "table"
   ]
  },
  {
   "cell_type": "markdown",
   "id": "6c4cf56e",
   "metadata": {},
   "source": [
    "## 4. Qual o número total de pedidos únicos acima de R$ 3.500"
   ]
  },
  {
   "cell_type": "code",
   "execution_count": 34,
   "id": "5722f6c4",
   "metadata": {
    "ExecuteTime": {
     "end_time": "2022-07-27T14:35:24.210121Z",
     "start_time": "2022-07-27T14:35:24.113656Z"
    }
   },
   "outputs": [
    {
     "data": {
      "text/html": [
       "<div>\n",
       "<style scoped>\n",
       "    .dataframe tbody tr th:only-of-type {\n",
       "        vertical-align: middle;\n",
       "    }\n",
       "\n",
       "    .dataframe tbody tr th {\n",
       "        vertical-align: top;\n",
       "    }\n",
       "\n",
       "    .dataframe thead th {\n",
       "        text-align: right;\n",
       "    }\n",
       "</style>\n",
       "<table border=\"1\" class=\"dataframe\">\n",
       "  <thead>\n",
       "    <tr style=\"text-align: right;\">\n",
       "      <th></th>\n",
       "      <th>COUNT( DISTINCT order_id )</th>\n",
       "    </tr>\n",
       "  </thead>\n",
       "  <tbody>\n",
       "    <tr>\n",
       "      <th>0</th>\n",
       "      <td>18</td>\n",
       "    </tr>\n",
       "  </tbody>\n",
       "</table>\n",
       "</div>"
      ],
      "text/plain": [
       "   COUNT( DISTINCT order_id )\n",
       "0                          18"
      ]
     },
     "execution_count": 34,
     "metadata": {},
     "output_type": "execute_result"
    }
   ],
   "source": [
    "query=\"\"\"\n",
    "SELECT\n",
    "COUNT( DISTINCT order_id )\n",
    "FROM order_items oi\n",
    "WHERE price > 3500\n",
    "\n",
    "\"\"\"\n",
    "table=pd.read_sql_query(query,conn)\n",
    "table"
   ]
  },
  {
   "cell_type": "markdown",
   "id": "8bc26b54",
   "metadata": {},
   "source": [
    "## 5. Qual o valor médio do preço de todos os pedidos?"
   ]
  },
  {
   "cell_type": "code",
   "execution_count": 8,
   "id": "1a14a85f",
   "metadata": {
    "ExecuteTime": {
     "end_time": "2022-07-28T07:10:49.573734Z",
     "start_time": "2022-07-28T07:10:49.373425Z"
    }
   },
   "outputs": [
    {
     "data": {
      "text/html": [
       "<div>\n",
       "<style scoped>\n",
       "    .dataframe tbody tr th:only-of-type {\n",
       "        vertical-align: middle;\n",
       "    }\n",
       "\n",
       "    .dataframe tbody tr th {\n",
       "        vertical-align: top;\n",
       "    }\n",
       "\n",
       "    .dataframe thead th {\n",
       "        text-align: right;\n",
       "    }\n",
       "</style>\n",
       "<table border=\"1\" class=\"dataframe\">\n",
       "  <thead>\n",
       "    <tr style=\"text-align: right;\">\n",
       "      <th></th>\n",
       "      <th>AVG( price )</th>\n",
       "    </tr>\n",
       "  </thead>\n",
       "  <tbody>\n",
       "    <tr>\n",
       "      <th>0</th>\n",
       "      <td>120.653739</td>\n",
       "    </tr>\n",
       "  </tbody>\n",
       "</table>\n",
       "</div>"
      ],
      "text/plain": [
       "   AVG( price )\n",
       "0    120.653739"
      ]
     },
     "execution_count": 8,
     "metadata": {},
     "output_type": "execute_result"
    }
   ],
   "source": [
    "query=\"\"\"\n",
    "\n",
    "SELECT\n",
    "AVG( price )\n",
    "FROM order_items oi\n",
    "\n",
    "\"\"\"\n",
    "table=pd.read_sql_query(query,conn)\n",
    "table"
   ]
  },
  {
   "cell_type": "markdown",
   "id": "6513e47a",
   "metadata": {},
   "source": [
    "## 6. Qual o maior valor de preço entre todos os pedidos?"
   ]
  },
  {
   "cell_type": "code",
   "execution_count": 12,
   "id": "97191e22",
   "metadata": {
    "ExecuteTime": {
     "end_time": "2022-07-28T07:11:15.949087Z",
     "start_time": "2022-07-28T07:11:15.849387Z"
    }
   },
   "outputs": [
    {
     "data": {
      "text/html": [
       "<div>\n",
       "<style scoped>\n",
       "    .dataframe tbody tr th:only-of-type {\n",
       "        vertical-align: middle;\n",
       "    }\n",
       "\n",
       "    .dataframe tbody tr th {\n",
       "        vertical-align: top;\n",
       "    }\n",
       "\n",
       "    .dataframe thead th {\n",
       "        text-align: right;\n",
       "    }\n",
       "</style>\n",
       "<table border=\"1\" class=\"dataframe\">\n",
       "  <thead>\n",
       "    <tr style=\"text-align: right;\">\n",
       "      <th></th>\n",
       "      <th>Max_price</th>\n",
       "    </tr>\n",
       "  </thead>\n",
       "  <tbody>\n",
       "    <tr>\n",
       "      <th>0</th>\n",
       "      <td>6735.0</td>\n",
       "    </tr>\n",
       "  </tbody>\n",
       "</table>\n",
       "</div>"
      ],
      "text/plain": [
       "   Max_price\n",
       "0     6735.0"
      ]
     },
     "execution_count": 12,
     "metadata": {},
     "output_type": "execute_result"
    }
   ],
   "source": [
    "query=\"\"\"\n",
    "\n",
    "SELECT\n",
    "MAX( price ) as Max_price\n",
    "FROM order_items oi\n",
    "\n",
    "\"\"\"\n",
    "table=pd.read_sql_query(query,conn)\n",
    "table"
   ]
  },
  {
   "cell_type": "markdown",
   "id": "1a639d80",
   "metadata": {},
   "source": [
    "## 7. Qual o menor valor de preço entre todos os pedidos?"
   ]
  },
  {
   "cell_type": "code",
   "execution_count": 13,
   "id": "3b378077",
   "metadata": {
    "ExecuteTime": {
     "end_time": "2022-07-28T07:13:19.953628Z",
     "start_time": "2022-07-28T07:13:19.869860Z"
    }
   },
   "outputs": [
    {
     "data": {
      "text/html": [
       "<div>\n",
       "<style scoped>\n",
       "    .dataframe tbody tr th:only-of-type {\n",
       "        vertical-align: middle;\n",
       "    }\n",
       "\n",
       "    .dataframe tbody tr th {\n",
       "        vertical-align: top;\n",
       "    }\n",
       "\n",
       "    .dataframe thead th {\n",
       "        text-align: right;\n",
       "    }\n",
       "</style>\n",
       "<table border=\"1\" class=\"dataframe\">\n",
       "  <thead>\n",
       "    <tr style=\"text-align: right;\">\n",
       "      <th></th>\n",
       "      <th>MIN( price )</th>\n",
       "    </tr>\n",
       "  </thead>\n",
       "  <tbody>\n",
       "    <tr>\n",
       "      <th>0</th>\n",
       "      <td>0.85</td>\n",
       "    </tr>\n",
       "  </tbody>\n",
       "</table>\n",
       "</div>"
      ],
      "text/plain": [
       "   MIN( price )\n",
       "0          0.85"
      ]
     },
     "execution_count": 13,
     "metadata": {},
     "output_type": "execute_result"
    }
   ],
   "source": [
    "query=\"\"\"\n",
    "\n",
    "SELECT\n",
    "MIN( price ) \n",
    "FROM order_items oi\n",
    "\n",
    "\"\"\"\n",
    "table=pd.read_sql_query(query,conn)\n",
    "table"
   ]
  },
  {
   "cell_type": "markdown",
   "id": "de9f1e2e",
   "metadata": {
    "ExecuteTime": {
     "end_time": "2022-07-27T14:38:34.339624Z",
     "start_time": "2022-07-27T14:38:34.322647Z"
    },
    "run_control": {
     "marked": true
    }
   },
   "source": [
    "## 8. Qual a quantidade de produtos distintos vendidos abaixo do preço de R$ 100.00?\n"
   ]
  },
  {
   "cell_type": "code",
   "execution_count": 17,
   "id": "2a8dd431",
   "metadata": {
    "ExecuteTime": {
     "end_time": "2022-07-28T07:22:59.514846Z",
     "start_time": "2022-07-28T07:22:59.269074Z"
    }
   },
   "outputs": [
    {
     "data": {
      "text/html": [
       "<div>\n",
       "<style scoped>\n",
       "    .dataframe tbody tr th:only-of-type {\n",
       "        vertical-align: middle;\n",
       "    }\n",
       "\n",
       "    .dataframe tbody tr th {\n",
       "        vertical-align: top;\n",
       "    }\n",
       "\n",
       "    .dataframe thead th {\n",
       "        text-align: right;\n",
       "    }\n",
       "</style>\n",
       "<table border=\"1\" class=\"dataframe\">\n",
       "  <thead>\n",
       "    <tr style=\"text-align: right;\">\n",
       "      <th></th>\n",
       "      <th>COUNT( DISTINCT product_id )</th>\n",
       "    </tr>\n",
       "  </thead>\n",
       "  <tbody>\n",
       "    <tr>\n",
       "      <th>0</th>\n",
       "      <td>20112</td>\n",
       "    </tr>\n",
       "  </tbody>\n",
       "</table>\n",
       "</div>"
      ],
      "text/plain": [
       "   COUNT( DISTINCT product_id )\n",
       "0                         20112"
      ]
     },
     "execution_count": 17,
     "metadata": {},
     "output_type": "execute_result"
    }
   ],
   "source": [
    "query=\"\"\"\n",
    "\n",
    "SELECT\n",
    "COUNT( DISTINCT product_id ) \n",
    "FROM order_items oi\n",
    "WHERE price<100\n",
    "\"\"\"\n",
    "table=pd.read_sql_query(query,conn)\n",
    "table"
   ]
  },
  {
   "cell_type": "markdown",
   "id": "a676556c",
   "metadata": {
    "ExecuteTime": {
     "end_time": "2022-07-27T14:38:55.959684Z",
     "start_time": "2022-07-27T14:38:55.954660Z"
    }
   },
   "source": [
    "## 9. Qual a quantidade de vendedores distintos que receberam algum pedido antes do dia 23 de setembro de 2016?"
   ]
  },
  {
   "cell_type": "code",
   "execution_count": 22,
   "id": "72e32566",
   "metadata": {
    "ExecuteTime": {
     "end_time": "2022-07-28T07:50:39.166612Z",
     "start_time": "2022-07-28T07:50:39.079894Z"
    }
   },
   "outputs": [
    {
     "data": {
      "text/html": [
       "<div>\n",
       "<style scoped>\n",
       "    .dataframe tbody tr th:only-of-type {\n",
       "        vertical-align: middle;\n",
       "    }\n",
       "\n",
       "    .dataframe tbody tr th {\n",
       "        vertical-align: top;\n",
       "    }\n",
       "\n",
       "    .dataframe thead th {\n",
       "        text-align: right;\n",
       "    }\n",
       "</style>\n",
       "<table border=\"1\" class=\"dataframe\">\n",
       "  <thead>\n",
       "    <tr style=\"text-align: right;\">\n",
       "      <th></th>\n",
       "      <th>COUNT( DISTINCT seller_id )</th>\n",
       "    </tr>\n",
       "  </thead>\n",
       "  <tbody>\n",
       "    <tr>\n",
       "      <th>0</th>\n",
       "      <td>2</td>\n",
       "    </tr>\n",
       "  </tbody>\n",
       "</table>\n",
       "</div>"
      ],
      "text/plain": [
       "   COUNT( DISTINCT seller_id )\n",
       "0                            2"
      ]
     },
     "execution_count": 22,
     "metadata": {},
     "output_type": "execute_result"
    }
   ],
   "source": [
    "query=\"\"\"\n",
    "\n",
    "SELECT\n",
    "COUNT( DISTINCT seller_id ) \n",
    "FROM order_items oi\n",
    "WHERE shipping_limit_date<'2016-09-23 00:00:00' \n",
    "\"\"\"\n",
    "table=pd.read_sql_query(query,conn)\n",
    "table"
   ]
  },
  {
   "cell_type": "markdown",
   "id": "e9ce0fd8",
   "metadata": {},
   "source": [
    "## 10. Quais os tipos de pagamentos existentes?"
   ]
  },
  {
   "cell_type": "code",
   "execution_count": 31,
   "id": "199ce3eb",
   "metadata": {
    "ExecuteTime": {
     "end_time": "2022-07-28T07:58:22.331687Z",
     "start_time": "2022-07-28T07:58:22.226124Z"
    }
   },
   "outputs": [
    {
     "data": {
      "text/html": [
       "<div>\n",
       "<style scoped>\n",
       "    .dataframe tbody tr th:only-of-type {\n",
       "        vertical-align: middle;\n",
       "    }\n",
       "\n",
       "    .dataframe tbody tr th {\n",
       "        vertical-align: top;\n",
       "    }\n",
       "\n",
       "    .dataframe thead th {\n",
       "        text-align: right;\n",
       "    }\n",
       "</style>\n",
       "<table border=\"1\" class=\"dataframe\">\n",
       "  <thead>\n",
       "    <tr style=\"text-align: right;\">\n",
       "      <th></th>\n",
       "      <th>payment_type</th>\n",
       "    </tr>\n",
       "  </thead>\n",
       "  <tbody>\n",
       "    <tr>\n",
       "      <th>0</th>\n",
       "      <td>credit_card</td>\n",
       "    </tr>\n",
       "    <tr>\n",
       "      <th>1</th>\n",
       "      <td>boleto</td>\n",
       "    </tr>\n",
       "    <tr>\n",
       "      <th>2</th>\n",
       "      <td>voucher</td>\n",
       "    </tr>\n",
       "    <tr>\n",
       "      <th>3</th>\n",
       "      <td>debit_card</td>\n",
       "    </tr>\n",
       "    <tr>\n",
       "      <th>4</th>\n",
       "      <td>not_defined</td>\n",
       "    </tr>\n",
       "  </tbody>\n",
       "</table>\n",
       "</div>"
      ],
      "text/plain": [
       "  payment_type\n",
       "0  credit_card\n",
       "1       boleto\n",
       "2      voucher\n",
       "3   debit_card\n",
       "4  not_defined"
      ]
     },
     "execution_count": 31,
     "metadata": {},
     "output_type": "execute_result"
    }
   ],
   "source": [
    "query=\"\"\"\n",
    "\n",
    "SELECT\n",
    "    DISTINCT payment_type  \n",
    "FROM order_payments op\n",
    " \n",
    "\"\"\"\n",
    "table=pd.read_sql_query(query,conn)\n",
    "table"
   ]
  },
  {
   "cell_type": "markdown",
   "id": "6d9f31d0",
   "metadata": {},
   "source": [
    "## 11. Qual o maior número de parcelas realizado?"
   ]
  },
  {
   "cell_type": "code",
   "execution_count": 32,
   "id": "6a530463",
   "metadata": {
    "ExecuteTime": {
     "end_time": "2022-07-28T07:59:30.000263Z",
     "start_time": "2022-07-28T07:59:29.925513Z"
    }
   },
   "outputs": [
    {
     "data": {
      "text/html": [
       "<div>\n",
       "<style scoped>\n",
       "    .dataframe tbody tr th:only-of-type {\n",
       "        vertical-align: middle;\n",
       "    }\n",
       "\n",
       "    .dataframe tbody tr th {\n",
       "        vertical-align: top;\n",
       "    }\n",
       "\n",
       "    .dataframe thead th {\n",
       "        text-align: right;\n",
       "    }\n",
       "</style>\n",
       "<table border=\"1\" class=\"dataframe\">\n",
       "  <thead>\n",
       "    <tr style=\"text-align: right;\">\n",
       "      <th></th>\n",
       "      <th>MAX( op.payment_installments )</th>\n",
       "    </tr>\n",
       "  </thead>\n",
       "  <tbody>\n",
       "    <tr>\n",
       "      <th>0</th>\n",
       "      <td>24</td>\n",
       "    </tr>\n",
       "  </tbody>\n",
       "</table>\n",
       "</div>"
      ],
      "text/plain": [
       "   MAX( op.payment_installments )\n",
       "0                              24"
      ]
     },
     "execution_count": 32,
     "metadata": {},
     "output_type": "execute_result"
    }
   ],
   "source": [
    "query=\"\"\"\n",
    "\n",
    "SELECT\n",
    "MAX( op.payment_installments ) \n",
    "FROM order_payments op\n",
    "\n",
    "\"\"\"\n",
    "table=pd.read_sql_query(query,conn)\n",
    "table"
   ]
  },
  {
   "cell_type": "markdown",
   "id": "dbd83780",
   "metadata": {
    "ExecuteTime": {
     "end_time": "2022-07-27T14:39:35.776762Z",
     "start_time": "2022-07-27T14:39:35.764748Z"
    }
   },
   "source": [
    "## 12. Qual o menor número de parcelas realizado?"
   ]
  },
  {
   "cell_type": "code",
   "execution_count": 33,
   "id": "6c3070d8",
   "metadata": {
    "ExecuteTime": {
     "end_time": "2022-07-28T08:01:14.597011Z",
     "start_time": "2022-07-28T08:01:14.517217Z"
    }
   },
   "outputs": [
    {
     "data": {
      "text/html": [
       "<div>\n",
       "<style scoped>\n",
       "    .dataframe tbody tr th:only-of-type {\n",
       "        vertical-align: middle;\n",
       "    }\n",
       "\n",
       "    .dataframe tbody tr th {\n",
       "        vertical-align: top;\n",
       "    }\n",
       "\n",
       "    .dataframe thead th {\n",
       "        text-align: right;\n",
       "    }\n",
       "</style>\n",
       "<table border=\"1\" class=\"dataframe\">\n",
       "  <thead>\n",
       "    <tr style=\"text-align: right;\">\n",
       "      <th></th>\n",
       "      <th>MIN( op.payment_installments )</th>\n",
       "    </tr>\n",
       "  </thead>\n",
       "  <tbody>\n",
       "    <tr>\n",
       "      <th>0</th>\n",
       "      <td>0</td>\n",
       "    </tr>\n",
       "  </tbody>\n",
       "</table>\n",
       "</div>"
      ],
      "text/plain": [
       "   MIN( op.payment_installments )\n",
       "0                               0"
      ]
     },
     "execution_count": 33,
     "metadata": {},
     "output_type": "execute_result"
    }
   ],
   "source": [
    "query=\"\"\"\n",
    "\n",
    "SELECT\n",
    "MIN( op.payment_installments ) \n",
    "FROM order_payments op\n",
    "\n",
    "\"\"\"\n",
    "table=pd.read_sql_query(query,conn)\n",
    "table"
   ]
  },
  {
   "cell_type": "markdown",
   "id": "37fa3647",
   "metadata": {
    "ExecuteTime": {
     "end_time": "2022-07-27T14:39:42.583219Z",
     "start_time": "2022-07-27T14:39:42.563306Z"
    }
   },
   "source": [
    "## 13. Qual a média do valor pago no cartão de crédito?"
   ]
  },
  {
   "cell_type": "code",
   "execution_count": 36,
   "id": "101dddf6",
   "metadata": {
    "ExecuteTime": {
     "end_time": "2022-07-28T08:04:09.795873Z",
     "start_time": "2022-07-28T08:04:09.700686Z"
    }
   },
   "outputs": [
    {
     "data": {
      "text/html": [
       "<div>\n",
       "<style scoped>\n",
       "    .dataframe tbody tr th:only-of-type {\n",
       "        vertical-align: middle;\n",
       "    }\n",
       "\n",
       "    .dataframe tbody tr th {\n",
       "        vertical-align: top;\n",
       "    }\n",
       "\n",
       "    .dataframe thead th {\n",
       "        text-align: right;\n",
       "    }\n",
       "</style>\n",
       "<table border=\"1\" class=\"dataframe\">\n",
       "  <thead>\n",
       "    <tr style=\"text-align: right;\">\n",
       "      <th></th>\n",
       "      <th>AVG( op.payment_value )</th>\n",
       "    </tr>\n",
       "  </thead>\n",
       "  <tbody>\n",
       "    <tr>\n",
       "      <th>0</th>\n",
       "      <td>163.319021</td>\n",
       "    </tr>\n",
       "  </tbody>\n",
       "</table>\n",
       "</div>"
      ],
      "text/plain": [
       "   AVG( op.payment_value )\n",
       "0               163.319021"
      ]
     },
     "execution_count": 36,
     "metadata": {},
     "output_type": "execute_result"
    }
   ],
   "source": [
    "query=\"\"\"\n",
    "\n",
    "SELECT\n",
    "AVG( op.payment_value ) \n",
    "FROM order_payments op\n",
    "WHERE op.payment_type ='credit_card'\n",
    "\"\"\"\n",
    "table=pd.read_sql_query(query,conn)\n",
    "table"
   ]
  },
  {
   "cell_type": "markdown",
   "id": "279d5324",
   "metadata": {
    "ExecuteTime": {
     "end_time": "2022-07-27T14:39:52.426241Z",
     "start_time": "2022-07-27T14:39:52.421221Z"
    }
   },
   "source": [
    "## 14. Quantos tipos de status para um pedido existem?"
   ]
  },
  {
   "cell_type": "code",
   "execution_count": 42,
   "id": "c8d45f80",
   "metadata": {
    "ExecuteTime": {
     "end_time": "2022-07-28T08:12:43.422002Z",
     "start_time": "2022-07-28T08:12:43.379064Z"
    }
   },
   "outputs": [
    {
     "data": {
      "text/html": [
       "<div>\n",
       "<style scoped>\n",
       "    .dataframe tbody tr th:only-of-type {\n",
       "        vertical-align: middle;\n",
       "    }\n",
       "\n",
       "    .dataframe tbody tr th {\n",
       "        vertical-align: top;\n",
       "    }\n",
       "\n",
       "    .dataframe thead th {\n",
       "        text-align: right;\n",
       "    }\n",
       "</style>\n",
       "<table border=\"1\" class=\"dataframe\">\n",
       "  <thead>\n",
       "    <tr style=\"text-align: right;\">\n",
       "      <th></th>\n",
       "      <th>COUNT(DISTINCT o.order_status)</th>\n",
       "    </tr>\n",
       "  </thead>\n",
       "  <tbody>\n",
       "    <tr>\n",
       "      <th>0</th>\n",
       "      <td>8</td>\n",
       "    </tr>\n",
       "  </tbody>\n",
       "</table>\n",
       "</div>"
      ],
      "text/plain": [
       "   COUNT(DISTINCT o.order_status)\n",
       "0                               8"
      ]
     },
     "execution_count": 42,
     "metadata": {},
     "output_type": "execute_result"
    }
   ],
   "source": [
    "query=\"\"\"\n",
    "\n",
    "SELECT\n",
    "    COUNT(DISTINCT o.order_status)\n",
    "FROM orders o\n",
    "\n",
    "\"\"\"\n",
    "table=pd.read_sql_query(query,conn)\n",
    "table"
   ]
  },
  {
   "cell_type": "markdown",
   "id": "a1450890",
   "metadata": {
    "ExecuteTime": {
     "end_time": "2022-07-27T14:40:01.012400Z",
     "start_time": "2022-07-27T14:40:00.996401Z"
    }
   },
   "source": [
    "## 15. Quais os tipos de status para um pedido?"
   ]
  },
  {
   "cell_type": "code",
   "execution_count": 68,
   "id": "bd310335",
   "metadata": {
    "ExecuteTime": {
     "end_time": "2022-07-28T09:50:36.492505Z",
     "start_time": "2022-07-28T09:50:36.450401Z"
    }
   },
   "outputs": [
    {
     "data": {
      "text/html": [
       "<div>\n",
       "<style scoped>\n",
       "    .dataframe tbody tr th:only-of-type {\n",
       "        vertical-align: middle;\n",
       "    }\n",
       "\n",
       "    .dataframe tbody tr th {\n",
       "        vertical-align: top;\n",
       "    }\n",
       "\n",
       "    .dataframe thead th {\n",
       "        text-align: right;\n",
       "    }\n",
       "</style>\n",
       "<table border=\"1\" class=\"dataframe\">\n",
       "  <thead>\n",
       "    <tr style=\"text-align: right;\">\n",
       "      <th></th>\n",
       "      <th>order_status</th>\n",
       "    </tr>\n",
       "  </thead>\n",
       "  <tbody>\n",
       "    <tr>\n",
       "      <th>0</th>\n",
       "      <td>delivered</td>\n",
       "    </tr>\n",
       "    <tr>\n",
       "      <th>1</th>\n",
       "      <td>invoiced</td>\n",
       "    </tr>\n",
       "    <tr>\n",
       "      <th>2</th>\n",
       "      <td>shipped</td>\n",
       "    </tr>\n",
       "    <tr>\n",
       "      <th>3</th>\n",
       "      <td>processing</td>\n",
       "    </tr>\n",
       "    <tr>\n",
       "      <th>4</th>\n",
       "      <td>unavailable</td>\n",
       "    </tr>\n",
       "    <tr>\n",
       "      <th>5</th>\n",
       "      <td>canceled</td>\n",
       "    </tr>\n",
       "    <tr>\n",
       "      <th>6</th>\n",
       "      <td>created</td>\n",
       "    </tr>\n",
       "    <tr>\n",
       "      <th>7</th>\n",
       "      <td>approved</td>\n",
       "    </tr>\n",
       "  </tbody>\n",
       "</table>\n",
       "</div>"
      ],
      "text/plain": [
       "  order_status\n",
       "0    delivered\n",
       "1     invoiced\n",
       "2      shipped\n",
       "3   processing\n",
       "4  unavailable\n",
       "5     canceled\n",
       "6      created\n",
       "7     approved"
      ]
     },
     "execution_count": 68,
     "metadata": {},
     "output_type": "execute_result"
    }
   ],
   "source": [
    "query=\"\"\"\n",
    "\n",
    "SELECT\n",
    "    DISTINCT o.order_status\n",
    "FROM orders o\n",
    "\n",
    "\"\"\"\n",
    "table=pd.read_sql_query(query,conn)\n",
    "table"
   ]
  },
  {
   "cell_type": "markdown",
   "id": "f739805b",
   "metadata": {
    "ExecuteTime": {
     "end_time": "2022-07-27T14:40:01.012400Z",
     "start_time": "2022-07-27T14:40:00.996401Z"
    }
   },
   "source": [
    "## 16. Quantos clientes distintos fizeram um pedido?"
   ]
  },
  {
   "cell_type": "code",
   "execution_count": 69,
   "id": "2a6579cb",
   "metadata": {
    "ExecuteTime": {
     "end_time": "2022-07-28T09:50:47.421921Z",
     "start_time": "2022-07-28T09:50:47.121518Z"
    }
   },
   "outputs": [
    {
     "data": {
      "text/html": [
       "<div>\n",
       "<style scoped>\n",
       "    .dataframe tbody tr th:only-of-type {\n",
       "        vertical-align: middle;\n",
       "    }\n",
       "\n",
       "    .dataframe tbody tr th {\n",
       "        vertical-align: top;\n",
       "    }\n",
       "\n",
       "    .dataframe thead th {\n",
       "        text-align: right;\n",
       "    }\n",
       "</style>\n",
       "<table border=\"1\" class=\"dataframe\">\n",
       "  <thead>\n",
       "    <tr style=\"text-align: right;\">\n",
       "      <th></th>\n",
       "      <th>COUNT(DISTINCT o.customer_id)</th>\n",
       "    </tr>\n",
       "  </thead>\n",
       "  <tbody>\n",
       "    <tr>\n",
       "      <th>0</th>\n",
       "      <td>99441</td>\n",
       "    </tr>\n",
       "  </tbody>\n",
       "</table>\n",
       "</div>"
      ],
      "text/plain": [
       "   COUNT(DISTINCT o.customer_id)\n",
       "0                          99441"
      ]
     },
     "execution_count": 69,
     "metadata": {},
     "output_type": "execute_result"
    }
   ],
   "source": [
    "query=\"\"\"\n",
    "\n",
    "SELECT\n",
    "    COUNT(DISTINCT o.customer_id)\n",
    "FROM orders o\n",
    "\n",
    "\"\"\"\n",
    "table=pd.read_sql_query(query,conn)\n",
    "table"
   ]
  },
  {
   "cell_type": "markdown",
   "id": "7aa5da0c",
   "metadata": {
    "ExecuteTime": {
     "end_time": "2022-07-27T14:41:52.050348Z",
     "start_time": "2022-07-27T14:41:52.043362Z"
    }
   },
   "source": [
    "## 17. Quantos produtos estão cadastrados na empresa?"
   ]
  },
  {
   "cell_type": "code",
   "execution_count": 46,
   "id": "6b1e1fe0",
   "metadata": {
    "ExecuteTime": {
     "end_time": "2022-07-28T08:23:48.095510Z",
     "start_time": "2022-07-28T08:23:48.034496Z"
    }
   },
   "outputs": [
    {
     "data": {
      "text/html": [
       "<div>\n",
       "<style scoped>\n",
       "    .dataframe tbody tr th:only-of-type {\n",
       "        vertical-align: middle;\n",
       "    }\n",
       "\n",
       "    .dataframe tbody tr th {\n",
       "        vertical-align: top;\n",
       "    }\n",
       "\n",
       "    .dataframe thead th {\n",
       "        text-align: right;\n",
       "    }\n",
       "</style>\n",
       "<table border=\"1\" class=\"dataframe\">\n",
       "  <thead>\n",
       "    <tr style=\"text-align: right;\">\n",
       "      <th></th>\n",
       "      <th>COUNT(DISTINCT p.product_id)</th>\n",
       "    </tr>\n",
       "  </thead>\n",
       "  <tbody>\n",
       "    <tr>\n",
       "      <th>0</th>\n",
       "      <td>32951</td>\n",
       "    </tr>\n",
       "  </tbody>\n",
       "</table>\n",
       "</div>"
      ],
      "text/plain": [
       "   COUNT(DISTINCT p.product_id)\n",
       "0                         32951"
      ]
     },
     "execution_count": 46,
     "metadata": {},
     "output_type": "execute_result"
    }
   ],
   "source": [
    "query=\"\"\"\n",
    "\n",
    "SELECT\n",
    "    COUNT(DISTINCT p.product_id)\n",
    "FROM products P\n",
    "\n",
    "\"\"\"\n",
    "table=pd.read_sql_query(query,conn)\n",
    "table"
   ]
  },
  {
   "cell_type": "markdown",
   "id": "7a6d38f9",
   "metadata": {
    "ExecuteTime": {
     "end_time": "2022-07-27T14:40:30.519563Z",
     "start_time": "2022-07-27T14:40:30.514604Z"
    }
   },
   "source": [
    "## 18. Qual a quantidade máxima de fotos de um produto?"
   ]
  },
  {
   "cell_type": "code",
   "execution_count": 48,
   "id": "a9bb5f9c",
   "metadata": {
    "ExecuteTime": {
     "end_time": "2022-07-28T08:24:42.447588Z",
     "start_time": "2022-07-28T08:24:42.419663Z"
    }
   },
   "outputs": [
    {
     "data": {
      "text/html": [
       "<div>\n",
       "<style scoped>\n",
       "    .dataframe tbody tr th:only-of-type {\n",
       "        vertical-align: middle;\n",
       "    }\n",
       "\n",
       "    .dataframe tbody tr th {\n",
       "        vertical-align: top;\n",
       "    }\n",
       "\n",
       "    .dataframe thead th {\n",
       "        text-align: right;\n",
       "    }\n",
       "</style>\n",
       "<table border=\"1\" class=\"dataframe\">\n",
       "  <thead>\n",
       "    <tr style=\"text-align: right;\">\n",
       "      <th></th>\n",
       "      <th>MAX (p.product_photos_qty)</th>\n",
       "    </tr>\n",
       "  </thead>\n",
       "  <tbody>\n",
       "    <tr>\n",
       "      <th>0</th>\n",
       "      <td>20.0</td>\n",
       "    </tr>\n",
       "  </tbody>\n",
       "</table>\n",
       "</div>"
      ],
      "text/plain": [
       "   MAX (p.product_photos_qty)\n",
       "0                        20.0"
      ]
     },
     "execution_count": 48,
     "metadata": {},
     "output_type": "execute_result"
    }
   ],
   "source": [
    "query=\"\"\"\n",
    "\n",
    "SELECT\n",
    "    MAX (p.product_photos_qty)\n",
    "FROM products P\n",
    "\n",
    "\"\"\"\n",
    "table=pd.read_sql_query(query,conn)\n",
    "table"
   ]
  },
  {
   "cell_type": "markdown",
   "id": "a7f8877a",
   "metadata": {
    "ExecuteTime": {
     "end_time": "2022-07-27T14:40:39.159829Z",
     "start_time": "2022-07-27T14:40:39.140878Z"
    }
   },
   "source": [
    "## 19. Qual o maior valor do peso entre todos os produtos?\n"
   ]
  },
  {
   "cell_type": "code",
   "execution_count": 64,
   "id": "c4a16ac0",
   "metadata": {
    "ExecuteTime": {
     "end_time": "2022-07-28T09:49:06.457507Z",
     "start_time": "2022-07-28T09:49:06.432344Z"
    }
   },
   "outputs": [
    {
     "data": {
      "text/html": [
       "<div>\n",
       "<style scoped>\n",
       "    .dataframe tbody tr th:only-of-type {\n",
       "        vertical-align: middle;\n",
       "    }\n",
       "\n",
       "    .dataframe tbody tr th {\n",
       "        vertical-align: top;\n",
       "    }\n",
       "\n",
       "    .dataframe thead th {\n",
       "        text-align: right;\n",
       "    }\n",
       "</style>\n",
       "<table border=\"1\" class=\"dataframe\">\n",
       "  <thead>\n",
       "    <tr style=\"text-align: right;\">\n",
       "      <th></th>\n",
       "      <th>MAX (p.product_weight_g)</th>\n",
       "    </tr>\n",
       "  </thead>\n",
       "  <tbody>\n",
       "    <tr>\n",
       "      <th>0</th>\n",
       "      <td>40425.0</td>\n",
       "    </tr>\n",
       "  </tbody>\n",
       "</table>\n",
       "</div>"
      ],
      "text/plain": [
       "   MAX (p.product_weight_g)\n",
       "0                   40425.0"
      ]
     },
     "execution_count": 64,
     "metadata": {},
     "output_type": "execute_result"
    }
   ],
   "source": [
    "query=\"\"\"\n",
    "\n",
    "SELECT\n",
    "    MAX (p.product_weight_g)\n",
    "FROM products P\n",
    "\n",
    "\"\"\"\n",
    "table=pd.read_sql_query(query,conn)\n",
    "table"
   ]
  },
  {
   "cell_type": "markdown",
   "id": "77656904",
   "metadata": {
    "ExecuteTime": {
     "end_time": "2022-07-27T14:40:46.044915Z",
     "start_time": "2022-07-27T14:40:46.034797Z"
    }
   },
   "source": [
    "## 20. Qual a altura média dos produtos?"
   ]
  },
  {
   "cell_type": "code",
   "execution_count": 65,
   "id": "c0f82bf0",
   "metadata": {
    "ExecuteTime": {
     "end_time": "2022-07-28T09:49:07.840207Z",
     "start_time": "2022-07-28T09:49:07.823167Z"
    }
   },
   "outputs": [
    {
     "data": {
      "text/html": [
       "<div>\n",
       "<style scoped>\n",
       "    .dataframe tbody tr th:only-of-type {\n",
       "        vertical-align: middle;\n",
       "    }\n",
       "\n",
       "    .dataframe tbody tr th {\n",
       "        vertical-align: top;\n",
       "    }\n",
       "\n",
       "    .dataframe thead th {\n",
       "        text-align: right;\n",
       "    }\n",
       "</style>\n",
       "<table border=\"1\" class=\"dataframe\">\n",
       "  <thead>\n",
       "    <tr style=\"text-align: right;\">\n",
       "      <th></th>\n",
       "      <th>AVG(p.product_height_cm)</th>\n",
       "    </tr>\n",
       "  </thead>\n",
       "  <tbody>\n",
       "    <tr>\n",
       "      <th>0</th>\n",
       "      <td>16.937661</td>\n",
       "    </tr>\n",
       "  </tbody>\n",
       "</table>\n",
       "</div>"
      ],
      "text/plain": [
       "   AVG(p.product_height_cm)\n",
       "0                 16.937661"
      ]
     },
     "execution_count": 65,
     "metadata": {},
     "output_type": "execute_result"
    }
   ],
   "source": [
    "query=\"\"\"\n",
    "\n",
    "SELECT\n",
    "    AVG(p.product_height_cm) \n",
    "FROM products p\n",
    "\n",
    "\"\"\"\n",
    "table=pd.read_sql_query(query,conn)\n",
    "table"
   ]
  },
  {
   "cell_type": "code",
   "execution_count": 66,
   "id": "6d9f877a",
   "metadata": {
    "ExecuteTime": {
     "end_time": "2022-07-28T09:49:11.944741Z",
     "start_time": "2022-07-28T09:49:11.921357Z"
    },
    "scrolled": true
   },
   "outputs": [
    {
     "data": {
      "text/html": [
       "<div>\n",
       "<style scoped>\n",
       "    .dataframe tbody tr th:only-of-type {\n",
       "        vertical-align: middle;\n",
       "    }\n",
       "\n",
       "    .dataframe tbody tr th {\n",
       "        vertical-align: top;\n",
       "    }\n",
       "\n",
       "    .dataframe thead th {\n",
       "        text-align: right;\n",
       "    }\n",
       "</style>\n",
       "<table border=\"1\" class=\"dataframe\">\n",
       "  <thead>\n",
       "    <tr style=\"text-align: right;\">\n",
       "      <th></th>\n",
       "      <th>AVG(DISTINCT p.product_height_cm)</th>\n",
       "    </tr>\n",
       "  </thead>\n",
       "  <tbody>\n",
       "    <tr>\n",
       "      <th>0</th>\n",
       "      <td>52.666667</td>\n",
       "    </tr>\n",
       "  </tbody>\n",
       "</table>\n",
       "</div>"
      ],
      "text/plain": [
       "   AVG(DISTINCT p.product_height_cm)\n",
       "0                          52.666667"
      ]
     },
     "execution_count": 66,
     "metadata": {},
     "output_type": "execute_result"
    }
   ],
   "source": [
    "query=\"\"\"\n",
    "\n",
    "SELECT\n",
    "    AVG(DISTINCT p.product_height_cm) \n",
    "FROM products p\n",
    "\n",
    "\"\"\"\n",
    "table=pd.read_sql_query(query,conn)\n",
    "table"
   ]
  },
  {
   "cell_type": "markdown",
   "id": "494485b8",
   "metadata": {},
   "source": [
    "# Exercicios PA Bond - aula 4"
   ]
  },
  {
   "cell_type": "markdown",
   "id": "1bd7cad0",
   "metadata": {},
   "source": [
    "## Qual o número de clientes únicos de todos os estados?\n"
   ]
  },
  {
   "cell_type": "code",
   "execution_count": 12,
   "id": "04771f38",
   "metadata": {
    "ExecuteTime": {
     "end_time": "2022-07-28T10:33:33.419025Z",
     "start_time": "2022-07-28T10:33:32.838551Z"
    }
   },
   "outputs": [
    {
     "data": {
      "text/html": [
       "<div>\n",
       "<style scoped>\n",
       "    .dataframe tbody tr th:only-of-type {\n",
       "        vertical-align: middle;\n",
       "    }\n",
       "\n",
       "    .dataframe tbody tr th {\n",
       "        vertical-align: top;\n",
       "    }\n",
       "\n",
       "    .dataframe thead th {\n",
       "        text-align: right;\n",
       "    }\n",
       "</style>\n",
       "<table border=\"1\" class=\"dataframe\">\n",
       "  <thead>\n",
       "    <tr style=\"text-align: right;\">\n",
       "      <th></th>\n",
       "      <th>customer_state</th>\n",
       "      <th>numero_clientes</th>\n",
       "    </tr>\n",
       "  </thead>\n",
       "  <tbody>\n",
       "    <tr>\n",
       "      <th>0</th>\n",
       "      <td>AC</td>\n",
       "      <td>81</td>\n",
       "    </tr>\n",
       "    <tr>\n",
       "      <th>1</th>\n",
       "      <td>AL</td>\n",
       "      <td>413</td>\n",
       "    </tr>\n",
       "    <tr>\n",
       "      <th>2</th>\n",
       "      <td>AM</td>\n",
       "      <td>148</td>\n",
       "    </tr>\n",
       "    <tr>\n",
       "      <th>3</th>\n",
       "      <td>AP</td>\n",
       "      <td>68</td>\n",
       "    </tr>\n",
       "    <tr>\n",
       "      <th>4</th>\n",
       "      <td>BA</td>\n",
       "      <td>3380</td>\n",
       "    </tr>\n",
       "    <tr>\n",
       "      <th>5</th>\n",
       "      <td>CE</td>\n",
       "      <td>1336</td>\n",
       "    </tr>\n",
       "    <tr>\n",
       "      <th>6</th>\n",
       "      <td>DF</td>\n",
       "      <td>2140</td>\n",
       "    </tr>\n",
       "    <tr>\n",
       "      <th>7</th>\n",
       "      <td>ES</td>\n",
       "      <td>2033</td>\n",
       "    </tr>\n",
       "    <tr>\n",
       "      <th>8</th>\n",
       "      <td>GO</td>\n",
       "      <td>2020</td>\n",
       "    </tr>\n",
       "    <tr>\n",
       "      <th>9</th>\n",
       "      <td>MA</td>\n",
       "      <td>747</td>\n",
       "    </tr>\n",
       "    <tr>\n",
       "      <th>10</th>\n",
       "      <td>MG</td>\n",
       "      <td>11635</td>\n",
       "    </tr>\n",
       "    <tr>\n",
       "      <th>11</th>\n",
       "      <td>MS</td>\n",
       "      <td>715</td>\n",
       "    </tr>\n",
       "    <tr>\n",
       "      <th>12</th>\n",
       "      <td>MT</td>\n",
       "      <td>907</td>\n",
       "    </tr>\n",
       "    <tr>\n",
       "      <th>13</th>\n",
       "      <td>PA</td>\n",
       "      <td>975</td>\n",
       "    </tr>\n",
       "    <tr>\n",
       "      <th>14</th>\n",
       "      <td>PB</td>\n",
       "      <td>536</td>\n",
       "    </tr>\n",
       "    <tr>\n",
       "      <th>15</th>\n",
       "      <td>PE</td>\n",
       "      <td>1652</td>\n",
       "    </tr>\n",
       "    <tr>\n",
       "      <th>16</th>\n",
       "      <td>PI</td>\n",
       "      <td>495</td>\n",
       "    </tr>\n",
       "    <tr>\n",
       "      <th>17</th>\n",
       "      <td>PR</td>\n",
       "      <td>5045</td>\n",
       "    </tr>\n",
       "    <tr>\n",
       "      <th>18</th>\n",
       "      <td>RJ</td>\n",
       "      <td>12852</td>\n",
       "    </tr>\n",
       "    <tr>\n",
       "      <th>19</th>\n",
       "      <td>RN</td>\n",
       "      <td>485</td>\n",
       "    </tr>\n",
       "    <tr>\n",
       "      <th>20</th>\n",
       "      <td>RO</td>\n",
       "      <td>253</td>\n",
       "    </tr>\n",
       "    <tr>\n",
       "      <th>21</th>\n",
       "      <td>RR</td>\n",
       "      <td>46</td>\n",
       "    </tr>\n",
       "    <tr>\n",
       "      <th>22</th>\n",
       "      <td>RS</td>\n",
       "      <td>5466</td>\n",
       "    </tr>\n",
       "    <tr>\n",
       "      <th>23</th>\n",
       "      <td>SC</td>\n",
       "      <td>3637</td>\n",
       "    </tr>\n",
       "    <tr>\n",
       "      <th>24</th>\n",
       "      <td>SE</td>\n",
       "      <td>350</td>\n",
       "    </tr>\n",
       "    <tr>\n",
       "      <th>25</th>\n",
       "      <td>SP</td>\n",
       "      <td>41746</td>\n",
       "    </tr>\n",
       "    <tr>\n",
       "      <th>26</th>\n",
       "      <td>TO</td>\n",
       "      <td>280</td>\n",
       "    </tr>\n",
       "  </tbody>\n",
       "</table>\n",
       "</div>"
      ],
      "text/plain": [
       "   customer_state  numero_clientes\n",
       "0              AC               81\n",
       "1              AL              413\n",
       "2              AM              148\n",
       "3              AP               68\n",
       "4              BA             3380\n",
       "5              CE             1336\n",
       "6              DF             2140\n",
       "7              ES             2033\n",
       "8              GO             2020\n",
       "9              MA              747\n",
       "10             MG            11635\n",
       "11             MS              715\n",
       "12             MT              907\n",
       "13             PA              975\n",
       "14             PB              536\n",
       "15             PE             1652\n",
       "16             PI              495\n",
       "17             PR             5045\n",
       "18             RJ            12852\n",
       "19             RN              485\n",
       "20             RO              253\n",
       "21             RR               46\n",
       "22             RS             5466\n",
       "23             SC             3637\n",
       "24             SE              350\n",
       "25             SP            41746\n",
       "26             TO              280"
      ]
     },
     "execution_count": 12,
     "metadata": {},
     "output_type": "execute_result"
    }
   ],
   "source": [
    "# tem um erro no gabarito\n",
    "query=\"\"\"\n",
    "\n",
    "SELECT\n",
    "c.customer_state,\n",
    "COUNT( DISTINCT c.customer_id ) AS numero_clientes\n",
    "FROM customer c\n",
    "GROUP BY c.customer_state\n",
    "\n",
    "\"\"\"\n",
    "table=pd.read_sql_query(query,conn)\n",
    "table"
   ]
  },
  {
   "cell_type": "markdown",
   "id": "6e1160b8",
   "metadata": {},
   "source": [
    "## Qual o número de cidades únicas de todos os estados?\n"
   ]
  },
  {
   "cell_type": "code",
   "execution_count": 13,
   "id": "7f78703a",
   "metadata": {
    "ExecuteTime": {
     "end_time": "2022-07-28T10:33:45.715846Z",
     "start_time": "2022-07-28T10:33:45.316320Z"
    }
   },
   "outputs": [
    {
     "data": {
      "text/html": [
       "<div>\n",
       "<style scoped>\n",
       "    .dataframe tbody tr th:only-of-type {\n",
       "        vertical-align: middle;\n",
       "    }\n",
       "\n",
       "    .dataframe tbody tr th {\n",
       "        vertical-align: top;\n",
       "    }\n",
       "\n",
       "    .dataframe thead th {\n",
       "        text-align: right;\n",
       "    }\n",
       "</style>\n",
       "<table border=\"1\" class=\"dataframe\">\n",
       "  <thead>\n",
       "    <tr style=\"text-align: right;\">\n",
       "      <th></th>\n",
       "      <th>customer_state</th>\n",
       "      <th>numero_cidades</th>\n",
       "    </tr>\n",
       "  </thead>\n",
       "  <tbody>\n",
       "    <tr>\n",
       "      <th>0</th>\n",
       "      <td>AC</td>\n",
       "      <td>8</td>\n",
       "    </tr>\n",
       "    <tr>\n",
       "      <th>1</th>\n",
       "      <td>AL</td>\n",
       "      <td>68</td>\n",
       "    </tr>\n",
       "    <tr>\n",
       "      <th>2</th>\n",
       "      <td>AM</td>\n",
       "      <td>5</td>\n",
       "    </tr>\n",
       "    <tr>\n",
       "      <th>3</th>\n",
       "      <td>AP</td>\n",
       "      <td>6</td>\n",
       "    </tr>\n",
       "    <tr>\n",
       "      <th>4</th>\n",
       "      <td>BA</td>\n",
       "      <td>353</td>\n",
       "    </tr>\n",
       "    <tr>\n",
       "      <th>5</th>\n",
       "      <td>CE</td>\n",
       "      <td>161</td>\n",
       "    </tr>\n",
       "    <tr>\n",
       "      <th>6</th>\n",
       "      <td>DF</td>\n",
       "      <td>6</td>\n",
       "    </tr>\n",
       "    <tr>\n",
       "      <th>7</th>\n",
       "      <td>ES</td>\n",
       "      <td>95</td>\n",
       "    </tr>\n",
       "    <tr>\n",
       "      <th>8</th>\n",
       "      <td>GO</td>\n",
       "      <td>178</td>\n",
       "    </tr>\n",
       "    <tr>\n",
       "      <th>9</th>\n",
       "      <td>MA</td>\n",
       "      <td>122</td>\n",
       "    </tr>\n",
       "    <tr>\n",
       "      <th>10</th>\n",
       "      <td>MG</td>\n",
       "      <td>745</td>\n",
       "    </tr>\n",
       "    <tr>\n",
       "      <th>11</th>\n",
       "      <td>MS</td>\n",
       "      <td>67</td>\n",
       "    </tr>\n",
       "    <tr>\n",
       "      <th>12</th>\n",
       "      <td>MT</td>\n",
       "      <td>101</td>\n",
       "    </tr>\n",
       "    <tr>\n",
       "      <th>13</th>\n",
       "      <td>PA</td>\n",
       "      <td>89</td>\n",
       "    </tr>\n",
       "    <tr>\n",
       "      <th>14</th>\n",
       "      <td>PB</td>\n",
       "      <td>92</td>\n",
       "    </tr>\n",
       "    <tr>\n",
       "      <th>15</th>\n",
       "      <td>PE</td>\n",
       "      <td>152</td>\n",
       "    </tr>\n",
       "    <tr>\n",
       "      <th>16</th>\n",
       "      <td>PI</td>\n",
       "      <td>72</td>\n",
       "    </tr>\n",
       "    <tr>\n",
       "      <th>17</th>\n",
       "      <td>PR</td>\n",
       "      <td>364</td>\n",
       "    </tr>\n",
       "    <tr>\n",
       "      <th>18</th>\n",
       "      <td>RJ</td>\n",
       "      <td>149</td>\n",
       "    </tr>\n",
       "    <tr>\n",
       "      <th>19</th>\n",
       "      <td>RN</td>\n",
       "      <td>90</td>\n",
       "    </tr>\n",
       "    <tr>\n",
       "      <th>20</th>\n",
       "      <td>RO</td>\n",
       "      <td>35</td>\n",
       "    </tr>\n",
       "    <tr>\n",
       "      <th>21</th>\n",
       "      <td>RR</td>\n",
       "      <td>2</td>\n",
       "    </tr>\n",
       "    <tr>\n",
       "      <th>22</th>\n",
       "      <td>RS</td>\n",
       "      <td>379</td>\n",
       "    </tr>\n",
       "    <tr>\n",
       "      <th>23</th>\n",
       "      <td>SC</td>\n",
       "      <td>240</td>\n",
       "    </tr>\n",
       "    <tr>\n",
       "      <th>24</th>\n",
       "      <td>SE</td>\n",
       "      <td>46</td>\n",
       "    </tr>\n",
       "    <tr>\n",
       "      <th>25</th>\n",
       "      <td>SP</td>\n",
       "      <td>629</td>\n",
       "    </tr>\n",
       "    <tr>\n",
       "      <th>26</th>\n",
       "      <td>TO</td>\n",
       "      <td>56</td>\n",
       "    </tr>\n",
       "  </tbody>\n",
       "</table>\n",
       "</div>"
      ],
      "text/plain": [
       "   customer_state  numero_cidades\n",
       "0              AC               8\n",
       "1              AL              68\n",
       "2              AM               5\n",
       "3              AP               6\n",
       "4              BA             353\n",
       "5              CE             161\n",
       "6              DF               6\n",
       "7              ES              95\n",
       "8              GO             178\n",
       "9              MA             122\n",
       "10             MG             745\n",
       "11             MS              67\n",
       "12             MT             101\n",
       "13             PA              89\n",
       "14             PB              92\n",
       "15             PE             152\n",
       "16             PI              72\n",
       "17             PR             364\n",
       "18             RJ             149\n",
       "19             RN              90\n",
       "20             RO              35\n",
       "21             RR               2\n",
       "22             RS             379\n",
       "23             SC             240\n",
       "24             SE              46\n",
       "25             SP             629\n",
       "26             TO              56"
      ]
     },
     "execution_count": 13,
     "metadata": {},
     "output_type": "execute_result"
    }
   ],
   "source": [
    "query=\"\"\"\n",
    "\n",
    "SELECT\n",
    "customer_state ,\n",
    "COUNT( DISTINCT customer_city ) AS numero_cidades\n",
    "FROM customer c\n",
    "GROUP BY customer_state\n",
    "\"\"\"\n",
    "table=pd.read_sql_query(query,conn)\n",
    "table"
   ]
  },
  {
   "cell_type": "markdown",
   "id": "7f4fd303",
   "metadata": {
    "run_control": {
     "marked": true
    }
   },
   "source": [
    "## . Qual o número de clientes únicos por estado e por cidade?"
   ]
  },
  {
   "cell_type": "code",
   "execution_count": 18,
   "id": "e272ae0e",
   "metadata": {
    "ExecuteTime": {
     "end_time": "2022-07-28T10:42:01.843309Z",
     "start_time": "2022-07-28T10:42:01.073179Z"
    }
   },
   "outputs": [
    {
     "data": {
      "text/html": [
       "<div>\n",
       "<style scoped>\n",
       "    .dataframe tbody tr th:only-of-type {\n",
       "        vertical-align: middle;\n",
       "    }\n",
       "\n",
       "    .dataframe tbody tr th {\n",
       "        vertical-align: top;\n",
       "    }\n",
       "\n",
       "    .dataframe thead th {\n",
       "        text-align: right;\n",
       "    }\n",
       "</style>\n",
       "<table border=\"1\" class=\"dataframe\">\n",
       "  <thead>\n",
       "    <tr style=\"text-align: right;\">\n",
       "      <th></th>\n",
       "      <th>customer_state</th>\n",
       "      <th>customer_city</th>\n",
       "      <th>numero_clientes</th>\n",
       "    </tr>\n",
       "  </thead>\n",
       "  <tbody>\n",
       "    <tr>\n",
       "      <th>0</th>\n",
       "      <td>AC</td>\n",
       "      <td>brasileia</td>\n",
       "      <td>1</td>\n",
       "    </tr>\n",
       "    <tr>\n",
       "      <th>1</th>\n",
       "      <td>AC</td>\n",
       "      <td>cruzeiro do sul</td>\n",
       "      <td>3</td>\n",
       "    </tr>\n",
       "    <tr>\n",
       "      <th>2</th>\n",
       "      <td>AC</td>\n",
       "      <td>epitaciolandia</td>\n",
       "      <td>1</td>\n",
       "    </tr>\n",
       "    <tr>\n",
       "      <th>3</th>\n",
       "      <td>AC</td>\n",
       "      <td>manoel urbano</td>\n",
       "      <td>1</td>\n",
       "    </tr>\n",
       "    <tr>\n",
       "      <th>4</th>\n",
       "      <td>AC</td>\n",
       "      <td>porto acre</td>\n",
       "      <td>1</td>\n",
       "    </tr>\n",
       "    <tr>\n",
       "      <th>...</th>\n",
       "      <td>...</td>\n",
       "      <td>...</td>\n",
       "      <td>...</td>\n",
       "    </tr>\n",
       "    <tr>\n",
       "      <th>4305</th>\n",
       "      <td>TO</td>\n",
       "      <td>silvanopolis</td>\n",
       "      <td>1</td>\n",
       "    </tr>\n",
       "    <tr>\n",
       "      <th>4306</th>\n",
       "      <td>TO</td>\n",
       "      <td>sitio novo do tocantins</td>\n",
       "      <td>2</td>\n",
       "    </tr>\n",
       "    <tr>\n",
       "      <th>4307</th>\n",
       "      <td>TO</td>\n",
       "      <td>taguatinga</td>\n",
       "      <td>3</td>\n",
       "    </tr>\n",
       "    <tr>\n",
       "      <th>4308</th>\n",
       "      <td>TO</td>\n",
       "      <td>tocantinopolis</td>\n",
       "      <td>7</td>\n",
       "    </tr>\n",
       "    <tr>\n",
       "      <th>4309</th>\n",
       "      <td>TO</td>\n",
       "      <td>xambioa</td>\n",
       "      <td>3</td>\n",
       "    </tr>\n",
       "  </tbody>\n",
       "</table>\n",
       "<p>4310 rows × 3 columns</p>\n",
       "</div>"
      ],
      "text/plain": [
       "     customer_state            customer_city  numero_clientes\n",
       "0                AC                brasileia                1\n",
       "1                AC          cruzeiro do sul                3\n",
       "2                AC           epitaciolandia                1\n",
       "3                AC            manoel urbano                1\n",
       "4                AC               porto acre                1\n",
       "...             ...                      ...              ...\n",
       "4305             TO             silvanopolis                1\n",
       "4306             TO  sitio novo do tocantins                2\n",
       "4307             TO               taguatinga                3\n",
       "4308             TO           tocantinopolis                7\n",
       "4309             TO                  xambioa                3\n",
       "\n",
       "[4310 rows x 3 columns]"
      ]
     },
     "execution_count": 18,
     "metadata": {},
     "output_type": "execute_result"
    }
   ],
   "source": [
    "query=\"\"\"\n",
    "\n",
    "SELECT\n",
    "c.customer_state,\n",
    "c.customer_city,\n",
    "\n",
    "COUNT( DISTINCT c.customer_id ) AS numero_clientes\n",
    "FROM customer c\n",
    "GROUP BY c.customer_state,c.customer_city\n",
    "\n",
    "\n",
    "\"\"\"\n",
    "table=pd.read_sql_query(query,conn)\n",
    "table"
   ]
  },
  {
   "cell_type": "markdown",
   "id": "898627ae",
   "metadata": {
    "run_control": {
     "marked": true
    }
   },
   "source": [
    "## Qual o número de clientes únicos por cidade e por estado?"
   ]
  },
  {
   "cell_type": "code",
   "execution_count": 17,
   "id": "dc465c30",
   "metadata": {
    "ExecuteTime": {
     "end_time": "2022-07-28T10:41:17.137065Z",
     "start_time": "2022-07-28T10:41:16.468332Z"
    }
   },
   "outputs": [
    {
     "data": {
      "text/html": [
       "<div>\n",
       "<style scoped>\n",
       "    .dataframe tbody tr th:only-of-type {\n",
       "        vertical-align: middle;\n",
       "    }\n",
       "\n",
       "    .dataframe tbody tr th {\n",
       "        vertical-align: top;\n",
       "    }\n",
       "\n",
       "    .dataframe thead th {\n",
       "        text-align: right;\n",
       "    }\n",
       "</style>\n",
       "<table border=\"1\" class=\"dataframe\">\n",
       "  <thead>\n",
       "    <tr style=\"text-align: right;\">\n",
       "      <th></th>\n",
       "      <th>customer_city</th>\n",
       "      <th>customer_state</th>\n",
       "      <th>numero_clientes</th>\n",
       "    </tr>\n",
       "  </thead>\n",
       "  <tbody>\n",
       "    <tr>\n",
       "      <th>0</th>\n",
       "      <td>abadia dos dourados</td>\n",
       "      <td>MG</td>\n",
       "      <td>3</td>\n",
       "    </tr>\n",
       "    <tr>\n",
       "      <th>1</th>\n",
       "      <td>abadiania</td>\n",
       "      <td>GO</td>\n",
       "      <td>1</td>\n",
       "    </tr>\n",
       "    <tr>\n",
       "      <th>2</th>\n",
       "      <td>abaete</td>\n",
       "      <td>MG</td>\n",
       "      <td>12</td>\n",
       "    </tr>\n",
       "    <tr>\n",
       "      <th>3</th>\n",
       "      <td>abaetetuba</td>\n",
       "      <td>PA</td>\n",
       "      <td>11</td>\n",
       "    </tr>\n",
       "    <tr>\n",
       "      <th>4</th>\n",
       "      <td>abaiara</td>\n",
       "      <td>CE</td>\n",
       "      <td>2</td>\n",
       "    </tr>\n",
       "    <tr>\n",
       "      <th>...</th>\n",
       "      <td>...</td>\n",
       "      <td>...</td>\n",
       "      <td>...</td>\n",
       "    </tr>\n",
       "    <tr>\n",
       "      <th>4305</th>\n",
       "      <td>xinguara</td>\n",
       "      <td>PA</td>\n",
       "      <td>9</td>\n",
       "    </tr>\n",
       "    <tr>\n",
       "      <th>4306</th>\n",
       "      <td>xique-xique</td>\n",
       "      <td>BA</td>\n",
       "      <td>3</td>\n",
       "    </tr>\n",
       "    <tr>\n",
       "      <th>4307</th>\n",
       "      <td>zacarias</td>\n",
       "      <td>SP</td>\n",
       "      <td>2</td>\n",
       "    </tr>\n",
       "    <tr>\n",
       "      <th>4308</th>\n",
       "      <td>ze doca</td>\n",
       "      <td>MA</td>\n",
       "      <td>5</td>\n",
       "    </tr>\n",
       "    <tr>\n",
       "      <th>4309</th>\n",
       "      <td>zortea</td>\n",
       "      <td>SC</td>\n",
       "      <td>2</td>\n",
       "    </tr>\n",
       "  </tbody>\n",
       "</table>\n",
       "<p>4310 rows × 3 columns</p>\n",
       "</div>"
      ],
      "text/plain": [
       "            customer_city customer_state  numero_clientes\n",
       "0     abadia dos dourados             MG                3\n",
       "1               abadiania             GO                1\n",
       "2                  abaete             MG               12\n",
       "3              abaetetuba             PA               11\n",
       "4                 abaiara             CE                2\n",
       "...                   ...            ...              ...\n",
       "4305             xinguara             PA                9\n",
       "4306          xique-xique             BA                3\n",
       "4307             zacarias             SP                2\n",
       "4308              ze doca             MA                5\n",
       "4309               zortea             SC                2\n",
       "\n",
       "[4310 rows x 3 columns]"
      ]
     },
     "execution_count": 17,
     "metadata": {},
     "output_type": "execute_result"
    }
   ],
   "source": [
    "query=\"\"\"\n",
    "\n",
    "SELECT\n",
    "c.customer_city,\n",
    "c.customer_state,\n",
    "COUNT( DISTINCT c.customer_id ) AS numero_clientes\n",
    "FROM customer c\n",
    "GROUP BY c.customer_city,c.customer_state\n",
    "\n",
    "\n",
    "\"\"\"\n",
    "table=pd.read_sql_query(query,conn)\n",
    "table"
   ]
  },
  {
   "cell_type": "markdown",
   "id": "9d543881",
   "metadata": {},
   "source": [
    "## . Qual o número total de pedidos únicos acima de R$ 3.500 por cada vendedor?"
   ]
  },
  {
   "cell_type": "code",
   "execution_count": 44,
   "id": "d88fa7fa",
   "metadata": {
    "ExecuteTime": {
     "end_time": "2022-07-29T08:19:15.556807Z",
     "start_time": "2022-07-29T08:19:15.091158Z"
    }
   },
   "outputs": [
    {
     "data": {
      "text/html": [
       "<div>\n",
       "<style scoped>\n",
       "    .dataframe tbody tr th:only-of-type {\n",
       "        vertical-align: middle;\n",
       "    }\n",
       "\n",
       "    .dataframe tbody tr th {\n",
       "        vertical-align: top;\n",
       "    }\n",
       "\n",
       "    .dataframe thead th {\n",
       "        text-align: right;\n",
       "    }\n",
       "</style>\n",
       "<table border=\"1\" class=\"dataframe\">\n",
       "  <thead>\n",
       "    <tr style=\"text-align: right;\">\n",
       "      <th></th>\n",
       "      <th>seller_id</th>\n",
       "      <th>numero_de_ordens</th>\n",
       "    </tr>\n",
       "  </thead>\n",
       "  <tbody>\n",
       "    <tr>\n",
       "      <th>0</th>\n",
       "      <td>0015a82c2db000af6aaaf3ae2ecb0532</td>\n",
       "      <td>3</td>\n",
       "    </tr>\n",
       "    <tr>\n",
       "      <th>1</th>\n",
       "      <td>001cca7ae9ae17fb1caed9dfb1094831</td>\n",
       "      <td>200</td>\n",
       "    </tr>\n",
       "    <tr>\n",
       "      <th>2</th>\n",
       "      <td>001e6ad469a905060d959994f1b41e4f</td>\n",
       "      <td>1</td>\n",
       "    </tr>\n",
       "    <tr>\n",
       "      <th>3</th>\n",
       "      <td>002100f778ceb8431b7a1020ff7ab48f</td>\n",
       "      <td>51</td>\n",
       "    </tr>\n",
       "    <tr>\n",
       "      <th>4</th>\n",
       "      <td>003554e2dce176b5555353e4f3555ac8</td>\n",
       "      <td>1</td>\n",
       "    </tr>\n",
       "    <tr>\n",
       "      <th>...</th>\n",
       "      <td>...</td>\n",
       "      <td>...</td>\n",
       "    </tr>\n",
       "    <tr>\n",
       "      <th>3089</th>\n",
       "      <td>ffcfefa19b08742c5d315f2791395ee5</td>\n",
       "      <td>1</td>\n",
       "    </tr>\n",
       "    <tr>\n",
       "      <th>3090</th>\n",
       "      <td>ffdd9f82b9a447f6f8d4b91554cc7dd3</td>\n",
       "      <td>18</td>\n",
       "    </tr>\n",
       "    <tr>\n",
       "      <th>3091</th>\n",
       "      <td>ffeee66ac5d5a62fe688b9d26f83f534</td>\n",
       "      <td>14</td>\n",
       "    </tr>\n",
       "    <tr>\n",
       "      <th>3092</th>\n",
       "      <td>fffd5413c0700ac820c7069d66d98c89</td>\n",
       "      <td>60</td>\n",
       "    </tr>\n",
       "    <tr>\n",
       "      <th>3093</th>\n",
       "      <td>ffff564a4f9085cd26170f4732393726</td>\n",
       "      <td>20</td>\n",
       "    </tr>\n",
       "  </tbody>\n",
       "</table>\n",
       "<p>3094 rows × 2 columns</p>\n",
       "</div>"
      ],
      "text/plain": [
       "                             seller_id  numero_de_ordens\n",
       "0     0015a82c2db000af6aaaf3ae2ecb0532                 3\n",
       "1     001cca7ae9ae17fb1caed9dfb1094831               200\n",
       "2     001e6ad469a905060d959994f1b41e4f                 1\n",
       "3     002100f778ceb8431b7a1020ff7ab48f                51\n",
       "4     003554e2dce176b5555353e4f3555ac8                 1\n",
       "...                                ...               ...\n",
       "3089  ffcfefa19b08742c5d315f2791395ee5                 1\n",
       "3090  ffdd9f82b9a447f6f8d4b91554cc7dd3                18\n",
       "3091  ffeee66ac5d5a62fe688b9d26f83f534                14\n",
       "3092  fffd5413c0700ac820c7069d66d98c89                60\n",
       "3093  ffff564a4f9085cd26170f4732393726                20\n",
       "\n",
       "[3094 rows x 2 columns]"
      ]
     },
     "execution_count": 44,
     "metadata": {},
     "output_type": "execute_result"
    }
   ],
   "source": [
    "query=\"\"\"\n",
    "\n",
    "SELECT\n",
    "    oi.seller_id,\n",
    "    COUNT( DISTINCT oi.order_id ) AS numero_de_ordens\n",
    "FROM order_items oi\n",
    "WHERE oi.price > 3.500\n",
    "GROUP BY oi.seller_id\n",
    "\n",
    "\"\"\"\n",
    "table=pd.read_sql_query(query,conn)\n",
    "table"
   ]
  },
  {
   "cell_type": "markdown",
   "id": "e12b62d5",
   "metadata": {},
   "source": [
    " ## Qual o número total de pedidos únicos, a data mínima e máxima de envio, o valor máximo, mínimo e médio do frete dos pedidos acima de R$ 1.100 por cada vendedor?"
   ]
  },
  {
   "cell_type": "code",
   "execution_count": 47,
   "id": "9f32e360",
   "metadata": {
    "ExecuteTime": {
     "end_time": "2022-07-29T08:20:59.222458Z",
     "start_time": "2022-07-29T08:20:59.123541Z"
    }
   },
   "outputs": [
    {
     "data": {
      "text/html": [
       "<div>\n",
       "<style scoped>\n",
       "    .dataframe tbody tr th:only-of-type {\n",
       "        vertical-align: middle;\n",
       "    }\n",
       "\n",
       "    .dataframe tbody tr th {\n",
       "        vertical-align: top;\n",
       "    }\n",
       "\n",
       "    .dataframe thead th {\n",
       "        text-align: right;\n",
       "    }\n",
       "</style>\n",
       "<table border=\"1\" class=\"dataframe\">\n",
       "  <thead>\n",
       "    <tr style=\"text-align: right;\">\n",
       "      <th></th>\n",
       "      <th>seller_id</th>\n",
       "      <th>data_minima</th>\n",
       "      <th>data_maxima</th>\n",
       "      <th>frete_minimo</th>\n",
       "      <th>frete_maximo</th>\n",
       "      <th>frete_medio</th>\n",
       "      <th>numero_de_ordens</th>\n",
       "    </tr>\n",
       "  </thead>\n",
       "  <tbody>\n",
       "    <tr>\n",
       "      <th>0</th>\n",
       "      <td>014c0679dd340a0e338872e7ec85666a</td>\n",
       "      <td>2018-02-08 13:49:36</td>\n",
       "      <td>2018-02-08 13:49:36</td>\n",
       "      <td>49.63</td>\n",
       "      <td>49.63</td>\n",
       "      <td>49.630000</td>\n",
       "      <td>1</td>\n",
       "    </tr>\n",
       "    <tr>\n",
       "      <th>1</th>\n",
       "      <td>02d35243ea2e497335cd0f076b45675d</td>\n",
       "      <td>2017-12-22 12:19:24</td>\n",
       "      <td>2017-12-22 12:19:24</td>\n",
       "      <td>97.32</td>\n",
       "      <td>97.32</td>\n",
       "      <td>97.320000</td>\n",
       "      <td>1</td>\n",
       "    </tr>\n",
       "    <tr>\n",
       "      <th>2</th>\n",
       "      <td>0307f7565ff85b299b6e5ef162b1b1a9</td>\n",
       "      <td>2017-03-06 12:05:26</td>\n",
       "      <td>2017-03-06 12:05:26</td>\n",
       "      <td>59.73</td>\n",
       "      <td>59.73</td>\n",
       "      <td>59.730000</td>\n",
       "      <td>1</td>\n",
       "    </tr>\n",
       "    <tr>\n",
       "      <th>3</th>\n",
       "      <td>039e6ad9dae79614493083e241147386</td>\n",
       "      <td>2018-04-09 11:49:03</td>\n",
       "      <td>2018-08-06 21:06:10</td>\n",
       "      <td>49.55</td>\n",
       "      <td>104.72</td>\n",
       "      <td>69.684000</td>\n",
       "      <td>5</td>\n",
       "    </tr>\n",
       "    <tr>\n",
       "      <th>4</th>\n",
       "      <td>04308b1ee57b6625f47df1d56f00eedf</td>\n",
       "      <td>2017-11-21 02:35:37</td>\n",
       "      <td>2018-07-24 21:50:27</td>\n",
       "      <td>24.55</td>\n",
       "      <td>70.29</td>\n",
       "      <td>39.393077</td>\n",
       "      <td>13</td>\n",
       "    </tr>\n",
       "    <tr>\n",
       "      <th>...</th>\n",
       "      <td>...</td>\n",
       "      <td>...</td>\n",
       "      <td>...</td>\n",
       "      <td>...</td>\n",
       "      <td>...</td>\n",
       "      <td>...</td>\n",
       "      <td>...</td>\n",
       "    </tr>\n",
       "    <tr>\n",
       "      <th>175</th>\n",
       "      <td>f9244d45189d3a3605499abddeade7d5</td>\n",
       "      <td>2017-04-14 07:54:19</td>\n",
       "      <td>2018-08-13 20:55:31</td>\n",
       "      <td>45.74</td>\n",
       "      <td>83.13</td>\n",
       "      <td>67.740000</td>\n",
       "      <td>3</td>\n",
       "    </tr>\n",
       "    <tr>\n",
       "      <th>176</th>\n",
       "      <td>fa1c13f2614d7b5c4749cbc52fecda94</td>\n",
       "      <td>2017-02-04 17:01:46</td>\n",
       "      <td>2018-05-10 16:13:33</td>\n",
       "      <td>15.96</td>\n",
       "      <td>27.75</td>\n",
       "      <td>20.512000</td>\n",
       "      <td>10</td>\n",
       "    </tr>\n",
       "    <tr>\n",
       "      <th>177</th>\n",
       "      <td>fbc14c0cf93505ef89f64665ffa4a7b5</td>\n",
       "      <td>2017-10-10 13:28:18</td>\n",
       "      <td>2018-08-08 19:35:19</td>\n",
       "      <td>25.64</td>\n",
       "      <td>70.70</td>\n",
       "      <td>42.885000</td>\n",
       "      <td>4</td>\n",
       "    </tr>\n",
       "    <tr>\n",
       "      <th>178</th>\n",
       "      <td>ff063b022a9a0aab91bad2c9088760b7</td>\n",
       "      <td>2018-08-22 16:30:44</td>\n",
       "      <td>2018-08-22 16:30:44</td>\n",
       "      <td>42.67</td>\n",
       "      <td>42.67</td>\n",
       "      <td>42.670000</td>\n",
       "      <td>1</td>\n",
       "    </tr>\n",
       "    <tr>\n",
       "      <th>179</th>\n",
       "      <td>ff69aa92bb6b1bf9b8b7a51c2ed9cf8b</td>\n",
       "      <td>2018-01-29 22:53:23</td>\n",
       "      <td>2018-06-14 16:19:31</td>\n",
       "      <td>37.26</td>\n",
       "      <td>254.55</td>\n",
       "      <td>128.230000</td>\n",
       "      <td>6</td>\n",
       "    </tr>\n",
       "  </tbody>\n",
       "</table>\n",
       "<p>180 rows × 7 columns</p>\n",
       "</div>"
      ],
      "text/plain": [
       "                            seller_id          data_minima  \\\n",
       "0    014c0679dd340a0e338872e7ec85666a  2018-02-08 13:49:36   \n",
       "1    02d35243ea2e497335cd0f076b45675d  2017-12-22 12:19:24   \n",
       "2    0307f7565ff85b299b6e5ef162b1b1a9  2017-03-06 12:05:26   \n",
       "3    039e6ad9dae79614493083e241147386  2018-04-09 11:49:03   \n",
       "4    04308b1ee57b6625f47df1d56f00eedf  2017-11-21 02:35:37   \n",
       "..                                ...                  ...   \n",
       "175  f9244d45189d3a3605499abddeade7d5  2017-04-14 07:54:19   \n",
       "176  fa1c13f2614d7b5c4749cbc52fecda94  2017-02-04 17:01:46   \n",
       "177  fbc14c0cf93505ef89f64665ffa4a7b5  2017-10-10 13:28:18   \n",
       "178  ff063b022a9a0aab91bad2c9088760b7  2018-08-22 16:30:44   \n",
       "179  ff69aa92bb6b1bf9b8b7a51c2ed9cf8b  2018-01-29 22:53:23   \n",
       "\n",
       "             data_maxima  frete_minimo  frete_maximo  frete_medio  \\\n",
       "0    2018-02-08 13:49:36         49.63         49.63    49.630000   \n",
       "1    2017-12-22 12:19:24         97.32         97.32    97.320000   \n",
       "2    2017-03-06 12:05:26         59.73         59.73    59.730000   \n",
       "3    2018-08-06 21:06:10         49.55        104.72    69.684000   \n",
       "4    2018-07-24 21:50:27         24.55         70.29    39.393077   \n",
       "..                   ...           ...           ...          ...   \n",
       "175  2018-08-13 20:55:31         45.74         83.13    67.740000   \n",
       "176  2018-05-10 16:13:33         15.96         27.75    20.512000   \n",
       "177  2018-08-08 19:35:19         25.64         70.70    42.885000   \n",
       "178  2018-08-22 16:30:44         42.67         42.67    42.670000   \n",
       "179  2018-06-14 16:19:31         37.26        254.55   128.230000   \n",
       "\n",
       "     numero_de_ordens  \n",
       "0                   1  \n",
       "1                   1  \n",
       "2                   1  \n",
       "3                   5  \n",
       "4                  13  \n",
       "..                ...  \n",
       "175                 3  \n",
       "176                10  \n",
       "177                 4  \n",
       "178                 1  \n",
       "179                 6  \n",
       "\n",
       "[180 rows x 7 columns]"
      ]
     },
     "execution_count": 47,
     "metadata": {},
     "output_type": "execute_result"
    }
   ],
   "source": [
    "query=\"\"\"\n",
    "\n",
    "SELECT\n",
    "    oi.seller_id,\n",
    "    MIN(oi.shipping_limit_date) as data_minima,\n",
    "    MAX(oi.shipping_limit_date) as data_maxima,\n",
    "    MIN(oi.freight_value) as frete_minimo,\n",
    "    MAX(oi.freight_value) as frete_maximo,\n",
    "    AVG(oi.freight_value) as frete_medio,\n",
    "    COUNT( DISTINCT oi.order_id ) AS numero_de_ordens\n",
    "FROM order_items oi\n",
    "WHERE oi.price > 1100\n",
    "GROUP BY oi.seller_id\n",
    "\n",
    "\"\"\"\n",
    "table=pd.read_sql_query(query,conn)\n",
    "table"
   ]
  },
  {
   "cell_type": "markdown",
   "id": "df24ff2f",
   "metadata": {},
   "source": [
    "##  Qual o valor médio, máximo e mínimo do preço de todos os pedidos de cada produto?"
   ]
  },
  {
   "cell_type": "code",
   "execution_count": 49,
   "id": "f70ae7e9",
   "metadata": {
    "ExecuteTime": {
     "end_time": "2022-07-29T08:26:04.322264Z",
     "start_time": "2022-07-29T08:26:03.831335Z"
    }
   },
   "outputs": [
    {
     "data": {
      "text/html": [
       "<div>\n",
       "<style scoped>\n",
       "    .dataframe tbody tr th:only-of-type {\n",
       "        vertical-align: middle;\n",
       "    }\n",
       "\n",
       "    .dataframe tbody tr th {\n",
       "        vertical-align: top;\n",
       "    }\n",
       "\n",
       "    .dataframe thead th {\n",
       "        text-align: right;\n",
       "    }\n",
       "</style>\n",
       "<table border=\"1\" class=\"dataframe\">\n",
       "  <thead>\n",
       "    <tr style=\"text-align: right;\">\n",
       "      <th></th>\n",
       "      <th>product_id</th>\n",
       "      <th>preco_min</th>\n",
       "      <th>preco_max</th>\n",
       "      <th>preco_medio</th>\n",
       "    </tr>\n",
       "  </thead>\n",
       "  <tbody>\n",
       "    <tr>\n",
       "      <th>0</th>\n",
       "      <td>00066f42aeeb9f3007548bb9d3f33c38</td>\n",
       "      <td>101.65</td>\n",
       "      <td>101.65</td>\n",
       "      <td>101.65</td>\n",
       "    </tr>\n",
       "    <tr>\n",
       "      <th>1</th>\n",
       "      <td>00088930e925c41fd95ebfe695fd2655</td>\n",
       "      <td>129.90</td>\n",
       "      <td>129.90</td>\n",
       "      <td>129.90</td>\n",
       "    </tr>\n",
       "    <tr>\n",
       "      <th>2</th>\n",
       "      <td>0009406fd7479715e4bef61dd91f2462</td>\n",
       "      <td>229.00</td>\n",
       "      <td>229.00</td>\n",
       "      <td>229.00</td>\n",
       "    </tr>\n",
       "    <tr>\n",
       "      <th>3</th>\n",
       "      <td>000b8f95fcb9e0096488278317764d19</td>\n",
       "      <td>58.90</td>\n",
       "      <td>58.90</td>\n",
       "      <td>58.90</td>\n",
       "    </tr>\n",
       "    <tr>\n",
       "      <th>4</th>\n",
       "      <td>000d9be29b5207b54e86aa1b1ac54872</td>\n",
       "      <td>199.00</td>\n",
       "      <td>199.00</td>\n",
       "      <td>199.00</td>\n",
       "    </tr>\n",
       "    <tr>\n",
       "      <th>...</th>\n",
       "      <td>...</td>\n",
       "      <td>...</td>\n",
       "      <td>...</td>\n",
       "      <td>...</td>\n",
       "    </tr>\n",
       "    <tr>\n",
       "      <th>32946</th>\n",
       "      <td>fff6177642830a9a94a0f2cba5e476d1</td>\n",
       "      <td>109.99</td>\n",
       "      <td>119.99</td>\n",
       "      <td>114.99</td>\n",
       "    </tr>\n",
       "    <tr>\n",
       "      <th>32947</th>\n",
       "      <td>fff81cc3158d2725c0655ab9ba0f712c</td>\n",
       "      <td>90.00</td>\n",
       "      <td>90.00</td>\n",
       "      <td>90.00</td>\n",
       "    </tr>\n",
       "    <tr>\n",
       "      <th>32948</th>\n",
       "      <td>fff9553ac224cec9d15d49f5a263411f</td>\n",
       "      <td>32.00</td>\n",
       "      <td>32.00</td>\n",
       "      <td>32.00</td>\n",
       "    </tr>\n",
       "    <tr>\n",
       "      <th>32949</th>\n",
       "      <td>fffdb2d0ec8d6a61f0a0a0db3f25b441</td>\n",
       "      <td>29.99</td>\n",
       "      <td>34.99</td>\n",
       "      <td>33.99</td>\n",
       "    </tr>\n",
       "    <tr>\n",
       "      <th>32950</th>\n",
       "      <td>fffe9eeff12fcbd74a2f2b007dde0c58</td>\n",
       "      <td>249.99</td>\n",
       "      <td>249.99</td>\n",
       "      <td>249.99</td>\n",
       "    </tr>\n",
       "  </tbody>\n",
       "</table>\n",
       "<p>32951 rows × 4 columns</p>\n",
       "</div>"
      ],
      "text/plain": [
       "                             product_id  preco_min  preco_max  preco_medio\n",
       "0      00066f42aeeb9f3007548bb9d3f33c38     101.65     101.65       101.65\n",
       "1      00088930e925c41fd95ebfe695fd2655     129.90     129.90       129.90\n",
       "2      0009406fd7479715e4bef61dd91f2462     229.00     229.00       229.00\n",
       "3      000b8f95fcb9e0096488278317764d19      58.90      58.90        58.90\n",
       "4      000d9be29b5207b54e86aa1b1ac54872     199.00     199.00       199.00\n",
       "...                                 ...        ...        ...          ...\n",
       "32946  fff6177642830a9a94a0f2cba5e476d1     109.99     119.99       114.99\n",
       "32947  fff81cc3158d2725c0655ab9ba0f712c      90.00      90.00        90.00\n",
       "32948  fff9553ac224cec9d15d49f5a263411f      32.00      32.00        32.00\n",
       "32949  fffdb2d0ec8d6a61f0a0a0db3f25b441      29.99      34.99        33.99\n",
       "32950  fffe9eeff12fcbd74a2f2b007dde0c58     249.99     249.99       249.99\n",
       "\n",
       "[32951 rows x 4 columns]"
      ]
     },
     "execution_count": 49,
     "metadata": {},
     "output_type": "execute_result"
    }
   ],
   "source": [
    "query=\"\"\"\n",
    "\n",
    "SELECT\n",
    "    oi.product_id,\n",
    "    MIN(oi.price) as preco_min,\n",
    "    MAX(oi.price) as preco_max,\n",
    "    AVG(oi.price) as preco_medio\n",
    "FROM order_items oi\n",
    "GROUP BY oi.product_id\n",
    "\n",
    "\"\"\"\n",
    "table=pd.read_sql_query(query,conn)\n",
    "table"
   ]
  },
  {
   "cell_type": "markdown",
   "id": "9d4c852d",
   "metadata": {
    "run_control": {
     "marked": true
    }
   },
   "source": [
    "## Qual a quantidade de vendedores distintos que receberam algum pedido antes do dia 23 de setembro de 2016 e qual foi o preço médio desses pedidos?"
   ]
  },
  {
   "cell_type": "code",
   "execution_count": 58,
   "id": "26b5e88d",
   "metadata": {
    "ExecuteTime": {
     "end_time": "2022-07-29T08:44:45.617579Z",
     "start_time": "2022-07-29T08:44:45.518323Z"
    }
   },
   "outputs": [
    {
     "data": {
      "text/html": [
       "<div>\n",
       "<style scoped>\n",
       "    .dataframe tbody tr th:only-of-type {\n",
       "        vertical-align: middle;\n",
       "    }\n",
       "\n",
       "    .dataframe tbody tr th {\n",
       "        vertical-align: top;\n",
       "    }\n",
       "\n",
       "    .dataframe thead th {\n",
       "        text-align: right;\n",
       "    }\n",
       "</style>\n",
       "<table border=\"1\" class=\"dataframe\">\n",
       "  <thead>\n",
       "    <tr style=\"text-align: right;\">\n",
       "      <th></th>\n",
       "      <th>shipping_limit_date</th>\n",
       "      <th>vendedores_distintos</th>\n",
       "      <th>preco_medio</th>\n",
       "    </tr>\n",
       "  </thead>\n",
       "  <tbody>\n",
       "    <tr>\n",
       "      <th>0</th>\n",
       "      <td>2016-09-19 23:11:33</td>\n",
       "      <td>2</td>\n",
       "      <td>48.6175</td>\n",
       "    </tr>\n",
       "  </tbody>\n",
       "</table>\n",
       "</div>"
      ],
      "text/plain": [
       "   shipping_limit_date  vendedores_distintos  preco_medio\n",
       "0  2016-09-19 23:11:33                     2      48.6175"
      ]
     },
     "execution_count": 58,
     "metadata": {},
     "output_type": "execute_result"
    }
   ],
   "source": [
    "query=\"\"\"\n",
    "\n",
    "SELECT\n",
    "    oi.shipping_limit_date,\n",
    "    COUNT( DISTINCT oi.seller_id ) AS vendedores_distintos,\n",
    "    AVG (price) as preco_medio\n",
    "\n",
    "FROM order_items oi\n",
    "WHERE oi.shipping_limit_date < '2016-09-23'\n",
    "\n",
    "\"\"\"\n",
    "table=pd.read_sql_query(query,conn)\n",
    "table"
   ]
  },
  {
   "cell_type": "code",
   "execution_count": 59,
   "id": "6529ded4",
   "metadata": {
    "ExecuteTime": {
     "end_time": "2022-07-29T08:44:46.966135Z",
     "start_time": "2022-07-29T08:44:46.878799Z"
    },
    "scrolled": true
   },
   "outputs": [
    {
     "data": {
      "text/html": [
       "<div>\n",
       "<style scoped>\n",
       "    .dataframe tbody tr th:only-of-type {\n",
       "        vertical-align: middle;\n",
       "    }\n",
       "\n",
       "    .dataframe tbody tr th {\n",
       "        vertical-align: top;\n",
       "    }\n",
       "\n",
       "    .dataframe thead th {\n",
       "        text-align: right;\n",
       "    }\n",
       "</style>\n",
       "<table border=\"1\" class=\"dataframe\">\n",
       "  <thead>\n",
       "    <tr style=\"text-align: right;\">\n",
       "      <th></th>\n",
       "      <th>shipping_limit_date</th>\n",
       "      <th>vendedores_distintos</th>\n",
       "      <th>preco_medio</th>\n",
       "    </tr>\n",
       "  </thead>\n",
       "  <tbody>\n",
       "    <tr>\n",
       "      <th>0</th>\n",
       "      <td>2016-09-19 00:15:34</td>\n",
       "      <td>1</td>\n",
       "      <td>59.50</td>\n",
       "    </tr>\n",
       "    <tr>\n",
       "      <th>1</th>\n",
       "      <td>2016-09-19 23:11:33</td>\n",
       "      <td>1</td>\n",
       "      <td>44.99</td>\n",
       "    </tr>\n",
       "  </tbody>\n",
       "</table>\n",
       "</div>"
      ],
      "text/plain": [
       "   shipping_limit_date  vendedores_distintos  preco_medio\n",
       "0  2016-09-19 00:15:34                     1        59.50\n",
       "1  2016-09-19 23:11:33                     1        44.99"
      ]
     },
     "execution_count": 59,
     "metadata": {},
     "output_type": "execute_result"
    }
   ],
   "source": [
    "query=\"\"\"\n",
    "\n",
    "SELECT\n",
    "    oi.shipping_limit_date,\n",
    "    COUNT( DISTINCT oi.seller_id ) AS vendedores_distintos,\n",
    "    AVG (price) as preco_medio\n",
    "\n",
    "FROM order_items oi\n",
    "WHERE oi.shipping_limit_date < '2016-09-23'\n",
    "GROUP by oi.shipping_limit_date\n",
    "\n",
    "\"\"\"\n",
    "table=pd.read_sql_query(query,conn)\n",
    "table"
   ]
  },
  {
   "cell_type": "markdown",
   "id": "395873c9",
   "metadata": {},
   "source": [
    "## salta"
   ]
  },
  {
   "cell_type": "markdown",
   "id": "860ae64a",
   "metadata": {
    "run_control": {
     "marked": true
    }
   },
   "source": [
    "## Qual a quantidade de pedidos por tipo de pagamentos?"
   ]
  },
  {
   "cell_type": "code",
   "execution_count": 62,
   "id": "d39f55e9",
   "metadata": {
    "ExecuteTime": {
     "end_time": "2022-07-29T08:48:25.941862Z",
     "start_time": "2022-07-29T08:48:25.628663Z"
    },
    "scrolled": true
   },
   "outputs": [
    {
     "data": {
      "text/html": [
       "<div>\n",
       "<style scoped>\n",
       "    .dataframe tbody tr th:only-of-type {\n",
       "        vertical-align: middle;\n",
       "    }\n",
       "\n",
       "    .dataframe tbody tr th {\n",
       "        vertical-align: top;\n",
       "    }\n",
       "\n",
       "    .dataframe thead th {\n",
       "        text-align: right;\n",
       "    }\n",
       "</style>\n",
       "<table border=\"1\" class=\"dataframe\">\n",
       "  <thead>\n",
       "    <tr style=\"text-align: right;\">\n",
       "      <th></th>\n",
       "      <th>payment_type</th>\n",
       "      <th>pedidos</th>\n",
       "    </tr>\n",
       "  </thead>\n",
       "  <tbody>\n",
       "    <tr>\n",
       "      <th>0</th>\n",
       "      <td>boleto</td>\n",
       "      <td>79136</td>\n",
       "    </tr>\n",
       "    <tr>\n",
       "      <th>1</th>\n",
       "      <td>credit_card</td>\n",
       "      <td>307180</td>\n",
       "    </tr>\n",
       "    <tr>\n",
       "      <th>2</th>\n",
       "      <td>debit_card</td>\n",
       "      <td>6116</td>\n",
       "    </tr>\n",
       "    <tr>\n",
       "      <th>3</th>\n",
       "      <td>not_defined</td>\n",
       "      <td>12</td>\n",
       "    </tr>\n",
       "    <tr>\n",
       "      <th>4</th>\n",
       "      <td>voucher</td>\n",
       "      <td>23100</td>\n",
       "    </tr>\n",
       "  </tbody>\n",
       "</table>\n",
       "</div>"
      ],
      "text/plain": [
       "  payment_type  pedidos\n",
       "0       boleto    79136\n",
       "1  credit_card   307180\n",
       "2   debit_card     6116\n",
       "3  not_defined       12\n",
       "4      voucher    23100"
      ]
     },
     "execution_count": 62,
     "metadata": {},
     "output_type": "execute_result"
    }
   ],
   "source": [
    "query=\"\"\"\n",
    "\n",
    "SELECT\n",
    "    op.payment_type,\n",
    "    COUNT( op.order_id ) AS pedidos\n",
    "FROM order_payments op\n",
    "GROUP by op.payment_type\n",
    "\n",
    "\"\"\"\n",
    "table=pd.read_sql_query(query,conn)\n",
    "table"
   ]
  },
  {
   "cell_type": "markdown",
   "id": "a738efb3",
   "metadata": {},
   "source": [
    "## Qual a quantidade de pedidos, a média do valor do pagamento e o número máximo de parcelas por tipo de pagamentos?\n"
   ]
  },
  {
   "cell_type": "code",
   "execution_count": 65,
   "id": "bd2e2e21",
   "metadata": {
    "ExecuteTime": {
     "end_time": "2022-07-29T08:51:50.874777Z",
     "start_time": "2022-07-29T08:51:50.478836Z"
    }
   },
   "outputs": [
    {
     "data": {
      "text/html": [
       "<div>\n",
       "<style scoped>\n",
       "    .dataframe tbody tr th:only-of-type {\n",
       "        vertical-align: middle;\n",
       "    }\n",
       "\n",
       "    .dataframe tbody tr th {\n",
       "        vertical-align: top;\n",
       "    }\n",
       "\n",
       "    .dataframe thead th {\n",
       "        text-align: right;\n",
       "    }\n",
       "</style>\n",
       "<table border=\"1\" class=\"dataframe\">\n",
       "  <thead>\n",
       "    <tr style=\"text-align: right;\">\n",
       "      <th></th>\n",
       "      <th>payment_type</th>\n",
       "      <th>qtd_pedidos</th>\n",
       "      <th>media_pagamentos</th>\n",
       "      <th>max_parcelas</th>\n",
       "    </tr>\n",
       "  </thead>\n",
       "  <tbody>\n",
       "    <tr>\n",
       "      <th>0</th>\n",
       "      <td>boleto</td>\n",
       "      <td>79136</td>\n",
       "      <td>145.034435</td>\n",
       "      <td>1</td>\n",
       "    </tr>\n",
       "    <tr>\n",
       "      <th>1</th>\n",
       "      <td>credit_card</td>\n",
       "      <td>307180</td>\n",
       "      <td>163.319021</td>\n",
       "      <td>24</td>\n",
       "    </tr>\n",
       "    <tr>\n",
       "      <th>2</th>\n",
       "      <td>debit_card</td>\n",
       "      <td>6116</td>\n",
       "      <td>142.570170</td>\n",
       "      <td>1</td>\n",
       "    </tr>\n",
       "    <tr>\n",
       "      <th>3</th>\n",
       "      <td>not_defined</td>\n",
       "      <td>12</td>\n",
       "      <td>0.000000</td>\n",
       "      <td>1</td>\n",
       "    </tr>\n",
       "    <tr>\n",
       "      <th>4</th>\n",
       "      <td>voucher</td>\n",
       "      <td>23100</td>\n",
       "      <td>65.703354</td>\n",
       "      <td>1</td>\n",
       "    </tr>\n",
       "  </tbody>\n",
       "</table>\n",
       "</div>"
      ],
      "text/plain": [
       "  payment_type  qtd_pedidos  media_pagamentos  max_parcelas\n",
       "0       boleto        79136        145.034435             1\n",
       "1  credit_card       307180        163.319021            24\n",
       "2   debit_card         6116        142.570170             1\n",
       "3  not_defined           12          0.000000             1\n",
       "4      voucher        23100         65.703354             1"
      ]
     },
     "execution_count": 65,
     "metadata": {},
     "output_type": "execute_result"
    }
   ],
   "source": [
    "query=\"\"\"\n",
    "\n",
    "SELECT\n",
    "    op.payment_type,\n",
    "    COUNT( op.order_id ) AS qtd_pedidos,\n",
    "    AVG(op.payment_value) AS media_pagamentos,\n",
    "    MAX(op.payment_installments) AS max_parcelas\n",
    "FROM order_payments op\n",
    "GROUP by op.payment_type\n",
    "\n",
    "\"\"\"\n",
    "table=pd.read_sql_query(query,conn)\n",
    "table"
   ]
  },
  {
   "cell_type": "markdown",
   "id": "654f19f4",
   "metadata": {},
   "source": [
    "## Qual a valor mínimo, máximo, médio e as soma total paga por cada tipo de pagamento e número de parcelas disponíveis?"
   ]
  },
  {
   "cell_type": "code",
   "execution_count": 63,
   "id": "7076f960",
   "metadata": {
    "ExecuteTime": {
     "end_time": "2022-07-29T08:49:23.013653Z",
     "start_time": "2022-07-29T08:49:22.995701Z"
    }
   },
   "outputs": [
    {
     "ename": "SyntaxError",
     "evalue": "invalid syntax (4140862015.py, line 1)",
     "output_type": "error",
     "traceback": [
      "\u001b[1;36m  Input \u001b[1;32mIn [63]\u001b[1;36m\u001b[0m\n\u001b[1;33m    CREATE TABLE order_payments(\u001b[0m\n\u001b[1;37m           ^\u001b[0m\n\u001b[1;31mSyntaxError\u001b[0m\u001b[1;31m:\u001b[0m invalid syntax\n"
     ]
    }
   ],
   "source": [
    "CREATE TABLE order_payments(\n",
    "\n",
    "    order_id                  TEXT,\n",
    "    payment_sequential        INTERGER,\n",
    "    payment_type              TEXT,\n",
    "    payment_installments      INTERGER,\n",
    "    payment_value             REAL\n",
    "\n",
    ")\n",
    "\n",
    "\"\"\""
   ]
  },
  {
   "cell_type": "code",
   "execution_count": 71,
   "id": "ccaebb3d",
   "metadata": {
    "ExecuteTime": {
     "end_time": "2022-07-29T08:58:30.291248Z",
     "start_time": "2022-07-29T08:58:29.695962Z"
    }
   },
   "outputs": [
    {
     "data": {
      "text/html": [
       "<div>\n",
       "<style scoped>\n",
       "    .dataframe tbody tr th:only-of-type {\n",
       "        vertical-align: middle;\n",
       "    }\n",
       "\n",
       "    .dataframe tbody tr th {\n",
       "        vertical-align: top;\n",
       "    }\n",
       "\n",
       "    .dataframe thead th {\n",
       "        text-align: right;\n",
       "    }\n",
       "</style>\n",
       "<table border=\"1\" class=\"dataframe\">\n",
       "  <thead>\n",
       "    <tr style=\"text-align: right;\">\n",
       "      <th></th>\n",
       "      <th>payment_type</th>\n",
       "      <th>parcelas</th>\n",
       "      <th>min_pagamentos</th>\n",
       "      <th>max_pagamentos</th>\n",
       "      <th>media_pagamentos</th>\n",
       "      <th>soma_pagamentos</th>\n",
       "    </tr>\n",
       "  </thead>\n",
       "  <tbody>\n",
       "    <tr>\n",
       "      <th>0</th>\n",
       "      <td>boleto</td>\n",
       "      <td>1</td>\n",
       "      <td>11.62</td>\n",
       "      <td>7274.88</td>\n",
       "      <td>145.034435</td>\n",
       "      <td>1.147745e+07</td>\n",
       "    </tr>\n",
       "    <tr>\n",
       "      <th>1</th>\n",
       "      <td>credit_card</td>\n",
       "      <td>0</td>\n",
       "      <td>58.69</td>\n",
       "      <td>129.94</td>\n",
       "      <td>94.315000</td>\n",
       "      <td>7.545200e+02</td>\n",
       "    </tr>\n",
       "    <tr>\n",
       "      <th>2</th>\n",
       "      <td>credit_card</td>\n",
       "      <td>1</td>\n",
       "      <td>0.01</td>\n",
       "      <td>13664.08</td>\n",
       "      <td>95.872930</td>\n",
       "      <td>9.761782e+06</td>\n",
       "    </tr>\n",
       "    <tr>\n",
       "      <th>3</th>\n",
       "      <td>credit_card</td>\n",
       "      <td>2</td>\n",
       "      <td>20.03</td>\n",
       "      <td>2442.82</td>\n",
       "      <td>127.228150</td>\n",
       "      <td>6.317132e+06</td>\n",
       "    </tr>\n",
       "    <tr>\n",
       "      <th>4</th>\n",
       "      <td>credit_card</td>\n",
       "      <td>3</td>\n",
       "      <td>30.00</td>\n",
       "      <td>3256.14</td>\n",
       "      <td>142.539317</td>\n",
       "      <td>5.964415e+06</td>\n",
       "    </tr>\n",
       "    <tr>\n",
       "      <th>5</th>\n",
       "      <td>credit_card</td>\n",
       "      <td>4</td>\n",
       "      <td>40.00</td>\n",
       "      <td>3126.50</td>\n",
       "      <td>163.976840</td>\n",
       "      <td>4.655630e+06</td>\n",
       "    </tr>\n",
       "    <tr>\n",
       "      <th>6</th>\n",
       "      <td>credit_card</td>\n",
       "      <td>5</td>\n",
       "      <td>49.99</td>\n",
       "      <td>4809.44</td>\n",
       "      <td>183.465222</td>\n",
       "      <td>3.844697e+06</td>\n",
       "    </tr>\n",
       "    <tr>\n",
       "      <th>7</th>\n",
       "      <td>credit_card</td>\n",
       "      <td>6</td>\n",
       "      <td>59.99</td>\n",
       "      <td>2828.42</td>\n",
       "      <td>209.849952</td>\n",
       "      <td>3.290447e+06</td>\n",
       "    </tr>\n",
       "    <tr>\n",
       "      <th>8</th>\n",
       "      <td>credit_card</td>\n",
       "      <td>7</td>\n",
       "      <td>69.97</td>\n",
       "      <td>2094.44</td>\n",
       "      <td>187.673672</td>\n",
       "      <td>1.220630e+06</td>\n",
       "    </tr>\n",
       "    <tr>\n",
       "      <th>9</th>\n",
       "      <td>credit_card</td>\n",
       "      <td>8</td>\n",
       "      <td>37.58</td>\n",
       "      <td>6929.31</td>\n",
       "      <td>307.737427</td>\n",
       "      <td>5.253693e+06</td>\n",
       "    </tr>\n",
       "    <tr>\n",
       "      <th>10</th>\n",
       "      <td>credit_card</td>\n",
       "      <td>9</td>\n",
       "      <td>90.11</td>\n",
       "      <td>2116.01</td>\n",
       "      <td>203.440870</td>\n",
       "      <td>5.240637e+05</td>\n",
       "    </tr>\n",
       "    <tr>\n",
       "      <th>11</th>\n",
       "      <td>credit_card</td>\n",
       "      <td>10</td>\n",
       "      <td>37.67</td>\n",
       "      <td>4950.34</td>\n",
       "      <td>415.085837</td>\n",
       "      <td>8.846309e+06</td>\n",
       "    </tr>\n",
       "    <tr>\n",
       "      <th>12</th>\n",
       "      <td>credit_card</td>\n",
       "      <td>11</td>\n",
       "      <td>110.30</td>\n",
       "      <td>198.83</td>\n",
       "      <td>124.932174</td>\n",
       "      <td>1.149376e+04</td>\n",
       "    </tr>\n",
       "    <tr>\n",
       "      <th>13</th>\n",
       "      <td>credit_card</td>\n",
       "      <td>12</td>\n",
       "      <td>121.09</td>\n",
       "      <td>1543.25</td>\n",
       "      <td>321.678496</td>\n",
       "      <td>1.711330e+05</td>\n",
       "    </tr>\n",
       "    <tr>\n",
       "      <th>14</th>\n",
       "      <td>credit_card</td>\n",
       "      <td>13</td>\n",
       "      <td>130.00</td>\n",
       "      <td>278.00</td>\n",
       "      <td>150.462500</td>\n",
       "      <td>9.629600e+03</td>\n",
       "    </tr>\n",
       "    <tr>\n",
       "      <th>15</th>\n",
       "      <td>credit_card</td>\n",
       "      <td>14</td>\n",
       "      <td>139.98</td>\n",
       "      <td>417.45</td>\n",
       "      <td>167.962667</td>\n",
       "      <td>1.007776e+04</td>\n",
       "    </tr>\n",
       "    <tr>\n",
       "      <th>16</th>\n",
       "      <td>credit_card</td>\n",
       "      <td>15</td>\n",
       "      <td>151.93</td>\n",
       "      <td>2647.76</td>\n",
       "      <td>445.553108</td>\n",
       "      <td>1.318837e+05</td>\n",
       "    </tr>\n",
       "    <tr>\n",
       "      <th>17</th>\n",
       "      <td>credit_card</td>\n",
       "      <td>16</td>\n",
       "      <td>160.12</td>\n",
       "      <td>651.05</td>\n",
       "      <td>292.694000</td>\n",
       "      <td>5.853880e+03</td>\n",
       "    </tr>\n",
       "    <tr>\n",
       "      <th>18</th>\n",
       "      <td>credit_card</td>\n",
       "      <td>17</td>\n",
       "      <td>170.00</td>\n",
       "      <td>177.99</td>\n",
       "      <td>174.602500</td>\n",
       "      <td>5.587280e+03</td>\n",
       "    </tr>\n",
       "    <tr>\n",
       "      <th>19</th>\n",
       "      <td>credit_card</td>\n",
       "      <td>18</td>\n",
       "      <td>180.76</td>\n",
       "      <td>1232.85</td>\n",
       "      <td>486.483333</td>\n",
       "      <td>5.254020e+04</td>\n",
       "    </tr>\n",
       "    <tr>\n",
       "      <th>20</th>\n",
       "      <td>credit_card</td>\n",
       "      <td>20</td>\n",
       "      <td>200.08</td>\n",
       "      <td>2022.33</td>\n",
       "      <td>615.801765</td>\n",
       "      <td>4.187452e+04</td>\n",
       "    </tr>\n",
       "    <tr>\n",
       "      <th>21</th>\n",
       "      <td>credit_card</td>\n",
       "      <td>21</td>\n",
       "      <td>212.03</td>\n",
       "      <td>303.02</td>\n",
       "      <td>243.700000</td>\n",
       "      <td>2.924400e+03</td>\n",
       "    </tr>\n",
       "    <tr>\n",
       "      <th>22</th>\n",
       "      <td>credit_card</td>\n",
       "      <td>22</td>\n",
       "      <td>228.71</td>\n",
       "      <td>228.71</td>\n",
       "      <td>228.710000</td>\n",
       "      <td>9.148400e+02</td>\n",
       "    </tr>\n",
       "    <tr>\n",
       "      <th>23</th>\n",
       "      <td>credit_card</td>\n",
       "      <td>23</td>\n",
       "      <td>236.48</td>\n",
       "      <td>236.48</td>\n",
       "      <td>236.480000</td>\n",
       "      <td>9.459200e+02</td>\n",
       "    </tr>\n",
       "    <tr>\n",
       "      <th>24</th>\n",
       "      <td>credit_card</td>\n",
       "      <td>24</td>\n",
       "      <td>241.42</td>\n",
       "      <td>1440.10</td>\n",
       "      <td>610.048889</td>\n",
       "      <td>4.392352e+04</td>\n",
       "    </tr>\n",
       "    <tr>\n",
       "      <th>25</th>\n",
       "      <td>debit_card</td>\n",
       "      <td>1</td>\n",
       "      <td>13.38</td>\n",
       "      <td>4445.50</td>\n",
       "      <td>142.570170</td>\n",
       "      <td>8.719592e+05</td>\n",
       "    </tr>\n",
       "    <tr>\n",
       "      <th>26</th>\n",
       "      <td>not_defined</td>\n",
       "      <td>1</td>\n",
       "      <td>0.00</td>\n",
       "      <td>0.00</td>\n",
       "      <td>0.000000</td>\n",
       "      <td>0.000000e+00</td>\n",
       "    </tr>\n",
       "    <tr>\n",
       "      <th>27</th>\n",
       "      <td>voucher</td>\n",
       "      <td>1</td>\n",
       "      <td>0.00</td>\n",
       "      <td>3184.34</td>\n",
       "      <td>65.703354</td>\n",
       "      <td>1.517747e+06</td>\n",
       "    </tr>\n",
       "  </tbody>\n",
       "</table>\n",
       "</div>"
      ],
      "text/plain": [
       "   payment_type  parcelas  min_pagamentos  max_pagamentos  media_pagamentos  \\\n",
       "0        boleto         1           11.62         7274.88        145.034435   \n",
       "1   credit_card         0           58.69          129.94         94.315000   \n",
       "2   credit_card         1            0.01        13664.08         95.872930   \n",
       "3   credit_card         2           20.03         2442.82        127.228150   \n",
       "4   credit_card         3           30.00         3256.14        142.539317   \n",
       "5   credit_card         4           40.00         3126.50        163.976840   \n",
       "6   credit_card         5           49.99         4809.44        183.465222   \n",
       "7   credit_card         6           59.99         2828.42        209.849952   \n",
       "8   credit_card         7           69.97         2094.44        187.673672   \n",
       "9   credit_card         8           37.58         6929.31        307.737427   \n",
       "10  credit_card         9           90.11         2116.01        203.440870   \n",
       "11  credit_card        10           37.67         4950.34        415.085837   \n",
       "12  credit_card        11          110.30          198.83        124.932174   \n",
       "13  credit_card        12          121.09         1543.25        321.678496   \n",
       "14  credit_card        13          130.00          278.00        150.462500   \n",
       "15  credit_card        14          139.98          417.45        167.962667   \n",
       "16  credit_card        15          151.93         2647.76        445.553108   \n",
       "17  credit_card        16          160.12          651.05        292.694000   \n",
       "18  credit_card        17          170.00          177.99        174.602500   \n",
       "19  credit_card        18          180.76         1232.85        486.483333   \n",
       "20  credit_card        20          200.08         2022.33        615.801765   \n",
       "21  credit_card        21          212.03          303.02        243.700000   \n",
       "22  credit_card        22          228.71          228.71        228.710000   \n",
       "23  credit_card        23          236.48          236.48        236.480000   \n",
       "24  credit_card        24          241.42         1440.10        610.048889   \n",
       "25   debit_card         1           13.38         4445.50        142.570170   \n",
       "26  not_defined         1            0.00            0.00          0.000000   \n",
       "27      voucher         1            0.00         3184.34         65.703354   \n",
       "\n",
       "    soma_pagamentos  \n",
       "0      1.147745e+07  \n",
       "1      7.545200e+02  \n",
       "2      9.761782e+06  \n",
       "3      6.317132e+06  \n",
       "4      5.964415e+06  \n",
       "5      4.655630e+06  \n",
       "6      3.844697e+06  \n",
       "7      3.290447e+06  \n",
       "8      1.220630e+06  \n",
       "9      5.253693e+06  \n",
       "10     5.240637e+05  \n",
       "11     8.846309e+06  \n",
       "12     1.149376e+04  \n",
       "13     1.711330e+05  \n",
       "14     9.629600e+03  \n",
       "15     1.007776e+04  \n",
       "16     1.318837e+05  \n",
       "17     5.853880e+03  \n",
       "18     5.587280e+03  \n",
       "19     5.254020e+04  \n",
       "20     4.187452e+04  \n",
       "21     2.924400e+03  \n",
       "22     9.148400e+02  \n",
       "23     9.459200e+02  \n",
       "24     4.392352e+04  \n",
       "25     8.719592e+05  \n",
       "26     0.000000e+00  \n",
       "27     1.517747e+06  "
      ]
     },
     "execution_count": 71,
     "metadata": {},
     "output_type": "execute_result"
    }
   ],
   "source": [
    "query=\"\"\"\n",
    "\n",
    "SELECT\n",
    "    op.payment_type,\n",
    "    op.payment_installments AS parcelas,\n",
    "    MIN(op.payment_value) AS min_pagamentos,\n",
    "    MAX(op.payment_value) AS max_pagamentos,\n",
    "    AVG(op.payment_value) AS media_pagamentos,\n",
    "    SUM(op.payment_value) AS soma_pagamentos\n",
    "FROM order_payments op\n",
    "GROUP by op.payment_type, payment_installments\n",
    "\n",
    "\"\"\"\n",
    "table=pd.read_sql_query(query,conn)\n",
    "table"
   ]
  },
  {
   "cell_type": "markdown",
   "id": "611d26bd",
   "metadata": {},
   "source": [
    "## salta "
   ]
  },
  {
   "cell_type": "markdown",
   "id": "a3e0a407",
   "metadata": {},
   "source": [
    "## Qual a média de pedidos por cliente?"
   ]
  },
  {
   "cell_type": "code",
   "execution_count": 74,
   "id": "bd7c3c94",
   "metadata": {
    "ExecuteTime": {
     "end_time": "2022-07-29T09:03:36.101924Z",
     "start_time": "2022-07-29T09:03:35.699702Z"
    }
   },
   "outputs": [
    {
     "data": {
      "text/html": [
       "<div>\n",
       "<style scoped>\n",
       "    .dataframe tbody tr th:only-of-type {\n",
       "        vertical-align: middle;\n",
       "    }\n",
       "\n",
       "    .dataframe tbody tr th {\n",
       "        vertical-align: top;\n",
       "    }\n",
       "\n",
       "    .dataframe thead th {\n",
       "        text-align: right;\n",
       "    }\n",
       "</style>\n",
       "<table border=\"1\" class=\"dataframe\">\n",
       "  <thead>\n",
       "    <tr style=\"text-align: right;\">\n",
       "      <th></th>\n",
       "      <th>customer_id</th>\n",
       "      <th>media_pedidos</th>\n",
       "    </tr>\n",
       "  </thead>\n",
       "  <tbody>\n",
       "    <tr>\n",
       "      <th>0</th>\n",
       "      <td>00012a2ce6f8dcda20d059ce98491703</td>\n",
       "      <td>5.0</td>\n",
       "    </tr>\n",
       "    <tr>\n",
       "      <th>1</th>\n",
       "      <td>000161a058600d5901f007fab4c27140</td>\n",
       "      <td>0.0</td>\n",
       "    </tr>\n",
       "    <tr>\n",
       "      <th>2</th>\n",
       "      <td>0001fd6190edaaf884bcaf3d49edf079</td>\n",
       "      <td>316.0</td>\n",
       "    </tr>\n",
       "    <tr>\n",
       "      <th>3</th>\n",
       "      <td>0002414f95344307404f0ace7a26f1d5</td>\n",
       "      <td>5825.0</td>\n",
       "    </tr>\n",
       "    <tr>\n",
       "      <th>4</th>\n",
       "      <td>000379cdec625522490c315e70c7a9fb</td>\n",
       "      <td>0.0</td>\n",
       "    </tr>\n",
       "    <tr>\n",
       "      <th>...</th>\n",
       "      <td>...</td>\n",
       "      <td>...</td>\n",
       "    </tr>\n",
       "    <tr>\n",
       "      <th>99436</th>\n",
       "      <td>fffecc9f79fd8c764f843e9951b11341</td>\n",
       "      <td>814.0</td>\n",
       "    </tr>\n",
       "    <tr>\n",
       "      <th>99437</th>\n",
       "      <td>fffeda5b6d849fbd39689bb92087f431</td>\n",
       "      <td>8.0</td>\n",
       "    </tr>\n",
       "    <tr>\n",
       "      <th>99438</th>\n",
       "      <td>ffff42319e9b2d713724ae527742af25</td>\n",
       "      <td>83.0</td>\n",
       "    </tr>\n",
       "    <tr>\n",
       "      <th>99439</th>\n",
       "      <td>ffffa3172527f765de70084a7e53aae8</td>\n",
       "      <td>0.0</td>\n",
       "    </tr>\n",
       "    <tr>\n",
       "      <th>99440</th>\n",
       "      <td>ffffe8b65bbe3087b653a978c870db99</td>\n",
       "      <td>inf</td>\n",
       "    </tr>\n",
       "  </tbody>\n",
       "</table>\n",
       "<p>99441 rows × 2 columns</p>\n",
       "</div>"
      ],
      "text/plain": [
       "                            customer_id  media_pedidos\n",
       "0      00012a2ce6f8dcda20d059ce98491703            5.0\n",
       "1      000161a058600d5901f007fab4c27140            0.0\n",
       "2      0001fd6190edaaf884bcaf3d49edf079          316.0\n",
       "3      0002414f95344307404f0ace7a26f1d5         5825.0\n",
       "4      000379cdec625522490c315e70c7a9fb            0.0\n",
       "...                                 ...            ...\n",
       "99436  fffecc9f79fd8c764f843e9951b11341          814.0\n",
       "99437  fffeda5b6d849fbd39689bb92087f431            8.0\n",
       "99438  ffff42319e9b2d713724ae527742af25           83.0\n",
       "99439  ffffa3172527f765de70084a7e53aae8            0.0\n",
       "99440  ffffe8b65bbe3087b653a978c870db99            inf\n",
       "\n",
       "[99441 rows x 2 columns]"
      ]
     },
     "execution_count": 74,
     "metadata": {},
     "output_type": "execute_result"
    }
   ],
   "source": [
    "query=\"\"\"\n",
    "\n",
    "SELECT\n",
    "    o.customer_id,\n",
    "    AVG(o.order_id) AS media_pedidos\n",
    "FROM orders o\n",
    "GROUP BY o.customer_id\n",
    "\n",
    "\"\"\"\n",
    "table=pd.read_sql_query(query,conn)\n",
    "table"
   ]
  },
  {
   "cell_type": "markdown",
   "id": "b0a16999",
   "metadata": {},
   "source": [
    "## Qual a quantidade de pedidos realizados por cada status do pedido, a partir do dia 23 de Setembro de 2016?"
   ]
  },
  {
   "cell_type": "code",
   "execution_count": 77,
   "id": "79f9d0af",
   "metadata": {
    "ExecuteTime": {
     "end_time": "2022-07-29T09:07:41.273991Z",
     "start_time": "2022-07-29T09:07:41.166716Z"
    },
    "scrolled": true
   },
   "outputs": [
    {
     "data": {
      "text/html": [
       "<div>\n",
       "<style scoped>\n",
       "    .dataframe tbody tr th:only-of-type {\n",
       "        vertical-align: middle;\n",
       "    }\n",
       "\n",
       "    .dataframe tbody tr th {\n",
       "        vertical-align: top;\n",
       "    }\n",
       "\n",
       "    .dataframe thead th {\n",
       "        text-align: right;\n",
       "    }\n",
       "</style>\n",
       "<table border=\"1\" class=\"dataframe\">\n",
       "  <thead>\n",
       "    <tr style=\"text-align: right;\">\n",
       "      <th></th>\n",
       "      <th>order_status</th>\n",
       "      <th>media_pedidos</th>\n",
       "    </tr>\n",
       "  </thead>\n",
       "  <tbody>\n",
       "    <tr>\n",
       "      <th>0</th>\n",
       "      <td>approved</td>\n",
       "      <td>2</td>\n",
       "    </tr>\n",
       "    <tr>\n",
       "      <th>1</th>\n",
       "      <td>canceled</td>\n",
       "      <td>484</td>\n",
       "    </tr>\n",
       "    <tr>\n",
       "      <th>2</th>\n",
       "      <td>delivered</td>\n",
       "      <td>96463</td>\n",
       "    </tr>\n",
       "    <tr>\n",
       "      <th>3</th>\n",
       "      <td>invoiced</td>\n",
       "      <td>314</td>\n",
       "    </tr>\n",
       "    <tr>\n",
       "      <th>4</th>\n",
       "      <td>processing</td>\n",
       "      <td>301</td>\n",
       "    </tr>\n",
       "    <tr>\n",
       "      <th>5</th>\n",
       "      <td>shipped</td>\n",
       "      <td>1107</td>\n",
       "    </tr>\n",
       "    <tr>\n",
       "      <th>6</th>\n",
       "      <td>unavailable</td>\n",
       "      <td>609</td>\n",
       "    </tr>\n",
       "  </tbody>\n",
       "</table>\n",
       "</div>"
      ],
      "text/plain": [
       "  order_status  media_pedidos\n",
       "0     approved              2\n",
       "1     canceled            484\n",
       "2    delivered          96463\n",
       "3     invoiced            314\n",
       "4   processing            301\n",
       "5      shipped           1107\n",
       "6  unavailable            609"
      ]
     },
     "execution_count": 77,
     "metadata": {},
     "output_type": "execute_result"
    }
   ],
   "source": [
    "query=\"\"\"\n",
    "\n",
    "SELECT\n",
    "    o.order_status,\n",
    "    COUNT(o.order_id) AS media_pedidos\n",
    "FROM orders o\n",
    "WHERE o.order_approved_at>'2016-09-23'\n",
    "GROUP BY o.order_status\n",
    "\n",
    "\"\"\"\n",
    "table=pd.read_sql_query(query,conn)\n",
    "table"
   ]
  },
  {
   "cell_type": "markdown",
   "id": "3166bd11",
   "metadata": {
    "ExecuteTime": {
     "end_time": "2022-07-29T08:59:53.570794Z",
     "start_time": "2022-07-29T08:59:53.563812Z"
    }
   },
   "source": [
    "## Qual a quantidade de pedidos realizados por dia, a partir do dia 23 de Setembro de 2016?"
   ]
  },
  {
   "cell_type": "code",
   "execution_count": null,
   "id": "0a16229c",
   "metadata": {},
   "outputs": [],
   "source": [
    "query=\"\"\"\n",
    "\n",
    "SELECT\n",
    "    o.order_status,\n",
    "    COUNT(o.order_id) AS media_pedidos\n",
    "FROM orders o\n",
    "WHERE o.order_approved_at>'2016-09-23'\n",
    "GROUP BY o.order_status\n",
    "\n",
    "\"\"\"\n",
    "table=pd.read_sql_query(query,conn)\n",
    "table"
   ]
  },
  {
   "cell_type": "markdown",
   "id": "7ad476c1",
   "metadata": {},
   "source": [
    "## Quantos produtos estão cadastrados na empresa por categoria?"
   ]
  },
  {
   "cell_type": "code",
   "execution_count": null,
   "id": "15e9117b",
   "metadata": {},
   "outputs": [],
   "source": [
    "CREATE TABLE products(\n",
    "\n",
    "    product_id                     TEXT,\n",
    "    product_category_name          TEXT,\n",
    "    product_name_lenght           REAL,\n",
    "    product_description_lenght    REAL,\n",
    "    product_photos_qty            REAL,\n",
    "    product_weight_g              REAL,\n",
    "    product_length_cm             REAL,\n",
    "    product_height_cm             REAL,\n",
    "    product_width_cm              REAL\n",
    ")"
   ]
  },
  {
   "cell_type": "code",
   "execution_count": 83,
   "id": "497bf3cd",
   "metadata": {
    "ExecuteTime": {
     "end_time": "2022-07-29T09:20:28.108290Z",
     "start_time": "2022-07-29T09:20:28.030620Z"
    }
   },
   "outputs": [
    {
     "data": {
      "text/html": [
       "<div>\n",
       "<style scoped>\n",
       "    .dataframe tbody tr th:only-of-type {\n",
       "        vertical-align: middle;\n",
       "    }\n",
       "\n",
       "    .dataframe tbody tr th {\n",
       "        vertical-align: top;\n",
       "    }\n",
       "\n",
       "    .dataframe thead th {\n",
       "        text-align: right;\n",
       "    }\n",
       "</style>\n",
       "<table border=\"1\" class=\"dataframe\">\n",
       "  <thead>\n",
       "    <tr style=\"text-align: right;\">\n",
       "      <th></th>\n",
       "      <th>product_category_name</th>\n",
       "      <th>qtd_produtos</th>\n",
       "    </tr>\n",
       "  </thead>\n",
       "  <tbody>\n",
       "    <tr>\n",
       "      <th>0</th>\n",
       "      <td>None</td>\n",
       "      <td>610</td>\n",
       "    </tr>\n",
       "    <tr>\n",
       "      <th>1</th>\n",
       "      <td>agro_industria_e_comercio</td>\n",
       "      <td>74</td>\n",
       "    </tr>\n",
       "    <tr>\n",
       "      <th>2</th>\n",
       "      <td>alimentos</td>\n",
       "      <td>82</td>\n",
       "    </tr>\n",
       "    <tr>\n",
       "      <th>3</th>\n",
       "      <td>alimentos_bebidas</td>\n",
       "      <td>104</td>\n",
       "    </tr>\n",
       "    <tr>\n",
       "      <th>4</th>\n",
       "      <td>artes</td>\n",
       "      <td>55</td>\n",
       "    </tr>\n",
       "    <tr>\n",
       "      <th>...</th>\n",
       "      <td>...</td>\n",
       "      <td>...</td>\n",
       "    </tr>\n",
       "    <tr>\n",
       "      <th>69</th>\n",
       "      <td>sinalizacao_e_seguranca</td>\n",
       "      <td>93</td>\n",
       "    </tr>\n",
       "    <tr>\n",
       "      <th>70</th>\n",
       "      <td>tablets_impressao_imagem</td>\n",
       "      <td>9</td>\n",
       "    </tr>\n",
       "    <tr>\n",
       "      <th>71</th>\n",
       "      <td>telefonia</td>\n",
       "      <td>1134</td>\n",
       "    </tr>\n",
       "    <tr>\n",
       "      <th>72</th>\n",
       "      <td>telefonia_fixa</td>\n",
       "      <td>116</td>\n",
       "    </tr>\n",
       "    <tr>\n",
       "      <th>73</th>\n",
       "      <td>utilidades_domesticas</td>\n",
       "      <td>2335</td>\n",
       "    </tr>\n",
       "  </tbody>\n",
       "</table>\n",
       "<p>74 rows × 2 columns</p>\n",
       "</div>"
      ],
      "text/plain": [
       "        product_category_name  qtd_produtos\n",
       "0                        None           610\n",
       "1   agro_industria_e_comercio            74\n",
       "2                   alimentos            82\n",
       "3           alimentos_bebidas           104\n",
       "4                       artes            55\n",
       "..                        ...           ...\n",
       "69    sinalizacao_e_seguranca            93\n",
       "70   tablets_impressao_imagem             9\n",
       "71                  telefonia          1134\n",
       "72             telefonia_fixa           116\n",
       "73      utilidades_domesticas          2335\n",
       "\n",
       "[74 rows x 2 columns]"
      ]
     },
     "execution_count": 83,
     "metadata": {},
     "output_type": "execute_result"
    }
   ],
   "source": [
    "query=\"\"\"\n",
    "\n",
    "SELECT\n",
    "    p.product_category_name,\n",
    "    COUNT( DISTINCT p.product_id) AS qtd_produtos\n",
    "FROM products p\n",
    "GROUP BY p.product_category_name\n",
    "\"\"\"\n",
    "table=pd.read_sql_query(query,conn)\n",
    "table"
   ]
  },
  {
   "cell_type": "markdown",
   "id": "6f94776a",
   "metadata": {},
   "source": [
    "# Exercicios PA Bond - aula 5\n"
   ]
  },
  {
   "cell_type": "markdown",
   "id": "ca034350",
   "metadata": {
    "ExecuteTime": {
     "end_time": "2022-07-29T09:27:46.914281Z",
     "start_time": "2022-07-29T09:27:46.909296Z"
    }
   },
   "source": [
    "## 1. Qual o número de clientes únicos do estado de São Paulo?"
   ]
  },
  {
   "cell_type": "code",
   "execution_count": 12,
   "id": "d2323c1a",
   "metadata": {
    "ExecuteTime": {
     "end_time": "2022-07-29T09:30:37.126340Z",
     "start_time": "2022-07-29T09:30:36.893927Z"
    }
   },
   "outputs": [
    {
     "data": {
      "text/html": [
       "<div>\n",
       "<style scoped>\n",
       "    .dataframe tbody tr th:only-of-type {\n",
       "        vertical-align: middle;\n",
       "    }\n",
       "\n",
       "    .dataframe tbody tr th {\n",
       "        vertical-align: top;\n",
       "    }\n",
       "\n",
       "    .dataframe thead th {\n",
       "        text-align: right;\n",
       "    }\n",
       "</style>\n",
       "<table border=\"1\" class=\"dataframe\">\n",
       "  <thead>\n",
       "    <tr style=\"text-align: right;\">\n",
       "      <th></th>\n",
       "      <th>COUNT( DISTINCT customer_id )</th>\n",
       "    </tr>\n",
       "  </thead>\n",
       "  <tbody>\n",
       "    <tr>\n",
       "      <th>0</th>\n",
       "      <td>41746</td>\n",
       "    </tr>\n",
       "  </tbody>\n",
       "</table>\n",
       "</div>"
      ],
      "text/plain": [
       "   COUNT( DISTINCT customer_id )\n",
       "0                          41746"
      ]
     },
     "execution_count": 12,
     "metadata": {},
     "output_type": "execute_result"
    }
   ],
   "source": [
    "query=\"\"\"\n",
    "SELECT\n",
    "COUNT( DISTINCT customer_id )\n",
    "FROM customer c\n",
    "WHERE customer_state = 'SP'\n",
    "\n",
    "\"\"\"\n",
    "table=pd.read_sql_query(query,conn)\n",
    "table\n",
    "    \n",
    "    "
   ]
  },
  {
   "cell_type": "markdown",
   "id": "f9e6208f",
   "metadata": {},
   "source": [
    "## Qual o número total de pedidos únicos feitos no dia 08 de Outubro de 2016"
   ]
  },
  {
   "cell_type": "code",
   "execution_count": 20,
   "id": "fddaf6b6",
   "metadata": {
    "ExecuteTime": {
     "end_time": "2022-07-29T09:35:57.219980Z",
     "start_time": "2022-07-29T09:35:57.186812Z"
    }
   },
   "outputs": [
    {
     "data": {
      "text/html": [
       "<div>\n",
       "<style scoped>\n",
       "    .dataframe tbody tr th:only-of-type {\n",
       "        vertical-align: middle;\n",
       "    }\n",
       "\n",
       "    .dataframe tbody tr th {\n",
       "        vertical-align: top;\n",
       "    }\n",
       "\n",
       "    .dataframe thead th {\n",
       "        text-align: right;\n",
       "    }\n",
       "</style>\n",
       "<table border=\"1\" class=\"dataframe\">\n",
       "  <thead>\n",
       "    <tr style=\"text-align: right;\">\n",
       "      <th></th>\n",
       "      <th>numero_pedidos</th>\n",
       "    </tr>\n",
       "  </thead>\n",
       "  <tbody>\n",
       "    <tr>\n",
       "      <th>0</th>\n",
       "      <td>0</td>\n",
       "    </tr>\n",
       "  </tbody>\n",
       "</table>\n",
       "</div>"
      ],
      "text/plain": [
       "   numero_pedidos\n",
       "0               0"
      ]
     },
     "execution_count": 20,
     "metadata": {},
     "output_type": "execute_result"
    }
   ],
   "source": [
    "query=\"\"\"\n",
    "SELECT\n",
    "COUNT( DISTINCT o.order_id ) numero_pedidos\n",
    "FROM orders o\n",
    "WHERE o.order_approved_at ='2016-10-08'\n",
    "\n",
    "\"\"\"\n",
    "table=pd.read_sql_query(query,conn)\n",
    "table"
   ]
  },
  {
   "cell_type": "code",
   "execution_count": 21,
   "id": "5658de6f",
   "metadata": {
    "ExecuteTime": {
     "end_time": "2022-07-29T09:35:58.457148Z",
     "start_time": "2022-07-29T09:35:58.319007Z"
    }
   },
   "outputs": [
    {
     "data": {
      "text/html": [
       "<div>\n",
       "<style scoped>\n",
       "    .dataframe tbody tr th:only-of-type {\n",
       "        vertical-align: middle;\n",
       "    }\n",
       "\n",
       "    .dataframe tbody tr th {\n",
       "        vertical-align: top;\n",
       "    }\n",
       "\n",
       "    .dataframe thead th {\n",
       "        text-align: right;\n",
       "    }\n",
       "</style>\n",
       "<table border=\"1\" class=\"dataframe\">\n",
       "  <thead>\n",
       "    <tr style=\"text-align: right;\">\n",
       "      <th></th>\n",
       "      <th>COUNT( DISTINCT order_id )</th>\n",
       "    </tr>\n",
       "  </thead>\n",
       "  <tbody>\n",
       "    <tr>\n",
       "      <th>0</th>\n",
       "      <td>8</td>\n",
       "    </tr>\n",
       "  </tbody>\n",
       "</table>\n",
       "</div>"
      ],
      "text/plain": [
       "   COUNT( DISTINCT order_id )\n",
       "0                           8"
      ]
     },
     "execution_count": 21,
     "metadata": {},
     "output_type": "execute_result"
    }
   ],
   "source": [
    "query=\"\"\"\n",
    "SELECT\n",
    "COUNT( DISTINCT order_id )\n",
    "FROM order_items oi\n",
    "WHERE DATE( shipping_limit_date ) = '2016-10-08'\n",
    "\n",
    "\n",
    "\"\"\"\n",
    "table=pd.read_sql_query(query,conn)\n",
    "table"
   ]
  },
  {
   "cell_type": "markdown",
   "id": "5b145bea",
   "metadata": {
    "ExecuteTime": {
     "end_time": "2022-07-29T09:28:30.365459Z",
     "start_time": "2022-07-29T09:28:30.355205Z"
    }
   },
   "source": [
    "## Qual o número total de pedidos únicos feitos a partir do dia 08 de Outubro de 2016 "
   ]
  },
  {
   "cell_type": "code",
   "execution_count": 22,
   "id": "41e888fb",
   "metadata": {
    "ExecuteTime": {
     "end_time": "2022-07-29T09:38:48.474139Z",
     "start_time": "2022-07-29T09:38:48.100395Z"
    }
   },
   "outputs": [
    {
     "data": {
      "text/html": [
       "<div>\n",
       "<style scoped>\n",
       "    .dataframe tbody tr th:only-of-type {\n",
       "        vertical-align: middle;\n",
       "    }\n",
       "\n",
       "    .dataframe tbody tr th {\n",
       "        vertical-align: top;\n",
       "    }\n",
       "\n",
       "    .dataframe thead th {\n",
       "        text-align: right;\n",
       "    }\n",
       "</style>\n",
       "<table border=\"1\" class=\"dataframe\">\n",
       "  <thead>\n",
       "    <tr style=\"text-align: right;\">\n",
       "      <th></th>\n",
       "      <th>COUNT( DISTINCT order_id )</th>\n",
       "    </tr>\n",
       "  </thead>\n",
       "  <tbody>\n",
       "    <tr>\n",
       "      <th>0</th>\n",
       "      <td>98656</td>\n",
       "    </tr>\n",
       "  </tbody>\n",
       "</table>\n",
       "</div>"
      ],
      "text/plain": [
       "   COUNT( DISTINCT order_id )\n",
       "0                       98656"
      ]
     },
     "execution_count": 22,
     "metadata": {},
     "output_type": "execute_result"
    }
   ],
   "source": [
    "query=\"\"\"\n",
    "SELECT\n",
    "COUNT( DISTINCT order_id )\n",
    "FROM order_items oi\n",
    "WHERE DATE( shipping_limit_date ) > '2016-10-08'\n",
    "\n",
    "\n",
    "\"\"\"\n",
    "table=pd.read_sql_query(query,conn)\n",
    "table"
   ]
  },
  {
   "cell_type": "markdown",
   "id": "5c910d1f",
   "metadata": {},
   "source": [
    "## Qual o número total de pedidos únicos feitos a partir do dia 08 de Outubro de 2016 incluso."
   ]
  },
  {
   "cell_type": "code",
   "execution_count": 23,
   "id": "abb9c57b",
   "metadata": {
    "ExecuteTime": {
     "end_time": "2022-07-29T09:39:18.266109Z",
     "start_time": "2022-07-29T09:39:17.891563Z"
    }
   },
   "outputs": [
    {
     "data": {
      "text/html": [
       "<div>\n",
       "<style scoped>\n",
       "    .dataframe tbody tr th:only-of-type {\n",
       "        vertical-align: middle;\n",
       "    }\n",
       "\n",
       "    .dataframe tbody tr th {\n",
       "        vertical-align: top;\n",
       "    }\n",
       "\n",
       "    .dataframe thead th {\n",
       "        text-align: right;\n",
       "    }\n",
       "</style>\n",
       "<table border=\"1\" class=\"dataframe\">\n",
       "  <thead>\n",
       "    <tr style=\"text-align: right;\">\n",
       "      <th></th>\n",
       "      <th>COUNT( DISTINCT order_id )</th>\n",
       "    </tr>\n",
       "  </thead>\n",
       "  <tbody>\n",
       "    <tr>\n",
       "      <th>0</th>\n",
       "      <td>98664</td>\n",
       "    </tr>\n",
       "  </tbody>\n",
       "</table>\n",
       "</div>"
      ],
      "text/plain": [
       "   COUNT( DISTINCT order_id )\n",
       "0                       98664"
      ]
     },
     "execution_count": 23,
     "metadata": {},
     "output_type": "execute_result"
    }
   ],
   "source": [
    "query=\"\"\"\n",
    "SELECT\n",
    "COUNT( DISTINCT order_id )\n",
    "FROM order_items oi\n",
    "WHERE DATE( shipping_limit_date ) >= '2016-10-08'\n",
    "\n",
    "\n",
    "\"\"\"\n",
    "table=pd.read_sql_query(query,conn)\n",
    "table"
   ]
  },
  {
   "cell_type": "markdown",
   "id": "070bfd18",
   "metadata": {
    "ExecuteTime": {
     "end_time": "2022-07-29T09:29:17.477285Z",
     "start_time": "2022-07-29T09:29:17.460324Z"
    }
   },
   "source": [
    "## Qual o número total de pedidos únicos, a data mínima e máxima de envio, o valor máximo, mínimo e médio do frete dos pedidos abaixo de R$ 1.100 por cada vendedor?"
   ]
  },
  {
   "cell_type": "code",
   "execution_count": 29,
   "id": "83c19742",
   "metadata": {
    "ExecuteTime": {
     "end_time": "2022-07-29T09:50:02.369346Z",
     "start_time": "2022-07-29T09:50:01.671907Z"
    }
   },
   "outputs": [
    {
     "data": {
      "text/html": [
       "<div>\n",
       "<style scoped>\n",
       "    .dataframe tbody tr th:only-of-type {\n",
       "        vertical-align: middle;\n",
       "    }\n",
       "\n",
       "    .dataframe tbody tr th {\n",
       "        vertical-align: top;\n",
       "    }\n",
       "\n",
       "    .dataframe thead th {\n",
       "        text-align: right;\n",
       "    }\n",
       "</style>\n",
       "<table border=\"1\" class=\"dataframe\">\n",
       "  <thead>\n",
       "    <tr style=\"text-align: right;\">\n",
       "      <th></th>\n",
       "      <th>seller_id</th>\n",
       "      <th>pedidos_unicos</th>\n",
       "      <th>data_min</th>\n",
       "      <th>data_max</th>\n",
       "      <th>valor_frete_min</th>\n",
       "      <th>valor_frete_max</th>\n",
       "      <th>valor_frete_medio</th>\n",
       "    </tr>\n",
       "  </thead>\n",
       "  <tbody>\n",
       "    <tr>\n",
       "      <th>0</th>\n",
       "      <td>0015a82c2db000af6aaaf3ae2ecb0532</td>\n",
       "      <td>3</td>\n",
       "      <td>2017-10-12 22:24:16</td>\n",
       "      <td>2017-10-24 23:56:20</td>\n",
       "      <td>21.02</td>\n",
       "      <td>21.02</td>\n",
       "      <td>21.020000</td>\n",
       "    </tr>\n",
       "    <tr>\n",
       "      <th>1</th>\n",
       "      <td>001cca7ae9ae17fb1caed9dfb1094831</td>\n",
       "      <td>200</td>\n",
       "      <td>2017-02-08 19:06:04</td>\n",
       "      <td>2018-07-19 21:50:17</td>\n",
       "      <td>14.72</td>\n",
       "      <td>114.62</td>\n",
       "      <td>37.046611</td>\n",
       "    </tr>\n",
       "    <tr>\n",
       "      <th>2</th>\n",
       "      <td>001e6ad469a905060d959994f1b41e4f</td>\n",
       "      <td>1</td>\n",
       "      <td>2018-08-13 23:05:23</td>\n",
       "      <td>2018-08-13 23:05:23</td>\n",
       "      <td>17.94</td>\n",
       "      <td>17.94</td>\n",
       "      <td>17.940000</td>\n",
       "    </tr>\n",
       "    <tr>\n",
       "      <th>3</th>\n",
       "      <td>002100f778ceb8431b7a1020ff7ab48f</td>\n",
       "      <td>51</td>\n",
       "      <td>2017-09-20 01:10:15</td>\n",
       "      <td>2018-04-18 13:11:45</td>\n",
       "      <td>4.91</td>\n",
       "      <td>34.15</td>\n",
       "      <td>14.430182</td>\n",
       "    </tr>\n",
       "    <tr>\n",
       "      <th>4</th>\n",
       "      <td>003554e2dce176b5555353e4f3555ac8</td>\n",
       "      <td>1</td>\n",
       "      <td>2017-12-21 07:11:03</td>\n",
       "      <td>2017-12-21 07:11:03</td>\n",
       "      <td>19.38</td>\n",
       "      <td>19.38</td>\n",
       "      <td>19.380000</td>\n",
       "    </tr>\n",
       "    <tr>\n",
       "      <th>...</th>\n",
       "      <td>...</td>\n",
       "      <td>...</td>\n",
       "      <td>...</td>\n",
       "      <td>...</td>\n",
       "      <td>...</td>\n",
       "      <td>...</td>\n",
       "      <td>...</td>\n",
       "    </tr>\n",
       "    <tr>\n",
       "      <th>3051</th>\n",
       "      <td>ffcfefa19b08742c5d315f2791395ee5</td>\n",
       "      <td>1</td>\n",
       "      <td>2018-06-28 17:55:45</td>\n",
       "      <td>2018-06-28 17:55:45</td>\n",
       "      <td>9.62</td>\n",
       "      <td>9.62</td>\n",
       "      <td>9.620000</td>\n",
       "    </tr>\n",
       "    <tr>\n",
       "      <th>3052</th>\n",
       "      <td>ffdd9f82b9a447f6f8d4b91554cc7dd3</td>\n",
       "      <td>18</td>\n",
       "      <td>2017-03-09 16:30:20</td>\n",
       "      <td>2018-08-29 12:10:52</td>\n",
       "      <td>12.19</td>\n",
       "      <td>98.87</td>\n",
       "      <td>36.373000</td>\n",
       "    </tr>\n",
       "    <tr>\n",
       "      <th>3053</th>\n",
       "      <td>ffeee66ac5d5a62fe688b9d26f83f534</td>\n",
       "      <td>14</td>\n",
       "      <td>2017-10-05 16:14:11</td>\n",
       "      <td>2018-05-22 03:30:31</td>\n",
       "      <td>20.88</td>\n",
       "      <td>77.98</td>\n",
       "      <td>29.977857</td>\n",
       "    </tr>\n",
       "    <tr>\n",
       "      <th>3054</th>\n",
       "      <td>fffd5413c0700ac820c7069d66d98c89</td>\n",
       "      <td>60</td>\n",
       "      <td>2017-07-30 21:25:19</td>\n",
       "      <td>2018-08-28 20:10:15</td>\n",
       "      <td>9.94</td>\n",
       "      <td>206.45</td>\n",
       "      <td>46.454754</td>\n",
       "    </tr>\n",
       "    <tr>\n",
       "      <th>3055</th>\n",
       "      <td>ffff564a4f9085cd26170f4732393726</td>\n",
       "      <td>20</td>\n",
       "      <td>2016-10-17 19:01:41</td>\n",
       "      <td>2017-04-19 02:45:41</td>\n",
       "      <td>10.96</td>\n",
       "      <td>37.19</td>\n",
       "      <td>17.228000</td>\n",
       "    </tr>\n",
       "  </tbody>\n",
       "</table>\n",
       "<p>3056 rows × 7 columns</p>\n",
       "</div>"
      ],
      "text/plain": [
       "                             seller_id  pedidos_unicos             data_min  \\\n",
       "0     0015a82c2db000af6aaaf3ae2ecb0532               3  2017-10-12 22:24:16   \n",
       "1     001cca7ae9ae17fb1caed9dfb1094831             200  2017-02-08 19:06:04   \n",
       "2     001e6ad469a905060d959994f1b41e4f               1  2018-08-13 23:05:23   \n",
       "3     002100f778ceb8431b7a1020ff7ab48f              51  2017-09-20 01:10:15   \n",
       "4     003554e2dce176b5555353e4f3555ac8               1  2017-12-21 07:11:03   \n",
       "...                                ...             ...                  ...   \n",
       "3051  ffcfefa19b08742c5d315f2791395ee5               1  2018-06-28 17:55:45   \n",
       "3052  ffdd9f82b9a447f6f8d4b91554cc7dd3              18  2017-03-09 16:30:20   \n",
       "3053  ffeee66ac5d5a62fe688b9d26f83f534              14  2017-10-05 16:14:11   \n",
       "3054  fffd5413c0700ac820c7069d66d98c89              60  2017-07-30 21:25:19   \n",
       "3055  ffff564a4f9085cd26170f4732393726              20  2016-10-17 19:01:41   \n",
       "\n",
       "                 data_max  valor_frete_min  valor_frete_max  valor_frete_medio  \n",
       "0     2017-10-24 23:56:20            21.02            21.02          21.020000  \n",
       "1     2018-07-19 21:50:17            14.72           114.62          37.046611  \n",
       "2     2018-08-13 23:05:23            17.94            17.94          17.940000  \n",
       "3     2018-04-18 13:11:45             4.91            34.15          14.430182  \n",
       "4     2017-12-21 07:11:03            19.38            19.38          19.380000  \n",
       "...                   ...              ...              ...                ...  \n",
       "3051  2018-06-28 17:55:45             9.62             9.62           9.620000  \n",
       "3052  2018-08-29 12:10:52            12.19            98.87          36.373000  \n",
       "3053  2018-05-22 03:30:31            20.88            77.98          29.977857  \n",
       "3054  2018-08-28 20:10:15             9.94           206.45          46.454754  \n",
       "3055  2017-04-19 02:45:41            10.96            37.19          17.228000  \n",
       "\n",
       "[3056 rows x 7 columns]"
      ]
     },
     "execution_count": 29,
     "metadata": {},
     "output_type": "execute_result"
    }
   ],
   "source": [
    "query=\"\"\"\n",
    "\n",
    "SELECT\n",
    "    oi.seller_id,\n",
    "    COUNT( DISTINCT oi.order_id ) AS pedidos_unicos,\n",
    "    MIN( oi.shipping_limit_date ) AS data_min,\n",
    "    MAX( oi.shipping_limit_date ) AS data_max,\n",
    "    MIN( oi.freight_value ) AS valor_frete_min,\n",
    "    MAX( oi.freight_value ) AS valor_frete_max,\n",
    "    AVG( oi.freight_value ) AS valor_frete_medio\n",
    "FROM order_items oi\n",
    "WHERE oi.price < 1100\n",
    "GROUP BY oi.seller_id\n",
    "\n",
    "\n",
    "\"\"\"\n",
    "table=pd.read_sql_query(query,conn)\n",
    "table"
   ]
  },
  {
   "cell_type": "markdown",
   "id": "54195dec",
   "metadata": {
    "ExecuteTime": {
     "end_time": "2022-07-29T09:29:37.474220Z",
     "start_time": "2022-07-29T09:29:37.462248Z"
    },
    "run_control": {
     "marked": true
    }
   },
   "source": [
    "##  Qual o número total de pedidos únicos, a data mínima e máxima de envio, o valor máximo, mínimo e médio do frete dos pedidos abaixo de R$ 1.100 incluso por cada vendedor?"
   ]
  },
  {
   "cell_type": "code",
   "execution_count": 30,
   "id": "822766db",
   "metadata": {
    "ExecuteTime": {
     "end_time": "2022-07-29T09:50:24.421687Z",
     "start_time": "2022-07-29T09:50:23.732953Z"
    }
   },
   "outputs": [
    {
     "data": {
      "text/html": [
       "<div>\n",
       "<style scoped>\n",
       "    .dataframe tbody tr th:only-of-type {\n",
       "        vertical-align: middle;\n",
       "    }\n",
       "\n",
       "    .dataframe tbody tr th {\n",
       "        vertical-align: top;\n",
       "    }\n",
       "\n",
       "    .dataframe thead th {\n",
       "        text-align: right;\n",
       "    }\n",
       "</style>\n",
       "<table border=\"1\" class=\"dataframe\">\n",
       "  <thead>\n",
       "    <tr style=\"text-align: right;\">\n",
       "      <th></th>\n",
       "      <th>seller_id</th>\n",
       "      <th>pedidos_unicos</th>\n",
       "      <th>data_min</th>\n",
       "      <th>data_max</th>\n",
       "      <th>valor_frete_min</th>\n",
       "      <th>valor_frete_max</th>\n",
       "      <th>valor_frete_medio</th>\n",
       "    </tr>\n",
       "  </thead>\n",
       "  <tbody>\n",
       "    <tr>\n",
       "      <th>0</th>\n",
       "      <td>0015a82c2db000af6aaaf3ae2ecb0532</td>\n",
       "      <td>3</td>\n",
       "      <td>2017-10-12 22:24:16</td>\n",
       "      <td>2017-10-24 23:56:20</td>\n",
       "      <td>21.02</td>\n",
       "      <td>21.02</td>\n",
       "      <td>21.020000</td>\n",
       "    </tr>\n",
       "    <tr>\n",
       "      <th>1</th>\n",
       "      <td>001cca7ae9ae17fb1caed9dfb1094831</td>\n",
       "      <td>200</td>\n",
       "      <td>2017-02-08 19:06:04</td>\n",
       "      <td>2018-07-19 21:50:17</td>\n",
       "      <td>14.72</td>\n",
       "      <td>114.62</td>\n",
       "      <td>37.046611</td>\n",
       "    </tr>\n",
       "    <tr>\n",
       "      <th>2</th>\n",
       "      <td>001e6ad469a905060d959994f1b41e4f</td>\n",
       "      <td>1</td>\n",
       "      <td>2018-08-13 23:05:23</td>\n",
       "      <td>2018-08-13 23:05:23</td>\n",
       "      <td>17.94</td>\n",
       "      <td>17.94</td>\n",
       "      <td>17.940000</td>\n",
       "    </tr>\n",
       "    <tr>\n",
       "      <th>3</th>\n",
       "      <td>002100f778ceb8431b7a1020ff7ab48f</td>\n",
       "      <td>51</td>\n",
       "      <td>2017-09-20 01:10:15</td>\n",
       "      <td>2018-04-18 13:11:45</td>\n",
       "      <td>4.91</td>\n",
       "      <td>34.15</td>\n",
       "      <td>14.430182</td>\n",
       "    </tr>\n",
       "    <tr>\n",
       "      <th>4</th>\n",
       "      <td>003554e2dce176b5555353e4f3555ac8</td>\n",
       "      <td>1</td>\n",
       "      <td>2017-12-21 07:11:03</td>\n",
       "      <td>2017-12-21 07:11:03</td>\n",
       "      <td>19.38</td>\n",
       "      <td>19.38</td>\n",
       "      <td>19.380000</td>\n",
       "    </tr>\n",
       "    <tr>\n",
       "      <th>...</th>\n",
       "      <td>...</td>\n",
       "      <td>...</td>\n",
       "      <td>...</td>\n",
       "      <td>...</td>\n",
       "      <td>...</td>\n",
       "      <td>...</td>\n",
       "      <td>...</td>\n",
       "    </tr>\n",
       "    <tr>\n",
       "      <th>3051</th>\n",
       "      <td>ffcfefa19b08742c5d315f2791395ee5</td>\n",
       "      <td>1</td>\n",
       "      <td>2018-06-28 17:55:45</td>\n",
       "      <td>2018-06-28 17:55:45</td>\n",
       "      <td>9.62</td>\n",
       "      <td>9.62</td>\n",
       "      <td>9.620000</td>\n",
       "    </tr>\n",
       "    <tr>\n",
       "      <th>3052</th>\n",
       "      <td>ffdd9f82b9a447f6f8d4b91554cc7dd3</td>\n",
       "      <td>18</td>\n",
       "      <td>2017-03-09 16:30:20</td>\n",
       "      <td>2018-08-29 12:10:52</td>\n",
       "      <td>12.19</td>\n",
       "      <td>98.87</td>\n",
       "      <td>36.373000</td>\n",
       "    </tr>\n",
       "    <tr>\n",
       "      <th>3053</th>\n",
       "      <td>ffeee66ac5d5a62fe688b9d26f83f534</td>\n",
       "      <td>14</td>\n",
       "      <td>2017-10-05 16:14:11</td>\n",
       "      <td>2018-05-22 03:30:31</td>\n",
       "      <td>20.88</td>\n",
       "      <td>77.98</td>\n",
       "      <td>29.977857</td>\n",
       "    </tr>\n",
       "    <tr>\n",
       "      <th>3054</th>\n",
       "      <td>fffd5413c0700ac820c7069d66d98c89</td>\n",
       "      <td>60</td>\n",
       "      <td>2017-07-30 21:25:19</td>\n",
       "      <td>2018-08-28 20:10:15</td>\n",
       "      <td>9.94</td>\n",
       "      <td>206.45</td>\n",
       "      <td>46.454754</td>\n",
       "    </tr>\n",
       "    <tr>\n",
       "      <th>3055</th>\n",
       "      <td>ffff564a4f9085cd26170f4732393726</td>\n",
       "      <td>20</td>\n",
       "      <td>2016-10-17 19:01:41</td>\n",
       "      <td>2017-04-19 02:45:41</td>\n",
       "      <td>10.96</td>\n",
       "      <td>37.19</td>\n",
       "      <td>17.228000</td>\n",
       "    </tr>\n",
       "  </tbody>\n",
       "</table>\n",
       "<p>3056 rows × 7 columns</p>\n",
       "</div>"
      ],
      "text/plain": [
       "                             seller_id  pedidos_unicos             data_min  \\\n",
       "0     0015a82c2db000af6aaaf3ae2ecb0532               3  2017-10-12 22:24:16   \n",
       "1     001cca7ae9ae17fb1caed9dfb1094831             200  2017-02-08 19:06:04   \n",
       "2     001e6ad469a905060d959994f1b41e4f               1  2018-08-13 23:05:23   \n",
       "3     002100f778ceb8431b7a1020ff7ab48f              51  2017-09-20 01:10:15   \n",
       "4     003554e2dce176b5555353e4f3555ac8               1  2017-12-21 07:11:03   \n",
       "...                                ...             ...                  ...   \n",
       "3051  ffcfefa19b08742c5d315f2791395ee5               1  2018-06-28 17:55:45   \n",
       "3052  ffdd9f82b9a447f6f8d4b91554cc7dd3              18  2017-03-09 16:30:20   \n",
       "3053  ffeee66ac5d5a62fe688b9d26f83f534              14  2017-10-05 16:14:11   \n",
       "3054  fffd5413c0700ac820c7069d66d98c89              60  2017-07-30 21:25:19   \n",
       "3055  ffff564a4f9085cd26170f4732393726              20  2016-10-17 19:01:41   \n",
       "\n",
       "                 data_max  valor_frete_min  valor_frete_max  valor_frete_medio  \n",
       "0     2017-10-24 23:56:20            21.02            21.02          21.020000  \n",
       "1     2018-07-19 21:50:17            14.72           114.62          37.046611  \n",
       "2     2018-08-13 23:05:23            17.94            17.94          17.940000  \n",
       "3     2018-04-18 13:11:45             4.91            34.15          14.430182  \n",
       "4     2017-12-21 07:11:03            19.38            19.38          19.380000  \n",
       "...                   ...              ...              ...                ...  \n",
       "3051  2018-06-28 17:55:45             9.62             9.62           9.620000  \n",
       "3052  2018-08-29 12:10:52            12.19            98.87          36.373000  \n",
       "3053  2018-05-22 03:30:31            20.88            77.98          29.977857  \n",
       "3054  2018-08-28 20:10:15             9.94           206.45          46.454754  \n",
       "3055  2017-04-19 02:45:41            10.96            37.19          17.228000  \n",
       "\n",
       "[3056 rows x 7 columns]"
      ]
     },
     "execution_count": 30,
     "metadata": {},
     "output_type": "execute_result"
    }
   ],
   "source": [
    "query=\"\"\"\n",
    "\n",
    "SELECT\n",
    "    oi.seller_id,\n",
    "    COUNT( DISTINCT oi.order_id ) AS pedidos_unicos,\n",
    "    MIN( oi.shipping_limit_date ) AS data_min,\n",
    "    MAX( oi.shipping_limit_date ) AS data_max,\n",
    "    MIN( oi.freight_value ) AS valor_frete_min,\n",
    "    MAX( oi.freight_value ) AS valor_frete_max,\n",
    "    AVG( oi.freight_value ) AS valor_frete_medio\n",
    "FROM order_items oi\n",
    "WHERE oi.price <= 1100\n",
    "GROUP BY oi.seller_id\n",
    "\n",
    "\n",
    "\"\"\"\n",
    "table=pd.read_sql_query(query,conn)\n",
    "table"
   ]
  },
  {
   "cell_type": "markdown",
   "id": "848d1ca1",
   "metadata": {
    "run_control": {
     "marked": true
    }
   },
   "source": [
    "# Exercicios PA Bond - aula 6"
   ]
  },
  {
   "cell_type": "markdown",
   "id": "91d6f242",
   "metadata": {
    "ExecuteTime": {
     "end_time": "2022-07-29T10:21:38.646556Z",
     "start_time": "2022-07-29T10:21:38.631597Z"
    }
   },
   "source": [
    "## Qual o número de clientes únicos nos estado de Minas Gerais ou Rio de Janeiro?"
   ]
  },
  {
   "cell_type": "code",
   "execution_count": 39,
   "id": "72ebe092",
   "metadata": {
    "ExecuteTime": {
     "end_time": "2022-07-29T10:33:18.568341Z",
     "start_time": "2022-07-29T10:33:18.346178Z"
    }
   },
   "outputs": [
    {
     "data": {
      "text/html": [
       "<div>\n",
       "<style scoped>\n",
       "    .dataframe tbody tr th:only-of-type {\n",
       "        vertical-align: middle;\n",
       "    }\n",
       "\n",
       "    .dataframe tbody tr th {\n",
       "        vertical-align: top;\n",
       "    }\n",
       "\n",
       "    .dataframe thead th {\n",
       "        text-align: right;\n",
       "    }\n",
       "</style>\n",
       "<table border=\"1\" class=\"dataframe\">\n",
       "  <thead>\n",
       "    <tr style=\"text-align: right;\">\n",
       "      <th></th>\n",
       "      <th>customer_state</th>\n",
       "      <th>COUNT( DISTINCT customer_id )</th>\n",
       "    </tr>\n",
       "  </thead>\n",
       "  <tbody>\n",
       "    <tr>\n",
       "      <th>0</th>\n",
       "      <td>MG</td>\n",
       "      <td>11635</td>\n",
       "    </tr>\n",
       "    <tr>\n",
       "      <th>1</th>\n",
       "      <td>RJ</td>\n",
       "      <td>12852</td>\n",
       "    </tr>\n",
       "  </tbody>\n",
       "</table>\n",
       "</div>"
      ],
      "text/plain": [
       "  customer_state  COUNT( DISTINCT customer_id )\n",
       "0             MG                          11635\n",
       "1             RJ                          12852"
      ]
     },
     "execution_count": 39,
     "metadata": {},
     "output_type": "execute_result"
    }
   ],
   "source": [
    "query=\"\"\"\n",
    "SELECT\n",
    "customer_state,\n",
    "COUNT( DISTINCT customer_id )\n",
    "FROM customer c\n",
    "WHERE c.customer_state = 'MG' OR c.customer_state = 'RJ'\n",
    "GROUP BY customer_state\n",
    "\"\"\"\n",
    "table=pd.read_sql_query(query,conn)\n",
    "table"
   ]
  },
  {
   "cell_type": "markdown",
   "id": "ac230d08",
   "metadata": {
    "ExecuteTime": {
     "end_time": "2022-07-29T10:25:08.027227Z",
     "start_time": "2022-07-29T10:25:08.008278Z"
    }
   },
   "source": [
    "##  Qual a quantidade de cidades únicas dos vendedores no estado de São Paulo ou Rio de Janeiro com a latitude maior que -24.54 e longitude menor que -45.63?"
   ]
  },
  {
   "cell_type": "code",
   "execution_count": 40,
   "id": "f3214100",
   "metadata": {
    "ExecuteTime": {
     "end_time": "2022-07-29T10:35:14.963957Z",
     "start_time": "2022-07-29T10:35:13.355464Z"
    }
   },
   "outputs": [
    {
     "data": {
      "text/html": [
       "<div>\n",
       "<style scoped>\n",
       "    .dataframe tbody tr th:only-of-type {\n",
       "        vertical-align: middle;\n",
       "    }\n",
       "\n",
       "    .dataframe tbody tr th {\n",
       "        vertical-align: top;\n",
       "    }\n",
       "\n",
       "    .dataframe thead th {\n",
       "        text-align: right;\n",
       "    }\n",
       "</style>\n",
       "<table border=\"1\" class=\"dataframe\">\n",
       "  <thead>\n",
       "    <tr style=\"text-align: right;\">\n",
       "      <th></th>\n",
       "      <th>geolocation_state</th>\n",
       "      <th>cidades</th>\n",
       "    </tr>\n",
       "  </thead>\n",
       "  <tbody>\n",
       "    <tr>\n",
       "      <th>0</th>\n",
       "      <td>RJ</td>\n",
       "      <td>9</td>\n",
       "    </tr>\n",
       "    <tr>\n",
       "      <th>1</th>\n",
       "      <td>SP</td>\n",
       "      <td>1048</td>\n",
       "    </tr>\n",
       "  </tbody>\n",
       "</table>\n",
       "</div>"
      ],
      "text/plain": [
       "  geolocation_state  cidades\n",
       "0                RJ        9\n",
       "1                SP     1048"
      ]
     },
     "execution_count": 40,
     "metadata": {},
     "output_type": "execute_result"
    }
   ],
   "source": [
    "query=\"\"\"\n",
    "\n",
    "SELECT\n",
    "g.geolocation_state,\n",
    "COUNT( DISTINCT g.geolocation_city ) AS cidades\n",
    "FROM geolocation g\n",
    "WHERE g.geolocation_state = 'SP' OR g.geolocation_state = 'RJ'\n",
    "AND ( g.geolocation_lat > -24.54 AND g.geolocation_lng < -45.63 )\n",
    "GROUP BY g.geolocation_state\n",
    "\n",
    "\"\"\"\n",
    "table=pd.read_sql_query(query,conn)\n",
    "table"
   ]
  },
  {
   "cell_type": "markdown",
   "id": "3e2d445a",
   "metadata": {
    "ExecuteTime": {
     "end_time": "2022-07-29T10:25:22.540574Z",
     "start_time": "2022-07-29T10:25:22.535587Z"
    }
   },
   "source": [
    "## Qual o número total de pedidos únicos, o número total de produtos e o preço médio dos pedidos com o preço de frete maior que R$ 20 e a data limite de envio entre os dias 1 e 31 de Outubro de 2016?"
   ]
  },
  {
   "cell_type": "code",
   "execution_count": 44,
   "id": "7721f12c",
   "metadata": {
    "ExecuteTime": {
     "end_time": "2022-07-29T10:39:42.755281Z",
     "start_time": "2022-07-29T10:39:42.654335Z"
    }
   },
   "outputs": [
    {
     "data": {
      "text/html": [
       "<div>\n",
       "<style scoped>\n",
       "    .dataframe tbody tr th:only-of-type {\n",
       "        vertical-align: middle;\n",
       "    }\n",
       "\n",
       "    .dataframe tbody tr th {\n",
       "        vertical-align: top;\n",
       "    }\n",
       "\n",
       "    .dataframe thead th {\n",
       "        text-align: right;\n",
       "    }\n",
       "</style>\n",
       "<table border=\"1\" class=\"dataframe\">\n",
       "  <thead>\n",
       "    <tr style=\"text-align: right;\">\n",
       "      <th></th>\n",
       "      <th>pedidos</th>\n",
       "      <th>produtos</th>\n",
       "      <th>preco_medio</th>\n",
       "    </tr>\n",
       "  </thead>\n",
       "  <tbody>\n",
       "    <tr>\n",
       "      <th>0</th>\n",
       "      <td>43</td>\n",
       "      <td>162</td>\n",
       "      <td>55.90537</td>\n",
       "    </tr>\n",
       "  </tbody>\n",
       "</table>\n",
       "</div>"
      ],
      "text/plain": [
       "   pedidos  produtos  preco_medio\n",
       "0       43       162     55.90537"
      ]
     },
     "execution_count": 44,
     "metadata": {},
     "output_type": "execute_result"
    }
   ],
   "source": [
    "## nao entendi price entre 10 e 100\n",
    "\n",
    "query=\"\"\"\n",
    "\n",
    "SELECT\n",
    "COUNT( DISTINCT oi.order_id ) AS pedidos,\n",
    "COUNT( oi.product_id ) AS produtos,\n",
    "AVG( oi.price ) AS preco_medio\n",
    "FROM order_items oi\n",
    "WHERE freight_value > 20\n",
    "AND oi.price > 10 AND oi.price < 100 \n",
    "AND oi.shipping_limit_date >= '2016-10-01'\n",
    "AND oi.shipping_limit_date <= '2016-10-31'\n",
    "\n",
    "\"\"\"\n",
    "table=pd.read_sql_query(query,conn)\n",
    "table"
   ]
  },
  {
   "cell_type": "markdown",
   "id": "31630af8",
   "metadata": {
    "ExecuteTime": {
     "end_time": "2022-07-29T10:25:42.900914Z",
     "start_time": "2022-07-29T10:25:42.887912Z"
    }
   },
   "source": [
    "## Mostre a quantidade total dos pedidos e o valor total do pagamento, para pagamentos entre 1 e 5 prestações ou um valor de pagamento acima de R$ 5000.\n"
   ]
  },
  {
   "cell_type": "code",
   "execution_count": 46,
   "id": "ea228649",
   "metadata": {
    "ExecuteTime": {
     "end_time": "2022-07-29T10:41:28.413836Z",
     "start_time": "2022-07-29T10:41:27.937704Z"
    }
   },
   "outputs": [
    {
     "data": {
      "text/html": [
       "<div>\n",
       "<style scoped>\n",
       "    .dataframe tbody tr th:only-of-type {\n",
       "        vertical-align: middle;\n",
       "    }\n",
       "\n",
       "    .dataframe tbody tr th {\n",
       "        vertical-align: top;\n",
       "    }\n",
       "\n",
       "    .dataframe thead th {\n",
       "        text-align: right;\n",
       "    }\n",
       "</style>\n",
       "<table border=\"1\" class=\"dataframe\">\n",
       "  <thead>\n",
       "    <tr style=\"text-align: right;\">\n",
       "      <th></th>\n",
       "      <th>payment_type</th>\n",
       "      <th>payment_installments</th>\n",
       "      <th>pedidos</th>\n",
       "      <th>valor_total_pagamento</th>\n",
       "    </tr>\n",
       "  </thead>\n",
       "  <tbody>\n",
       "    <tr>\n",
       "      <th>0</th>\n",
       "      <td>boleto</td>\n",
       "      <td>1</td>\n",
       "      <td>79136</td>\n",
       "      <td>1.147745e+07</td>\n",
       "    </tr>\n",
       "    <tr>\n",
       "      <th>1</th>\n",
       "      <td>credit_card</td>\n",
       "      <td>1</td>\n",
       "      <td>101820</td>\n",
       "      <td>9.761782e+06</td>\n",
       "    </tr>\n",
       "    <tr>\n",
       "      <th>2</th>\n",
       "      <td>credit_card</td>\n",
       "      <td>2</td>\n",
       "      <td>49652</td>\n",
       "      <td>6.317132e+06</td>\n",
       "    </tr>\n",
       "    <tr>\n",
       "      <th>3</th>\n",
       "      <td>credit_card</td>\n",
       "      <td>3</td>\n",
       "      <td>41844</td>\n",
       "      <td>5.964415e+06</td>\n",
       "    </tr>\n",
       "    <tr>\n",
       "      <th>4</th>\n",
       "      <td>credit_card</td>\n",
       "      <td>4</td>\n",
       "      <td>28392</td>\n",
       "      <td>4.655630e+06</td>\n",
       "    </tr>\n",
       "    <tr>\n",
       "      <th>5</th>\n",
       "      <td>credit_card</td>\n",
       "      <td>8</td>\n",
       "      <td>4</td>\n",
       "      <td>2.771724e+04</td>\n",
       "    </tr>\n",
       "    <tr>\n",
       "      <th>6</th>\n",
       "      <td>debit_card</td>\n",
       "      <td>1</td>\n",
       "      <td>6116</td>\n",
       "      <td>8.719592e+05</td>\n",
       "    </tr>\n",
       "    <tr>\n",
       "      <th>7</th>\n",
       "      <td>not_defined</td>\n",
       "      <td>1</td>\n",
       "      <td>12</td>\n",
       "      <td>0.000000e+00</td>\n",
       "    </tr>\n",
       "    <tr>\n",
       "      <th>8</th>\n",
       "      <td>voucher</td>\n",
       "      <td>1</td>\n",
       "      <td>23100</td>\n",
       "      <td>1.517747e+06</td>\n",
       "    </tr>\n",
       "  </tbody>\n",
       "</table>\n",
       "</div>"
      ],
      "text/plain": [
       "  payment_type  payment_installments  pedidos  valor_total_pagamento\n",
       "0       boleto                     1    79136           1.147745e+07\n",
       "1  credit_card                     1   101820           9.761782e+06\n",
       "2  credit_card                     2    49652           6.317132e+06\n",
       "3  credit_card                     3    41844           5.964415e+06\n",
       "4  credit_card                     4    28392           4.655630e+06\n",
       "5  credit_card                     8        4           2.771724e+04\n",
       "6   debit_card                     1     6116           8.719592e+05\n",
       "7  not_defined                     1       12           0.000000e+00\n",
       "8      voucher                     1    23100           1.517747e+06"
      ]
     },
     "execution_count": 46,
     "metadata": {},
     "output_type": "execute_result"
    }
   ],
   "source": [
    "query=\"\"\"\n",
    "\n",
    "SELECT\n",
    "    payment_type,\n",
    "    payment_installments,\n",
    "    COUNT( op.order_id ) AS pedidos,\n",
    "    SUM( op.payment_value ) AS valor_total_pagamento\n",
    "FROM order_payments op\n",
    "WHERE ( op.payment_installments >= 1 AND op.payment_installments < 5 )\n",
    "OR op.payment_value >= 5000\n",
    "GROUP BY payment_type, payment_installments\n",
    "\n",
    "\"\"\"\n",
    "table=pd.read_sql_query(query,conn)\n",
    "table"
   ]
  },
  {
   "cell_type": "markdown",
   "id": "a9346652",
   "metadata": {},
   "source": [
    "##  Qual a quantidade de pedidos com o status em processamento ou cancelada acontecem com a data estimada de entrega maior que 01 de Janeiro de 2017 ou menor que 23 de Novembro de 2016?"
   ]
  },
  {
   "cell_type": "code",
   "execution_count": 47,
   "id": "2e5394bd",
   "metadata": {
    "ExecuteTime": {
     "end_time": "2022-07-29T10:42:47.659677Z",
     "start_time": "2022-07-29T10:42:47.612424Z"
    }
   },
   "outputs": [
    {
     "data": {
      "text/html": [
       "<div>\n",
       "<style scoped>\n",
       "    .dataframe tbody tr th:only-of-type {\n",
       "        vertical-align: middle;\n",
       "    }\n",
       "\n",
       "    .dataframe tbody tr th {\n",
       "        vertical-align: top;\n",
       "    }\n",
       "\n",
       "    .dataframe thead th {\n",
       "        text-align: right;\n",
       "    }\n",
       "</style>\n",
       "<table border=\"1\" class=\"dataframe\">\n",
       "  <thead>\n",
       "    <tr style=\"text-align: right;\">\n",
       "      <th></th>\n",
       "      <th>order_status</th>\n",
       "      <th>pedidos</th>\n",
       "    </tr>\n",
       "  </thead>\n",
       "  <tbody>\n",
       "    <tr>\n",
       "      <th>0</th>\n",
       "      <td>canceled</td>\n",
       "      <td>611</td>\n",
       "    </tr>\n",
       "    <tr>\n",
       "      <th>1</th>\n",
       "      <td>processing</td>\n",
       "      <td>299</td>\n",
       "    </tr>\n",
       "  </tbody>\n",
       "</table>\n",
       "</div>"
      ],
      "text/plain": [
       "  order_status  pedidos\n",
       "0     canceled      611\n",
       "1   processing      299"
      ]
     },
     "execution_count": 47,
     "metadata": {},
     "output_type": "execute_result"
    }
   ],
   "source": [
    "query=\"\"\"\n",
    "\n",
    "SELECT\n",
    "    order_status ,\n",
    "    COUNT( order_id ) AS pedidos\n",
    "FROM orders o\n",
    "WHERE ( order_status = 'processing' OR order_status = 'canceled' )\n",
    "AND ( o.order_estimated_delivery_date > '2017-01-01' OR o.order_estimated_delivery_date < '2016-11-23' )\n",
    "GROUP BY order_status\n",
    "\n",
    "\n",
    "\"\"\"\n",
    "table=pd.read_sql_query(query,conn)\n",
    "table"
   ]
  },
  {
   "cell_type": "markdown",
   "id": "19c69de6",
   "metadata": {},
   "source": [
    "##  Quantos produtos estão cadastrados nas categorias: perfumaria, brinquedos, esporte lazer, cama mesa e banho e móveis de escritório que possuem mais de 5 fotos, um peso maior que 5 g, um altura maior que 10 cm, uma largura maior que 20 cm?"
   ]
  },
  {
   "cell_type": "code",
   "execution_count": 5,
   "id": "0418c90d",
   "metadata": {
    "ExecuteTime": {
     "end_time": "2022-07-29T13:54:53.650409Z",
     "start_time": "2022-07-29T13:54:53.609746Z"
    },
    "run_control": {
     "marked": true
    }
   },
   "outputs": [
    {
     "data": {
      "text/html": [
       "<div>\n",
       "<style scoped>\n",
       "    .dataframe tbody tr th:only-of-type {\n",
       "        vertical-align: middle;\n",
       "    }\n",
       "\n",
       "    .dataframe tbody tr th {\n",
       "        vertical-align: top;\n",
       "    }\n",
       "\n",
       "    .dataframe thead th {\n",
       "        text-align: right;\n",
       "    }\n",
       "</style>\n",
       "<table border=\"1\" class=\"dataframe\">\n",
       "  <thead>\n",
       "    <tr style=\"text-align: right;\">\n",
       "      <th></th>\n",
       "      <th>product_category_name</th>\n",
       "      <th>COUNT( DISTINCT product_id )</th>\n",
       "    </tr>\n",
       "  </thead>\n",
       "  <tbody>\n",
       "    <tr>\n",
       "      <th>0</th>\n",
       "      <td>brinquedos</td>\n",
       "      <td>30</td>\n",
       "    </tr>\n",
       "    <tr>\n",
       "      <th>1</th>\n",
       "      <td>cama_mesa_banho</td>\n",
       "      <td>22</td>\n",
       "    </tr>\n",
       "    <tr>\n",
       "      <th>2</th>\n",
       "      <td>esporte_lazer</td>\n",
       "      <td>69</td>\n",
       "    </tr>\n",
       "    <tr>\n",
       "      <th>3</th>\n",
       "      <td>moveis_escritorio</td>\n",
       "      <td>7</td>\n",
       "    </tr>\n",
       "    <tr>\n",
       "      <th>4</th>\n",
       "      <td>perfumaria</td>\n",
       "      <td>6</td>\n",
       "    </tr>\n",
       "  </tbody>\n",
       "</table>\n",
       "</div>"
      ],
      "text/plain": [
       "  product_category_name  COUNT( DISTINCT product_id )\n",
       "0            brinquedos                            30\n",
       "1       cama_mesa_banho                            22\n",
       "2         esporte_lazer                            69\n",
       "3     moveis_escritorio                             7\n",
       "4            perfumaria                             6"
      ]
     },
     "execution_count": 5,
     "metadata": {},
     "output_type": "execute_result"
    }
   ],
   "source": [
    "query=\"\"\"\n",
    "\n",
    "SELECT\n",
    "    product_category_name ,\n",
    "    COUNT( DISTINCT product_id )\n",
    "FROM products p\n",
    "WHERE ( product_category_name = 'perfumaria'\n",
    "OR product_category_name = 'brinquedos'\n",
    "OR product_category_name = 'esporte_lazer'\n",
    "OR product_category_name = 'cama_mesa_banho'\n",
    "OR product_category_name = 'moveis_escritorio')\n",
    "AND product_photos_qty > 5\n",
    "AND product_weight_g > 5\n",
    "AND product_height_cm > 10\n",
    "AND product_width_cm > 20\n",
    "GROUP BY product_category_name\n",
    "\n",
    "\n",
    "\"\"\"\n",
    "table=pd.read_sql_query(query,conn)\n",
    "table"
   ]
  },
  {
   "cell_type": "markdown",
   "id": "3cafcb44",
   "metadata": {
    "ExecuteTime": {
     "end_time": "2022-07-29T13:55:03.182497Z",
     "start_time": "2022-07-29T13:55:03.170535Z"
    }
   },
   "source": [
    "# Exercicios PA Bond - aula 7"
   ]
  },
  {
   "cell_type": "markdown",
   "id": "fca00489",
   "metadata": {
    "ExecuteTime": {
     "end_time": "2022-07-29T14:33:38.505743Z",
     "start_time": "2022-07-29T14:33:38.481742Z"
    }
   },
   "source": [
    "## . Quantos clientes únicos tiveram seu pedidos com status de “processing”,“shipped” e “delivered”, feitos entre os dias 01 e 31 de Outubro de 2016. Mostrar o resultado somente se o número total de clientes for acima de 5.\n"
   ]
  },
  {
   "cell_type": "code",
   "execution_count": 8,
   "id": "73d7761d",
   "metadata": {
    "ExecuteTime": {
     "end_time": "2022-07-29T14:37:16.372213Z",
     "start_time": "2022-07-29T14:37:15.551394Z"
    }
   },
   "outputs": [
    {
     "data": {
      "text/html": [
       "<div>\n",
       "<style scoped>\n",
       "    .dataframe tbody tr th:only-of-type {\n",
       "        vertical-align: middle;\n",
       "    }\n",
       "\n",
       "    .dataframe tbody tr th {\n",
       "        vertical-align: top;\n",
       "    }\n",
       "\n",
       "    .dataframe thead th {\n",
       "        text-align: right;\n",
       "    }\n",
       "</style>\n",
       "<table border=\"1\" class=\"dataframe\">\n",
       "  <thead>\n",
       "    <tr style=\"text-align: right;\">\n",
       "      <th></th>\n",
       "      <th>order_status</th>\n",
       "      <th>clientes_unicos</th>\n",
       "    </tr>\n",
       "  </thead>\n",
       "  <tbody>\n",
       "    <tr>\n",
       "      <th>0</th>\n",
       "      <td>delivered</td>\n",
       "      <td>265</td>\n",
       "    </tr>\n",
       "    <tr>\n",
       "      <th>1</th>\n",
       "      <td>shipped</td>\n",
       "      <td>8</td>\n",
       "    </tr>\n",
       "  </tbody>\n",
       "</table>\n",
       "</div>"
      ],
      "text/plain": [
       "  order_status  clientes_unicos\n",
       "0    delivered              265\n",
       "1      shipped                8"
      ]
     },
     "execution_count": 8,
     "metadata": {},
     "output_type": "execute_result"
    }
   ],
   "source": [
    "query=\"\"\"\n",
    "\n",
    "SELECT\n",
    "order_status,\n",
    "COUNT( DISTINCT customer_id ) AS clientes_unicos\n",
    "FROM orders o\n",
    "WHERE order_purchase_timestamp BETWEEN '2016-10-01' AND '2016-10-31'\n",
    "AND order_status IN ( 'processing', 'shipped', 'delivered' )\n",
    "GROUP BY order_status\n",
    "HAVING COUNT( DISTINCT customer_id ) > 5\n",
    "\n",
    "\"\"\"\n",
    "table=pd.read_sql_query(query,conn)\n",
    "table"
   ]
  },
  {
   "cell_type": "markdown",
   "id": "d2f6de13",
   "metadata": {},
   "source": [
    "## Mostre a quantidade total dos pedidos e o valor total do pagamento, para pagamentos entre 1 e 5 prestações ou um valor de pagamento acima de R$ 5000."
   ]
  },
  {
   "cell_type": "code",
   "execution_count": 28,
   "id": "6aef006f",
   "metadata": {
    "ExecuteTime": {
     "end_time": "2022-07-29T15:08:36.097922Z",
     "start_time": "2022-07-29T15:08:35.497954Z"
    }
   },
   "outputs": [
    {
     "data": {
      "text/html": [
       "<div>\n",
       "<style scoped>\n",
       "    .dataframe tbody tr th:only-of-type {\n",
       "        vertical-align: middle;\n",
       "    }\n",
       "\n",
       "    .dataframe tbody tr th {\n",
       "        vertical-align: top;\n",
       "    }\n",
       "\n",
       "    .dataframe thead th {\n",
       "        text-align: right;\n",
       "    }\n",
       "</style>\n",
       "<table border=\"1\" class=\"dataframe\">\n",
       "  <thead>\n",
       "    <tr style=\"text-align: right;\">\n",
       "      <th></th>\n",
       "      <th>payment_type</th>\n",
       "      <th>payment_installments</th>\n",
       "      <th>pedidos</th>\n",
       "      <th>SUM(payment_value)</th>\n",
       "    </tr>\n",
       "  </thead>\n",
       "  <tbody>\n",
       "    <tr>\n",
       "      <th>0</th>\n",
       "      <td>boleto</td>\n",
       "      <td>1</td>\n",
       "      <td>79120</td>\n",
       "      <td>1.136942e+07</td>\n",
       "    </tr>\n",
       "    <tr>\n",
       "      <th>1</th>\n",
       "      <td>credit_card</td>\n",
       "      <td>1</td>\n",
       "      <td>101816</td>\n",
       "      <td>9.707125e+06</td>\n",
       "    </tr>\n",
       "    <tr>\n",
       "      <th>2</th>\n",
       "      <td>credit_card</td>\n",
       "      <td>2</td>\n",
       "      <td>49652</td>\n",
       "      <td>6.317132e+06</td>\n",
       "    </tr>\n",
       "    <tr>\n",
       "      <th>3</th>\n",
       "      <td>credit_card</td>\n",
       "      <td>3</td>\n",
       "      <td>41844</td>\n",
       "      <td>5.964415e+06</td>\n",
       "    </tr>\n",
       "    <tr>\n",
       "      <th>4</th>\n",
       "      <td>credit_card</td>\n",
       "      <td>4</td>\n",
       "      <td>28392</td>\n",
       "      <td>4.655630e+06</td>\n",
       "    </tr>\n",
       "    <tr>\n",
       "      <th>5</th>\n",
       "      <td>credit_card</td>\n",
       "      <td>5</td>\n",
       "      <td>20956</td>\n",
       "      <td>3.844697e+06</td>\n",
       "    </tr>\n",
       "    <tr>\n",
       "      <th>6</th>\n",
       "      <td>debit_card</td>\n",
       "      <td>1</td>\n",
       "      <td>6116</td>\n",
       "      <td>8.719592e+05</td>\n",
       "    </tr>\n",
       "    <tr>\n",
       "      <th>7</th>\n",
       "      <td>voucher</td>\n",
       "      <td>1</td>\n",
       "      <td>23100</td>\n",
       "      <td>1.517747e+06</td>\n",
       "    </tr>\n",
       "  </tbody>\n",
       "</table>\n",
       "</div>"
      ],
      "text/plain": [
       "  payment_type  payment_installments  pedidos  SUM(payment_value)\n",
       "0       boleto                     1    79120        1.136942e+07\n",
       "1  credit_card                     1   101816        9.707125e+06\n",
       "2  credit_card                     2    49652        6.317132e+06\n",
       "3  credit_card                     3    41844        5.964415e+06\n",
       "4  credit_card                     4    28392        4.655630e+06\n",
       "5  credit_card                     5    20956        3.844697e+06\n",
       "6   debit_card                     1     6116        8.719592e+05\n",
       "7      voucher                     1    23100        1.517747e+06"
      ]
     },
     "execution_count": 28,
     "metadata": {},
     "output_type": "execute_result"
    }
   ],
   "source": [
    "query=\"\"\"\n",
    "\n",
    "SELECT\n",
    "    payment_type,\n",
    "    payment_installments,\n",
    "    COUNT( order_id ) AS pedidos,\n",
    "    SUM(payment_value)\n",
    "FROM order_payments op\n",
    "WHERE payment_installments IN( 1,2,3,4,5) AND op.payment_value BETWEEN 0 AND 5000\n",
    "\n",
    "GROUP BY payment_type, payment_installments\n",
    "HAVING COUNT( payment_value ) > 5000\n",
    "\n",
    "\"\"\"\n",
    "table=pd.read_sql_query(query,conn)\n",
    "table"
   ]
  },
  {
   "cell_type": "code",
   "execution_count": 30,
   "id": "0eaeb0ad",
   "metadata": {
    "ExecuteTime": {
     "end_time": "2022-07-29T15:13:12.892044Z",
     "start_time": "2022-07-29T15:13:12.316047Z"
    }
   },
   "outputs": [
    {
     "data": {
      "text/html": [
       "<div>\n",
       "<style scoped>\n",
       "    .dataframe tbody tr th:only-of-type {\n",
       "        vertical-align: middle;\n",
       "    }\n",
       "\n",
       "    .dataframe tbody tr th {\n",
       "        vertical-align: top;\n",
       "    }\n",
       "\n",
       "    .dataframe thead th {\n",
       "        text-align: right;\n",
       "    }\n",
       "</style>\n",
       "<table border=\"1\" class=\"dataframe\">\n",
       "  <thead>\n",
       "    <tr style=\"text-align: right;\">\n",
       "      <th></th>\n",
       "      <th>payment_type</th>\n",
       "      <th>payment_installments</th>\n",
       "      <th>pedidos</th>\n",
       "      <th>valor_total_pagamento</th>\n",
       "    </tr>\n",
       "  </thead>\n",
       "  <tbody>\n",
       "    <tr>\n",
       "      <th>0</th>\n",
       "      <td>boleto</td>\n",
       "      <td>1</td>\n",
       "      <td>79120</td>\n",
       "      <td>1.136942e+07</td>\n",
       "    </tr>\n",
       "    <tr>\n",
       "      <th>1</th>\n",
       "      <td>credit_card</td>\n",
       "      <td>1</td>\n",
       "      <td>101816</td>\n",
       "      <td>9.707125e+06</td>\n",
       "    </tr>\n",
       "    <tr>\n",
       "      <th>2</th>\n",
       "      <td>credit_card</td>\n",
       "      <td>2</td>\n",
       "      <td>49652</td>\n",
       "      <td>6.317132e+06</td>\n",
       "    </tr>\n",
       "    <tr>\n",
       "      <th>3</th>\n",
       "      <td>credit_card</td>\n",
       "      <td>3</td>\n",
       "      <td>41844</td>\n",
       "      <td>5.964415e+06</td>\n",
       "    </tr>\n",
       "    <tr>\n",
       "      <th>4</th>\n",
       "      <td>credit_card</td>\n",
       "      <td>4</td>\n",
       "      <td>28392</td>\n",
       "      <td>4.655630e+06</td>\n",
       "    </tr>\n",
       "    <tr>\n",
       "      <th>5</th>\n",
       "      <td>credit_card</td>\n",
       "      <td>5</td>\n",
       "      <td>20956</td>\n",
       "      <td>3.844697e+06</td>\n",
       "    </tr>\n",
       "    <tr>\n",
       "      <th>6</th>\n",
       "      <td>voucher</td>\n",
       "      <td>1</td>\n",
       "      <td>23100</td>\n",
       "      <td>1.517747e+06</td>\n",
       "    </tr>\n",
       "  </tbody>\n",
       "</table>\n",
       "</div>"
      ],
      "text/plain": [
       "  payment_type  payment_installments  pedidos  valor_total_pagamento\n",
       "0       boleto                     1    79120           1.136942e+07\n",
       "1  credit_card                     1   101816           9.707125e+06\n",
       "2  credit_card                     2    49652           6.317132e+06\n",
       "3  credit_card                     3    41844           5.964415e+06\n",
       "4  credit_card                     4    28392           4.655630e+06\n",
       "5  credit_card                     5    20956           3.844697e+06\n",
       "6      voucher                     1    23100           1.517747e+06"
      ]
     },
     "execution_count": 30,
     "metadata": {},
     "output_type": "execute_result"
    }
   ],
   "source": [
    "query=\"\"\"\n",
    "\n",
    "SELECT\n",
    "    payment_type,\n",
    "    payment_installments,\n",
    "    COUNT( op.order_id ) AS pedidos,\n",
    "    SUM( op.payment_value ) AS valor_total_pagamento\n",
    "FROM order_payments op\n",
    "WHERE op.payment_installments BETWEEN 1 AND 5\n",
    "AND op.payment_value BETWEEN 0 AND 5000\n",
    "GROUP BY payment_type, payment_installments\n",
    "HAVING COUNT( op.order_id ) > 15000\n",
    "\n",
    "\"\"\"\n",
    "table=pd.read_sql_query(query,conn)\n",
    "table"
   ]
  },
  {
   "cell_type": "markdown",
   "id": "fa76b0c1",
   "metadata": {},
   "source": [
    "##  Quantos produtos estão cadastrados nas categorias: perfumaria, brinquedos, esporte lazer e cama mesa, que possuem entre 5 e 10 fotos, um peso que não está entre 1 e 5 g, um altura maior que 10 cm, uma largura maior que 20 cm. Mostra somente as linhas com mais de 10 produtos únicos.\n"
   ]
  },
  {
   "cell_type": "markdown",
   "id": "11b824ad",
   "metadata": {
    "ExecuteTime": {
     "end_time": "2022-07-29T14:38:47.198541Z",
     "start_time": "2022-07-29T14:38:47.182541Z"
    }
   },
   "source": [
    "##  Refazer a consulta SQL abaixo, usando os operadores de intervalo."
   ]
  },
  {
   "cell_type": "markdown",
   "id": "f4fb6901",
   "metadata": {},
   "source": [
    "## Qual a quantidade de cidades únicas dos vendedores no estado de São Paulo ou Rio de Janeiro com a latitude maior que -24.54 e longitude menor que -45.63?\n"
   ]
  },
  {
   "cell_type": "markdown",
   "id": "2dbb60bf",
   "metadata": {
    "ExecuteTime": {
     "end_time": "2022-07-29T14:40:08.419714Z",
     "start_time": "2022-07-29T14:40:08.395751Z"
    }
   },
   "source": [
    "##  Quantos produtos estão cadastrados em qualquer categorias que comece com a letra “a” e termine com a letra “o” e que possuem mais de 5 fotos? Mostrar as linhas com mais de 10 produtos.\n"
   ]
  },
  {
   "cell_type": "markdown",
   "id": "de1debd9",
   "metadata": {},
   "source": [
    "## Qual o número de clientes únicos, agrupados por estado e por cidades que comecem com a letra “m”, tem a letra “o” e terminem com a letra “a”? Mostrar os resultados somente para o número de clientes únicos maior que 10.\n"
   ]
  },
  {
   "cell_type": "code",
   "execution_count": null,
   "id": "b58150f6",
   "metadata": {},
   "outputs": [],
   "source": []
  }
 ],
 "metadata": {
  "hide_input": false,
  "kernelspec": {
   "display_name": "Python 3 (ipykernel)",
   "language": "python",
   "name": "python3"
  },
  "language_info": {
   "codemirror_mode": {
    "name": "ipython",
    "version": 3
   },
   "file_extension": ".py",
   "mimetype": "text/x-python",
   "name": "python",
   "nbconvert_exporter": "python",
   "pygments_lexer": "ipython3",
   "version": "3.8.13"
  },
  "latex_envs": {
   "LaTeX_envs_menu_present": true,
   "autoclose": false,
   "autocomplete": true,
   "bibliofile": "biblio.bib",
   "cite_by": "apalike",
   "current_citInitial": 1,
   "eqLabelWithNumbers": true,
   "eqNumInitial": 1,
   "hotkeys": {
    "equation": "Ctrl-E",
    "itemize": "Ctrl-I"
   },
   "labels_anchors": false,
   "latex_user_defs": false,
   "report_style_numbering": false,
   "user_envs_cfg": false
  },
  "nbTranslate": {
   "displayLangs": [
    "*"
   ],
   "hotkey": "alt-t",
   "langInMainMenu": true,
   "sourceLang": "en",
   "targetLang": "fr",
   "useGoogleTranslate": true
  },
  "toc": {
   "base_numbering": 1,
   "nav_menu": {},
   "number_sections": true,
   "sideBar": true,
   "skip_h1_title": false,
   "title_cell": "Table of Contents",
   "title_sidebar": "Contents",
   "toc_cell": false,
   "toc_position": {
    "height": "calc(100% - 180px)",
    "left": "10px",
    "top": "150px",
    "width": "303.797px"
   },
   "toc_section_display": true,
   "toc_window_display": true
  }
 },
 "nbformat": 4,
 "nbformat_minor": 5
}
