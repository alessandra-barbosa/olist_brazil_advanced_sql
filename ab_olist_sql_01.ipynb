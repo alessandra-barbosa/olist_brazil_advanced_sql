{
 "cells": [
  {
   "cell_type": "markdown",
   "id": "c54de64a-881d-42e0-b4a9-5cfb565a52f7",
   "metadata": {},
   "source": [
    "# Business Problem"
   ]
  },
  {
   "cell_type": "markdown",
   "id": "50ce3975-0e9d-4d89-a737-e34dc8063a71",
   "metadata": {},
   "source": [
    "Explorar os dados e trazer repostas sobre o que realmente está acontecendo com o negócio. Todas as segundas-feira, você precisa enviar as respostas de algumas perguntas feitas pelos gerentes.\n",
    "Semanalmente, você precisa enviar esse relatório contendo as respostas das perguntas do CEO."
   ]
  },
  {
   "cell_type": "markdown",
   "id": "bdef46b4-0749-4b25-a4af-5a23cb4cfdcb",
   "metadata": {},
   "source": [
    "## Dataset"
   ]
  },
  {
   "cell_type": "markdown",
   "id": "58e6601c-c112-48fc-86c8-e5aa184479d5",
   "metadata": {},
   "source": [
    "Olist ( https://www.kaggle.com/datasets/olistbr/brazilian-ecommerce )"
   ]
  },
  {
   "cell_type": "code",
   "execution_count": null,
   "id": "09231648-d5b6-4d6c-abf3-17b83190f403",
   "metadata": {},
   "outputs": [],
   "source": [
    "tesy"
   ]
  },
  {
   "cell_type": "code",
   "execution_count": null,
   "id": "ba7426f0-29f0-4cca-a825-c9d2c9dd483d",
   "metadata": {},
   "outputs": [],
   "source": []
  }
 ],
 "metadata": {
  "kernelspec": {
   "display_name": "Python 3 (ipykernel)",
   "language": "python",
   "name": "python3"
  },
  "language_info": {
   "codemirror_mode": {
    "name": "ipython",
    "version": 3
   },
   "file_extension": ".py",
   "mimetype": "text/x-python",
   "name": "python",
   "nbconvert_exporter": "python",
   "pygments_lexer": "ipython3",
   "version": "3.8.13"
  },
  "toc-autonumbering": true
 },
 "nbformat": 4,
 "nbformat_minor": 5
}
