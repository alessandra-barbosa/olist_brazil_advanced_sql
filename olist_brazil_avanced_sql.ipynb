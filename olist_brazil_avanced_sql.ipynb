{
 "cells": [
  {
   "cell_type": "markdown",
   "id": "e5371364",
   "metadata": {
    "heading_collapsed": true
   },
   "source": [
    "# Curso del DS ao DEV "
   ]
  },
  {
   "cell_type": "markdown",
   "id": "bc9449ea",
   "metadata": {
    "hidden": true
   },
   "source": [
    "## Inserir dados da tabela do BD"
   ]
  },
  {
   "cell_type": "markdown",
   "id": "42a41198",
   "metadata": {
    "ExecuteTime": {
     "end_time": "2021-08-06T20:17:47.735704Z",
     "start_time": "2021-08-06T20:17:47.732258Z"
    },
    "hidden": true
   },
   "source": [
    "## Connect to database"
   ]
  },
  {
   "cell_type": "code",
   "execution_count": 3,
   "id": "6f1f8b01",
   "metadata": {
    "ExecuteTime": {
     "end_time": "2022-07-27T14:06:56.218450Z",
     "start_time": "2022-07-27T14:06:54.534453Z"
    },
    "hidden": true
   },
   "outputs": [],
   "source": [
    "import sqlite3 \n",
    "import sqlalchemy as sa\n",
    "from sqlalchemy import create_engine\n",
    "import pandas as pd"
   ]
  },
  {
   "cell_type": "code",
   "execution_count": 4,
   "id": "73997a26",
   "metadata": {
    "ExecuteTime": {
     "end_time": "2022-07-27T14:06:56.249916Z",
     "start_time": "2022-07-27T14:06:56.219154Z"
    },
    "hidden": true
   },
   "outputs": [],
   "source": [
    "## 1 - Criar a conexao do bd\n",
    "db=create_engine('sqlite:///dataset///db_olist.sqlite',echo=False)\n",
    "conn=db.connect()"
   ]
  },
  {
   "cell_type": "markdown",
   "id": "c0c768c1",
   "metadata": {
    "hidden": true
   },
   "source": [
    "## Loading Datasets"
   ]
  },
  {
   "cell_type": "code",
   "execution_count": 5,
   "id": "baaf7a3d",
   "metadata": {
    "ExecuteTime": {
     "end_time": "2022-07-27T14:06:58.098267Z",
     "start_time": "2022-07-27T14:06:58.086264Z"
    },
    "hidden": true
   },
   "outputs": [],
   "source": [
    "## 2- listar todos os bd importados \n",
    "#!ls"
   ]
  },
  {
   "cell_type": "code",
   "execution_count": 6,
   "id": "f6145e8a",
   "metadata": {
    "ExecuteTime": {
     "end_time": "2022-07-27T14:06:58.859678Z",
     "start_time": "2022-07-27T14:06:58.725849Z"
    },
    "hidden": true
   },
   "outputs": [],
   "source": [
    "## 3- ler a bd com pandas\n",
    "df_costumer = pd.read_csv('dataset/olist_customers_dataset.csv')"
   ]
  },
  {
   "cell_type": "markdown",
   "id": "dcb791d3",
   "metadata": {
    "hidden": true
   },
   "source": [
    "### customer"
   ]
  },
  {
   "cell_type": "code",
   "execution_count": 46,
   "id": "f1a615ed",
   "metadata": {
    "ExecuteTime": {
     "end_time": "2022-07-27T12:36:54.984542Z",
     "start_time": "2022-07-27T12:36:54.743094Z"
    },
    "hidden": true,
    "scrolled": true
   },
   "outputs": [
    {
     "ename": "OperationalError",
     "evalue": "(sqlite3.OperationalError) table customer already exists\n[SQL: \n\nCREATE TABLE customer(\n    customer_id                 TEXT,\n    customer_unique_id          TEST,\n    customer_zip_code_prefix    INTERGER,\n    customer_city               TEXT,\n    customer_state              TEXT\n    )\n    ]\n(Background on this error at: https://sqlalche.me/e/14/e3q8)",
     "output_type": "error",
     "traceback": [
      "\u001b[1;31m---------------------------------------------------------------------------\u001b[0m",
      "\u001b[1;31mOperationalError\u001b[0m                          Traceback (most recent call last)",
      "File \u001b[1;32m~\\Anaconda3\\envs\\zero_ds\\lib\\site-packages\\sqlalchemy\\engine\\base.py:1819\u001b[0m, in \u001b[0;36mConnection._execute_context\u001b[1;34m(self, dialect, constructor, statement, parameters, execution_options, *args, **kw)\u001b[0m\n\u001b[0;32m   1818\u001b[0m     \u001b[38;5;28;01mif\u001b[39;00m \u001b[38;5;129;01mnot\u001b[39;00m evt_handled:\n\u001b[1;32m-> 1819\u001b[0m         \u001b[38;5;28;43mself\u001b[39;49m\u001b[38;5;241;43m.\u001b[39;49m\u001b[43mdialect\u001b[49m\u001b[38;5;241;43m.\u001b[39;49m\u001b[43mdo_execute\u001b[49m\u001b[43m(\u001b[49m\n\u001b[0;32m   1820\u001b[0m \u001b[43m            \u001b[49m\u001b[43mcursor\u001b[49m\u001b[43m,\u001b[49m\u001b[43m \u001b[49m\u001b[43mstatement\u001b[49m\u001b[43m,\u001b[49m\u001b[43m \u001b[49m\u001b[43mparameters\u001b[49m\u001b[43m,\u001b[49m\u001b[43m \u001b[49m\u001b[43mcontext\u001b[49m\n\u001b[0;32m   1821\u001b[0m \u001b[43m        \u001b[49m\u001b[43m)\u001b[49m\n\u001b[0;32m   1823\u001b[0m \u001b[38;5;28;01mif\u001b[39;00m \u001b[38;5;28mself\u001b[39m\u001b[38;5;241m.\u001b[39m_has_events \u001b[38;5;129;01mor\u001b[39;00m \u001b[38;5;28mself\u001b[39m\u001b[38;5;241m.\u001b[39mengine\u001b[38;5;241m.\u001b[39m_has_events:\n",
      "File \u001b[1;32m~\\Anaconda3\\envs\\zero_ds\\lib\\site-packages\\sqlalchemy\\engine\\default.py:732\u001b[0m, in \u001b[0;36mDefaultDialect.do_execute\u001b[1;34m(self, cursor, statement, parameters, context)\u001b[0m\n\u001b[0;32m    731\u001b[0m \u001b[38;5;28;01mdef\u001b[39;00m \u001b[38;5;21mdo_execute\u001b[39m(\u001b[38;5;28mself\u001b[39m, cursor, statement, parameters, context\u001b[38;5;241m=\u001b[39m\u001b[38;5;28;01mNone\u001b[39;00m):\n\u001b[1;32m--> 732\u001b[0m     \u001b[43mcursor\u001b[49m\u001b[38;5;241;43m.\u001b[39;49m\u001b[43mexecute\u001b[49m\u001b[43m(\u001b[49m\u001b[43mstatement\u001b[49m\u001b[43m,\u001b[49m\u001b[43m \u001b[49m\u001b[43mparameters\u001b[49m\u001b[43m)\u001b[49m\n",
      "\u001b[1;31mOperationalError\u001b[0m: table customer already exists",
      "\nThe above exception was the direct cause of the following exception:\n",
      "\u001b[1;31mOperationalError\u001b[0m                          Traceback (most recent call last)",
      "Input \u001b[1;32mIn [46]\u001b[0m, in \u001b[0;36m<cell line: 17>\u001b[1;34m()\u001b[0m\n\u001b[0;32m      5\u001b[0m schema_customer \u001b[38;5;241m=\u001b[39m \u001b[38;5;124m\"\"\"\u001b[39m\n\u001b[0;32m      6\u001b[0m \n\u001b[0;32m      7\u001b[0m \u001b[38;5;124mCREATE TABLE customer(\u001b[39m\n\u001b[1;32m   (...)\u001b[0m\n\u001b[0;32m     13\u001b[0m \u001b[38;5;124m    )\u001b[39m\n\u001b[0;32m     14\u001b[0m \u001b[38;5;124m    \u001b[39m\u001b[38;5;124m\"\"\"\u001b[39m\n\u001b[0;32m     16\u001b[0m \u001b[38;5;66;03m## 5- executar o schema\u001b[39;00m\n\u001b[1;32m---> 17\u001b[0m \u001b[43mconn\u001b[49m\u001b[38;5;241;43m.\u001b[39;49m\u001b[43mexecute\u001b[49m\u001b[43m(\u001b[49m\u001b[43mschema_customer\u001b[49m\u001b[43m)\u001b[49m\n\u001b[0;32m     20\u001b[0m \u001b[38;5;66;03m## 6- insert data into table (append lista apos ou replace lista substituindo)\u001b[39;00m\n\u001b[0;32m     21\u001b[0m df_costumer\u001b[38;5;241m.\u001b[39mto_sql(\u001b[38;5;124m'\u001b[39m\u001b[38;5;124mcustomer\u001b[39m\u001b[38;5;124m'\u001b[39m, con\u001b[38;5;241m=\u001b[39mconn, if_exists\u001b[38;5;241m=\u001b[39m\u001b[38;5;124m'\u001b[39m\u001b[38;5;124mappend\u001b[39m\u001b[38;5;124m'\u001b[39m, index\u001b[38;5;241m=\u001b[39m\u001b[38;5;28;01mFalse\u001b[39;00m)\n",
      "File \u001b[1;32m~\\Anaconda3\\envs\\zero_ds\\lib\\site-packages\\sqlalchemy\\engine\\base.py:1291\u001b[0m, in \u001b[0;36mConnection.execute\u001b[1;34m(self, statement, *multiparams, **params)\u001b[0m\n\u001b[0;32m   1282\u001b[0m \u001b[38;5;28;01mif\u001b[39;00m \u001b[38;5;28misinstance\u001b[39m(statement, util\u001b[38;5;241m.\u001b[39mstring_types):\n\u001b[0;32m   1283\u001b[0m     util\u001b[38;5;241m.\u001b[39mwarn_deprecated_20(\n\u001b[0;32m   1284\u001b[0m         \u001b[38;5;124m\"\u001b[39m\u001b[38;5;124mPassing a string to Connection.execute() is \u001b[39m\u001b[38;5;124m\"\u001b[39m\n\u001b[0;32m   1285\u001b[0m         \u001b[38;5;124m\"\u001b[39m\u001b[38;5;124mdeprecated and will be removed in version 2.0.  Use the \u001b[39m\u001b[38;5;124m\"\u001b[39m\n\u001b[1;32m   (...)\u001b[0m\n\u001b[0;32m   1288\u001b[0m         \u001b[38;5;124m\"\u001b[39m\u001b[38;5;124mdriver-level SQL string.\u001b[39m\u001b[38;5;124m\"\u001b[39m\n\u001b[0;32m   1289\u001b[0m     )\n\u001b[1;32m-> 1291\u001b[0m     \u001b[38;5;28;01mreturn\u001b[39;00m \u001b[38;5;28;43mself\u001b[39;49m\u001b[38;5;241;43m.\u001b[39;49m\u001b[43m_exec_driver_sql\u001b[49m\u001b[43m(\u001b[49m\n\u001b[0;32m   1292\u001b[0m \u001b[43m        \u001b[49m\u001b[43mstatement\u001b[49m\u001b[43m,\u001b[49m\n\u001b[0;32m   1293\u001b[0m \u001b[43m        \u001b[49m\u001b[43mmultiparams\u001b[49m\u001b[43m,\u001b[49m\n\u001b[0;32m   1294\u001b[0m \u001b[43m        \u001b[49m\u001b[43mparams\u001b[49m\u001b[43m,\u001b[49m\n\u001b[0;32m   1295\u001b[0m \u001b[43m        \u001b[49m\u001b[43m_EMPTY_EXECUTION_OPTS\u001b[49m\u001b[43m,\u001b[49m\n\u001b[0;32m   1296\u001b[0m \u001b[43m        \u001b[49m\u001b[43mfuture\u001b[49m\u001b[38;5;241;43m=\u001b[39;49m\u001b[38;5;28;43;01mFalse\u001b[39;49;00m\u001b[43m,\u001b[49m\n\u001b[0;32m   1297\u001b[0m \u001b[43m    \u001b[49m\u001b[43m)\u001b[49m\n\u001b[0;32m   1299\u001b[0m \u001b[38;5;28;01mtry\u001b[39;00m:\n\u001b[0;32m   1300\u001b[0m     meth \u001b[38;5;241m=\u001b[39m statement\u001b[38;5;241m.\u001b[39m_execute_on_connection\n",
      "File \u001b[1;32m~\\Anaconda3\\envs\\zero_ds\\lib\\site-packages\\sqlalchemy\\engine\\base.py:1595\u001b[0m, in \u001b[0;36mConnection._exec_driver_sql\u001b[1;34m(self, statement, multiparams, params, execution_options, future)\u001b[0m\n\u001b[0;32m   1585\u001b[0m         (\n\u001b[0;32m   1586\u001b[0m             statement,\n\u001b[0;32m   1587\u001b[0m             distilled_params,\n\u001b[1;32m   (...)\u001b[0m\n\u001b[0;32m   1591\u001b[0m             statement, distilled_parameters, execution_options\n\u001b[0;32m   1592\u001b[0m         )\n\u001b[0;32m   1594\u001b[0m dialect \u001b[38;5;241m=\u001b[39m \u001b[38;5;28mself\u001b[39m\u001b[38;5;241m.\u001b[39mdialect\n\u001b[1;32m-> 1595\u001b[0m ret \u001b[38;5;241m=\u001b[39m \u001b[38;5;28;43mself\u001b[39;49m\u001b[38;5;241;43m.\u001b[39;49m\u001b[43m_execute_context\u001b[49m\u001b[43m(\u001b[49m\n\u001b[0;32m   1596\u001b[0m \u001b[43m    \u001b[49m\u001b[43mdialect\u001b[49m\u001b[43m,\u001b[49m\n\u001b[0;32m   1597\u001b[0m \u001b[43m    \u001b[49m\u001b[43mdialect\u001b[49m\u001b[38;5;241;43m.\u001b[39;49m\u001b[43mexecution_ctx_cls\u001b[49m\u001b[38;5;241;43m.\u001b[39;49m\u001b[43m_init_statement\u001b[49m\u001b[43m,\u001b[49m\n\u001b[0;32m   1598\u001b[0m \u001b[43m    \u001b[49m\u001b[43mstatement\u001b[49m\u001b[43m,\u001b[49m\n\u001b[0;32m   1599\u001b[0m \u001b[43m    \u001b[49m\u001b[43mdistilled_parameters\u001b[49m\u001b[43m,\u001b[49m\n\u001b[0;32m   1600\u001b[0m \u001b[43m    \u001b[49m\u001b[43mexecution_options\u001b[49m\u001b[43m,\u001b[49m\n\u001b[0;32m   1601\u001b[0m \u001b[43m    \u001b[49m\u001b[43mstatement\u001b[49m\u001b[43m,\u001b[49m\n\u001b[0;32m   1602\u001b[0m \u001b[43m    \u001b[49m\u001b[43mdistilled_parameters\u001b[49m\u001b[43m,\u001b[49m\n\u001b[0;32m   1603\u001b[0m \u001b[43m\u001b[49m\u001b[43m)\u001b[49m\n\u001b[0;32m   1605\u001b[0m \u001b[38;5;28;01mif\u001b[39;00m \u001b[38;5;129;01mnot\u001b[39;00m future:\n\u001b[0;32m   1606\u001b[0m     \u001b[38;5;28;01mif\u001b[39;00m \u001b[38;5;28mself\u001b[39m\u001b[38;5;241m.\u001b[39m_has_events \u001b[38;5;129;01mor\u001b[39;00m \u001b[38;5;28mself\u001b[39m\u001b[38;5;241m.\u001b[39mengine\u001b[38;5;241m.\u001b[39m_has_events:\n",
      "File \u001b[1;32m~\\Anaconda3\\envs\\zero_ds\\lib\\site-packages\\sqlalchemy\\engine\\base.py:1862\u001b[0m, in \u001b[0;36mConnection._execute_context\u001b[1;34m(self, dialect, constructor, statement, parameters, execution_options, *args, **kw)\u001b[0m\n\u001b[0;32m   1859\u001b[0m             branched\u001b[38;5;241m.\u001b[39mclose()\n\u001b[0;32m   1861\u001b[0m \u001b[38;5;28;01mexcept\u001b[39;00m \u001b[38;5;167;01mBaseException\u001b[39;00m \u001b[38;5;28;01mas\u001b[39;00m e:\n\u001b[1;32m-> 1862\u001b[0m     \u001b[38;5;28;43mself\u001b[39;49m\u001b[38;5;241;43m.\u001b[39;49m\u001b[43m_handle_dbapi_exception\u001b[49m\u001b[43m(\u001b[49m\n\u001b[0;32m   1863\u001b[0m \u001b[43m        \u001b[49m\u001b[43me\u001b[49m\u001b[43m,\u001b[49m\u001b[43m \u001b[49m\u001b[43mstatement\u001b[49m\u001b[43m,\u001b[49m\u001b[43m \u001b[49m\u001b[43mparameters\u001b[49m\u001b[43m,\u001b[49m\u001b[43m \u001b[49m\u001b[43mcursor\u001b[49m\u001b[43m,\u001b[49m\u001b[43m \u001b[49m\u001b[43mcontext\u001b[49m\n\u001b[0;32m   1864\u001b[0m \u001b[43m    \u001b[49m\u001b[43m)\u001b[49m\n\u001b[0;32m   1866\u001b[0m \u001b[38;5;28;01mreturn\u001b[39;00m result\n",
      "File \u001b[1;32m~\\Anaconda3\\envs\\zero_ds\\lib\\site-packages\\sqlalchemy\\engine\\base.py:2043\u001b[0m, in \u001b[0;36mConnection._handle_dbapi_exception\u001b[1;34m(self, e, statement, parameters, cursor, context)\u001b[0m\n\u001b[0;32m   2041\u001b[0m     util\u001b[38;5;241m.\u001b[39mraise_(newraise, with_traceback\u001b[38;5;241m=\u001b[39mexc_info[\u001b[38;5;241m2\u001b[39m], from_\u001b[38;5;241m=\u001b[39me)\n\u001b[0;32m   2042\u001b[0m \u001b[38;5;28;01melif\u001b[39;00m should_wrap:\n\u001b[1;32m-> 2043\u001b[0m     \u001b[43mutil\u001b[49m\u001b[38;5;241;43m.\u001b[39;49m\u001b[43mraise_\u001b[49m\u001b[43m(\u001b[49m\n\u001b[0;32m   2044\u001b[0m \u001b[43m        \u001b[49m\u001b[43msqlalchemy_exception\u001b[49m\u001b[43m,\u001b[49m\u001b[43m \u001b[49m\u001b[43mwith_traceback\u001b[49m\u001b[38;5;241;43m=\u001b[39;49m\u001b[43mexc_info\u001b[49m\u001b[43m[\u001b[49m\u001b[38;5;241;43m2\u001b[39;49m\u001b[43m]\u001b[49m\u001b[43m,\u001b[49m\u001b[43m \u001b[49m\u001b[43mfrom_\u001b[49m\u001b[38;5;241;43m=\u001b[39;49m\u001b[43me\u001b[49m\n\u001b[0;32m   2045\u001b[0m \u001b[43m    \u001b[49m\u001b[43m)\u001b[49m\n\u001b[0;32m   2046\u001b[0m \u001b[38;5;28;01melse\u001b[39;00m:\n\u001b[0;32m   2047\u001b[0m     util\u001b[38;5;241m.\u001b[39mraise_(exc_info[\u001b[38;5;241m1\u001b[39m], with_traceback\u001b[38;5;241m=\u001b[39mexc_info[\u001b[38;5;241m2\u001b[39m])\n",
      "File \u001b[1;32m~\\Anaconda3\\envs\\zero_ds\\lib\\site-packages\\sqlalchemy\\util\\compat.py:208\u001b[0m, in \u001b[0;36mraise_\u001b[1;34m(***failed resolving arguments***)\u001b[0m\n\u001b[0;32m    205\u001b[0m     exception\u001b[38;5;241m.\u001b[39m__cause__ \u001b[38;5;241m=\u001b[39m replace_context\n\u001b[0;32m    207\u001b[0m \u001b[38;5;28;01mtry\u001b[39;00m:\n\u001b[1;32m--> 208\u001b[0m     \u001b[38;5;28;01mraise\u001b[39;00m exception\n\u001b[0;32m    209\u001b[0m \u001b[38;5;28;01mfinally\u001b[39;00m:\n\u001b[0;32m    210\u001b[0m     \u001b[38;5;66;03m# credit to\u001b[39;00m\n\u001b[0;32m    211\u001b[0m     \u001b[38;5;66;03m# https://cosmicpercolator.com/2016/01/13/exception-leaks-in-python-2-and-3/\u001b[39;00m\n\u001b[0;32m    212\u001b[0m     \u001b[38;5;66;03m# as the __traceback__ object creates a cycle\u001b[39;00m\n\u001b[0;32m    213\u001b[0m     \u001b[38;5;28;01mdel\u001b[39;00m exception, replace_context, from_, with_traceback\n",
      "File \u001b[1;32m~\\Anaconda3\\envs\\zero_ds\\lib\\site-packages\\sqlalchemy\\engine\\base.py:1819\u001b[0m, in \u001b[0;36mConnection._execute_context\u001b[1;34m(self, dialect, constructor, statement, parameters, execution_options, *args, **kw)\u001b[0m\n\u001b[0;32m   1817\u001b[0m                 \u001b[38;5;28;01mbreak\u001b[39;00m\n\u001b[0;32m   1818\u001b[0m     \u001b[38;5;28;01mif\u001b[39;00m \u001b[38;5;129;01mnot\u001b[39;00m evt_handled:\n\u001b[1;32m-> 1819\u001b[0m         \u001b[38;5;28;43mself\u001b[39;49m\u001b[38;5;241;43m.\u001b[39;49m\u001b[43mdialect\u001b[49m\u001b[38;5;241;43m.\u001b[39;49m\u001b[43mdo_execute\u001b[49m\u001b[43m(\u001b[49m\n\u001b[0;32m   1820\u001b[0m \u001b[43m            \u001b[49m\u001b[43mcursor\u001b[49m\u001b[43m,\u001b[49m\u001b[43m \u001b[49m\u001b[43mstatement\u001b[49m\u001b[43m,\u001b[49m\u001b[43m \u001b[49m\u001b[43mparameters\u001b[49m\u001b[43m,\u001b[49m\u001b[43m \u001b[49m\u001b[43mcontext\u001b[49m\n\u001b[0;32m   1821\u001b[0m \u001b[43m        \u001b[49m\u001b[43m)\u001b[49m\n\u001b[0;32m   1823\u001b[0m \u001b[38;5;28;01mif\u001b[39;00m \u001b[38;5;28mself\u001b[39m\u001b[38;5;241m.\u001b[39m_has_events \u001b[38;5;129;01mor\u001b[39;00m \u001b[38;5;28mself\u001b[39m\u001b[38;5;241m.\u001b[39mengine\u001b[38;5;241m.\u001b[39m_has_events:\n\u001b[0;32m   1824\u001b[0m     \u001b[38;5;28mself\u001b[39m\u001b[38;5;241m.\u001b[39mdispatch\u001b[38;5;241m.\u001b[39mafter_cursor_execute(\n\u001b[0;32m   1825\u001b[0m         \u001b[38;5;28mself\u001b[39m,\n\u001b[0;32m   1826\u001b[0m         cursor,\n\u001b[1;32m   (...)\u001b[0m\n\u001b[0;32m   1830\u001b[0m         context\u001b[38;5;241m.\u001b[39mexecutemany,\n\u001b[0;32m   1831\u001b[0m     )\n",
      "File \u001b[1;32m~\\Anaconda3\\envs\\zero_ds\\lib\\site-packages\\sqlalchemy\\engine\\default.py:732\u001b[0m, in \u001b[0;36mDefaultDialect.do_execute\u001b[1;34m(self, cursor, statement, parameters, context)\u001b[0m\n\u001b[0;32m    731\u001b[0m \u001b[38;5;28;01mdef\u001b[39;00m \u001b[38;5;21mdo_execute\u001b[39m(\u001b[38;5;28mself\u001b[39m, cursor, statement, parameters, context\u001b[38;5;241m=\u001b[39m\u001b[38;5;28;01mNone\u001b[39;00m):\n\u001b[1;32m--> 732\u001b[0m     \u001b[43mcursor\u001b[49m\u001b[38;5;241;43m.\u001b[39;49m\u001b[43mexecute\u001b[49m\u001b[43m(\u001b[49m\u001b[43mstatement\u001b[49m\u001b[43m,\u001b[49m\u001b[43m \u001b[49m\u001b[43mparameters\u001b[49m\u001b[43m)\u001b[49m\n",
      "\u001b[1;31mOperationalError\u001b[0m: (sqlite3.OperationalError) table customer already exists\n[SQL: \n\nCREATE TABLE customer(\n    customer_id                 TEXT,\n    customer_unique_id          TEST,\n    customer_zip_code_prefix    INTERGER,\n    customer_city               TEXT,\n    customer_state              TEXT\n    )\n    ]\n(Background on this error at: https://sqlalche.me/e/14/e3q8)"
     ]
    }
   ],
   "source": [
    "\n",
    "## 4- criar um esquema com o nome das colunas e o tipo de dados (TEXT, INTERGER, REAL)\n",
    "schema_customer = \"\"\"\n",
    "\n",
    "CREATE TABLE customer(\n",
    "    customer_id                 TEXT,\n",
    "    customer_unique_id          TEST,\n",
    "    customer_zip_code_prefix    INTERGER,\n",
    "    customer_city               TEXT,\n",
    "    customer_state              TEXT\n",
    "    )\n",
    "    \"\"\"\n",
    "\n",
    "## 5- executar o schema\n",
    "conn.execute(schema_customer)\n",
    "\n",
    "\n",
    "## 6- insert data into table (append lista apos ou replace lista substituindo)\n",
    "df_costumer.to_sql('customer', con=conn, if_exists='append', index=False)\n"
   ]
  },
  {
   "cell_type": "markdown",
   "id": "19a978fd",
   "metadata": {
    "hidden": true
   },
   "source": [
    "### geolocation"
   ]
  },
  {
   "cell_type": "code",
   "execution_count": 28,
   "id": "0b6ad87b",
   "metadata": {
    "ExecuteTime": {
     "end_time": "2022-07-27T09:45:52.208696Z",
     "start_time": "2022-07-27T09:45:45.635367Z"
    },
    "hidden": true
   },
   "outputs": [
    {
     "data": {
      "text/plain": [
       "1000163"
      ]
     },
     "execution_count": 28,
     "metadata": {},
     "output_type": "execute_result"
    }
   ],
   "source": [
    "df_geolocation = pd.read_csv('dataset/olist_geolocation_dataset.csv')\n",
    "\n",
    "\n",
    "schema_geolocation = \"\"\"\n",
    "\n",
    "CREATE TABLE geolocation(\n",
    "\n",
    "    geolocation_zip_code_prefix    INTERGER,\n",
    "    geolocation_lat                REAL,\n",
    "    geolocation_lng                REAL,\n",
    "    geolocation_city               TEXT,\n",
    "    geolocation_state              TEXT\n",
    "\n",
    "\n",
    ")\n",
    "\"\"\"\n",
    "\n",
    "## create schema\n",
    "#conn.execute(schema_geolocation)\n",
    "\n",
    "\n",
    "## insert data into table \n",
    "df_geolocation.to_sql('geolocation', con=conn, if_exists='append', index=False)\n"
   ]
  },
  {
   "cell_type": "markdown",
   "id": "ebfda9ef",
   "metadata": {
    "hidden": true
   },
   "source": [
    "### order_items"
   ]
  },
  {
   "cell_type": "code",
   "execution_count": 29,
   "id": "8fe15626",
   "metadata": {
    "ExecuteTime": {
     "end_time": "2022-07-27T09:45:59.483917Z",
     "start_time": "2022-07-27T09:45:58.451466Z"
    },
    "hidden": true
   },
   "outputs": [
    {
     "data": {
      "text/plain": [
       "112650"
      ]
     },
     "execution_count": 29,
     "metadata": {},
     "output_type": "execute_result"
    }
   ],
   "source": [
    "df_order_items = pd.read_csv('dataset/olist_order_items_dataset.csv')\n",
    "\n",
    "\n",
    "schema_order_items = \"\"\"\n",
    "\n",
    "CREATE TABLE order_items(\n",
    "\n",
    "    order_id                TEXT,\n",
    "    order_item_id           INTERGER,\n",
    "    product_id              TEXT,\n",
    "    seller_id               TEXT,\n",
    "    shipping_limit_date     TEXT,\n",
    "    price                   REAL,\n",
    "    freight_value           REAL\n",
    "\n",
    ")\n",
    "\n",
    "\"\"\"\n",
    "\n",
    "## create schema\n",
    "#conn.execute(schema_order_items)\n",
    "\n",
    "\n",
    "## insert data into table \n",
    "df_order_items.to_sql('order_items', con=conn, if_exists='append', index=False)\n"
   ]
  },
  {
   "cell_type": "markdown",
   "id": "77b9417f",
   "metadata": {
    "hidden": true
   },
   "source": [
    "### order_payments"
   ]
  },
  {
   "cell_type": "code",
   "execution_count": 30,
   "id": "c50e849b",
   "metadata": {
    "ExecuteTime": {
     "end_time": "2022-07-27T09:46:04.849348Z",
     "start_time": "2022-07-27T09:46:04.082850Z"
    },
    "hidden": true
   },
   "outputs": [
    {
     "data": {
      "text/plain": [
       "103886"
      ]
     },
     "execution_count": 30,
     "metadata": {},
     "output_type": "execute_result"
    }
   ],
   "source": [
    "df_order_payments = pd.read_csv('dataset/olist_order_payments_dataset.csv')\n",
    "\n",
    "\n",
    "schema_order_payments = \"\"\"\n",
    "\n",
    "CREATE TABLE order_payments(\n",
    "\n",
    "    order_id                  TEXT,\n",
    "    payment_sequential        INTERGER,\n",
    "    payment_type              TEXT,\n",
    "    payment_installments      INTERGER,\n",
    "    payment_value             REAL\n",
    "\n",
    ")\n",
    "\n",
    "\"\"\"\n",
    "\n",
    "## create schema\n",
    "#conn.execute(schema_order_payments)\n",
    "\n",
    "\n",
    "## insert data into table \n",
    "df_order_payments.to_sql('order_payments', con=conn, if_exists='append', index=False)\n"
   ]
  },
  {
   "cell_type": "markdown",
   "id": "79f9254c",
   "metadata": {
    "hidden": true
   },
   "source": [
    "### order_reviews"
   ]
  },
  {
   "cell_type": "code",
   "execution_count": 31,
   "id": "b86e6a07",
   "metadata": {
    "ExecuteTime": {
     "end_time": "2022-07-27T09:46:09.665855Z",
     "start_time": "2022-07-27T09:46:08.466863Z"
    },
    "hidden": true
   },
   "outputs": [
    {
     "data": {
      "text/plain": [
       "99224"
      ]
     },
     "execution_count": 31,
     "metadata": {},
     "output_type": "execute_result"
    }
   ],
   "source": [
    "df_order_reviews = pd.read_csv('dataset/olist_order_reviews_dataset.csv')\n",
    "\n",
    "\n",
    "schema_order_reviews = \"\"\"\n",
    "\n",
    "CREATE TABLE order_reviews(\n",
    "\n",
    "    review_id                  TEXT,\n",
    "    order_id                   TEXT,\n",
    "    review_score               INTERGER,\n",
    "    review_comment_title       TEXT,\n",
    "    review_comment_message     TEXT,\n",
    "    review_creation_date       TEXT,\n",
    "    review_answer_timestamp    TEXT\n",
    "\n",
    ")\n",
    "\n",
    "\"\"\"\n",
    "\n",
    "## create schema\n",
    "#conn.execute(schema_order_reviews)\n",
    "\n",
    "\n",
    "## insert data into table \n",
    "df_order_reviews.to_sql('order_reviews', con=conn, if_exists='replace', index=False)\n"
   ]
  },
  {
   "cell_type": "markdown",
   "id": "5f242f13",
   "metadata": {
    "hidden": true
   },
   "source": [
    "### orders"
   ]
  },
  {
   "cell_type": "code",
   "execution_count": 32,
   "id": "53e095ae",
   "metadata": {
    "ExecuteTime": {
     "end_time": "2022-07-27T09:46:14.285866Z",
     "start_time": "2022-07-27T09:46:12.914746Z"
    },
    "hidden": true
   },
   "outputs": [
    {
     "data": {
      "text/plain": [
       "99441"
      ]
     },
     "execution_count": 32,
     "metadata": {},
     "output_type": "execute_result"
    }
   ],
   "source": [
    "df_orders = pd.read_csv('dataset/olist_orders_dataset.csv')\n",
    "\n",
    "\n",
    "schema_orders= \"\"\"\n",
    "\n",
    "CREATE TABLE orders(\n",
    "\n",
    "    order_id                         TEXT,\n",
    "    customer_id                      TEXT,\n",
    "    order_status                     TEXT,\n",
    "    order_purchase_timestamp         TEXT,\n",
    "    order_approved_at                TEXT,\n",
    "    order_delivered_carrier_date     TEXT,\n",
    "    order_delivered_customer_date    TEXT,\n",
    "    order_estimated_delivery_date    TEXT\n",
    "\n",
    ")\n",
    "\n",
    "\"\"\"\n",
    "\n",
    "## create schema\n",
    "#conn.execute(schema_orders)\n",
    "\n",
    "\n",
    "## insert data into table \n",
    "df_orders.to_sql('orders', con=conn, if_exists='replace', index=False)\n"
   ]
  },
  {
   "cell_type": "markdown",
   "id": "00789a83",
   "metadata": {
    "hidden": true
   },
   "source": [
    "### products"
   ]
  },
  {
   "cell_type": "code",
   "execution_count": 33,
   "id": "8406e850",
   "metadata": {
    "ExecuteTime": {
     "end_time": "2022-07-27T09:46:17.566350Z",
     "start_time": "2022-07-27T09:46:16.996120Z"
    },
    "hidden": true
   },
   "outputs": [
    {
     "data": {
      "text/plain": [
       "32951"
      ]
     },
     "execution_count": 33,
     "metadata": {},
     "output_type": "execute_result"
    }
   ],
   "source": [
    "df_products = pd.read_csv('dataset/olist_products_dataset.csv')\n",
    "\n",
    "\n",
    "schema_products= \"\"\"\n",
    "\n",
    "CREATE TABLE products(\n",
    "\n",
    "    product_id                     TEXT,\n",
    "    product_category_name          TEXT,\n",
    "    product_name_lenght           REAL,\n",
    "    product_description_lenght    REAL,\n",
    "    product_photos_qty            REAL,\n",
    "    product_weight_g              REAL,\n",
    "    product_length_cm             REAL,\n",
    "    product_height_cm             REAL,\n",
    "    product_width_cm              REAL\n",
    ")\n",
    "\n",
    "\"\"\"\n",
    "\n",
    "## create schema\n",
    "#conn.execute(schema_products)\n",
    "\n",
    "\n",
    "## insert data into table \n",
    "df_products.to_sql('products', con=conn, if_exists='replace', index=False)\n"
   ]
  },
  {
   "cell_type": "markdown",
   "id": "61e4beff",
   "metadata": {
    "hidden": true
   },
   "source": [
    "### sellers"
   ]
  },
  {
   "cell_type": "code",
   "execution_count": 13,
   "id": "f519446f",
   "metadata": {
    "ExecuteTime": {
     "end_time": "2021-08-12T16:32:50.766181Z",
     "start_time": "2021-08-12T16:32:50.706121Z"
    },
    "hidden": true
   },
   "outputs": [],
   "source": [
    "df_sellers = pd.read_csv('Datasets/olist_sellers_dataset.csv')\n",
    "\n",
    "\n",
    "schema_sellers= \"\"\"\n",
    "\n",
    "CREATE TABLE sellers(\n",
    "\n",
    "    seller_id                 TEXT,\n",
    "    seller_zip_code_prefix    INTERGER,\n",
    "    seller_city               TEXT,\n",
    "    seller_state              TEXT\n",
    ")\n",
    "\n",
    "\"\"\"\n",
    "\n",
    "## create schema\n",
    "#conn.execute(schema_sellers)\n",
    "\n",
    "\n",
    "## insert data into table \n",
    "df_sellers.to_sql('sellers', con=conn, if_exists='replace', index=False)\n"
   ]
  },
  {
   "cell_type": "markdown",
   "id": "7fe43a1b",
   "metadata": {
    "hidden": true
   },
   "source": [
    "### category_name_translation"
   ]
  },
  {
   "cell_type": "code",
   "execution_count": 34,
   "id": "20a1fc26",
   "metadata": {
    "ExecuteTime": {
     "end_time": "2022-07-27T09:46:20.967460Z",
     "start_time": "2022-07-27T09:46:20.915141Z"
    },
    "hidden": true,
    "scrolled": false
   },
   "outputs": [
    {
     "data": {
      "text/plain": [
       "71"
      ]
     },
     "execution_count": 34,
     "metadata": {},
     "output_type": "execute_result"
    }
   ],
   "source": [
    "df_category_name_translation = pd.read_csv('dataset/product_category_name_translation.csv')\n",
    "\n",
    "\n",
    "schema_category_name_translation= \"\"\"\n",
    "\n",
    "CREATE TABLE category_name_translation(\n",
    "\n",
    "    product_category_name            TEXT,\n",
    "    product_category_name_english    TEXT\n",
    ")\n",
    "\n",
    "\"\"\"\n",
    "\n",
    "## create schema\n",
    "#conn.execute(schema_category_name_translation)\n",
    "\n",
    "\n",
    "## insert data into table \n",
    "df_category_name_translation.to_sql('category_name_translation', con=conn, if_exists='replace', index=False)\n"
   ]
  },
  {
   "cell_type": "markdown",
   "id": "0140d6d8",
   "metadata": {
    "hidden": true
   },
   "source": [
    "## Check table"
   ]
  },
  {
   "cell_type": "code",
   "execution_count": 14,
   "id": "76a600e5",
   "metadata": {
    "ExecuteTime": {
     "end_time": "2022-07-27T14:08:18.081428Z",
     "start_time": "2022-07-27T14:08:18.060477Z"
    },
    "hidden": true,
    "scrolled": true
   },
   "outputs": [
    {
     "ename": "NameError",
     "evalue": "name 'df_category_name_translation' is not defined",
     "output_type": "error",
     "traceback": [
      "\u001b[1;31m---------------------------------------------------------------------------\u001b[0m",
      "\u001b[1;31mNameError\u001b[0m                                 Traceback (most recent call last)",
      "Input \u001b[1;32mIn [14]\u001b[0m, in \u001b[0;36m<cell line: 2>\u001b[1;34m()\u001b[0m\n\u001b[0;32m      1\u001b[0m \u001b[38;5;66;03m#8 - Ver o tipo de dados pra copiar no esquema\u001b[39;00m\n\u001b[1;32m----> 2\u001b[0m \u001b[43mdf_category_name_translation\u001b[49m\u001b[38;5;241m.\u001b[39mdtypes\n",
      "\u001b[1;31mNameError\u001b[0m: name 'df_category_name_translation' is not defined"
     ]
    }
   ],
   "source": [
    "#8 - Ver o tipo de dados pra copiar no esquema\n",
    "df_category_name_translation.dtypes\n"
   ]
  },
  {
   "cell_type": "code",
   "execution_count": 15,
   "id": "185bcd20",
   "metadata": {
    "ExecuteTime": {
     "end_time": "2022-07-27T14:08:23.779279Z",
     "start_time": "2022-07-27T14:08:23.767284Z"
    },
    "code_folding": [],
    "hidden": true
   },
   "outputs": [
    {
     "data": {
      "text/html": [
       "<div>\n",
       "<style scoped>\n",
       "    .dataframe tbody tr th:only-of-type {\n",
       "        vertical-align: middle;\n",
       "    }\n",
       "\n",
       "    .dataframe tbody tr th {\n",
       "        vertical-align: top;\n",
       "    }\n",
       "\n",
       "    .dataframe thead th {\n",
       "        text-align: right;\n",
       "    }\n",
       "</style>\n",
       "<table border=\"1\" class=\"dataframe\">\n",
       "  <thead>\n",
       "    <tr style=\"text-align: right;\">\n",
       "      <th></th>\n",
       "      <th>name</th>\n",
       "    </tr>\n",
       "  </thead>\n",
       "  <tbody>\n",
       "    <tr>\n",
       "      <th>0</th>\n",
       "      <td>customer</td>\n",
       "    </tr>\n",
       "    <tr>\n",
       "      <th>1</th>\n",
       "      <td>geolocation</td>\n",
       "    </tr>\n",
       "    <tr>\n",
       "      <th>2</th>\n",
       "      <td>order_items</td>\n",
       "    </tr>\n",
       "    <tr>\n",
       "      <th>3</th>\n",
       "      <td>order_payments</td>\n",
       "    </tr>\n",
       "    <tr>\n",
       "      <th>4</th>\n",
       "      <td>product_category_name</td>\n",
       "    </tr>\n",
       "    <tr>\n",
       "      <th>5</th>\n",
       "      <td>sellers</td>\n",
       "    </tr>\n",
       "    <tr>\n",
       "      <th>6</th>\n",
       "      <td>order_reviews</td>\n",
       "    </tr>\n",
       "    <tr>\n",
       "      <th>7</th>\n",
       "      <td>orders</td>\n",
       "    </tr>\n",
       "    <tr>\n",
       "      <th>8</th>\n",
       "      <td>products</td>\n",
       "    </tr>\n",
       "    <tr>\n",
       "      <th>9</th>\n",
       "      <td>category_name_translation</td>\n",
       "    </tr>\n",
       "  </tbody>\n",
       "</table>\n",
       "</div>"
      ],
      "text/plain": [
       "                        name\n",
       "0                   customer\n",
       "1                geolocation\n",
       "2                order_items\n",
       "3             order_payments\n",
       "4      product_category_name\n",
       "5                    sellers\n",
       "6              order_reviews\n",
       "7                     orders\n",
       "8                   products\n",
       "9  category_name_translation"
      ]
     },
     "execution_count": 15,
     "metadata": {},
     "output_type": "execute_result"
    }
   ],
   "source": [
    "## ver se a tabela foi criada \n",
    "\n",
    "query=\"\"\"\n",
    "SELECT name\n",
    "FROM sqlite_master\n",
    "WHERE type ='table'\n",
    "\"\"\"\n",
    "\n",
    "table=pd.read_sql_query(query,conn)\n",
    "table"
   ]
  },
  {
   "cell_type": "markdown",
   "id": "45560a87",
   "metadata": {
    "ExecuteTime": {
     "end_time": "2021-08-12T10:37:03.857133Z",
     "start_time": "2021-08-12T10:37:03.458548Z"
    },
    "heading_collapsed": true
   },
   "source": [
    "# Exercicios PA Bond - aula 2"
   ]
  },
  {
   "cell_type": "markdown",
   "id": "6dafda4d",
   "metadata": {
    "hidden": true
   },
   "source": [
    "## 1 Gere uma tabela com o id do cliente, a cidade e o estado onde ele vive."
   ]
  },
  {
   "cell_type": "code",
   "execution_count": 7,
   "id": "8deeccce",
   "metadata": {
    "ExecuteTime": {
     "end_time": "2022-07-27T14:07:06.362439Z",
     "start_time": "2022-07-27T14:07:06.326568Z"
    },
    "hidden": true,
    "run_control": {
     "marked": true
    }
   },
   "outputs": [
    {
     "data": {
      "text/html": [
       "<div>\n",
       "<style scoped>\n",
       "    .dataframe tbody tr th:only-of-type {\n",
       "        vertical-align: middle;\n",
       "    }\n",
       "\n",
       "    .dataframe tbody tr th {\n",
       "        vertical-align: top;\n",
       "    }\n",
       "\n",
       "    .dataframe thead th {\n",
       "        text-align: right;\n",
       "    }\n",
       "</style>\n",
       "<table border=\"1\" class=\"dataframe\">\n",
       "  <thead>\n",
       "    <tr style=\"text-align: right;\">\n",
       "      <th></th>\n",
       "      <th>customer_id</th>\n",
       "      <th>customer_city</th>\n",
       "      <th>customer_state</th>\n",
       "    </tr>\n",
       "  </thead>\n",
       "  <tbody>\n",
       "    <tr>\n",
       "      <th>0</th>\n",
       "      <td>06b8999e2fba1a1fbc88172c00ba8bc7</td>\n",
       "      <td>franca</td>\n",
       "      <td>SP</td>\n",
       "    </tr>\n",
       "    <tr>\n",
       "      <th>1</th>\n",
       "      <td>18955e83d337fd6b2def6b18a428ac77</td>\n",
       "      <td>sao bernardo do campo</td>\n",
       "      <td>SP</td>\n",
       "    </tr>\n",
       "    <tr>\n",
       "      <th>2</th>\n",
       "      <td>4e7b3e00288586ebd08712fdd0374a03</td>\n",
       "      <td>sao paulo</td>\n",
       "      <td>SP</td>\n",
       "    </tr>\n",
       "    <tr>\n",
       "      <th>3</th>\n",
       "      <td>b2b6027bc5c5109e529d4dc6358b12c3</td>\n",
       "      <td>mogi das cruzes</td>\n",
       "      <td>SP</td>\n",
       "    </tr>\n",
       "    <tr>\n",
       "      <th>4</th>\n",
       "      <td>4f2d8ab171c80ec8364f7c12e35b23ad</td>\n",
       "      <td>campinas</td>\n",
       "      <td>SP</td>\n",
       "    </tr>\n",
       "    <tr>\n",
       "      <th>...</th>\n",
       "      <td>...</td>\n",
       "      <td>...</td>\n",
       "      <td>...</td>\n",
       "    </tr>\n",
       "    <tr>\n",
       "      <th>95</th>\n",
       "      <td>f89c1a6b9c966869e441e55bc14acddc</td>\n",
       "      <td>sao carlos</td>\n",
       "      <td>SP</td>\n",
       "    </tr>\n",
       "    <tr>\n",
       "      <th>96</th>\n",
       "      <td>23e96758fd640560e9b1fbcda90abfc4</td>\n",
       "      <td>sao paulo</td>\n",
       "      <td>SP</td>\n",
       "    </tr>\n",
       "    <tr>\n",
       "      <th>97</th>\n",
       "      <td>369708cabd9831ea6fde670a3b602a92</td>\n",
       "      <td>sao paulo</td>\n",
       "      <td>SP</td>\n",
       "    </tr>\n",
       "    <tr>\n",
       "      <th>98</th>\n",
       "      <td>5f8b4882b5a4ec7bf6d2107e6cd0cf29</td>\n",
       "      <td>niteroi</td>\n",
       "      <td>RJ</td>\n",
       "    </tr>\n",
       "    <tr>\n",
       "      <th>99</th>\n",
       "      <td>ad6891a1937cb8723a2c08ba1ae59873</td>\n",
       "      <td>sao luis</td>\n",
       "      <td>MA</td>\n",
       "    </tr>\n",
       "  </tbody>\n",
       "</table>\n",
       "<p>100 rows × 3 columns</p>\n",
       "</div>"
      ],
      "text/plain": [
       "                         customer_id          customer_city customer_state\n",
       "0   06b8999e2fba1a1fbc88172c00ba8bc7                 franca             SP\n",
       "1   18955e83d337fd6b2def6b18a428ac77  sao bernardo do campo             SP\n",
       "2   4e7b3e00288586ebd08712fdd0374a03              sao paulo             SP\n",
       "3   b2b6027bc5c5109e529d4dc6358b12c3        mogi das cruzes             SP\n",
       "4   4f2d8ab171c80ec8364f7c12e35b23ad               campinas             SP\n",
       "..                               ...                    ...            ...\n",
       "95  f89c1a6b9c966869e441e55bc14acddc             sao carlos             SP\n",
       "96  23e96758fd640560e9b1fbcda90abfc4              sao paulo             SP\n",
       "97  369708cabd9831ea6fde670a3b602a92              sao paulo             SP\n",
       "98  5f8b4882b5a4ec7bf6d2107e6cd0cf29                niteroi             RJ\n",
       "99  ad6891a1937cb8723a2c08ba1ae59873               sao luis             MA\n",
       "\n",
       "[100 rows x 3 columns]"
      ]
     },
     "execution_count": 7,
     "metadata": {},
     "output_type": "execute_result"
    }
   ],
   "source": [
    "## ver se a tabela foi criada \n",
    "\n",
    "query=\"\"\"\n",
    "SELECT\n",
    "c.customer_id ,\n",
    "c.customer_city ,\n",
    "c.customer_state\n",
    "FROM customer c\n",
    "LIMIT 100;\n",
    "\n",
    "\"\"\"\n",
    "table=pd.read_sql_query(query,conn)\n",
    "table"
   ]
  },
  {
   "cell_type": "markdown",
   "id": "a042cd4e",
   "metadata": {
    "hidden": true
   },
   "source": [
    "## 2. Gere uma tabela com o id do cliente e a cidade, somente dos clientes que vivem em Santa Catarina."
   ]
  },
  {
   "cell_type": "code",
   "execution_count": 8,
   "id": "9c58266c",
   "metadata": {
    "ExecuteTime": {
     "end_time": "2022-07-27T14:07:09.508264Z",
     "start_time": "2022-07-27T14:07:09.492254Z"
    },
    "hidden": true
   },
   "outputs": [
    {
     "data": {
      "text/html": [
       "<div>\n",
       "<style scoped>\n",
       "    .dataframe tbody tr th:only-of-type {\n",
       "        vertical-align: middle;\n",
       "    }\n",
       "\n",
       "    .dataframe tbody tr th {\n",
       "        vertical-align: top;\n",
       "    }\n",
       "\n",
       "    .dataframe thead th {\n",
       "        text-align: right;\n",
       "    }\n",
       "</style>\n",
       "<table border=\"1\" class=\"dataframe\">\n",
       "  <thead>\n",
       "    <tr style=\"text-align: right;\">\n",
       "      <th></th>\n",
       "      <th>customer_id</th>\n",
       "      <th>customer_city</th>\n",
       "      <th>customer_state</th>\n",
       "    </tr>\n",
       "  </thead>\n",
       "  <tbody>\n",
       "    <tr>\n",
       "      <th>0</th>\n",
       "      <td>879864dab9bc3047522c92c82e1212b8</td>\n",
       "      <td>jaragua do sul</td>\n",
       "      <td>SC</td>\n",
       "    </tr>\n",
       "    <tr>\n",
       "      <th>1</th>\n",
       "      <td>154c4ded6991bdfa3cd249d11abf4130</td>\n",
       "      <td>florianopolis</td>\n",
       "      <td>SC</td>\n",
       "    </tr>\n",
       "    <tr>\n",
       "      <th>2</th>\n",
       "      <td>b6368ca0f56d4632f44d58ca431487b2</td>\n",
       "      <td>sao jose</td>\n",
       "      <td>SC</td>\n",
       "    </tr>\n",
       "    <tr>\n",
       "      <th>3</th>\n",
       "      <td>4d27341acd30a36bca39008ee9bb9050</td>\n",
       "      <td>jaragua do sul</td>\n",
       "      <td>SC</td>\n",
       "    </tr>\n",
       "    <tr>\n",
       "      <th>4</th>\n",
       "      <td>443b534d0d27a8aa9a184d4869bcbe7a</td>\n",
       "      <td>jaragua do sul</td>\n",
       "      <td>SC</td>\n",
       "    </tr>\n",
       "    <tr>\n",
       "      <th>...</th>\n",
       "      <td>...</td>\n",
       "      <td>...</td>\n",
       "      <td>...</td>\n",
       "    </tr>\n",
       "    <tr>\n",
       "      <th>95</th>\n",
       "      <td>32e23352f904da0c1128c0e9cf4ee89e</td>\n",
       "      <td>guaruja do sul</td>\n",
       "      <td>SC</td>\n",
       "    </tr>\n",
       "    <tr>\n",
       "      <th>96</th>\n",
       "      <td>03a2a04722a38803d8c29c7339998d54</td>\n",
       "      <td>sao jose</td>\n",
       "      <td>SC</td>\n",
       "    </tr>\n",
       "    <tr>\n",
       "      <th>97</th>\n",
       "      <td>44e28727116b6aaf62a51b276aba9247</td>\n",
       "      <td>blumenau</td>\n",
       "      <td>SC</td>\n",
       "    </tr>\n",
       "    <tr>\n",
       "      <th>98</th>\n",
       "      <td>da513f66aecb0c97a487d422bf105af0</td>\n",
       "      <td>tubarao</td>\n",
       "      <td>SC</td>\n",
       "    </tr>\n",
       "    <tr>\n",
       "      <th>99</th>\n",
       "      <td>80cd284463cd296129eab19cac5f012f</td>\n",
       "      <td>videira</td>\n",
       "      <td>SC</td>\n",
       "    </tr>\n",
       "  </tbody>\n",
       "</table>\n",
       "<p>100 rows × 3 columns</p>\n",
       "</div>"
      ],
      "text/plain": [
       "                         customer_id   customer_city customer_state\n",
       "0   879864dab9bc3047522c92c82e1212b8  jaragua do sul             SC\n",
       "1   154c4ded6991bdfa3cd249d11abf4130   florianopolis             SC\n",
       "2   b6368ca0f56d4632f44d58ca431487b2        sao jose             SC\n",
       "3   4d27341acd30a36bca39008ee9bb9050  jaragua do sul             SC\n",
       "4   443b534d0d27a8aa9a184d4869bcbe7a  jaragua do sul             SC\n",
       "..                               ...             ...            ...\n",
       "95  32e23352f904da0c1128c0e9cf4ee89e  guaruja do sul             SC\n",
       "96  03a2a04722a38803d8c29c7339998d54        sao jose             SC\n",
       "97  44e28727116b6aaf62a51b276aba9247        blumenau             SC\n",
       "98  da513f66aecb0c97a487d422bf105af0         tubarao             SC\n",
       "99  80cd284463cd296129eab19cac5f012f         videira             SC\n",
       "\n",
       "[100 rows x 3 columns]"
      ]
     },
     "execution_count": 8,
     "metadata": {},
     "output_type": "execute_result"
    }
   ],
   "source": [
    "query=\"\"\"\n",
    "SELECT\n",
    "c.customer_id ,\n",
    "c.customer_city ,\n",
    "c.customer_state\n",
    "FROM customer c\n",
    "WHERE c.customer_state = 'SC'\n",
    "LIMIT 100;\n",
    "\n",
    "\"\"\"\n",
    "table=pd.read_sql_query(query,conn)\n",
    "table"
   ]
  },
  {
   "cell_type": "markdown",
   "id": "b6bfe8e0",
   "metadata": {
    "hidden": true
   },
   "source": [
    "## 3. Gere uma tabela com o id do cliente e o estado, somente dos clientes que vivem em Florianópolis."
   ]
  },
  {
   "cell_type": "code",
   "execution_count": 9,
   "id": "0877a2eb",
   "metadata": {
    "ExecuteTime": {
     "end_time": "2022-07-27T14:07:10.257925Z",
     "start_time": "2022-07-27T14:07:10.243962Z"
    },
    "hidden": true
   },
   "outputs": [
    {
     "data": {
      "text/html": [
       "<div>\n",
       "<style scoped>\n",
       "    .dataframe tbody tr th:only-of-type {\n",
       "        vertical-align: middle;\n",
       "    }\n",
       "\n",
       "    .dataframe tbody tr th {\n",
       "        vertical-align: top;\n",
       "    }\n",
       "\n",
       "    .dataframe thead th {\n",
       "        text-align: right;\n",
       "    }\n",
       "</style>\n",
       "<table border=\"1\" class=\"dataframe\">\n",
       "  <thead>\n",
       "    <tr style=\"text-align: right;\">\n",
       "      <th></th>\n",
       "      <th>customer_id</th>\n",
       "      <th>customer_city</th>\n",
       "      <th>customer_state</th>\n",
       "    </tr>\n",
       "  </thead>\n",
       "  <tbody>\n",
       "    <tr>\n",
       "      <th>0</th>\n",
       "      <td>154c4ded6991bdfa3cd249d11abf4130</td>\n",
       "      <td>florianopolis</td>\n",
       "      <td>SC</td>\n",
       "    </tr>\n",
       "    <tr>\n",
       "      <th>1</th>\n",
       "      <td>2173c184771a8a19f6fc87d8b3dea9e0</td>\n",
       "      <td>florianopolis</td>\n",
       "      <td>SC</td>\n",
       "    </tr>\n",
       "    <tr>\n",
       "      <th>2</th>\n",
       "      <td>02f615f19af07c54a0d4653308f6674b</td>\n",
       "      <td>florianopolis</td>\n",
       "      <td>SC</td>\n",
       "    </tr>\n",
       "    <tr>\n",
       "      <th>3</th>\n",
       "      <td>151260cb5d9b3c220d0af50c81c329a9</td>\n",
       "      <td>florianopolis</td>\n",
       "      <td>SC</td>\n",
       "    </tr>\n",
       "    <tr>\n",
       "      <th>4</th>\n",
       "      <td>d494b02fb3835e2d398d44ea7f275bce</td>\n",
       "      <td>florianopolis</td>\n",
       "      <td>SC</td>\n",
       "    </tr>\n",
       "    <tr>\n",
       "      <th>...</th>\n",
       "      <td>...</td>\n",
       "      <td>...</td>\n",
       "      <td>...</td>\n",
       "    </tr>\n",
       "    <tr>\n",
       "      <th>95</th>\n",
       "      <td>8395381b2c2766ebceb43c768072fbce</td>\n",
       "      <td>florianopolis</td>\n",
       "      <td>SC</td>\n",
       "    </tr>\n",
       "    <tr>\n",
       "      <th>96</th>\n",
       "      <td>280b6e60c0323ca7dea55d10501f5291</td>\n",
       "      <td>florianopolis</td>\n",
       "      <td>SC</td>\n",
       "    </tr>\n",
       "    <tr>\n",
       "      <th>97</th>\n",
       "      <td>5c1547bae5d0f335ad4b7728b54be141</td>\n",
       "      <td>florianopolis</td>\n",
       "      <td>SC</td>\n",
       "    </tr>\n",
       "    <tr>\n",
       "      <th>98</th>\n",
       "      <td>12a371f2183b5d71d81830f3dd3b32c8</td>\n",
       "      <td>florianopolis</td>\n",
       "      <td>SC</td>\n",
       "    </tr>\n",
       "    <tr>\n",
       "      <th>99</th>\n",
       "      <td>0fb80a7fe135dc3abd1469007f5b9ac7</td>\n",
       "      <td>florianopolis</td>\n",
       "      <td>SC</td>\n",
       "    </tr>\n",
       "  </tbody>\n",
       "</table>\n",
       "<p>100 rows × 3 columns</p>\n",
       "</div>"
      ],
      "text/plain": [
       "                         customer_id  customer_city customer_state\n",
       "0   154c4ded6991bdfa3cd249d11abf4130  florianopolis             SC\n",
       "1   2173c184771a8a19f6fc87d8b3dea9e0  florianopolis             SC\n",
       "2   02f615f19af07c54a0d4653308f6674b  florianopolis             SC\n",
       "3   151260cb5d9b3c220d0af50c81c329a9  florianopolis             SC\n",
       "4   d494b02fb3835e2d398d44ea7f275bce  florianopolis             SC\n",
       "..                               ...            ...            ...\n",
       "95  8395381b2c2766ebceb43c768072fbce  florianopolis             SC\n",
       "96  280b6e60c0323ca7dea55d10501f5291  florianopolis             SC\n",
       "97  5c1547bae5d0f335ad4b7728b54be141  florianopolis             SC\n",
       "98  12a371f2183b5d71d81830f3dd3b32c8  florianopolis             SC\n",
       "99  0fb80a7fe135dc3abd1469007f5b9ac7  florianopolis             SC\n",
       "\n",
       "[100 rows x 3 columns]"
      ]
     },
     "execution_count": 9,
     "metadata": {},
     "output_type": "execute_result"
    }
   ],
   "source": [
    "query=\"\"\"\n",
    "SELECT\n",
    "c.customer_id ,\n",
    "c.customer_city ,\n",
    "c.customer_state\n",
    "FROM customer c\n",
    "WHERE c.customer_city = 'florianopolis'\n",
    "LIMIT 100;\n",
    "\n",
    "\"\"\"\n",
    "table=pd.read_sql_query(query,conn)\n",
    "table"
   ]
  },
  {
   "cell_type": "markdown",
   "id": "c5c5955b",
   "metadata": {
    "ExecuteTime": {
     "end_time": "2022-07-27T13:34:17.169578Z",
     "start_time": "2022-07-27T13:34:17.156642Z"
    },
    "hidden": true
   },
   "source": [
    "## 4. Gere uma tabela com o estado, latitude e longitude do estado de São Paulo"
   ]
  },
  {
   "cell_type": "code",
   "execution_count": 10,
   "id": "18293833",
   "metadata": {
    "ExecuteTime": {
     "end_time": "2022-07-27T14:07:10.869672Z",
     "start_time": "2022-07-27T14:07:10.853748Z"
    },
    "hidden": true
   },
   "outputs": [
    {
     "data": {
      "text/html": [
       "<div>\n",
       "<style scoped>\n",
       "    .dataframe tbody tr th:only-of-type {\n",
       "        vertical-align: middle;\n",
       "    }\n",
       "\n",
       "    .dataframe tbody tr th {\n",
       "        vertical-align: top;\n",
       "    }\n",
       "\n",
       "    .dataframe thead th {\n",
       "        text-align: right;\n",
       "    }\n",
       "</style>\n",
       "<table border=\"1\" class=\"dataframe\">\n",
       "  <thead>\n",
       "    <tr style=\"text-align: right;\">\n",
       "      <th></th>\n",
       "      <th>geolocation_lat</th>\n",
       "      <th>geolocation_lng</th>\n",
       "      <th>geolocation_state</th>\n",
       "    </tr>\n",
       "  </thead>\n",
       "  <tbody>\n",
       "    <tr>\n",
       "      <th>0</th>\n",
       "      <td>-23.545621</td>\n",
       "      <td>-46.639292</td>\n",
       "      <td>SP</td>\n",
       "    </tr>\n",
       "    <tr>\n",
       "      <th>1</th>\n",
       "      <td>-23.546081</td>\n",
       "      <td>-46.644820</td>\n",
       "      <td>SP</td>\n",
       "    </tr>\n",
       "    <tr>\n",
       "      <th>2</th>\n",
       "      <td>-23.546129</td>\n",
       "      <td>-46.642951</td>\n",
       "      <td>SP</td>\n",
       "    </tr>\n",
       "    <tr>\n",
       "      <th>3</th>\n",
       "      <td>-23.544392</td>\n",
       "      <td>-46.639499</td>\n",
       "      <td>SP</td>\n",
       "    </tr>\n",
       "    <tr>\n",
       "      <th>4</th>\n",
       "      <td>-23.541578</td>\n",
       "      <td>-46.641607</td>\n",
       "      <td>SP</td>\n",
       "    </tr>\n",
       "    <tr>\n",
       "      <th>...</th>\n",
       "      <td>...</td>\n",
       "      <td>...</td>\n",
       "      <td>...</td>\n",
       "    </tr>\n",
       "    <tr>\n",
       "      <th>95</th>\n",
       "      <td>-23.546129</td>\n",
       "      <td>-46.642951</td>\n",
       "      <td>SP</td>\n",
       "    </tr>\n",
       "    <tr>\n",
       "      <th>96</th>\n",
       "      <td>-23.544667</td>\n",
       "      <td>-46.640669</td>\n",
       "      <td>SP</td>\n",
       "    </tr>\n",
       "    <tr>\n",
       "      <th>97</th>\n",
       "      <td>-23.546341</td>\n",
       "      <td>-46.636239</td>\n",
       "      <td>SP</td>\n",
       "    </tr>\n",
       "    <tr>\n",
       "      <th>98</th>\n",
       "      <td>-23.549107</td>\n",
       "      <td>-46.644105</td>\n",
       "      <td>SP</td>\n",
       "    </tr>\n",
       "    <tr>\n",
       "      <th>99</th>\n",
       "      <td>-23.549292</td>\n",
       "      <td>-46.633559</td>\n",
       "      <td>SP</td>\n",
       "    </tr>\n",
       "  </tbody>\n",
       "</table>\n",
       "<p>100 rows × 3 columns</p>\n",
       "</div>"
      ],
      "text/plain": [
       "    geolocation_lat  geolocation_lng geolocation_state\n",
       "0        -23.545621       -46.639292                SP\n",
       "1        -23.546081       -46.644820                SP\n",
       "2        -23.546129       -46.642951                SP\n",
       "3        -23.544392       -46.639499                SP\n",
       "4        -23.541578       -46.641607                SP\n",
       "..              ...              ...               ...\n",
       "95       -23.546129       -46.642951                SP\n",
       "96       -23.544667       -46.640669                SP\n",
       "97       -23.546341       -46.636239                SP\n",
       "98       -23.549107       -46.644105                SP\n",
       "99       -23.549292       -46.633559                SP\n",
       "\n",
       "[100 rows x 3 columns]"
      ]
     },
     "execution_count": 10,
     "metadata": {},
     "output_type": "execute_result"
    }
   ],
   "source": [
    "query=\"\"\"\n",
    "SELECT\n",
    "g.geolocation_lat,               \n",
    "g.geolocation_lng,\n",
    "geolocation_state\n",
    "FROM geolocation g\n",
    "WHERE geolocation_state = 'SP'\n",
    "LIMIT 100;\n",
    "\n",
    "\"\"\"\n",
    "table=pd.read_sql_query(query,conn)\n",
    "table"
   ]
  },
  {
   "cell_type": "markdown",
   "id": "efb675cd",
   "metadata": {
    "hidden": true
   },
   "source": [
    "## 5. Gere uma tabela com o id do produto, a data de envio e o preço, somente para produtos acima de 6300"
   ]
  },
  {
   "cell_type": "code",
   "execution_count": 11,
   "id": "fe9f27fa",
   "metadata": {
    "ExecuteTime": {
     "end_time": "2022-07-27T14:07:12.384709Z",
     "start_time": "2022-07-27T14:07:12.294930Z"
    },
    "hidden": true,
    "scrolled": true
   },
   "outputs": [
    {
     "data": {
      "text/html": [
       "<div>\n",
       "<style scoped>\n",
       "    .dataframe tbody tr th:only-of-type {\n",
       "        vertical-align: middle;\n",
       "    }\n",
       "\n",
       "    .dataframe tbody tr th {\n",
       "        vertical-align: top;\n",
       "    }\n",
       "\n",
       "    .dataframe thead th {\n",
       "        text-align: right;\n",
       "    }\n",
       "</style>\n",
       "<table border=\"1\" class=\"dataframe\">\n",
       "  <thead>\n",
       "    <tr style=\"text-align: right;\">\n",
       "      <th></th>\n",
       "      <th>product_id</th>\n",
       "      <th>price</th>\n",
       "      <th>shipping_limit_date</th>\n",
       "    </tr>\n",
       "  </thead>\n",
       "  <tbody>\n",
       "    <tr>\n",
       "      <th>0</th>\n",
       "      <td>489ae2aa008f021502940f251d4cce7f</td>\n",
       "      <td>6735.0</td>\n",
       "      <td>2017-02-16 20:37:36</td>\n",
       "    </tr>\n",
       "    <tr>\n",
       "      <th>1</th>\n",
       "      <td>1bdf5e6731585cf01aa8169c7028d6ad</td>\n",
       "      <td>6499.0</td>\n",
       "      <td>2017-06-15 02:45:17</td>\n",
       "    </tr>\n",
       "    <tr>\n",
       "      <th>2</th>\n",
       "      <td>69c590f7ffc7bf8db97190b6cb6ed62e</td>\n",
       "      <td>6729.0</td>\n",
       "      <td>2018-08-02 04:05:13</td>\n",
       "    </tr>\n",
       "    <tr>\n",
       "      <th>3</th>\n",
       "      <td>489ae2aa008f021502940f251d4cce7f</td>\n",
       "      <td>6735.0</td>\n",
       "      <td>2017-02-16 20:37:36</td>\n",
       "    </tr>\n",
       "    <tr>\n",
       "      <th>4</th>\n",
       "      <td>1bdf5e6731585cf01aa8169c7028d6ad</td>\n",
       "      <td>6499.0</td>\n",
       "      <td>2017-06-15 02:45:17</td>\n",
       "    </tr>\n",
       "    <tr>\n",
       "      <th>5</th>\n",
       "      <td>69c590f7ffc7bf8db97190b6cb6ed62e</td>\n",
       "      <td>6729.0</td>\n",
       "      <td>2018-08-02 04:05:13</td>\n",
       "    </tr>\n",
       "    <tr>\n",
       "      <th>6</th>\n",
       "      <td>489ae2aa008f021502940f251d4cce7f</td>\n",
       "      <td>6735.0</td>\n",
       "      <td>2017-02-16 20:37:36</td>\n",
       "    </tr>\n",
       "    <tr>\n",
       "      <th>7</th>\n",
       "      <td>1bdf5e6731585cf01aa8169c7028d6ad</td>\n",
       "      <td>6499.0</td>\n",
       "      <td>2017-06-15 02:45:17</td>\n",
       "    </tr>\n",
       "    <tr>\n",
       "      <th>8</th>\n",
       "      <td>69c590f7ffc7bf8db97190b6cb6ed62e</td>\n",
       "      <td>6729.0</td>\n",
       "      <td>2018-08-02 04:05:13</td>\n",
       "    </tr>\n",
       "  </tbody>\n",
       "</table>\n",
       "</div>"
      ],
      "text/plain": [
       "                         product_id   price  shipping_limit_date\n",
       "0  489ae2aa008f021502940f251d4cce7f  6735.0  2017-02-16 20:37:36\n",
       "1  1bdf5e6731585cf01aa8169c7028d6ad  6499.0  2017-06-15 02:45:17\n",
       "2  69c590f7ffc7bf8db97190b6cb6ed62e  6729.0  2018-08-02 04:05:13\n",
       "3  489ae2aa008f021502940f251d4cce7f  6735.0  2017-02-16 20:37:36\n",
       "4  1bdf5e6731585cf01aa8169c7028d6ad  6499.0  2017-06-15 02:45:17\n",
       "5  69c590f7ffc7bf8db97190b6cb6ed62e  6729.0  2018-08-02 04:05:13\n",
       "6  489ae2aa008f021502940f251d4cce7f  6735.0  2017-02-16 20:37:36\n",
       "7  1bdf5e6731585cf01aa8169c7028d6ad  6499.0  2017-06-15 02:45:17\n",
       "8  69c590f7ffc7bf8db97190b6cb6ed62e  6729.0  2018-08-02 04:05:13"
      ]
     },
     "execution_count": 11,
     "metadata": {},
     "output_type": "execute_result"
    }
   ],
   "source": [
    "query=\"\"\"\n",
    "SELECT\n",
    "oi.product_id,\n",
    "oi.price,\n",
    "oi.shipping_limit_date\n",
    "FROM order_items oi\n",
    "WHERE oi.price>6300\n",
    "LIMIT 100;\n",
    "\n",
    "\"\"\"\n",
    "table=pd.read_sql_query(query,conn)\n",
    "table"
   ]
  },
  {
   "cell_type": "markdown",
   "id": "2ae1659d",
   "metadata": {
    "ExecuteTime": {
     "end_time": "2022-07-27T13:49:44.713513Z",
     "start_time": "2022-07-27T13:49:44.701549Z"
    },
    "hidden": true
   },
   "source": [
    "## 6. Gere uma tabela com o id do pedido, o tipo de pagamento e o número de parcelas, somente para produtos com parcelas menores que 1.\n"
   ]
  },
  {
   "cell_type": "code",
   "execution_count": 19,
   "id": "63e1e8eb",
   "metadata": {
    "ExecuteTime": {
     "end_time": "2022-07-27T14:09:37.745165Z",
     "start_time": "2022-07-27T14:09:37.671161Z"
    },
    "hidden": true,
    "scrolled": true
   },
   "outputs": [
    {
     "data": {
      "text/html": [
       "<div>\n",
       "<style scoped>\n",
       "    .dataframe tbody tr th:only-of-type {\n",
       "        vertical-align: middle;\n",
       "    }\n",
       "\n",
       "    .dataframe tbody tr th {\n",
       "        vertical-align: top;\n",
       "    }\n",
       "\n",
       "    .dataframe thead th {\n",
       "        text-align: right;\n",
       "    }\n",
       "</style>\n",
       "<table border=\"1\" class=\"dataframe\">\n",
       "  <thead>\n",
       "    <tr style=\"text-align: right;\">\n",
       "      <th></th>\n",
       "      <th>order_id</th>\n",
       "      <th>payment_type</th>\n",
       "      <th>payment_installments</th>\n",
       "    </tr>\n",
       "  </thead>\n",
       "  <tbody>\n",
       "    <tr>\n",
       "      <th>0</th>\n",
       "      <td>744bade1fcf9ff3f31d860ace076d422</td>\n",
       "      <td>credit_card</td>\n",
       "      <td>0</td>\n",
       "    </tr>\n",
       "    <tr>\n",
       "      <th>1</th>\n",
       "      <td>1a57108394169c0b47d8f876acc9ba2d</td>\n",
       "      <td>credit_card</td>\n",
       "      <td>0</td>\n",
       "    </tr>\n",
       "    <tr>\n",
       "      <th>2</th>\n",
       "      <td>744bade1fcf9ff3f31d860ace076d422</td>\n",
       "      <td>credit_card</td>\n",
       "      <td>0</td>\n",
       "    </tr>\n",
       "    <tr>\n",
       "      <th>3</th>\n",
       "      <td>1a57108394169c0b47d8f876acc9ba2d</td>\n",
       "      <td>credit_card</td>\n",
       "      <td>0</td>\n",
       "    </tr>\n",
       "    <tr>\n",
       "      <th>4</th>\n",
       "      <td>744bade1fcf9ff3f31d860ace076d422</td>\n",
       "      <td>credit_card</td>\n",
       "      <td>0</td>\n",
       "    </tr>\n",
       "    <tr>\n",
       "      <th>5</th>\n",
       "      <td>1a57108394169c0b47d8f876acc9ba2d</td>\n",
       "      <td>credit_card</td>\n",
       "      <td>0</td>\n",
       "    </tr>\n",
       "    <tr>\n",
       "      <th>6</th>\n",
       "      <td>744bade1fcf9ff3f31d860ace076d422</td>\n",
       "      <td>credit_card</td>\n",
       "      <td>0</td>\n",
       "    </tr>\n",
       "    <tr>\n",
       "      <th>7</th>\n",
       "      <td>1a57108394169c0b47d8f876acc9ba2d</td>\n",
       "      <td>credit_card</td>\n",
       "      <td>0</td>\n",
       "    </tr>\n",
       "  </tbody>\n",
       "</table>\n",
       "</div>"
      ],
      "text/plain": [
       "                           order_id payment_type  payment_installments\n",
       "0  744bade1fcf9ff3f31d860ace076d422  credit_card                     0\n",
       "1  1a57108394169c0b47d8f876acc9ba2d  credit_card                     0\n",
       "2  744bade1fcf9ff3f31d860ace076d422  credit_card                     0\n",
       "3  1a57108394169c0b47d8f876acc9ba2d  credit_card                     0\n",
       "4  744bade1fcf9ff3f31d860ace076d422  credit_card                     0\n",
       "5  1a57108394169c0b47d8f876acc9ba2d  credit_card                     0\n",
       "6  744bade1fcf9ff3f31d860ace076d422  credit_card                     0\n",
       "7  1a57108394169c0b47d8f876acc9ba2d  credit_card                     0"
      ]
     },
     "execution_count": 19,
     "metadata": {},
     "output_type": "execute_result"
    }
   ],
   "source": [
    "query=\"\"\"\n",
    "SELECT\n",
    "op.order_id ,\n",
    "op.payment_type ,\n",
    "op.payment_installments\n",
    "FROM order_payments op\n",
    "WHERE op.payment_installments < 1\n",
    "\n",
    "\"\"\"\n",
    "table=pd.read_sql_query(query,conn)\n",
    "table"
   ]
  },
  {
   "cell_type": "markdown",
   "id": "9e975bb3",
   "metadata": {
    "hidden": true
   },
   "source": [
    "## 7. Gere uma tabela com o id do pedido, id do cliente, o status do pedido e a data de aprovação , somente para compras aprovadas até dia 05 de Maio de 2016"
   ]
  },
  {
   "cell_type": "code",
   "execution_count": 23,
   "id": "ee6dc7d9",
   "metadata": {
    "ExecuteTime": {
     "end_time": "2022-07-27T14:13:12.857000Z",
     "start_time": "2022-07-27T14:13:12.809607Z"
    },
    "hidden": true
   },
   "outputs": [
    {
     "data": {
      "text/html": [
       "<div>\n",
       "<style scoped>\n",
       "    .dataframe tbody tr th:only-of-type {\n",
       "        vertical-align: middle;\n",
       "    }\n",
       "\n",
       "    .dataframe tbody tr th {\n",
       "        vertical-align: top;\n",
       "    }\n",
       "\n",
       "    .dataframe thead th {\n",
       "        text-align: right;\n",
       "    }\n",
       "</style>\n",
       "<table border=\"1\" class=\"dataframe\">\n",
       "  <thead>\n",
       "    <tr style=\"text-align: right;\">\n",
       "      <th></th>\n",
       "      <th>order_id</th>\n",
       "      <th>customer_id</th>\n",
       "      <th>order_status</th>\n",
       "      <th>order_approved_at</th>\n",
       "    </tr>\n",
       "  </thead>\n",
       "  <tbody>\n",
       "    <tr>\n",
       "      <th>0</th>\n",
       "      <td>7033745709b7cf1bac7d2533663592de</td>\n",
       "      <td>7f0ca17bb33b230b47459437cf0682c7</td>\n",
       "      <td>delivered</td>\n",
       "      <td>2016-10-04 14:46:48</td>\n",
       "    </tr>\n",
       "    <tr>\n",
       "      <th>1</th>\n",
       "      <td>cd3b8574c82b42fc8129f6d502690c3e</td>\n",
       "      <td>7812fcebfc5e8065d31e1bb5f0017dae</td>\n",
       "      <td>delivered</td>\n",
       "      <td>2016-10-04 10:19:23</td>\n",
       "    </tr>\n",
       "    <tr>\n",
       "      <th>2</th>\n",
       "      <td>c4b41c36dd589e901f6879f25a74ec1d</td>\n",
       "      <td>4bb880cac21c7a9e1371ab1ebd601706</td>\n",
       "      <td>delivered</td>\n",
       "      <td>2016-10-04 13:26:11</td>\n",
       "    </tr>\n",
       "    <tr>\n",
       "      <th>3</th>\n",
       "      <td>711b9be9c346d9ecdb9d38a5e1e7e39b</td>\n",
       "      <td>81e4aed5ab4253757305267b80712689</td>\n",
       "      <td>invoiced</td>\n",
       "      <td>2016-10-04 14:08:38</td>\n",
       "    </tr>\n",
       "    <tr>\n",
       "      <th>4</th>\n",
       "      <td>3f72d2b757e725cd48a4726f831c7789</td>\n",
       "      <td>e0de521fbb397bd7e83d079fe66357b5</td>\n",
       "      <td>delivered</td>\n",
       "      <td>2016-10-04 13:47:04</td>\n",
       "    </tr>\n",
       "    <tr>\n",
       "      <th>5</th>\n",
       "      <td>bfbd0f9bdef84302105ad712db648a6c</td>\n",
       "      <td>86dc2ffce2dfff336de2f386a786e574</td>\n",
       "      <td>delivered</td>\n",
       "      <td>2016-09-15 12:16:38</td>\n",
       "    </tr>\n",
       "    <tr>\n",
       "      <th>6</th>\n",
       "      <td>79ffdd52a918bbe867895a4b183d6457</td>\n",
       "      <td>f9808148a262b51d20e2d777eee6676c</td>\n",
       "      <td>delivered</td>\n",
       "      <td>2016-10-04 12:25:20</td>\n",
       "    </tr>\n",
       "    <tr>\n",
       "      <th>7</th>\n",
       "      <td>ef1b29b591d31d57c0d7337460dd83c9</td>\n",
       "      <td>dc607dc98d6a11d5d04d9f2a70aa6c34</td>\n",
       "      <td>delivered</td>\n",
       "      <td>2016-10-04 10:28:19</td>\n",
       "    </tr>\n",
       "    <tr>\n",
       "      <th>8</th>\n",
       "      <td>c3d9e402b6a0fbe2a5f7fc5b41117c38</td>\n",
       "      <td>5720a15d022c09d2634c71c80c8d4102</td>\n",
       "      <td>delivered</td>\n",
       "      <td>2016-10-04 10:45:33</td>\n",
       "    </tr>\n",
       "    <tr>\n",
       "      <th>9</th>\n",
       "      <td>36989eb07a0de2d3d3129eea35553875</td>\n",
       "      <td>aadd27185177fc7ac9b364898ac09343</td>\n",
       "      <td>delivered</td>\n",
       "      <td>2016-10-04 13:46:31</td>\n",
       "    </tr>\n",
       "    <tr>\n",
       "      <th>10</th>\n",
       "      <td>ae8a60e4b03c5a4ba9ca0672c164b181</td>\n",
       "      <td>e6f959bf384d1d53b6d68826699bba12</td>\n",
       "      <td>delivered</td>\n",
       "      <td>2016-10-04 10:28:25</td>\n",
       "    </tr>\n",
       "    <tr>\n",
       "      <th>11</th>\n",
       "      <td>1ff217aa612f6cd7c4255c9bfe931c8b</td>\n",
       "      <td>b3a9bf200375f53cc5c6991919c356fd</td>\n",
       "      <td>delivered</td>\n",
       "      <td>2016-10-04 09:43:32</td>\n",
       "    </tr>\n",
       "    <tr>\n",
       "      <th>12</th>\n",
       "      <td>22613579f7d11cc59c4347526fc3c79e</td>\n",
       "      <td>53cc5d344077104b59d4f6836a90eb0b</td>\n",
       "      <td>delivered</td>\n",
       "      <td>2016-10-04 14:27:49</td>\n",
       "    </tr>\n",
       "    <tr>\n",
       "      <th>13</th>\n",
       "      <td>ed8c7b1b3eb256c70ce0c74231e1da88</td>\n",
       "      <td>da0ba2a9935bca5b4610b0e3bca9d3b4</td>\n",
       "      <td>delivered</td>\n",
       "      <td>2016-10-04 10:25:46</td>\n",
       "    </tr>\n",
       "    <tr>\n",
       "      <th>14</th>\n",
       "      <td>46046adea0e222a29259bad3d922fee8</td>\n",
       "      <td>e9722ab28655e07763e0ca2751c61c90</td>\n",
       "      <td>delivered</td>\n",
       "      <td>2016-10-04 11:06:07</td>\n",
       "    </tr>\n",
       "    <tr>\n",
       "      <th>15</th>\n",
       "      <td>1aecadf4362edaca7fa033e882076c8d</td>\n",
       "      <td>e81a9f176936e3124dfd90c483bf3289</td>\n",
       "      <td>canceled</td>\n",
       "      <td>2016-10-04 10:26:40</td>\n",
       "    </tr>\n",
       "    <tr>\n",
       "      <th>16</th>\n",
       "      <td>4d66b3a9d12facad48a3b23cc9fe7898</td>\n",
       "      <td>bd6048a0960b15881f1ae5dca277fb52</td>\n",
       "      <td>delivered</td>\n",
       "      <td>2016-10-04 14:09:08</td>\n",
       "    </tr>\n",
       "    <tr>\n",
       "      <th>17</th>\n",
       "      <td>f3f12fc90564a9b036680a887cd64668</td>\n",
       "      <td>3c521eac04e2dca4702dcc69789618c2</td>\n",
       "      <td>delivered</td>\n",
       "      <td>2016-10-04 13:47:06</td>\n",
       "    </tr>\n",
       "    <tr>\n",
       "      <th>18</th>\n",
       "      <td>d207cc272675637bfed0062edffd0818</td>\n",
       "      <td>b8cf418e97ae795672d326288dfab7a7</td>\n",
       "      <td>delivered</td>\n",
       "      <td>2016-10-04 10:28:07</td>\n",
       "    </tr>\n",
       "    <tr>\n",
       "      <th>19</th>\n",
       "      <td>65d1e226dfaeb8cdc42f665422522d14</td>\n",
       "      <td>70fc57eeae292675927697fe03ad3ff5</td>\n",
       "      <td>canceled</td>\n",
       "      <td>2016-10-04 10:18:57</td>\n",
       "    </tr>\n",
       "    <tr>\n",
       "      <th>20</th>\n",
       "      <td>63638a6806d67773f3adba8534553fff</td>\n",
       "      <td>16e14c1e6e050fe6730c961ff638ca23</td>\n",
       "      <td>delivered</td>\n",
       "      <td>2016-10-04 13:47:45</td>\n",
       "    </tr>\n",
       "  </tbody>\n",
       "</table>\n",
       "</div>"
      ],
      "text/plain": [
       "                            order_id                       customer_id  \\\n",
       "0   7033745709b7cf1bac7d2533663592de  7f0ca17bb33b230b47459437cf0682c7   \n",
       "1   cd3b8574c82b42fc8129f6d502690c3e  7812fcebfc5e8065d31e1bb5f0017dae   \n",
       "2   c4b41c36dd589e901f6879f25a74ec1d  4bb880cac21c7a9e1371ab1ebd601706   \n",
       "3   711b9be9c346d9ecdb9d38a5e1e7e39b  81e4aed5ab4253757305267b80712689   \n",
       "4   3f72d2b757e725cd48a4726f831c7789  e0de521fbb397bd7e83d079fe66357b5   \n",
       "5   bfbd0f9bdef84302105ad712db648a6c  86dc2ffce2dfff336de2f386a786e574   \n",
       "6   79ffdd52a918bbe867895a4b183d6457  f9808148a262b51d20e2d777eee6676c   \n",
       "7   ef1b29b591d31d57c0d7337460dd83c9  dc607dc98d6a11d5d04d9f2a70aa6c34   \n",
       "8   c3d9e402b6a0fbe2a5f7fc5b41117c38  5720a15d022c09d2634c71c80c8d4102   \n",
       "9   36989eb07a0de2d3d3129eea35553875  aadd27185177fc7ac9b364898ac09343   \n",
       "10  ae8a60e4b03c5a4ba9ca0672c164b181  e6f959bf384d1d53b6d68826699bba12   \n",
       "11  1ff217aa612f6cd7c4255c9bfe931c8b  b3a9bf200375f53cc5c6991919c356fd   \n",
       "12  22613579f7d11cc59c4347526fc3c79e  53cc5d344077104b59d4f6836a90eb0b   \n",
       "13  ed8c7b1b3eb256c70ce0c74231e1da88  da0ba2a9935bca5b4610b0e3bca9d3b4   \n",
       "14  46046adea0e222a29259bad3d922fee8  e9722ab28655e07763e0ca2751c61c90   \n",
       "15  1aecadf4362edaca7fa033e882076c8d  e81a9f176936e3124dfd90c483bf3289   \n",
       "16  4d66b3a9d12facad48a3b23cc9fe7898  bd6048a0960b15881f1ae5dca277fb52   \n",
       "17  f3f12fc90564a9b036680a887cd64668  3c521eac04e2dca4702dcc69789618c2   \n",
       "18  d207cc272675637bfed0062edffd0818  b8cf418e97ae795672d326288dfab7a7   \n",
       "19  65d1e226dfaeb8cdc42f665422522d14  70fc57eeae292675927697fe03ad3ff5   \n",
       "20  63638a6806d67773f3adba8534553fff  16e14c1e6e050fe6730c961ff638ca23   \n",
       "\n",
       "   order_status    order_approved_at  \n",
       "0     delivered  2016-10-04 14:46:48  \n",
       "1     delivered  2016-10-04 10:19:23  \n",
       "2     delivered  2016-10-04 13:26:11  \n",
       "3      invoiced  2016-10-04 14:08:38  \n",
       "4     delivered  2016-10-04 13:47:04  \n",
       "5     delivered  2016-09-15 12:16:38  \n",
       "6     delivered  2016-10-04 12:25:20  \n",
       "7     delivered  2016-10-04 10:28:19  \n",
       "8     delivered  2016-10-04 10:45:33  \n",
       "9     delivered  2016-10-04 13:46:31  \n",
       "10    delivered  2016-10-04 10:28:25  \n",
       "11    delivered  2016-10-04 09:43:32  \n",
       "12    delivered  2016-10-04 14:27:49  \n",
       "13    delivered  2016-10-04 10:25:46  \n",
       "14    delivered  2016-10-04 11:06:07  \n",
       "15     canceled  2016-10-04 10:26:40  \n",
       "16    delivered  2016-10-04 14:09:08  \n",
       "17    delivered  2016-10-04 13:47:06  \n",
       "18    delivered  2016-10-04 10:28:07  \n",
       "19     canceled  2016-10-04 10:18:57  \n",
       "20    delivered  2016-10-04 13:47:45  "
      ]
     },
     "execution_count": 23,
     "metadata": {},
     "output_type": "execute_result"
    }
   ],
   "source": [
    "query=\"\"\"\n",
    "SELECT\n",
    "o.order_id ,\n",
    "o.customer_id ,\n",
    "o.order_status ,\n",
    "o.order_approved_at\n",
    "FROM orders o\n",
    "WHERE o.order_approved_at < '2016-10-05'\n",
    "\n",
    "\"\"\"\n",
    "table=pd.read_sql_query(query,conn)\n",
    "table"
   ]
  },
  {
   "cell_type": "markdown",
   "id": "dced599e",
   "metadata": {},
   "source": [
    "# Exercicios PA Bond - aula 3"
   ]
  },
  {
   "cell_type": "markdown",
   "id": "6c56e955",
   "metadata": {
    "heading_collapsed": true
   },
   "source": [
    "## 1. Qual o número de clientes únicos do estado de Minas Gerais?"
   ]
  },
  {
   "cell_type": "code",
   "execution_count": 27,
   "id": "4016d1d4",
   "metadata": {
    "ExecuteTime": {
     "end_time": "2022-07-27T14:22:10.275704Z",
     "start_time": "2022-07-27T14:22:10.140074Z"
    },
    "hidden": true
   },
   "outputs": [
    {
     "data": {
      "text/html": [
       "<div>\n",
       "<style scoped>\n",
       "    .dataframe tbody tr th:only-of-type {\n",
       "        vertical-align: middle;\n",
       "    }\n",
       "\n",
       "    .dataframe tbody tr th {\n",
       "        vertical-align: top;\n",
       "    }\n",
       "\n",
       "    .dataframe thead th {\n",
       "        text-align: right;\n",
       "    }\n",
       "</style>\n",
       "<table border=\"1\" class=\"dataframe\">\n",
       "  <thead>\n",
       "    <tr style=\"text-align: right;\">\n",
       "      <th></th>\n",
       "      <th>COUNT( DISTINCT customer_id )</th>\n",
       "    </tr>\n",
       "  </thead>\n",
       "  <tbody>\n",
       "    <tr>\n",
       "      <th>0</th>\n",
       "      <td>11635</td>\n",
       "    </tr>\n",
       "  </tbody>\n",
       "</table>\n",
       "</div>"
      ],
      "text/plain": [
       "   COUNT( DISTINCT customer_id )\n",
       "0                          11635"
      ]
     },
     "execution_count": 27,
     "metadata": {},
     "output_type": "execute_result"
    }
   ],
   "source": [
    "query=\"\"\"\n",
    "SELECT\n",
    "COUNT( DISTINCT customer_id )\n",
    "FROM customer c\n",
    "WHERE customer_state = 'MG'\n",
    "\n",
    "\"\"\"\n",
    "table=pd.read_sql_query(query,conn)\n",
    "table\n",
    "    \n",
    "    "
   ]
  },
  {
   "cell_type": "code",
   "execution_count": 28,
   "id": "7852d3cc",
   "metadata": {
    "ExecuteTime": {
     "end_time": "2022-07-27T14:22:11.089047Z",
     "start_time": "2022-07-27T14:22:11.002839Z"
    },
    "hidden": true
   },
   "outputs": [
    {
     "data": {
      "text/html": [
       "<div>\n",
       "<style scoped>\n",
       "    .dataframe tbody tr th:only-of-type {\n",
       "        vertical-align: middle;\n",
       "    }\n",
       "\n",
       "    .dataframe tbody tr th {\n",
       "        vertical-align: top;\n",
       "    }\n",
       "\n",
       "    .dataframe thead th {\n",
       "        text-align: right;\n",
       "    }\n",
       "</style>\n",
       "<table border=\"1\" class=\"dataframe\">\n",
       "  <thead>\n",
       "    <tr style=\"text-align: right;\">\n",
       "      <th></th>\n",
       "      <th>COUNT( customer_id )</th>\n",
       "    </tr>\n",
       "  </thead>\n",
       "  <tbody>\n",
       "    <tr>\n",
       "      <th>0</th>\n",
       "      <td>46540</td>\n",
       "    </tr>\n",
       "  </tbody>\n",
       "</table>\n",
       "</div>"
      ],
      "text/plain": [
       "   COUNT( customer_id )\n",
       "0                 46540"
      ]
     },
     "execution_count": 28,
     "metadata": {},
     "output_type": "execute_result"
    }
   ],
   "source": [
    "query=\"\"\"\n",
    "SELECT\n",
    "COUNT( customer_id )\n",
    "FROM customer c\n",
    "WHERE customer_state = 'MG'\n",
    "\n",
    "\"\"\"\n",
    "table=pd.read_sql_query(query,conn)\n",
    "table\n",
    "    \n",
    "    "
   ]
  },
  {
   "cell_type": "markdown",
   "id": "a17ab19e",
   "metadata": {
    "ExecuteTime": {
     "end_time": "2022-07-27T14:19:43.221754Z",
     "start_time": "2022-07-27T14:19:43.209812Z"
    }
   },
   "source": [
    "## 2. Qual a quantidade de cidades únicas dos vendedores do estado de Santa Catarina?"
   ]
  },
  {
   "cell_type": "code",
   "execution_count": 31,
   "id": "c95c4bde",
   "metadata": {
    "ExecuteTime": {
     "end_time": "2022-07-27T14:25:27.339838Z",
     "start_time": "2022-07-27T14:25:27.307923Z"
    }
   },
   "outputs": [
    {
     "data": {
      "text/html": [
       "<div>\n",
       "<style scoped>\n",
       "    .dataframe tbody tr th:only-of-type {\n",
       "        vertical-align: middle;\n",
       "    }\n",
       "\n",
       "    .dataframe tbody tr th {\n",
       "        vertical-align: top;\n",
       "    }\n",
       "\n",
       "    .dataframe thead th {\n",
       "        text-align: right;\n",
       "    }\n",
       "</style>\n",
       "<table border=\"1\" class=\"dataframe\">\n",
       "  <thead>\n",
       "    <tr style=\"text-align: right;\">\n",
       "      <th></th>\n",
       "      <th>COUNT( DISTINCT seller_city )</th>\n",
       "    </tr>\n",
       "  </thead>\n",
       "  <tbody>\n",
       "    <tr>\n",
       "      <th>0</th>\n",
       "      <td>65</td>\n",
       "    </tr>\n",
       "  </tbody>\n",
       "</table>\n",
       "</div>"
      ],
      "text/plain": [
       "   COUNT( DISTINCT seller_city )\n",
       "0                             65"
      ]
     },
     "execution_count": 31,
     "metadata": {},
     "output_type": "execute_result"
    }
   ],
   "source": [
    "query=\"\"\"\n",
    "SELECT\n",
    "COUNT( DISTINCT seller_city )\n",
    "FROM sellers s\n",
    "WHERE s.seller_state = 'SC'\n",
    "\n",
    "\"\"\"\n",
    "table=pd.read_sql_query(query,conn)\n",
    "table"
   ]
  },
  {
   "cell_type": "markdown",
   "id": "65e146a7",
   "metadata": {
    "ExecuteTime": {
     "end_time": "2022-07-27T14:26:06.277019Z",
     "start_time": "2022-07-27T14:26:06.267012Z"
    }
   },
   "source": [
    "## 3.Qual a quantidade de cidades únicas de todos os vendedores da base?"
   ]
  },
  {
   "cell_type": "code",
   "execution_count": 33,
   "id": "d265398f",
   "metadata": {
    "ExecuteTime": {
     "end_time": "2022-07-27T14:26:27.242759Z",
     "start_time": "2022-07-27T14:26:27.228796Z"
    }
   },
   "outputs": [
    {
     "data": {
      "text/html": [
       "<div>\n",
       "<style scoped>\n",
       "    .dataframe tbody tr th:only-of-type {\n",
       "        vertical-align: middle;\n",
       "    }\n",
       "\n",
       "    .dataframe tbody tr th {\n",
       "        vertical-align: top;\n",
       "    }\n",
       "\n",
       "    .dataframe thead th {\n",
       "        text-align: right;\n",
       "    }\n",
       "</style>\n",
       "<table border=\"1\" class=\"dataframe\">\n",
       "  <thead>\n",
       "    <tr style=\"text-align: right;\">\n",
       "      <th></th>\n",
       "      <th>COUNT( DISTINCT seller_city )</th>\n",
       "    </tr>\n",
       "  </thead>\n",
       "  <tbody>\n",
       "    <tr>\n",
       "      <th>0</th>\n",
       "      <td>611</td>\n",
       "    </tr>\n",
       "  </tbody>\n",
       "</table>\n",
       "</div>"
      ],
      "text/plain": [
       "   COUNT( DISTINCT seller_city )\n",
       "0                            611"
      ]
     },
     "execution_count": 33,
     "metadata": {},
     "output_type": "execute_result"
    }
   ],
   "source": [
    "query=\"\"\"\n",
    "SELECT\n",
    "COUNT( DISTINCT seller_city )\n",
    "FROM sellers s\n",
    "\n",
    "\"\"\"\n",
    "table=pd.read_sql_query(query,conn)\n",
    "table"
   ]
  },
  {
   "cell_type": "markdown",
   "id": "6c4cf56e",
   "metadata": {},
   "source": [
    "## 4. Qual o número total de pedidos únicos acima de R$ 3.500"
   ]
  },
  {
   "cell_type": "code",
   "execution_count": 34,
   "id": "5722f6c4",
   "metadata": {
    "ExecuteTime": {
     "end_time": "2022-07-27T14:35:24.210121Z",
     "start_time": "2022-07-27T14:35:24.113656Z"
    }
   },
   "outputs": [
    {
     "data": {
      "text/html": [
       "<div>\n",
       "<style scoped>\n",
       "    .dataframe tbody tr th:only-of-type {\n",
       "        vertical-align: middle;\n",
       "    }\n",
       "\n",
       "    .dataframe tbody tr th {\n",
       "        vertical-align: top;\n",
       "    }\n",
       "\n",
       "    .dataframe thead th {\n",
       "        text-align: right;\n",
       "    }\n",
       "</style>\n",
       "<table border=\"1\" class=\"dataframe\">\n",
       "  <thead>\n",
       "    <tr style=\"text-align: right;\">\n",
       "      <th></th>\n",
       "      <th>COUNT( DISTINCT order_id )</th>\n",
       "    </tr>\n",
       "  </thead>\n",
       "  <tbody>\n",
       "    <tr>\n",
       "      <th>0</th>\n",
       "      <td>18</td>\n",
       "    </tr>\n",
       "  </tbody>\n",
       "</table>\n",
       "</div>"
      ],
      "text/plain": [
       "   COUNT( DISTINCT order_id )\n",
       "0                          18"
      ]
     },
     "execution_count": 34,
     "metadata": {},
     "output_type": "execute_result"
    }
   ],
   "source": [
    "query=\"\"\"\n",
    "SELECT\n",
    "COUNT( DISTINCT order_id )\n",
    "FROM order_items oi\n",
    "WHERE price > 3500\n",
    "\n",
    "\"\"\"\n",
    "table=pd.read_sql_query(query,conn)\n",
    "table"
   ]
  },
  {
   "cell_type": "markdown",
   "id": "8bc26b54",
   "metadata": {},
   "source": [
    "## 5. Qual o valor médio do preço de todos os pedidos?"
   ]
  },
  {
   "cell_type": "code",
   "execution_count": 35,
   "id": "1a14a85f",
   "metadata": {
    "ExecuteTime": {
     "end_time": "2022-07-27T14:37:37.474645Z",
     "start_time": "2022-07-27T14:37:37.379842Z"
    }
   },
   "outputs": [
    {
     "data": {
      "text/html": [
       "<div>\n",
       "<style scoped>\n",
       "    .dataframe tbody tr th:only-of-type {\n",
       "        vertical-align: middle;\n",
       "    }\n",
       "\n",
       "    .dataframe tbody tr th {\n",
       "        vertical-align: top;\n",
       "    }\n",
       "\n",
       "    .dataframe thead th {\n",
       "        text-align: right;\n",
       "    }\n",
       "</style>\n",
       "<table border=\"1\" class=\"dataframe\">\n",
       "  <thead>\n",
       "    <tr style=\"text-align: right;\">\n",
       "      <th></th>\n",
       "      <th>AVG( price )</th>\n",
       "    </tr>\n",
       "  </thead>\n",
       "  <tbody>\n",
       "    <tr>\n",
       "      <th>0</th>\n",
       "      <td>120.653739</td>\n",
       "    </tr>\n",
       "  </tbody>\n",
       "</table>\n",
       "</div>"
      ],
      "text/plain": [
       "   AVG( price )\n",
       "0    120.653739"
      ]
     },
     "execution_count": 35,
     "metadata": {},
     "output_type": "execute_result"
    }
   ],
   "source": [
    "query=\"\"\"\n",
    "\n",
    "SELECT\n",
    "AVG( price )\n",
    "FROM order_items oi\n",
    "\n",
    "\"\"\"\n",
    "table=pd.read_sql_query(query,conn)\n",
    "table"
   ]
  },
  {
   "cell_type": "markdown",
   "id": "6513e47a",
   "metadata": {},
   "source": [
    "## 6. Qual o maior valor de preço entre todos os pedidos?"
   ]
  },
  {
   "cell_type": "markdown",
   "id": "1a639d80",
   "metadata": {},
   "source": [
    "## 7. Qual o menor valor de preço entre todos os pedidos?"
   ]
  },
  {
   "cell_type": "markdown",
   "id": "de9f1e2e",
   "metadata": {
    "ExecuteTime": {
     "end_time": "2022-07-27T14:38:34.339624Z",
     "start_time": "2022-07-27T14:38:34.322647Z"
    },
    "run_control": {
     "marked": true
    }
   },
   "source": [
    "## 8. Qual a quantidade de produtos distintos vendidos abaixo do preço de R$ 100.00?\n"
   ]
  },
  {
   "cell_type": "markdown",
   "id": "a676556c",
   "metadata": {
    "ExecuteTime": {
     "end_time": "2022-07-27T14:38:55.959684Z",
     "start_time": "2022-07-27T14:38:55.954660Z"
    }
   },
   "source": [
    "## 9. Qual a quantidade de vendedores distintos que receberam algum pedido antes do dia 23 de setembro de 2016?"
   ]
  },
  {
   "cell_type": "markdown",
   "id": "e9ce0fd8",
   "metadata": {},
   "source": [
    "## 10. Quais os tipos de pagamentos existentes?"
   ]
  },
  {
   "cell_type": "markdown",
   "id": "6d9f31d0",
   "metadata": {},
   "source": [
    "## 11. Qual o maior número de parcelas realizado?"
   ]
  },
  {
   "cell_type": "markdown",
   "id": "dbd83780",
   "metadata": {
    "ExecuteTime": {
     "end_time": "2022-07-27T14:39:35.776762Z",
     "start_time": "2022-07-27T14:39:35.764748Z"
    }
   },
   "source": [
    "## 12. Qual o menor número de parcelas realizado?"
   ]
  },
  {
   "cell_type": "markdown",
   "id": "37fa3647",
   "metadata": {
    "ExecuteTime": {
     "end_time": "2022-07-27T14:39:42.583219Z",
     "start_time": "2022-07-27T14:39:42.563306Z"
    }
   },
   "source": [
    "## 13. Qual a média do valor pago no cartão de crédito?"
   ]
  },
  {
   "cell_type": "markdown",
   "id": "279d5324",
   "metadata": {
    "ExecuteTime": {
     "end_time": "2022-07-27T14:39:52.426241Z",
     "start_time": "2022-07-27T14:39:52.421221Z"
    }
   },
   "source": [
    "## 14. Quantos tipos de status para um pedido existem?"
   ]
  },
  {
   "cell_type": "markdown",
   "id": "a1450890",
   "metadata": {
    "ExecuteTime": {
     "end_time": "2022-07-27T14:40:01.012400Z",
     "start_time": "2022-07-27T14:40:00.996401Z"
    }
   },
   "source": [
    "## 15. Quais os tipos de status para um pedido?"
   ]
  },
  {
   "cell_type": "markdown",
   "id": "f739805b",
   "metadata": {
    "ExecuteTime": {
     "end_time": "2022-07-27T14:40:01.012400Z",
     "start_time": "2022-07-27T14:40:00.996401Z"
    }
   },
   "source": [
    "## 16. Quantos clientes distintos fizeram um pedido?"
   ]
  },
  {
   "cell_type": "markdown",
   "id": "7aa5da0c",
   "metadata": {
    "ExecuteTime": {
     "end_time": "2022-07-27T14:41:52.050348Z",
     "start_time": "2022-07-27T14:41:52.043362Z"
    }
   },
   "source": [
    "## 17. Quantos produtos estão cadastrados na empresa?"
   ]
  },
  {
   "cell_type": "markdown",
   "id": "7a6d38f9",
   "metadata": {
    "ExecuteTime": {
     "end_time": "2022-07-27T14:40:30.519563Z",
     "start_time": "2022-07-27T14:40:30.514604Z"
    }
   },
   "source": [
    "## 18. Qual a quantidade máxima de fotos de um produto?"
   ]
  },
  {
   "cell_type": "markdown",
   "id": "a7f8877a",
   "metadata": {
    "ExecuteTime": {
     "end_time": "2022-07-27T14:40:39.159829Z",
     "start_time": "2022-07-27T14:40:39.140878Z"
    }
   },
   "source": [
    "## 19. Qual o maior valor do peso entre todos os produtos?\n"
   ]
  },
  {
   "cell_type": "markdown",
   "id": "77656904",
   "metadata": {
    "ExecuteTime": {
     "end_time": "2022-07-27T14:40:46.044915Z",
     "start_time": "2022-07-27T14:40:46.034797Z"
    }
   },
   "source": [
    "## 20. Qual a altura média dos produtos?"
   ]
  },
  {
   "cell_type": "code",
   "execution_count": null,
   "id": "c0f82bf0",
   "metadata": {},
   "outputs": [],
   "source": []
  }
 ],
 "metadata": {
  "hide_input": false,
  "kernelspec": {
   "display_name": "Python 3 (ipykernel)",
   "language": "python",
   "name": "python3"
  },
  "language_info": {
   "codemirror_mode": {
    "name": "ipython",
    "version": 3
   },
   "file_extension": ".py",
   "mimetype": "text/x-python",
   "name": "python",
   "nbconvert_exporter": "python",
   "pygments_lexer": "ipython3",
   "version": "3.8.13"
  },
  "latex_envs": {
   "LaTeX_envs_menu_present": true,
   "autoclose": false,
   "autocomplete": true,
   "bibliofile": "biblio.bib",
   "cite_by": "apalike",
   "current_citInitial": 1,
   "eqLabelWithNumbers": true,
   "eqNumInitial": 1,
   "hotkeys": {
    "equation": "Ctrl-E",
    "itemize": "Ctrl-I"
   },
   "labels_anchors": false,
   "latex_user_defs": false,
   "report_style_numbering": false,
   "user_envs_cfg": false
  },
  "nbTranslate": {
   "displayLangs": [
    "*"
   ],
   "hotkey": "alt-t",
   "langInMainMenu": true,
   "sourceLang": "en",
   "targetLang": "fr",
   "useGoogleTranslate": true
  },
  "toc": {
   "base_numbering": 1,
   "nav_menu": {},
   "number_sections": true,
   "sideBar": true,
   "skip_h1_title": false,
   "title_cell": "Table of Contents",
   "title_sidebar": "Contents",
   "toc_cell": false,
   "toc_position": {
    "height": "calc(100% - 180px)",
    "left": "10px",
    "top": "150px",
    "width": "303.825px"
   },
   "toc_section_display": true,
   "toc_window_display": true
  }
 },
 "nbformat": 4,
 "nbformat_minor": 5
}
